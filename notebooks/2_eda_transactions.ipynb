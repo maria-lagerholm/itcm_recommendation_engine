{
 "cells": [
  {
   "cell_type": "markdown",
   "id": "a461ec61",
   "metadata": {},
   "source": [
    "# First run eda_customers!"
   ]
  },
  {
   "cell_type": "code",
   "execution_count": 23,
   "id": "c1eb670a",
   "metadata": {},
   "outputs": [],
   "source": [
    "import pandas as pd\n",
    "tx = pd.read_parquet(\"../data/processed/transactions_canonical.parquet\")\n",
    "tx = tx.drop(columns=[\"invoiceEmail\", \"orderLineId\"], errors=\"ignore\")\n",
    "\n",
    "a = pd.read_parquet(\"../data/processed/articles_clean.parquet\", columns=[\"sku\", \"groupId\", 'category', 'brand', 'audience'])"
   ]
  },
  {
   "cell_type": "code",
   "execution_count": 24,
   "id": "d0760c6f",
   "metadata": {},
   "outputs": [
    {
     "name": "stdout",
     "output_type": "stream",
     "text": [
      "326760\n"
     ]
    }
   ],
   "source": [
    "print(len(tx))"
   ]
  },
  {
   "cell_type": "code",
   "execution_count": 25,
   "id": "cf3f21d4",
   "metadata": {},
   "outputs": [],
   "source": [
    "cols = [\"groupId\", \"sku\", \"category\", \"brand\", \"audience\"]\n",
    "a_dedup = a[cols].drop_duplicates(subset=[\"groupId\", \"sku\"])\n",
    "\n",
    "tx = tx.merge(\n",
    "    a_dedup,\n",
    "    on=[\"groupId\", \"sku\"],\n",
    "    how=\"left\",\n",
    "    validate=\"many_to_one\"  # raises if duplicates (groupId, sku)\n",
    ")"
   ]
  },
  {
   "cell_type": "code",
   "execution_count": 26,
   "id": "0f5f37ae",
   "metadata": {},
   "outputs": [],
   "source": [
    "# Save all rows where both category and brand are unknown/missing/na/none among those are articles that should be avoided later in recs as they are delivery related expenses\n",
    "def is_unknown(val):\n",
    "    if pd.isna(val):\n",
    "        return True\n",
    "    s = str(val).strip().lower()\n",
    "    return s in {\"unknown\", \"none\", \"na\", \"\"}\n",
    "\n",
    "mask = tx.apply(\n",
    "    lambda row: is_unknown(row[\"category\"]) and is_unknown(row[\"brand\"]),\n",
    "    axis=1\n",
    ")\n",
    "\n",
    "unknown_rows = tx[mask].drop_duplicates(subset=[\"sku\"])\n",
    "unknown_rows.to_csv(\"/workspace/data/processed/avoid_names.csv\", sep=\"\\t\", index=False)\n"
   ]
  },
  {
   "cell_type": "code",
   "execution_count": 27,
   "id": "a3802951",
   "metadata": {},
   "outputs": [
    {
     "data": {
      "text/plain": [
       "orderId        0.000000\n",
       "shopUserId     0.000000\n",
       "created        0.000000\n",
       "currencyId     0.000000\n",
       "sku            0.000000\n",
       "groupId        0.000000\n",
       "quantity       0.000000\n",
       "price          0.000000\n",
       "name           0.000000\n",
       "type           0.000000\n",
       "invoiceCity    0.000000\n",
       "category       0.000003\n",
       "brand          0.000003\n",
       "audience       0.056124\n",
       "dtype: float64"
      ]
     },
     "execution_count": 27,
     "metadata": {},
     "output_type": "execute_result"
    }
   ],
   "source": [
    "tx.isna().mean()"
   ]
  },
  {
   "cell_type": "code",
   "execution_count": 28,
   "id": "4df2c58d",
   "metadata": {},
   "outputs": [],
   "source": [
    "# Output rows where the price value is 6 digits or more\n",
    "six_digit_price_rows = tx[tx['price'].astype(str).str.replace('.0$', '', regex=True).str.fullmatch(r'\\d{6,}')]\n",
    "six_digit_price_rows\n",
    "\n",
    "# For rows where price is exactly 6 digits, set price to the last 3 digits (449399.0 to 399.0)\n",
    "mask_six_digit = tx['price'].astype(str).str.replace('.0$', '', regex=True).str.fullmatch(r'\\d{6}')\n",
    "# Fix prices in-place for those rows\n",
    "def fix_six_digit_price(val):\n",
    "    s = str(val).strip().replace('.0', '')\n",
    "    if len(s) == 6 and s.isdigit():\n",
    "        return float(s[-3:])\n",
    "    return val\n",
    "\n",
    "tx.loc[mask_six_digit, 'price'] = tx.loc[mask_six_digit, 'price'].apply(fix_six_digit_price)\n"
   ]
  },
  {
   "cell_type": "code",
   "execution_count": 29,
   "id": "b9db7b70",
   "metadata": {},
   "outputs": [
    {
     "name": "stdout",
     "output_type": "stream",
     "text": [
      "326760\n"
     ]
    }
   ],
   "source": [
    "print(len(tx))"
   ]
  },
  {
   "cell_type": "markdown",
   "id": "b3504556",
   "metadata": {},
   "source": [
    "## Remove known bugs"
   ]
  },
  {
   "cell_type": "code",
   "execution_count": 30,
   "id": "e58edaaf",
   "metadata": {},
   "outputs": [],
   "source": [
    "# Keep only rows where 'created' date is on or after 2024-06-01 to avoid migration bugs\n",
    "tx['created'] = pd.to_datetime(tx['created'], errors='coerce')\n",
    "tx = tx[tx['created'] >= pd.to_datetime('2024-06-01')]"
   ]
  },
  {
   "cell_type": "code",
   "execution_count": 31,
   "id": "670623b6",
   "metadata": {},
   "outputs": [
    {
     "name": "stdout",
     "output_type": "stream",
     "text": [
      "323032\n"
     ]
    }
   ],
   "source": [
    "print(len(tx))"
   ]
  },
  {
   "cell_type": "code",
   "execution_count": 32,
   "id": "c7e305aa",
   "metadata": {},
   "outputs": [
    {
     "data": {
      "text/html": [
       "<div>\n",
       "<style scoped>\n",
       "    .dataframe tbody tr th:only-of-type {\n",
       "        vertical-align: middle;\n",
       "    }\n",
       "\n",
       "    .dataframe tbody tr th {\n",
       "        vertical-align: top;\n",
       "    }\n",
       "\n",
       "    .dataframe thead th {\n",
       "        text-align: right;\n",
       "    }\n",
       "</style>\n",
       "<table border=\"1\" class=\"dataframe\">\n",
       "  <thead>\n",
       "    <tr style=\"text-align: right;\">\n",
       "      <th></th>\n",
       "      <th>orderId</th>\n",
       "      <th>shopUserId</th>\n",
       "      <th>created</th>\n",
       "      <th>currencyId</th>\n",
       "      <th>sku</th>\n",
       "      <th>groupId</th>\n",
       "      <th>quantity</th>\n",
       "      <th>price</th>\n",
       "      <th>name</th>\n",
       "      <th>type</th>\n",
       "      <th>invoiceCity</th>\n",
       "      <th>category</th>\n",
       "      <th>brand</th>\n",
       "      <th>audience</th>\n",
       "    </tr>\n",
       "  </thead>\n",
       "  <tbody>\n",
       "    <tr>\n",
       "      <th>0</th>\n",
       "      <td>898577</td>\n",
       "      <td>938717</td>\n",
       "      <td>2025-10-24 14:21:17</td>\n",
       "      <td>134</td>\n",
       "      <td>266833-B080</td>\n",
       "      <td>266825</td>\n",
       "      <td>2</td>\n",
       "      <td>352.67</td>\n",
       "      <td>Bh utan bygel Treasure</td>\n",
       "      <td>telephone</td>\n",
       "      <td>Skara</td>\n",
       "      <td>Bh utan bygel,Bh,Underkläder</td>\n",
       "      <td>Swegmark</td>\n",
       "      <td>dam</td>\n",
       "    </tr>\n",
       "    <tr>\n",
       "      <th>1</th>\n",
       "      <td>898577</td>\n",
       "      <td>938717</td>\n",
       "      <td>2025-10-24 14:21:17</td>\n",
       "      <td>134</td>\n",
       "      <td>260597-C080</td>\n",
       "      <td>266825</td>\n",
       "      <td>1</td>\n",
       "      <td>352.67</td>\n",
       "      <td>Bh utan bygel Treasure</td>\n",
       "      <td>telephone</td>\n",
       "      <td>Skara</td>\n",
       "      <td>Bh utan bygel,Bh,Underkläder</td>\n",
       "      <td>Swegmark</td>\n",
       "      <td>dam</td>\n",
       "    </tr>\n",
       "    <tr>\n",
       "      <th>2</th>\n",
       "      <td>898575</td>\n",
       "      <td>939518</td>\n",
       "      <td>2025-10-24 14:20:58</td>\n",
       "      <td>134</td>\n",
       "      <td>264812-EF05</td>\n",
       "      <td>264804</td>\n",
       "      <td>1</td>\n",
       "      <td>439</td>\n",
       "      <td>Framknäppt mjuk-bh i bomull</td>\n",
       "      <td>web</td>\n",
       "      <td>Unknown</td>\n",
       "      <td>Framknäppt bh,Underkläder,Bh utan kupstorlek</td>\n",
       "      <td>Glamorise</td>\n",
       "      <td>dam</td>\n",
       "    </tr>\n",
       "    <tr>\n",
       "      <th>3</th>\n",
       "      <td>898566</td>\n",
       "      <td>939512</td>\n",
       "      <td>2025-10-24 14:18:18</td>\n",
       "      <td>134</td>\n",
       "      <td>260471-4648</td>\n",
       "      <td>260463</td>\n",
       "      <td>3</td>\n",
       "      <td>138.67</td>\n",
       "      <td>Stretchtrosa 3-pack Louise</td>\n",
       "      <td>telephone</td>\n",
       "      <td>Unknown</td>\n",
       "      <td>Underkläder,Trosor</td>\n",
       "      <td>Louise</td>\n",
       "      <td>dam</td>\n",
       "    </tr>\n",
       "    <tr>\n",
       "      <th>4</th>\n",
       "      <td>898566</td>\n",
       "      <td>939512</td>\n",
       "      <td>2025-10-24 14:18:18</td>\n",
       "      <td>134</td>\n",
       "      <td>261998-4648</td>\n",
       "      <td>261998</td>\n",
       "      <td>3</td>\n",
       "      <td>132.67</td>\n",
       "      <td>Trosa 3-p</td>\n",
       "      <td>telephone</td>\n",
       "      <td>Unknown</td>\n",
       "      <td>Underkläder,Trosor</td>\n",
       "      <td>Louise</td>\n",
       "      <td>dam</td>\n",
       "    </tr>\n",
       "  </tbody>\n",
       "</table>\n",
       "</div>"
      ],
      "text/plain": [
       "  orderId shopUserId             created currencyId          sku groupId  \\\n",
       "0  898577     938717 2025-10-24 14:21:17        134  266833-B080  266825   \n",
       "1  898577     938717 2025-10-24 14:21:17        134  260597-C080  266825   \n",
       "2  898575     939518 2025-10-24 14:20:58        134  264812-EF05  264804   \n",
       "3  898566     939512 2025-10-24 14:18:18        134  260471-4648  260463   \n",
       "4  898566     939512 2025-10-24 14:18:18        134  261998-4648  261998   \n",
       "\n",
       "  quantity   price                         name       type invoiceCity  \\\n",
       "0        2  352.67       Bh utan bygel Treasure  telephone       Skara   \n",
       "1        1  352.67       Bh utan bygel Treasure  telephone       Skara   \n",
       "2        1     439  Framknäppt mjuk-bh i bomull        web     Unknown   \n",
       "3        3  138.67   Stretchtrosa 3-pack Louise  telephone     Unknown   \n",
       "4        3  132.67                    Trosa 3-p  telephone     Unknown   \n",
       "\n",
       "                                       category      brand audience  \n",
       "0                  Bh utan bygel,Bh,Underkläder   Swegmark      dam  \n",
       "1                  Bh utan bygel,Bh,Underkläder   Swegmark      dam  \n",
       "2  Framknäppt bh,Underkläder,Bh utan kupstorlek  Glamorise      dam  \n",
       "3                            Underkläder,Trosor     Louise      dam  \n",
       "4                            Underkläder,Trosor     Louise      dam  "
      ]
     },
     "execution_count": 32,
     "metadata": {},
     "output_type": "execute_result"
    }
   ],
   "source": [
    "tx.head()"
   ]
  },
  {
   "cell_type": "markdown",
   "id": "df749fd0",
   "metadata": {},
   "source": [
    "## Unify currenies to SEK for price bucketing"
   ]
  },
  {
   "cell_type": "code",
   "execution_count": 33,
   "id": "a6afce74",
   "metadata": {},
   "outputs": [],
   "source": [
    "import pandas as pd\n",
    "import requests\n",
    "\n",
    "currencyid_to_country = {\n",
    "    \"40\":  \"DK\",\n",
    "    \"134\": \"SE\",\n",
    "    \"103\": \"NO\",\n",
    "    \"50\":  \"FI\",\n",
    "}\n",
    "\n",
    "def fetch_sek_rates():\n",
    "    resp = requests.get(\n",
    "        \"https://api.frankfurter.app/latest\",\n",
    "        params={\"from\": \"EUR\", \"to\": \"SEK,DKK,NOK\"},\n",
    "        timeout=10,\n",
    "    )\n",
    "    resp.raise_for_status()\n",
    "    rates = resp.json()[\"rates\"]\n",
    "    sek_per_eur = rates[\"SEK\"]\n",
    "    dkk_per_eur = rates[\"DKK\"]\n",
    "    nok_per_eur = rates[\"NOK\"]\n",
    "    return {\n",
    "        \"DK\": sek_per_eur / dkk_per_eur,\n",
    "        \"NO\": sek_per_eur / nok_per_eur,\n",
    "        \"SE\": 1.0,\n",
    "        \"FI\": sek_per_eur,\n",
    "    }\n",
    "\n",
    "tx[\"currencyId\"] = tx[\"currencyId\"].astype(\"string\").str.strip()\n",
    "tx[\"currency_country\"] = tx[\"currencyId\"].map(currencyid_to_country)\n",
    "conversion_rates = fetch_sek_rates()\n",
    "tx[\"sek_rate\"] = tx[\"currency_country\"].map(conversion_rates)\n",
    "tx[\"price\"] = pd.to_numeric(tx[\"price\"], errors=\"coerce\")\n",
    "tx[\"price_sek\"] = (tx[\"price\"] * tx[\"sek_rate\"]).round(0).astype(\"Int64\")\n"
   ]
  },
  {
   "cell_type": "code",
   "execution_count": 34,
   "id": "6d8a7390",
   "metadata": {},
   "outputs": [
    {
     "name": "stdout",
     "output_type": "stream",
     "text": [
      "count      323031.0\n",
      "mean     294.358356\n",
      "std      246.397102\n",
      "min             0.0\n",
      "25%           140.0\n",
      "50%           229.0\n",
      "75%           412.0\n",
      "max          6932.0\n",
      "Name: price_sek, dtype: Float64\n"
     ]
    },
    {
     "data": {
      "image/png": "[encoded data removed]",
      "text/plain": [
       "<Figure size 640x480 with 1 Axes>"
      ]
     },
     "metadata": {},
     "output_type": "display_data"
    }
   ],
   "source": [
    "import matplotlib.pyplot as plt\n",
    "\n",
    "s = tx[\"price_sek\"]\n",
    "print(s.describe())\n",
    "\n",
    "q = s.quantile([0.01, 0.99])\n",
    "\n",
    "t = s[s.between(q.loc[0.01], q.loc[0.99])]\n",
    "plt.figure()\n",
    "plt.hist(t, bins=50)\n",
    "plt.title(\"Price (SEK) — histogram trimmed to 1–99 percentile\")\n",
    "plt.xlabel(\"price_sek\")\n",
    "plt.ylabel(\"Frequency\")\n",
    "plt.show()\n"
   ]
  },
  {
   "cell_type": "code",
   "execution_count": 35,
   "id": "0ee28f4c",
   "metadata": {},
   "outputs": [],
   "source": [
    "customers = pd.read_parquet(\"../data/processed/customers_clean.parquet\")\n",
    "tx = tx.merge(customers[[\"shopUserId\", \"Age\", \"Gender\"]], on=\"shopUserId\", how=\"left\")"
   ]
  },
  {
   "cell_type": "code",
   "execution_count": 36,
   "id": "bd6df341",
   "metadata": {},
   "outputs": [],
   "source": [
    "# Keep customers where age is between 10 and 105, or where age is NaN\n",
    "tx = tx[\n",
    "    (tx['Age'].isna()) |\n",
    "    ((tx['Age'] <= 105) & (tx['Age'] >= 10))\n",
    "]"
   ]
  },
  {
   "cell_type": "code",
   "execution_count": 37,
   "id": "bee41923",
   "metadata": {},
   "outputs": [
    {
     "data": {
      "text/plain": [
       "orderId             0.000000\n",
       "shopUserId          0.000000\n",
       "created             0.000000\n",
       "currencyId          0.000000\n",
       "sku                 0.000000\n",
       "groupId             0.000000\n",
       "quantity            0.000000\n",
       "price               0.000003\n",
       "name                0.000000\n",
       "type                0.000000\n",
       "invoiceCity         0.000000\n",
       "category            0.000003\n",
       "brand               0.000003\n",
       "audience            0.056576\n",
       "currency_country    0.000000\n",
       "sek_rate            0.000000\n",
       "price_sek           0.000003\n",
       "Age                 0.356126\n",
       "Gender              0.356126\n",
       "dtype: float64"
      ]
     },
     "execution_count": 37,
     "metadata": {},
     "output_type": "execute_result"
    }
   ],
   "source": [
    "tx.isna().mean()"
   ]
  },
  {
   "cell_type": "code",
   "execution_count": 38,
   "id": "54669c45",
   "metadata": {},
   "outputs": [
    {
     "data": {
      "text/plain": [
       "array(['telephone', 'web', 'letter', 'other', 'email'], dtype=object)"
      ]
     },
     "execution_count": 38,
     "metadata": {},
     "output_type": "execute_result"
    }
   ],
   "source": [
    "tx[\"type\"].unique()\n"
   ]
  },
  {
   "cell_type": "markdown",
   "id": "e8ca778f",
   "metadata": {},
   "source": [
    "# Line price"
   ]
  },
  {
   "cell_type": "code",
   "execution_count": 39,
   "id": "258142f6",
   "metadata": {},
   "outputs": [],
   "source": [
    "tx[\"quantity\"] = pd.to_numeric(tx[\"quantity\"], errors=\"coerce\").round().astype(\"Int64\").astype(str)\n"
   ]
  },
  {
   "cell_type": "code",
   "execution_count": 40,
   "id": "ba7f496e",
   "metadata": {},
   "outputs": [
    {
     "data": {
      "text/plain": [
       "array(['2', '1', '3', '4', '5', '6', '8', '9', '11', '7', '10', '14',\n",
       "       '12', '16', '15', '50', '176', '130', '19', '40', '20', '229',\n",
       "       '24', '18', '25', '999', '<NA>'], dtype=object)"
      ]
     },
     "execution_count": 40,
     "metadata": {},
     "output_type": "execute_result"
    }
   ],
   "source": [
    "tx[\"quantity\"].unique()\n"
   ]
  },
  {
   "cell_type": "code",
   "execution_count": 41,
   "id": "2192fdea",
   "metadata": {},
   "outputs": [],
   "source": [
    "# Calculate line_total_sek as price_sek * quantity, ensuring both are numeric, rounded to nearest integer (no decimals), and drop rows where result is NA or 0\n",
    "tx[\"price_sek\"] = pd.to_numeric(tx[\"price_sek\"], errors=\"coerce\")\n",
    "tx[\"quantity\"] = pd.to_numeric(tx[\"quantity\"], errors=\"coerce\")\n",
    "tx[\"line_total_sek\"] = (tx[\"price_sek\"] * tx[\"quantity\"]).round()\n",
    "# Ensure line_total_sek is numeric\n",
    "tx[\"line_total_sek\"] = pd.to_numeric(tx[\"line_total_sek\"], errors=\"coerce\")\n",
    "# Drop rows where line_total_sek is NA or 0\n",
    "tx = tx.dropna(subset=[\"line_total_sek\"])\n",
    "tx = tx[tx[\"line_total_sek\"] != 0]\n"
   ]
  },
  {
   "cell_type": "markdown",
   "id": "40c0af20",
   "metadata": {},
   "source": [
    " Country remap COUNTRY_MAP_ALPHA = {\"SE\": \"Sweden\", \"DK\": \"Denmark\", \"FI\": \"Finland\", \"NO\": \"Norway\"}"
   ]
  },
  {
   "cell_type": "code",
   "execution_count": 42,
   "id": "1f558de3",
   "metadata": {},
   "outputs": [],
   "source": [
    "COUNTRY_MAP_ALPHA = {\"SE\": \"Sweden\", \"DK\": \"Denmark\", \"FI\": \"Finland\", \"NO\": \"Norway\"}\n",
    "tx[\"country\"] = tx[\"currency_country\"].map(COUNTRY_MAP_ALPHA).fillna(tx[\"currency_country\"])\n",
    "tx = tx.drop(columns=[\"currency_country\"])\n"
   ]
  },
  {
   "cell_type": "code",
   "execution_count": 43,
   "id": "67af064b",
   "metadata": {},
   "outputs": [
    {
     "data": {
      "text/plain": [
       "62740"
      ]
     },
     "execution_count": 43,
     "metadata": {},
     "output_type": "execute_result"
    }
   ],
   "source": [
    "tx['shopUserId'].nunique()\n"
   ]
  },
  {
   "cell_type": "code",
   "execution_count": 44,
   "id": "915f1134",
   "metadata": {},
   "outputs": [],
   "source": [
    "tx.to_parquet(\"../data/processed/transactions_clean.parquet\", index=False)"
   ]
  }
 ],
 "metadata": {
  "kernelspec": {
   "display_name": "Python (itcm-recsys)",
   "language": "python",
   "name": "itcm-recsys"
  },
  "language_info": {
   "codemirror_mode": {
    "name": "ipython",
    "version": 3
   },
   "file_extension": ".py",
   "mimetype": "text/x-python",
   "name": "python",
   "nbconvert_exporter": "python",
   "pygments_lexer": "ipython3",
   "version": "3.10.18"
  }
 },
 "nbformat": 4,
 "nbformat_minor": 5
}
