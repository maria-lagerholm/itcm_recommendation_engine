{
 "cells": [
  {
   "cell_type": "markdown",
   "id": "a461ec61",
   "metadata": {},
   "source": [
    "# First run eda_customers!"
   ]
  },
  {
   "cell_type": "code",
   "execution_count": 30,
   "id": "c1eb670a",
   "metadata": {},
   "outputs": [],
   "source": [
    "import pandas as pd\n",
    "tx = pd.read_parquet(\"../data/processed/transactions_canonical.parquet\")\n",
    "tx = tx.drop(columns=[\"invoiceEmail\", \"orderLineId\"], errors=\"ignore\")\n",
    "\n",
    "a = pd.read_parquet(\"../data/processed/articles_clean.parquet\", columns=[\"sku\", \"groupId\", 'category', 'brand'])"
   ]
  },
  {
   "cell_type": "code",
   "execution_count": 31,
   "id": "d0760c6f",
   "metadata": {},
   "outputs": [
    {
     "name": "stdout",
     "output_type": "stream",
     "text": [
      "313800\n"
     ]
    }
   ],
   "source": [
    "print(len(tx))"
   ]
  },
  {
   "cell_type": "code",
   "execution_count": 32,
   "id": "cf3f21d4",
   "metadata": {},
   "outputs": [],
   "source": [
    "cols = [\"groupId\", \"sku\", \"category\", \"brand\"]\n",
    "a_dedup = a[cols].drop_duplicates(subset=[\"groupId\", \"sku\"])\n",
    "\n",
    "tx = tx.merge(\n",
    "    a_dedup,\n",
    "    on=[\"groupId\", \"sku\"],\n",
    "    how=\"left\",\n",
    "    validate=\"many_to_one\"  # raises if duplicates (groupId, sku)\n",
    ")"
   ]
  },
  {
   "cell_type": "code",
   "execution_count": 33,
   "id": "0f5f37ae",
   "metadata": {},
   "outputs": [],
   "source": [
    "# Save all rows where both category and brand are unknown/missing/na/none among those are articles that should be avoided later in recs as they are delivery related expenses\n",
    "def is_unknown(val):\n",
    "    if pd.isna(val):\n",
    "        return True\n",
    "    s = str(val).strip().lower()\n",
    "    return s in {\"unknown\", \"none\", \"na\", \"\"}\n",
    "\n",
    "mask = tx.apply(\n",
    "    lambda row: is_unknown(row[\"category\"]) and is_unknown(row[\"brand\"]),\n",
    "    axis=1\n",
    ")\n",
    "\n",
    "unknown_rows = tx[mask].drop_duplicates(subset=[\"sku\"])\n",
    "unknown_rows.to_csv(\"/workspace/data/processed/avoid_names.csv\", sep=\"\\t\", index=False)\n"
   ]
  },
  {
   "cell_type": "code",
   "execution_count": 34,
   "id": "a3802951",
   "metadata": {},
   "outputs": [
    {
     "data": {
      "text/plain": [
       "orderId        0.000000\n",
       "shopUserId     0.000000\n",
       "created        0.000000\n",
       "currencyId     0.000000\n",
       "sku            0.000000\n",
       "groupId        0.000000\n",
       "quantity       0.000000\n",
       "price          0.000000\n",
       "name           0.000000\n",
       "type           0.000000\n",
       "invoiceCity    0.000000\n",
       "category       0.000003\n",
       "brand          0.000003\n",
       "dtype: float64"
      ]
     },
     "execution_count": 34,
     "metadata": {},
     "output_type": "execute_result"
    }
   ],
   "source": [
    "tx.isna().mean()"
   ]
  },
  {
   "cell_type": "code",
   "execution_count": 35,
   "id": "4df2c58d",
   "metadata": {},
   "outputs": [],
   "source": [
    "# Output rows where the price value is 6 digits or more\n",
    "six_digit_price_rows = tx[tx['price'].astype(str).str.replace('.0$', '', regex=True).str.fullmatch(r'\\d{6,}')]\n",
    "six_digit_price_rows\n",
    "\n",
    "# For rows where price is exactly 6 digits, set price to the last 3 digits (449399.0 to 399.0)\n",
    "mask_six_digit = tx['price'].astype(str).str.replace('.0$', '', regex=True).str.fullmatch(r'\\d{6}')\n",
    "# Fix prices in-place for those rows\n",
    "def fix_six_digit_price(val):\n",
    "    s = str(val).strip().replace('.0', '')\n",
    "    if len(s) == 6 and s.isdigit():\n",
    "        return float(s[-3:])\n",
    "    return val\n",
    "\n",
    "tx.loc[mask_six_digit, 'price'] = tx.loc[mask_six_digit, 'price'].apply(fix_six_digit_price)\n"
   ]
  },
  {
   "cell_type": "code",
   "execution_count": 36,
   "id": "b9db7b70",
   "metadata": {},
   "outputs": [
    {
     "name": "stdout",
     "output_type": "stream",
     "text": [
      "313800\n"
     ]
    }
   ],
   "source": [
    "print(len(tx))"
   ]
  },
  {
   "cell_type": "markdown",
   "id": "b3504556",
   "metadata": {},
   "source": [
    "## Remove known bugs"
   ]
  },
  {
   "cell_type": "code",
   "execution_count": 37,
   "id": "e58edaaf",
   "metadata": {},
   "outputs": [],
   "source": [
    "# Keep only rows where 'created' date is on or after 2024-06-01 to avoid migration bugs\n",
    "tx['created'] = pd.to_datetime(tx['created'], errors='coerce')\n",
    "tx = tx[tx['created'] >= pd.to_datetime('2024-06-01')]"
   ]
  },
  {
   "cell_type": "code",
   "execution_count": 38,
   "id": "670623b6",
   "metadata": {},
   "outputs": [
    {
     "name": "stdout",
     "output_type": "stream",
     "text": [
      "310072\n"
     ]
    }
   ],
   "source": [
    "print(len(tx))"
   ]
  },
  {
   "cell_type": "code",
   "execution_count": 39,
   "id": "c7e305aa",
   "metadata": {},
   "outputs": [
    {
     "data": {
      "text/html": [
       "<div>\n",
       "<style scoped>\n",
       "    .dataframe tbody tr th:only-of-type {\n",
       "        vertical-align: middle;\n",
       "    }\n",
       "\n",
       "    .dataframe tbody tr th {\n",
       "        vertical-align: top;\n",
       "    }\n",
       "\n",
       "    .dataframe thead th {\n",
       "        text-align: right;\n",
       "    }\n",
       "</style>\n",
       "<table border=\"1\" class=\"dataframe\">\n",
       "  <thead>\n",
       "    <tr style=\"text-align: right;\">\n",
       "      <th></th>\n",
       "      <th>orderId</th>\n",
       "      <th>shopUserId</th>\n",
       "      <th>created</th>\n",
       "      <th>currencyId</th>\n",
       "      <th>sku</th>\n",
       "      <th>groupId</th>\n",
       "      <th>quantity</th>\n",
       "      <th>price</th>\n",
       "      <th>name</th>\n",
       "      <th>type</th>\n",
       "      <th>invoiceCity</th>\n",
       "      <th>category</th>\n",
       "      <th>brand</th>\n",
       "    </tr>\n",
       "  </thead>\n",
       "  <tbody>\n",
       "    <tr>\n",
       "      <th>0</th>\n",
       "      <td>873458</td>\n",
       "      <td>915527</td>\n",
       "      <td>2025-10-08 13:44:36</td>\n",
       "      <td>40</td>\n",
       "      <td>260596-2095</td>\n",
       "      <td>260596</td>\n",
       "      <td>1</td>\n",
       "      <td>429</td>\n",
       "      <td>BH uden bøjle Stars</td>\n",
       "      <td>telephone</td>\n",
       "      <td>Frederiksberg</td>\n",
       "      <td>Bh utan bygel,Bh,Underkläder</td>\n",
       "      <td>Swegmark</td>\n",
       "    </tr>\n",
       "    <tr>\n",
       "      <th>1</th>\n",
       "      <td>873458</td>\n",
       "      <td>915527</td>\n",
       "      <td>2025-10-08 13:44:36</td>\n",
       "      <td>40</td>\n",
       "      <td>262287</td>\n",
       "      <td>262287</td>\n",
       "      <td>1</td>\n",
       "      <td>129</td>\n",
       "      <td>Knæstøtte 2-pak</td>\n",
       "      <td>telephone</td>\n",
       "      <td>Frederiksberg</td>\n",
       "      <td>Stödartiklar</td>\n",
       "      <td>Good Living</td>\n",
       "    </tr>\n",
       "    <tr>\n",
       "      <th>2</th>\n",
       "      <td>873458</td>\n",
       "      <td>915527</td>\n",
       "      <td>2025-10-08 13:44:36</td>\n",
       "      <td>40</td>\n",
       "      <td>291195</td>\n",
       "      <td>291195</td>\n",
       "      <td>1</td>\n",
       "      <td>139</td>\n",
       "      <td>Rygsmører</td>\n",
       "      <td>telephone</td>\n",
       "      <td>Frederiksberg</td>\n",
       "      <td>Hudvård,Kroppsvård,Badrum/WC,Vardagshjälpmedel</td>\n",
       "      <td>Good Living</td>\n",
       "    </tr>\n",
       "    <tr>\n",
       "      <th>3</th>\n",
       "      <td>873458</td>\n",
       "      <td>915527</td>\n",
       "      <td>2025-10-08 13:44:36</td>\n",
       "      <td>40</td>\n",
       "      <td>290265</td>\n",
       "      <td>290265</td>\n",
       "      <td>1</td>\n",
       "      <td>449</td>\n",
       "      <td>Blodtryksmåler håndled</td>\n",
       "      <td>telephone</td>\n",
       "      <td>Frederiksberg</td>\n",
       "      <td>Medicin,Hälsa</td>\n",
       "      <td>beurer</td>\n",
       "    </tr>\n",
       "    <tr>\n",
       "      <th>4</th>\n",
       "      <td>873456</td>\n",
       "      <td>915525</td>\n",
       "      <td>2025-10-08 13:44:18</td>\n",
       "      <td>134</td>\n",
       "      <td>280056-0041</td>\n",
       "      <td>280056</td>\n",
       "      <td>1</td>\n",
       "      <td>1500</td>\n",
       "      <td>Vinterkänga med dubb</td>\n",
       "      <td>telephone</td>\n",
       "      <td>Lidköping</td>\n",
       "      <td>Skor,Skor &amp; tofflor</td>\n",
       "      <td>Åshild</td>\n",
       "    </tr>\n",
       "  </tbody>\n",
       "</table>\n",
       "</div>"
      ],
      "text/plain": [
       "  orderId shopUserId             created currencyId          sku groupId  \\\n",
       "0  873458     915527 2025-10-08 13:44:36         40  260596-2095  260596   \n",
       "1  873458     915527 2025-10-08 13:44:36         40       262287  262287   \n",
       "2  873458     915527 2025-10-08 13:44:36         40       291195  291195   \n",
       "3  873458     915527 2025-10-08 13:44:36         40       290265  290265   \n",
       "4  873456     915525 2025-10-08 13:44:18        134  280056-0041  280056   \n",
       "\n",
       "  quantity price                    name       type    invoiceCity  \\\n",
       "0        1   429     BH uden bøjle Stars  telephone  Frederiksberg   \n",
       "1        1   129         Knæstøtte 2-pak  telephone  Frederiksberg   \n",
       "2        1   139               Rygsmører  telephone  Frederiksberg   \n",
       "3        1   449  Blodtryksmåler håndled  telephone  Frederiksberg   \n",
       "4        1  1500   Vinterkänga med dubb   telephone      Lidköping   \n",
       "\n",
       "                                         category        brand  \n",
       "0                    Bh utan bygel,Bh,Underkläder     Swegmark  \n",
       "1                                    Stödartiklar  Good Living  \n",
       "2  Hudvård,Kroppsvård,Badrum/WC,Vardagshjälpmedel  Good Living  \n",
       "3                                   Medicin,Hälsa       beurer  \n",
       "4                             Skor,Skor & tofflor       Åshild  "
      ]
     },
     "execution_count": 39,
     "metadata": {},
     "output_type": "execute_result"
    }
   ],
   "source": [
    "tx.head()"
   ]
  },
  {
   "cell_type": "markdown",
   "id": "df749fd0",
   "metadata": {},
   "source": [
    "## Unify currenies to SEK for price bucketing"
   ]
  },
  {
   "cell_type": "code",
   "execution_count": 40,
   "id": "a6afce74",
   "metadata": {},
   "outputs": [],
   "source": [
    "import pandas as pd\n",
    "import requests\n",
    "\n",
    "currencyid_to_country = {\n",
    "    \"40\":  \"DK\",\n",
    "    \"134\": \"SE\",\n",
    "    \"103\": \"NO\",\n",
    "    \"50\":  \"FI\",\n",
    "}\n",
    "\n",
    "def fetch_sek_rates():\n",
    "    resp = requests.get(\n",
    "        \"https://api.frankfurter.app/latest\",\n",
    "        params={\"from\": \"EUR\", \"to\": \"SEK,DKK,NOK\"},\n",
    "        timeout=10,\n",
    "    )\n",
    "    resp.raise_for_status()\n",
    "    rates = resp.json()[\"rates\"]\n",
    "    sek_per_eur = rates[\"SEK\"]\n",
    "    dkk_per_eur = rates[\"DKK\"]\n",
    "    nok_per_eur = rates[\"NOK\"]\n",
    "    return {\n",
    "        \"DK\": sek_per_eur / dkk_per_eur,\n",
    "        \"NO\": sek_per_eur / nok_per_eur,\n",
    "        \"SE\": 1.0,\n",
    "        \"FI\": sek_per_eur,\n",
    "    }\n",
    "\n",
    "tx[\"currencyId\"] = tx[\"currencyId\"].astype(\"string\").str.strip()\n",
    "tx[\"currency_country\"] = tx[\"currencyId\"].map(currencyid_to_country)\n",
    "conversion_rates = fetch_sek_rates()\n",
    "tx[\"sek_rate\"] = tx[\"currency_country\"].map(conversion_rates)\n",
    "tx[\"price\"] = pd.to_numeric(tx[\"price\"], errors=\"coerce\")\n",
    "tx[\"price_sek\"] = (tx[\"price\"] * tx[\"sek_rate\"]).round(0).astype(\"Int64\")\n"
   ]
  },
  {
   "cell_type": "code",
   "execution_count": 41,
   "id": "6d8a7390",
   "metadata": {},
   "outputs": [
    {
     "name": "stdout",
     "output_type": "stream",
     "text": [
      "count      310071.0\n",
      "mean     296.118866\n",
      "std      247.861431\n",
      "min             0.0\n",
      "25%           142.0\n",
      "50%           234.0\n",
      "75%           417.0\n",
      "max          7003.0\n",
      "Name: price_sek, dtype: Float64\n"
     ]
    },
    {
     "data": {
      "image/png": "[encoded data removed]",
      "text/plain": [
       "<Figure size 640x480 with 1 Axes>"
      ]
     },
     "metadata": {},
     "output_type": "display_data"
    }
   ],
   "source": [
    "import matplotlib.pyplot as plt\n",
    "\n",
    "s = tx[\"price_sek\"]\n",
    "print(s.describe())\n",
    "\n",
    "q = s.quantile([0.01, 0.99])\n",
    "\n",
    "t = s[s.between(q.loc[0.01], q.loc[0.99])]\n",
    "plt.figure()\n",
    "plt.hist(t, bins=50)\n",
    "plt.title(\"Price (SEK) — histogram trimmed to 1–99 percentile\")\n",
    "plt.xlabel(\"price_sek\")\n",
    "plt.ylabel(\"Frequency\")\n",
    "plt.show()\n"
   ]
  },
  {
   "cell_type": "code",
   "execution_count": 42,
   "id": "0ee28f4c",
   "metadata": {},
   "outputs": [],
   "source": [
    "customers = pd.read_parquet(\"../data/processed/customers_clean.parquet\")\n",
    "tx = tx.merge(customers[[\"shopUserId\", \"Age\", \"Gender\"]], on=\"shopUserId\", how=\"left\")"
   ]
  },
  {
   "cell_type": "code",
   "execution_count": 43,
   "id": "bd6df341",
   "metadata": {},
   "outputs": [],
   "source": [
    "# Keep customers where age is between 10 and 105, or where age is NaN\n",
    "tx = tx[\n",
    "    (tx['Age'].isna()) |\n",
    "    ((tx['Age'] <= 105) & (tx['Age'] >= 10))\n",
    "]"
   ]
  },
  {
   "cell_type": "code",
   "execution_count": 44,
   "id": "bee41923",
   "metadata": {},
   "outputs": [
    {
     "data": {
      "text/plain": [
       "orderId             0.000000\n",
       "shopUserId          0.000000\n",
       "created             0.000000\n",
       "currencyId          0.000000\n",
       "sku                 0.000000\n",
       "groupId             0.000000\n",
       "quantity            0.000000\n",
       "price               0.000003\n",
       "name                0.000000\n",
       "type                0.000000\n",
       "invoiceCity         0.000000\n",
       "category            0.000003\n",
       "brand               0.000003\n",
       "currency_country    0.000000\n",
       "sek_rate            0.000000\n",
       "price_sek           0.000003\n",
       "Age                 0.357098\n",
       "Gender              0.357098\n",
       "dtype: float64"
      ]
     },
     "execution_count": 44,
     "metadata": {},
     "output_type": "execute_result"
    }
   ],
   "source": [
    "tx.isna().mean()"
   ]
  },
  {
   "cell_type": "code",
   "execution_count": 45,
   "id": "54669c45",
   "metadata": {},
   "outputs": [
    {
     "data": {
      "text/plain": [
       "array(['telephone', 'letter', 'web', 'other', 'email'], dtype=object)"
      ]
     },
     "execution_count": 45,
     "metadata": {},
     "output_type": "execute_result"
    }
   ],
   "source": [
    "tx[\"type\"].unique()\n"
   ]
  },
  {
   "cell_type": "markdown",
   "id": "e8ca778f",
   "metadata": {},
   "source": [
    "# Line price"
   ]
  },
  {
   "cell_type": "code",
   "execution_count": 46,
   "id": "258142f6",
   "metadata": {},
   "outputs": [],
   "source": [
    "tx[\"quantity\"] = pd.to_numeric(tx[\"quantity\"], errors=\"coerce\").round().astype(\"Int64\").astype(str)\n"
   ]
  },
  {
   "cell_type": "code",
   "execution_count": 47,
   "id": "ba7f496e",
   "metadata": {},
   "outputs": [
    {
     "data": {
      "text/plain": [
       "array(['1', '2', '4', '3', '5', '8', '6', '10', '14', '7', '12', '16',\n",
       "       '9', '11', '15', '50', '176', '130', '19', '40', '20', '229', '24',\n",
       "       '18', '25', '999', '<NA>'], dtype=object)"
      ]
     },
     "execution_count": 47,
     "metadata": {},
     "output_type": "execute_result"
    }
   ],
   "source": [
    "tx[\"quantity\"].unique()\n"
   ]
  },
  {
   "cell_type": "code",
   "execution_count": 48,
   "id": "2192fdea",
   "metadata": {},
   "outputs": [],
   "source": [
    "# Calculate line_total_sek as price_sek * quantity, ensuring both are numeric, rounded to nearest integer (no decimals), and drop rows where result is NA or 0\n",
    "tx[\"price_sek\"] = pd.to_numeric(tx[\"price_sek\"], errors=\"coerce\")\n",
    "tx[\"quantity\"] = pd.to_numeric(tx[\"quantity\"], errors=\"coerce\")\n",
    "tx[\"line_total_sek\"] = (tx[\"price_sek\"] * tx[\"quantity\"]).round()\n",
    "# Ensure line_total_sek is numeric\n",
    "tx[\"line_total_sek\"] = pd.to_numeric(tx[\"line_total_sek\"], errors=\"coerce\")\n",
    "# Drop rows where line_total_sek is NA or 0\n",
    "tx = tx.dropna(subset=[\"line_total_sek\"])\n",
    "tx = tx[tx[\"line_total_sek\"] != 0]\n"
   ]
  },
  {
   "cell_type": "markdown",
   "id": "40c0af20",
   "metadata": {},
   "source": [
    " Country remap COUNTRY_MAP_ALPHA = {\"SE\": \"Sweden\", \"DK\": \"Denmark\", \"FI\": \"Finland\", \"NO\": \"Norway\"}"
   ]
  },
  {
   "cell_type": "code",
   "execution_count": 49,
   "id": "1f558de3",
   "metadata": {},
   "outputs": [],
   "source": [
    "COUNTRY_MAP_ALPHA = {\"SE\": \"Sweden\", \"DK\": \"Denmark\", \"FI\": \"Finland\", \"NO\": \"Norway\"}\n",
    "tx[\"country\"] = tx[\"currency_country\"].map(COUNTRY_MAP_ALPHA).fillna(tx[\"currency_country\"])\n",
    "tx = tx.drop(columns=[\"currency_country\"])\n"
   ]
  },
  {
   "cell_type": "code",
   "execution_count": 50,
   "id": "67af064b",
   "metadata": {},
   "outputs": [
    {
     "data": {
      "text/plain": [
       "61455"
      ]
     },
     "execution_count": 50,
     "metadata": {},
     "output_type": "execute_result"
    }
   ],
   "source": [
    "tx['shopUserId'].nunique()\n"
   ]
  },
  {
   "cell_type": "code",
   "execution_count": 51,
   "id": "915f1134",
   "metadata": {},
   "outputs": [],
   "source": [
    "tx.to_parquet(\"../data/processed/transactions_clean.parquet\", index=False)"
   ]
  }
 ],
 "metadata": {
  "kernelspec": {
   "display_name": "Python (itcm-recsys)",
   "language": "python",
   "name": "itcm-recsys"
  },
  "language_info": {
   "codemirror_mode": {
    "name": "ipython",
    "version": 3
   },
   "file_extension": ".py",
   "mimetype": "text/x-python",
   "name": "python",
   "nbconvert_exporter": "python",
   "pygments_lexer": "ipython3",
   "version": "3.10.18"
  }
 },
 "nbformat": 4,
 "nbformat_minor": 5
}
