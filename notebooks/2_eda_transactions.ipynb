{
 "cells": [
  {
   "cell_type": "markdown",
   "id": "a461ec61",
   "metadata": {},
   "source": [
    "# First run eda_customers!"
   ]
  },
  {
   "cell_type": "code",
   "execution_count": 76,
   "id": "c1eb670a",
   "metadata": {},
   "outputs": [],
   "source": [
    "# How many rows are there in tx?\n",
    "\n",
    "import pandas as pd\n",
    "tx = pd.read_parquet(\"../data/processed/transactions_canonical.parquet\")\n",
    "a = pd.read_parquet(\"../data/processed/articles_clean.parquet\", columns=[\"sku\", \"groupId\", 'category', 'brand'])\n",
    "tx = tx.drop(columns=[\"invoiceEmail\", \"orderLineId\"], errors=\"ignore\")\n",
    "\n"
   ]
  },
  {
   "cell_type": "code",
   "execution_count": 77,
   "id": "d0760c6f",
   "metadata": {},
   "outputs": [
    {
     "name": "stdout",
     "output_type": "stream",
     "text": [
      "312079\n"
     ]
    }
   ],
   "source": [
    "print(len(tx))"
   ]
  },
  {
   "cell_type": "code",
   "execution_count": 78,
   "id": "cf3f21d4",
   "metadata": {},
   "outputs": [],
   "source": [
    "# ensure sku column names match in both frames;\n",
    "# tx = tx.rename(columns={'articleSku':'sku'})  # example if needed\n",
    "\n",
    "cols = [\"groupId\", \"sku\", \"category\", \"brand\"]\n",
    "a_dedup = a[cols].drop_duplicates(subset=[\"groupId\", \"sku\"])\n",
    "\n",
    "tx = tx.merge(\n",
    "    a_dedup,\n",
    "    on=[\"groupId\", \"sku\"],\n",
    "    how=\"left\",\n",
    "    validate=\"many_to_one\"  # raises if a still has duplicate (groupId, sku)\n",
    ")\n"
   ]
  },
  {
   "cell_type": "code",
   "execution_count": 82,
   "id": "0f5f37ae",
   "metadata": {},
   "outputs": [],
   "source": [
    "# Save all rows where both category and brand are unknown/missing/na/none (case-insensitive),\n",
    "# and ensure the output is unique on sku\n",
    "\n",
    "def is_unknown(val):\n",
    "    if pd.isna(val):\n",
    "        return True\n",
    "    s = str(val).strip().lower()\n",
    "    return s in {\"unknown\", \"none\", \"na\", \"\"}\n",
    "\n",
    "mask = tx.apply(\n",
    "    lambda row: is_unknown(row[\"category\"]) and is_unknown(row[\"brand\"]),\n",
    "    axis=1\n",
    ")\n",
    "\n",
    "unknown_rows = tx[mask].drop_duplicates(subset=[\"sku\"])\n",
    "unknown_rows.to_csv(\"/workspace/data/processed/avoid_names.csv\", sep=\"\\t\", index=False)\n"
   ]
  },
  {
   "cell_type": "code",
   "execution_count": 80,
   "id": "3877f27a",
   "metadata": {},
   "outputs": [
    {
     "name": "stdout",
     "output_type": "stream",
     "text": [
      "312079\n"
     ]
    }
   ],
   "source": [
    "print(len(tx))"
   ]
  },
  {
   "cell_type": "code",
   "execution_count": 56,
   "id": "1f460cc2",
   "metadata": {},
   "outputs": [
    {
     "data": {
      "text/plain": [
       "orderId                object\n",
       "shopUserId             object\n",
       "created                object\n",
       "currencyId             object\n",
       "sku                    object\n",
       "groupId                object\n",
       "quantity               object\n",
       "price                  object\n",
       "name                   object\n",
       "type                   object\n",
       "invoiceCity    string[python]\n",
       "category       string[python]\n",
       "brand          string[python]\n",
       "dtype: object"
      ]
     },
     "execution_count": 56,
     "metadata": {},
     "output_type": "execute_result"
    }
   ],
   "source": [
    "tx.dtypes\n"
   ]
  },
  {
   "cell_type": "code",
   "execution_count": 57,
   "id": "a3802951",
   "metadata": {},
   "outputs": [
    {
     "data": {
      "text/plain": [
       "orderId        0.000000\n",
       "shopUserId     0.000000\n",
       "created        0.000000\n",
       "currencyId     0.000000\n",
       "sku            0.000000\n",
       "groupId        0.000000\n",
       "quantity       0.000000\n",
       "price          0.000000\n",
       "name           0.000000\n",
       "type           0.000000\n",
       "invoiceCity    0.000000\n",
       "category       0.000003\n",
       "brand          0.000003\n",
       "dtype: float64"
      ]
     },
     "execution_count": 57,
     "metadata": {},
     "output_type": "execute_result"
    }
   ],
   "source": [
    "tx.isna().mean()"
   ]
  },
  {
   "cell_type": "code",
   "execution_count": 58,
   "id": "4df2c58d",
   "metadata": {},
   "outputs": [],
   "source": [
    "# Output rows where the price value is 6 digits or more\n",
    "six_digit_price_rows = tx[tx['price'].astype(str).str.replace('.0$', '', regex=True).str.fullmatch(r'\\d{6,}')]\n",
    "six_digit_price_rows\n",
    "\n",
    "# For rows where price is exactly 6 digits, set price to the last 3 digits (e.g., 449399.0 -> 399.0)\n",
    "mask_six_digit = tx['price'].astype(str).str.replace('.0$', '', regex=True).str.fullmatch(r'\\d{6}')\n",
    "# Fix prices in-place for those rows\n",
    "def fix_six_digit_price(val):\n",
    "    s = str(val).strip().replace('.0', '')\n",
    "    if len(s) == 6 and s.isdigit():\n",
    "        return float(s[-3:])\n",
    "    return val\n",
    "\n",
    "tx.loc[mask_six_digit, 'price'] = tx.loc[mask_six_digit, 'price'].apply(fix_six_digit_price)\n"
   ]
  },
  {
   "cell_type": "code",
   "execution_count": 59,
   "id": "b9db7b70",
   "metadata": {},
   "outputs": [
    {
     "name": "stdout",
     "output_type": "stream",
     "text": [
      "312079\n"
     ]
    }
   ],
   "source": [
    "print(len(tx))"
   ]
  },
  {
   "cell_type": "markdown",
   "id": "b3504556",
   "metadata": {},
   "source": [
    "## Remove known bugs"
   ]
  },
  {
   "cell_type": "code",
   "execution_count": 60,
   "id": "e58edaaf",
   "metadata": {},
   "outputs": [],
   "source": [
    "# Keep only rows where 'created' date is on or after 2024-06-01 to avoid migration bugs\n",
    "tx['created'] = pd.to_datetime(tx['created'], errors='coerce')\n",
    "tx = tx[tx['created'] >= pd.to_datetime('2024-06-01')]"
   ]
  },
  {
   "cell_type": "code",
   "execution_count": 61,
   "id": "670623b6",
   "metadata": {},
   "outputs": [
    {
     "name": "stdout",
     "output_type": "stream",
     "text": [
      "308351\n"
     ]
    }
   ],
   "source": [
    "print(len(tx))"
   ]
  },
  {
   "cell_type": "code",
   "execution_count": 62,
   "id": "c7e305aa",
   "metadata": {},
   "outputs": [
    {
     "data": {
      "text/html": [
       "<div>\n",
       "<style scoped>\n",
       "    .dataframe tbody tr th:only-of-type {\n",
       "        vertical-align: middle;\n",
       "    }\n",
       "\n",
       "    .dataframe tbody tr th {\n",
       "        vertical-align: top;\n",
       "    }\n",
       "\n",
       "    .dataframe thead th {\n",
       "        text-align: right;\n",
       "    }\n",
       "</style>\n",
       "<table border=\"1\" class=\"dataframe\">\n",
       "  <thead>\n",
       "    <tr style=\"text-align: right;\">\n",
       "      <th></th>\n",
       "      <th>orderId</th>\n",
       "      <th>shopUserId</th>\n",
       "      <th>created</th>\n",
       "      <th>currencyId</th>\n",
       "      <th>sku</th>\n",
       "      <th>groupId</th>\n",
       "      <th>quantity</th>\n",
       "      <th>price</th>\n",
       "      <th>name</th>\n",
       "      <th>type</th>\n",
       "      <th>invoiceCity</th>\n",
       "      <th>category</th>\n",
       "      <th>brand</th>\n",
       "    </tr>\n",
       "  </thead>\n",
       "  <tbody>\n",
       "    <tr>\n",
       "      <th>0</th>\n",
       "      <td>869808</td>\n",
       "      <td>912267</td>\n",
       "      <td>2025-10-06 14:50:27</td>\n",
       "      <td>134</td>\n",
       "      <td>280056-0038</td>\n",
       "      <td>280056</td>\n",
       "      <td>1</td>\n",
       "      <td>1500</td>\n",
       "      <td>Vinterkänga med dubb</td>\n",
       "      <td>telephone</td>\n",
       "      <td>Svärdsjö</td>\n",
       "      <td>Skor,Skor &amp; tofflor</td>\n",
       "      <td>Åshild</td>\n",
       "    </tr>\n",
       "    <tr>\n",
       "      <th>1</th>\n",
       "      <td>869796</td>\n",
       "      <td>912257</td>\n",
       "      <td>2025-10-06 14:44:44</td>\n",
       "      <td>134</td>\n",
       "      <td>260810-2090</td>\n",
       "      <td>260802</td>\n",
       "      <td>1</td>\n",
       "      <td>499</td>\n",
       "      <td>Bh utan bygel Broderie Anglaise</td>\n",
       "      <td>telephone</td>\n",
       "      <td>Lidköping</td>\n",
       "      <td>Bh utan bygel,Bh,Underkläder</td>\n",
       "      <td>Miss Mary</td>\n",
       "    </tr>\n",
       "    <tr>\n",
       "      <th>2</th>\n",
       "      <td>869792</td>\n",
       "      <td>418342</td>\n",
       "      <td>2025-10-06 14:38:56</td>\n",
       "      <td>40</td>\n",
       "      <td>210774-5254</td>\n",
       "      <td>210773</td>\n",
       "      <td>1</td>\n",
       "      <td>318</td>\n",
       "      <td>Top</td>\n",
       "      <td>telephone</td>\n",
       "      <td>Bevtoft</td>\n",
       "      <td>Överdelar,Toppar</td>\n",
       "      <td>Åshild</td>\n",
       "    </tr>\n",
       "    <tr>\n",
       "      <th>3</th>\n",
       "      <td>869792</td>\n",
       "      <td>418342</td>\n",
       "      <td>2025-10-06 14:38:56</td>\n",
       "      <td>40</td>\n",
       "      <td>210784-5254</td>\n",
       "      <td>210784</td>\n",
       "      <td>1</td>\n",
       "      <td>318</td>\n",
       "      <td>Tunika</td>\n",
       "      <td>telephone</td>\n",
       "      <td>Bevtoft</td>\n",
       "      <td>Överdelar,Tunikor</td>\n",
       "      <td>Åshild</td>\n",
       "    </tr>\n",
       "    <tr>\n",
       "      <th>4</th>\n",
       "      <td>869792</td>\n",
       "      <td>418342</td>\n",
       "      <td>2025-10-06 14:38:56</td>\n",
       "      <td>40</td>\n",
       "      <td>200975</td>\n",
       "      <td>200975</td>\n",
       "      <td>1</td>\n",
       "      <td>49</td>\n",
       "      <td>Taske</td>\n",
       "      <td>telephone</td>\n",
       "      <td>Bevtoft</td>\n",
       "      <td>Accessoarer,Väskor</td>\n",
       "      <td>Åshild</td>\n",
       "    </tr>\n",
       "  </tbody>\n",
       "</table>\n",
       "</div>"
      ],
      "text/plain": [
       "  orderId shopUserId             created currencyId          sku groupId  \\\n",
       "0  869808     912267 2025-10-06 14:50:27        134  280056-0038  280056   \n",
       "1  869796     912257 2025-10-06 14:44:44        134  260810-2090  260802   \n",
       "2  869792     418342 2025-10-06 14:38:56         40  210774-5254  210773   \n",
       "3  869792     418342 2025-10-06 14:38:56         40  210784-5254  210784   \n",
       "4  869792     418342 2025-10-06 14:38:56         40       200975  200975   \n",
       "\n",
       "  quantity price                             name       type invoiceCity  \\\n",
       "0        1  1500            Vinterkänga med dubb   telephone    Svärdsjö   \n",
       "1        1   499  Bh utan bygel Broderie Anglaise  telephone   Lidköping   \n",
       "2        1   318                              Top  telephone     Bevtoft   \n",
       "3        1   318                           Tunika  telephone     Bevtoft   \n",
       "4        1    49                            Taske  telephone     Bevtoft   \n",
       "\n",
       "                       category      brand  \n",
       "0           Skor,Skor & tofflor     Åshild  \n",
       "1  Bh utan bygel,Bh,Underkläder  Miss Mary  \n",
       "2              Överdelar,Toppar     Åshild  \n",
       "3             Överdelar,Tunikor     Åshild  \n",
       "4            Accessoarer,Väskor     Åshild  "
      ]
     },
     "execution_count": 62,
     "metadata": {},
     "output_type": "execute_result"
    }
   ],
   "source": [
    "tx.head()"
   ]
  },
  {
   "cell_type": "markdown",
   "id": "df749fd0",
   "metadata": {},
   "source": [
    "## Unify currenies to SEK for price bucketing"
   ]
  },
  {
   "cell_type": "code",
   "execution_count": 63,
   "id": "a6afce74",
   "metadata": {},
   "outputs": [],
   "source": [
    "import pandas as pd\n",
    "import requests\n",
    "\n",
    "currencyid_to_country = {\n",
    "    \"40\":  \"DK\",\n",
    "    \"134\": \"SE\",\n",
    "    \"103\": \"NO\",\n",
    "    \"50\":  \"FI\",\n",
    "}\n",
    "\n",
    "def fetch_sek_rates():\n",
    "    resp = requests.get(\n",
    "        \"https://api.frankfurter.app/latest\",\n",
    "        params={\"from\": \"EUR\", \"to\": \"SEK,DKK,NOK\"},\n",
    "        timeout=10,\n",
    "    )\n",
    "    resp.raise_for_status()\n",
    "    rates = resp.json()[\"rates\"]\n",
    "    sek_per_eur = rates[\"SEK\"]\n",
    "    dkk_per_eur = rates[\"DKK\"]\n",
    "    nok_per_eur = rates[\"NOK\"]\n",
    "    return {\n",
    "        \"DK\": sek_per_eur / dkk_per_eur,\n",
    "        \"NO\": sek_per_eur / nok_per_eur,\n",
    "        \"SE\": 1.0,\n",
    "        \"FI\": sek_per_eur,\n",
    "    }\n",
    "\n",
    "tx[\"currencyId\"] = tx[\"currencyId\"].astype(\"string\").str.strip()\n",
    "tx[\"currency_country\"] = tx[\"currencyId\"].map(currencyid_to_country)\n",
    "conversion_rates = fetch_sek_rates()\n",
    "tx[\"sek_rate\"] = tx[\"currency_country\"].map(conversion_rates)\n",
    "tx[\"price\"] = pd.to_numeric(tx[\"price\"], errors=\"coerce\")\n",
    "tx[\"price_sek\"] = (tx[\"price\"] * tx[\"sek_rate\"]).round(0).astype(\"Int64\")\n"
   ]
  },
  {
   "cell_type": "code",
   "execution_count": 64,
   "id": "6d8a7390",
   "metadata": {},
   "outputs": [
    {
     "name": "stdout",
     "output_type": "stream",
     "text": [
      "Price (SEK) statistics (1st to 99th percentile):\n",
      "  Count: 302,871\n",
      "  Mean: 285.05\n",
      "  Median: 234.00\n",
      "  Std: 193.93\n",
      "  Min (1st percentile): 18.00\n",
      "  Max (99th percentile): 1,100.00\n"
     ]
    },
    {
     "data": {
      "image/png": "[encoded data removed]",
      "text/plain": [
       "<Figure size 800x500 with 1 Axes>"
      ]
     },
     "metadata": {},
     "output_type": "display_data"
    }
   ],
   "source": [
    "import matplotlib.pyplot as plt\n",
    "\n",
    "# Show key statistics in numbers\n",
    "price_sek = tx[\"price_sek\"].dropna()\n",
    "q_low = price_sek.quantile(0.01)\n",
    "q_high = price_sek.quantile(0.99)\n",
    "price_sek_trimmed = price_sek[(price_sek >= q_low) & (price_sek <= q_high)]\n",
    "\n",
    "print(\"Price (SEK) statistics (1st to 99th percentile):\")\n",
    "print(f\"  Count: {price_sek_trimmed.count():,}\")\n",
    "print(f\"  Mean: {price_sek_trimmed.mean():,.2f}\")\n",
    "print(f\"  Median: {price_sek_trimmed.median():,.2f}\")\n",
    "print(f\"  Std: {price_sek_trimmed.std():,.2f}\")\n",
    "print(f\"  Min (1st percentile): {q_low:,.2f}\")\n",
    "print(f\"  Max (99th percentile): {q_high:,.2f}\")\n",
    "\n",
    "plt.figure(figsize=(8, 5))\n",
    "plt.hist(\n",
    "    price_sek_trimmed, \n",
    "    bins=50, \n",
    "    color=\"skyblue\", \n",
    "    edgecolor=\"black\"\n",
    ")\n",
    "plt.title(\"Distribution of Price (SEK) (1st to 99th percentile)\")\n",
    "plt.xlabel(\"price_sek\")\n",
    "plt.ylabel(\"Frequency\")\n",
    "plt.xlim(q_low, q_high)\n",
    "plt.grid(axis='y', alpha=0.75)\n",
    "plt.show()\n"
   ]
  },
  {
   "cell_type": "code",
   "execution_count": 65,
   "id": "0ee28f4c",
   "metadata": {},
   "outputs": [],
   "source": [
    "# Read the cleaned customers data from Parquet, do not change dtypes\n",
    "customers = pd.read_parquet(\"../data/processed/customers_clean.parquet\")\n",
    "\n",
    "# Merge the 'Age' and 'invoiceCity' columns from the customers dataframe into the transactions dataframe, matching on 'shopUserId'\n",
    "# This adds the 'Age' and 'invoiceCity' information for each transaction, using a left join to keep all transactions\n",
    "tx = tx.merge(customers[[\"shopUserId\", \"Age\", \"Gender\"]], on=\"shopUserId\", how=\"left\")"
   ]
  },
  {
   "cell_type": "code",
   "execution_count": 66,
   "id": "bd6df341",
   "metadata": {},
   "outputs": [],
   "source": [
    "# Keep customers where age is between 10 and 105, or where age is NaN\n",
    "tx = tx[\n",
    "    (tx['Age'].isna()) |\n",
    "    ((tx['Age'] <= 105) & (tx['Age'] >= 10))\n",
    "]"
   ]
  },
  {
   "cell_type": "code",
   "execution_count": 67,
   "id": "bee41923",
   "metadata": {},
   "outputs": [
    {
     "data": {
      "text/plain": [
       "orderId             0.000000\n",
       "shopUserId          0.000000\n",
       "created             0.000000\n",
       "currencyId          0.000000\n",
       "sku                 0.000000\n",
       "groupId             0.000000\n",
       "quantity            0.000000\n",
       "price               0.000003\n",
       "name                0.000000\n",
       "type                0.000000\n",
       "invoiceCity         0.000000\n",
       "category            0.000003\n",
       "brand               0.000003\n",
       "currency_country    0.000000\n",
       "sek_rate            0.000000\n",
       "price_sek           0.000003\n",
       "Age                 0.357615\n",
       "Gender              0.357615\n",
       "dtype: float64"
      ]
     },
     "execution_count": 67,
     "metadata": {},
     "output_type": "execute_result"
    }
   ],
   "source": [
    "tx.isna().mean()"
   ]
  },
  {
   "cell_type": "code",
   "execution_count": 68,
   "id": "54669c45",
   "metadata": {},
   "outputs": [
    {
     "name": "stdout",
     "output_type": "stream",
     "text": [
      "Unique values in 'type' column: ['telephone' 'web' 'email' 'letter' 'other']\n"
     ]
    }
   ],
   "source": [
    "print(\"Unique values in 'type' column:\", tx[\"type\"].unique())\n"
   ]
  },
  {
   "cell_type": "markdown",
   "id": "e8ca778f",
   "metadata": {},
   "source": [
    "# Line price"
   ]
  },
  {
   "cell_type": "code",
   "execution_count": 69,
   "id": "258142f6",
   "metadata": {},
   "outputs": [],
   "source": [
    "# Convert 'quantity' to numeric, round to nearest integer, and convert back to string (if needed)\n",
    "tx[\"quantity\"] = pd.to_numeric(tx[\"quantity\"], errors=\"coerce\").round().astype(\"Int64\").astype(str)\n"
   ]
  },
  {
   "cell_type": "code",
   "execution_count": 70,
   "id": "ba7f496e",
   "metadata": {},
   "outputs": [
    {
     "name": "stdout",
     "output_type": "stream",
     "text": [
      "Unique values of quantity: ['1' '2' '3' '4' '10' '6' '5' '7' '12' '16' '9' '8' '11' '15' '50' '176'\n",
      " '130' '19' '40' '20' '14' '229' '24' '18' '25' '999' '<NA>']\n"
     ]
    }
   ],
   "source": [
    "print(\"Unique values of quantity:\", tx[\"quantity\"].unique())\n"
   ]
  },
  {
   "cell_type": "code",
   "execution_count": 71,
   "id": "2192fdea",
   "metadata": {},
   "outputs": [],
   "source": [
    "# Calculate line_total_sek as price_sek * quantity, ensuring both are numeric, rounded to nearest integer (no decimals), and drop rows where result is NA or 0\n",
    "tx[\"price_sek\"] = pd.to_numeric(tx[\"price_sek\"], errors=\"coerce\")\n",
    "tx[\"quantity\"] = pd.to_numeric(tx[\"quantity\"], errors=\"coerce\")\n",
    "tx[\"line_total_sek\"] = (tx[\"price_sek\"] * tx[\"quantity\"]).round()\n",
    "# Ensure line_total_sek is numeric\n",
    "tx[\"line_total_sek\"] = pd.to_numeric(tx[\"line_total_sek\"], errors=\"coerce\")\n",
    "# Drop rows where line_total_sek is NA or 0\n",
    "tx = tx.dropna(subset=[\"line_total_sek\"])\n",
    "tx = tx[tx[\"line_total_sek\"] != 0]\n"
   ]
  },
  {
   "cell_type": "markdown",
   "id": "40c0af20",
   "metadata": {},
   "source": [
    "# Country remap COUNTRY_MAP_ALPHA = {\"SE\": \"Sweden\", \"DK\": \"Denmark\", \"FI\": \"Finland\", \"NO\": \"Norway\"}"
   ]
  },
  {
   "cell_type": "code",
   "execution_count": 72,
   "id": "1f558de3",
   "metadata": {},
   "outputs": [],
   "source": [
    "COUNTRY_MAP_ALPHA = {\"SE\": \"Sweden\", \"DK\": \"Denmark\", \"FI\": \"Finland\", \"NO\": \"Norway\"}\n",
    "tx[\"country\"] = tx[\"currency_country\"].map(COUNTRY_MAP_ALPHA).fillna(tx[\"currency_country\"])\n",
    "tx = tx.drop(columns=[\"currency_country\"])\n"
   ]
  },
  {
   "cell_type": "code",
   "execution_count": 73,
   "id": "67af064b",
   "metadata": {},
   "outputs": [
    {
     "name": "stdout",
     "output_type": "stream",
     "text": [
      "Number of unique shopUserId: 61284\n"
     ]
    }
   ],
   "source": [
    "print(\"Number of unique shopUserId:\", tx['shopUserId'].nunique())\n"
   ]
  },
  {
   "cell_type": "code",
   "execution_count": 74,
   "id": "915f1134",
   "metadata": {},
   "outputs": [],
   "source": [
    "# Save cleaned transactions to Parquet without changing dtypes\n",
    "tx.to_parquet(\"../data/processed/transactions_clean.parquet\", index=False)"
   ]
  },
  {
   "cell_type": "code",
   "execution_count": 75,
   "id": "1fb1cb4f",
   "metadata": {},
   "outputs": [
    {
     "name": "stdout",
     "output_type": "stream",
     "text": [
      "orderId           0.00000\n",
      "shopUserId        0.00000\n",
      "created           0.00000\n",
      "currencyId        0.00000\n",
      "sku               0.00000\n",
      "groupId           0.00000\n",
      "quantity          0.00000\n",
      "price             0.00000\n",
      "name              0.00000\n",
      "type              0.00000\n",
      "invoiceCity       0.00000\n",
      "category          0.00000\n",
      "brand             0.00000\n",
      "sek_rate          0.00000\n",
      "price_sek         0.00000\n",
      "Age               0.35801\n",
      "Gender            0.35801\n",
      "line_total_sek    0.00000\n",
      "country           0.00000\n",
      "dtype: float64\n"
     ]
    }
   ],
   "source": [
    "# Output the proportion of NA (missing) values for each column in tx\n",
    "print(tx.isna().mean())\n"
   ]
  },
  {
   "cell_type": "code",
   "execution_count": null,
   "id": "9e14d1ef",
   "metadata": {},
   "outputs": [],
   "source": []
  },
  {
   "cell_type": "code",
   "execution_count": null,
   "id": "fa56dfe1",
   "metadata": {},
   "outputs": [],
   "source": []
  }
 ],
 "metadata": {
  "kernelspec": {
   "display_name": "Python (itcm-recsys)",
   "language": "python",
   "name": "itcm-recsys"
  },
  "language_info": {
   "codemirror_mode": {
    "name": "ipython",
    "version": 3
   },
   "file_extension": ".py",
   "mimetype": "text/x-python",
   "name": "python",
   "nbconvert_exporter": "python",
   "pygments_lexer": "ipython3",
   "version": "3.10.18"
  }
 },
 "nbformat": 4,
 "nbformat_minor": 5
}
