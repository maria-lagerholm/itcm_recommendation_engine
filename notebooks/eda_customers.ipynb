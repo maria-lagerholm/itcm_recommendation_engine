{
 "cells": [
  {
   "cell_type": "code",
   "execution_count": 23,
   "id": "6d132149",
   "metadata": {},
   "outputs": [
    {
     "data": {
      "text/html": [
       "<div>\n",
       "<style scoped>\n",
       "    .dataframe tbody tr th:only-of-type {\n",
       "        vertical-align: middle;\n",
       "    }\n",
       "\n",
       "    .dataframe tbody tr th {\n",
       "        vertical-align: top;\n",
       "    }\n",
       "\n",
       "    .dataframe thead th {\n",
       "        text-align: right;\n",
       "    }\n",
       "</style>\n",
       "<table border=\"1\" class=\"dataframe\">\n",
       "  <thead>\n",
       "    <tr style=\"text-align: right;\">\n",
       "      <th></th>\n",
       "      <th>shopUserId</th>\n",
       "      <th>invoiceFirstName</th>\n",
       "      <th>invoiceLastName</th>\n",
       "      <th>invoiceSSN</th>\n",
       "      <th>invoiceZip</th>\n",
       "      <th>invoiceCity</th>\n",
       "      <th>invoiceCountryId</th>\n",
       "      <th>invoiceEmail</th>\n",
       "    </tr>\n",
       "  </thead>\n",
       "  <tbody>\n",
       "    <tr>\n",
       "      <th>0</th>\n",
       "      <td>845840</td>\n",
       "      <td>Gun</td>\n",
       "      <td>Wirycz</td>\n",
       "      <td>194306227184</td>\n",
       "      <td>77634</td>\n",
       "      <td>Hedemora</td>\n",
       "      <td>205</td>\n",
       "      <td>wirycz.g@telia.com</td>\n",
       "    </tr>\n",
       "    <tr>\n",
       "      <th>1</th>\n",
       "      <td>879365</td>\n",
       "      <td>Siv Berit</td>\n",
       "      <td>Larsson</td>\n",
       "      <td>193602196424</td>\n",
       "      <td>67241</td>\n",
       "      <td>Töcksfors</td>\n",
       "      <td>205</td>\n",
       "      <td>1016-1757682914.fake@email.com</td>\n",
       "    </tr>\n",
       "    <tr>\n",
       "      <th>2</th>\n",
       "      <td>507462</td>\n",
       "      <td>Anette</td>\n",
       "      <td>Säker</td>\n",
       "      <td>196105288960</td>\n",
       "      <td>22658</td>\n",
       "      <td>Lund</td>\n",
       "      <td>205</td>\n",
       "      <td>govind.krishna.misra@gmail.com</td>\n",
       "    </tr>\n",
       "    <tr>\n",
       "      <th>3</th>\n",
       "      <td>879359</td>\n",
       "      <td>Monica</td>\n",
       "      <td>Fridlund</td>\n",
       "      <td>196206143049</td>\n",
       "      <td>91334</td>\n",
       "      <td>Holmsund</td>\n",
       "      <td>205</td>\n",
       "      <td>monfri62@outlook.com</td>\n",
       "    </tr>\n",
       "    <tr>\n",
       "      <th>4</th>\n",
       "      <td>79780</td>\n",
       "      <td>Tone Liv</td>\n",
       "      <td>Kjelingtveit</td>\n",
       "      <td>NaN</td>\n",
       "      <td>3864</td>\n",
       "      <td>Rauland</td>\n",
       "      <td>160</td>\n",
       "      <td>tonelivk@gmail.com</td>\n",
       "    </tr>\n",
       "  </tbody>\n",
       "</table>\n",
       "</div>"
      ],
      "text/plain": [
       "  shopUserId invoiceFirstName invoiceLastName    invoiceSSN invoiceZip  \\\n",
       "0     845840              Gun          Wirycz  194306227184      77634   \n",
       "1     879365        Siv Berit         Larsson  193602196424      67241   \n",
       "2     507462           Anette           Säker  196105288960      22658   \n",
       "3     879359           Monica        Fridlund  196206143049      91334   \n",
       "4      79780         Tone Liv    Kjelingtveit           NaN       3864   \n",
       "\n",
       "  invoiceCity invoiceCountryId                    invoiceEmail  \n",
       "0    Hedemora              205              wirycz.g@telia.com  \n",
       "1   Töcksfors              205  1016-1757682914.fake@email.com  \n",
       "2        Lund              205  govind.krishna.misra@gmail.com  \n",
       "3    Holmsund              205            monfri62@outlook.com  \n",
       "4     Rauland              160              tonelivk@gmail.com  "
      ]
     },
     "execution_count": 23,
     "metadata": {},
     "output_type": "execute_result"
    }
   ],
   "source": [
    "import pandas as pd\n",
    "customers = pd.read_csv(\"../data/external/customers.csv\", dtype=str)\n",
    "\n",
    "customers.head()"
   ]
  },
  {
   "cell_type": "code",
   "execution_count": 24,
   "id": "a5874aaa",
   "metadata": {},
   "outputs": [
    {
     "data": {
      "text/plain": [
       "shopUserId          0.000000\n",
       "invoiceFirstName    0.000000\n",
       "invoiceLastName     0.000000\n",
       "invoiceSSN          0.360787\n",
       "invoiceZip          0.000000\n",
       "invoiceCity         0.000000\n",
       "invoiceCountryId    0.000000\n",
       "invoiceEmail        0.000000\n",
       "dtype: float64"
      ]
     },
     "execution_count": 24,
     "metadata": {},
     "output_type": "execute_result"
    }
   ],
   "source": [
    "\n",
    "customers.isnull().mean()"
   ]
  },
  {
   "cell_type": "code",
   "execution_count": 25,
   "id": "20ade0cc",
   "metadata": {},
   "outputs": [
    {
     "name": "stdout",
     "output_type": "stream",
     "text": [
      "82406\n"
     ]
    }
   ],
   "source": [
    "#count all rows\n",
    "print(len(customers))"
   ]
  },
  {
   "cell_type": "code",
   "execution_count": 26,
   "id": "fb1ef88d",
   "metadata": {},
   "outputs": [
    {
     "data": {
      "text/plain": [
       "invoiceSSN\n",
       "NaN             29731\n",
       "temp             2316\n",
       "195903311149       32\n",
       "240343-4727        24\n",
       "21034730684        20\n",
       "030538-006Y        18\n",
       "250962-1740        17\n",
       "251153-1085        17\n",
       "08076036447        16\n",
       "180239-063A        16\n",
       "Name: count, dtype: int64"
      ]
     },
     "execution_count": 26,
     "metadata": {},
     "output_type": "execute_result"
    }
   ],
   "source": [
    "# Output a sample of 10 invoiceSSN values and their counts\n",
    "customers['invoiceSSN'].value_counts(dropna=False).head(10)\n"
   ]
  },
  {
   "cell_type": "code",
   "execution_count": 27,
   "id": "77e79f03",
   "metadata": {},
   "outputs": [
    {
     "data": {
      "text/html": [
       "<div>\n",
       "<style scoped>\n",
       "    .dataframe tbody tr th:only-of-type {\n",
       "        vertical-align: middle;\n",
       "    }\n",
       "\n",
       "    .dataframe tbody tr th {\n",
       "        vertical-align: top;\n",
       "    }\n",
       "\n",
       "    .dataframe thead th {\n",
       "        text-align: right;\n",
       "    }\n",
       "</style>\n",
       "<table border=\"1\" class=\"dataframe\">\n",
       "  <thead>\n",
       "    <tr style=\"text-align: right;\">\n",
       "      <th></th>\n",
       "      <th>shopUserId</th>\n",
       "      <th>invoiceFirstName</th>\n",
       "      <th>invoiceLastName</th>\n",
       "      <th>invoiceSSN</th>\n",
       "      <th>invoiceZip</th>\n",
       "      <th>invoiceCity</th>\n",
       "      <th>invoiceCountryId</th>\n",
       "      <th>invoiceEmail</th>\n",
       "    </tr>\n",
       "  </thead>\n",
       "  <tbody>\n",
       "    <tr>\n",
       "      <th>13624</th>\n",
       "      <td>812880</td>\n",
       "      <td>Else Marie</td>\n",
       "      <td>Monsen</td>\n",
       "      <td>15044437403</td>\n",
       "      <td>2760</td>\n",
       "      <td>Brandbu</td>\n",
       "      <td>160</td>\n",
       "      <td>4037-1752651873.fake@email.com</td>\n",
       "    </tr>\n",
       "    <tr>\n",
       "      <th>21212</th>\n",
       "      <td>758448</td>\n",
       "      <td>Else Marie</td>\n",
       "      <td>Monsen</td>\n",
       "      <td>15044437403</td>\n",
       "      <td>2760</td>\n",
       "      <td>Brandbu</td>\n",
       "      <td>160</td>\n",
       "      <td>3695-1747732356.fake@email.com</td>\n",
       "    </tr>\n",
       "    <tr>\n",
       "      <th>24280</th>\n",
       "      <td>742757</td>\n",
       "      <td>Else Marie</td>\n",
       "      <td>Monsen</td>\n",
       "      <td>15044437403</td>\n",
       "      <td>2760</td>\n",
       "      <td>Brandbu</td>\n",
       "      <td>160</td>\n",
       "      <td>8396-1746691669.fake@email.com</td>\n",
       "    </tr>\n",
       "    <tr>\n",
       "      <th>25198</th>\n",
       "      <td>739610</td>\n",
       "      <td>Else Marie</td>\n",
       "      <td>Monsen</td>\n",
       "      <td>15044437403</td>\n",
       "      <td>2760</td>\n",
       "      <td>Brandbu</td>\n",
       "      <td>160</td>\n",
       "      <td>1833-1746521204.fake@email.com</td>\n",
       "    </tr>\n",
       "    <tr>\n",
       "      <th>41931</th>\n",
       "      <td>630646</td>\n",
       "      <td>Else Marie</td>\n",
       "      <td>Monsen</td>\n",
       "      <td>15044437403</td>\n",
       "      <td>2760</td>\n",
       "      <td>Brandbu</td>\n",
       "      <td>160</td>\n",
       "      <td>3621-1738928969.fake@email.com</td>\n",
       "    </tr>\n",
       "    <tr>\n",
       "      <th>56835</th>\n",
       "      <td>458194</td>\n",
       "      <td>Else Marie</td>\n",
       "      <td>Monsen</td>\n",
       "      <td>15044437403</td>\n",
       "      <td>2760</td>\n",
       "      <td>Brandbu</td>\n",
       "      <td>160</td>\n",
       "      <td>2032-1730454239.fake@email.com</td>\n",
       "    </tr>\n",
       "    <tr>\n",
       "      <th>62091</th>\n",
       "      <td>410369</td>\n",
       "      <td>Else Marie</td>\n",
       "      <td>Monsen</td>\n",
       "      <td>15044437403</td>\n",
       "      <td>2760</td>\n",
       "      <td>Brandbu</td>\n",
       "      <td>160</td>\n",
       "      <td>2828-1727951617.fake@email.com</td>\n",
       "    </tr>\n",
       "    <tr>\n",
       "      <th>73365</th>\n",
       "      <td>333261</td>\n",
       "      <td>Else Marie</td>\n",
       "      <td>Monsen</td>\n",
       "      <td>15044437403</td>\n",
       "      <td>2760</td>\n",
       "      <td>Brandbu</td>\n",
       "      <td>160</td>\n",
       "      <td>6541-1723106503.fake@email.com</td>\n",
       "    </tr>\n",
       "    <tr>\n",
       "      <th>75668</th>\n",
       "      <td>308458</td>\n",
       "      <td>Else Marie</td>\n",
       "      <td>Monsen</td>\n",
       "      <td>15044437403</td>\n",
       "      <td>2760</td>\n",
       "      <td>Brandbu</td>\n",
       "      <td>160</td>\n",
       "      <td>5947-1721283346.fake@email.com</td>\n",
       "    </tr>\n",
       "    <tr>\n",
       "      <th>76670</th>\n",
       "      <td>296247</td>\n",
       "      <td>Else Marie</td>\n",
       "      <td>Monsen</td>\n",
       "      <td>15044437403</td>\n",
       "      <td>2760</td>\n",
       "      <td>Brandbu</td>\n",
       "      <td>160</td>\n",
       "      <td>6459-1720169085.fake@email.com</td>\n",
       "    </tr>\n",
       "    <tr>\n",
       "      <th>78733</th>\n",
       "      <td>280025</td>\n",
       "      <td>Else Marie</td>\n",
       "      <td>Monsen</td>\n",
       "      <td>15044437403</td>\n",
       "      <td>2760</td>\n",
       "      <td>Brandbu</td>\n",
       "      <td>160</td>\n",
       "      <td>9057-1718794434.fake@email.com</td>\n",
       "    </tr>\n",
       "    <tr>\n",
       "      <th>80702</th>\n",
       "      <td>260453</td>\n",
       "      <td>Else Marie</td>\n",
       "      <td>Monsen</td>\n",
       "      <td>15044437403</td>\n",
       "      <td>2760</td>\n",
       "      <td>Brandbu</td>\n",
       "      <td>160</td>\n",
       "      <td>7117-1718019767.fake@email.com</td>\n",
       "    </tr>\n",
       "  </tbody>\n",
       "</table>\n",
       "</div>"
      ],
      "text/plain": [
       "      shopUserId invoiceFirstName invoiceLastName   invoiceSSN invoiceZip  \\\n",
       "13624     812880       Else Marie          Monsen  15044437403       2760   \n",
       "21212     758448       Else Marie          Monsen  15044437403       2760   \n",
       "24280     742757       Else Marie          Monsen  15044437403       2760   \n",
       "25198     739610       Else Marie          Monsen  15044437403       2760   \n",
       "41931     630646       Else Marie          Monsen  15044437403       2760   \n",
       "56835     458194       Else Marie          Monsen  15044437403       2760   \n",
       "62091     410369       Else Marie          Monsen  15044437403       2760   \n",
       "73365     333261       Else Marie          Monsen  15044437403       2760   \n",
       "75668     308458       Else Marie          Monsen  15044437403       2760   \n",
       "76670     296247       Else Marie          Monsen  15044437403       2760   \n",
       "78733     280025       Else Marie          Monsen  15044437403       2760   \n",
       "80702     260453       Else Marie          Monsen  15044437403       2760   \n",
       "\n",
       "      invoiceCity invoiceCountryId                    invoiceEmail  \n",
       "13624     Brandbu              160  4037-1752651873.fake@email.com  \n",
       "21212     Brandbu              160  3695-1747732356.fake@email.com  \n",
       "24280     Brandbu              160  8396-1746691669.fake@email.com  \n",
       "25198     Brandbu              160  1833-1746521204.fake@email.com  \n",
       "41931     Brandbu              160  3621-1738928969.fake@email.com  \n",
       "56835     Brandbu              160  2032-1730454239.fake@email.com  \n",
       "62091     Brandbu              160  2828-1727951617.fake@email.com  \n",
       "73365     Brandbu              160  6541-1723106503.fake@email.com  \n",
       "75668     Brandbu              160  5947-1721283346.fake@email.com  \n",
       "76670     Brandbu              160  6459-1720169085.fake@email.com  \n",
       "78733     Brandbu              160  9057-1718794434.fake@email.com  \n",
       "80702     Brandbu              160  7117-1718019767.fake@email.com  "
      ]
     },
     "metadata": {},
     "output_type": "display_data"
    }
   ],
   "source": [
    "# Display all rows where invoiceSSN is '141052-138Y'\n",
    "from IPython.display import display\n",
    "display(customers[customers['invoiceSSN'] == '15044437403'])\n"
   ]
  },
  {
   "cell_type": "markdown",
   "id": "dd52a59b",
   "metadata": {},
   "source": [
    "## Different shopUserId are assigned to the same invoiceSSN -remap in both customers.csv and transactions.csv"
   ]
  },
  {
   "cell_type": "code",
   "execution_count": 28,
   "id": "3be5636c",
   "metadata": {},
   "outputs": [],
   "source": [
    "# Map all rows with the same (invoiceFirstName, invoiceLastName, invoiceZip) to the first-seen shopUserId (canonical)\n",
    "customers[\"_row\"] = range(len(customers))\n",
    "customers[\"name_zip_key\"] = (\n",
    "    customers[\"invoiceFirstName\"].astype(str).str.strip() + \"||\" +\n",
    "    customers[\"invoiceLastName\"].astype(str).str.strip() + \"||\" +\n",
    "    customers[\"invoiceZip\"].astype(str).str.strip()\n",
    ")\n",
    "\n",
    "# Build mapping: canonical shopUserId per (name, zip)\n",
    "canon_per_namezip = (\n",
    "    customers.dropna(subset=[\"invoiceFirstName\", \"invoiceLastName\", \"invoiceZip\"])\n",
    "    .sort_values(\"_row\")\n",
    "    .groupby(\"name_zip_key\", as_index=False)\n",
    "    .agg(\n",
    "        canonical_shopUserId=(\"shopUserId\", \"first\"),\n",
    "        shopUserIds_all_list=(\"shopUserId\", lambda s: list(pd.unique(s))),\n",
    "        n_ids=(\"shopUserId\", pd.Series.nunique)\n",
    "    )\n",
    ")\n",
    "\n",
    "# Save mapping\n",
    "canon_per_namezip.assign(\n",
    "    shopUserIds_all=canon_per_namezip[\"shopUserIds_all_list\"].apply(lambda x: \",\".join(map(str, x)))\n",
    ")[[\"name_zip_key\", \"canonical_shopUserId\", \"n_ids\", \"shopUserIds_all\"]].to_csv(\n",
    "    \"../data/processed/user_mapping_by_namezip.csv\", index=False\n",
    ")\n",
    "\n",
    "# Remap shopUserId in customers, keep original in shopUserId_original, then drop it\n",
    "customers[\"shopUserId_original\"] = customers[\"shopUserId\"]\n",
    "customers = customers.merge(\n",
    "    canon_per_namezip[[\"name_zip_key\", \"canonical_shopUserId\"]],\n",
    "    on=\"name_zip_key\", how=\"left\"\n",
    ")\n",
    "customers[\"shopUserId\"] = customers[\"canonical_shopUserId\"].fillna(customers[\"shopUserId\"])\n",
    "customers.drop(columns=[\"_row\", \"name_zip_key\", \"canonical_shopUserId\", \"shopUserId_original\"], inplace=True)\n"
   ]
  },
  {
   "cell_type": "code",
   "execution_count": 29,
   "id": "34e2cc9b",
   "metadata": {},
   "outputs": [],
   "source": [
    "\n",
    "# --- APPLY TO TRANSACTIONS \n",
    "# build flat remap from all old ids in each name+zip cluster to the canonical\n",
    "remap = (\n",
    "    canon_per_namezip.explode(\"shopUserIds_all_list\")\n",
    "                     .rename(columns={\"shopUserIds_all_list\": \"shopUserId\"})\n",
    "                     [[\"shopUserId\", \"canonical_shopUserId\", \"name_zip_key\"]]\n",
    "                     .drop_duplicates()\n",
    ")\n",
    "remap.to_csv(\"../data/processed/shopUserId_remap.csv\", index=False)\n",
    "\n",
    "tx = pd.read_csv(\"../data/external/transactions.csv\", dtype=str)\n",
    "tx = tx.merge(remap[[\"shopUserId\", \"canonical_shopUserId\"]], on=\"shopUserId\", how=\"left\")\n",
    "tx[\"shopUserId\"] = tx[\"canonical_shopUserId\"].fillna(tx[\"shopUserId\"])\n",
    "tx.drop(columns=[\"canonical_shopUserId\"], inplace=True)\n",
    "tx.to_csv(\"../data/processed/transactions_canonical.csv\", index=False)"
   ]
  },
  {
   "cell_type": "code",
   "execution_count": 30,
   "id": "186f0432",
   "metadata": {},
   "outputs": [],
   "source": [
    "# Deduplicate customers by shopUserId, keeping the first occurrence\n",
    "customers = customers.drop_duplicates(subset=[\"shopUserId\"], keep=\"first\")\n"
   ]
  },
  {
   "cell_type": "code",
   "execution_count": 31,
   "id": "da1bdf99",
   "metadata": {},
   "outputs": [
    {
     "data": {
      "text/html": [
       "<div>\n",
       "<style scoped>\n",
       "    .dataframe tbody tr th:only-of-type {\n",
       "        vertical-align: middle;\n",
       "    }\n",
       "\n",
       "    .dataframe tbody tr th {\n",
       "        vertical-align: top;\n",
       "    }\n",
       "\n",
       "    .dataframe thead th {\n",
       "        text-align: right;\n",
       "    }\n",
       "</style>\n",
       "<table border=\"1\" class=\"dataframe\">\n",
       "  <thead>\n",
       "    <tr style=\"text-align: right;\">\n",
       "      <th></th>\n",
       "      <th>shopUserId</th>\n",
       "      <th>invoiceFirstName</th>\n",
       "      <th>invoiceLastName</th>\n",
       "      <th>invoiceSSN</th>\n",
       "      <th>invoiceZip</th>\n",
       "      <th>invoiceCity</th>\n",
       "      <th>invoiceCountryId</th>\n",
       "      <th>invoiceEmail</th>\n",
       "    </tr>\n",
       "  </thead>\n",
       "  <tbody>\n",
       "    <tr>\n",
       "      <th>13624</th>\n",
       "      <td>812880</td>\n",
       "      <td>Else Marie</td>\n",
       "      <td>Monsen</td>\n",
       "      <td>15044437403</td>\n",
       "      <td>2760</td>\n",
       "      <td>Brandbu</td>\n",
       "      <td>160</td>\n",
       "      <td>4037-1752651873.fake@email.com</td>\n",
       "    </tr>\n",
       "  </tbody>\n",
       "</table>\n",
       "</div>"
      ],
      "text/plain": [
       "      shopUserId invoiceFirstName invoiceLastName   invoiceSSN invoiceZip  \\\n",
       "13624     812880       Else Marie          Monsen  15044437403       2760   \n",
       "\n",
       "      invoiceCity invoiceCountryId                    invoiceEmail  \n",
       "13624     Brandbu              160  4037-1752651873.fake@email.com  "
      ]
     },
     "metadata": {},
     "output_type": "display_data"
    }
   ],
   "source": [
    "# Display all rows where invoiceSSN is '141052-138Y'\n",
    "from IPython.display import display\n",
    "display(customers[customers['invoiceSSN'] == '15044437403'])\n"
   ]
  },
  {
   "cell_type": "code",
   "execution_count": 32,
   "id": "feb5cd1a",
   "metadata": {},
   "outputs": [
    {
     "name": "stdout",
     "output_type": "stream",
     "text": [
      "59867\n"
     ]
    }
   ],
   "source": [
    "print(len(customers))"
   ]
  },
  {
   "cell_type": "code",
   "execution_count": 33,
   "id": "827941af",
   "metadata": {},
   "outputs": [
    {
     "data": {
      "text/plain": [
       "shopUserId          0.000000\n",
       "invoiceFirstName    0.000000\n",
       "invoiceLastName     0.000000\n",
       "invoiceSSN          0.358779\n",
       "invoiceZip          0.000000\n",
       "invoiceCity         0.000000\n",
       "invoiceCountryId    0.000000\n",
       "invoiceEmail        0.000000\n",
       "dtype: float64"
      ]
     },
     "execution_count": 33,
     "metadata": {},
     "output_type": "execute_result"
    }
   ],
   "source": [
    "customers.isnull().mean()"
   ]
  },
  {
   "cell_type": "code",
   "execution_count": 34,
   "id": "764046c7",
   "metadata": {},
   "outputs": [],
   "source": [
    "# Drop all rows where any column contains the string 'temp'\n",
    "mask = (customers.astype(str).apply(lambda col: col.str.contains('temp', na=False))).any(axis=1)\n",
    "customers.drop(customers[mask].index, inplace=True)"
   ]
  },
  {
   "cell_type": "code",
   "execution_count": 35,
   "id": "9c19235d",
   "metadata": {},
   "outputs": [
    {
     "name": "stdout",
     "output_type": "stream",
     "text": [
      "57580\n"
     ]
    }
   ],
   "source": [
    "print(len(customers))"
   ]
  },
  {
   "cell_type": "code",
   "execution_count": 36,
   "id": "440d5cd3",
   "metadata": {},
   "outputs": [],
   "source": [
    "import re\n",
    "from datetime import date\n",
    "\n",
    "country_map = {\"58\": \"DK\", \"160\": \"NO\", \"205\": \"SE\", \"72\": \"FI\"}\n",
    "\n",
    "def _safe_date(y, m, d):\n",
    "    try:\n",
    "        return date(int(y), int(m), int(d))\n",
    "    except Exception:\n",
    "        return None\n",
    "\n",
    "def _age_from_birthdate(born):\n",
    "    if not born:\n",
    "        return None\n",
    "    today = date.today()\n",
    "    return today.year - born.year - ((today.month, today.day) < (born.month, born.day))\n",
    "\n",
    "def _parse_birthdate(ssn_str, country):\n",
    "    if pd.isna(ssn_str):\n",
    "        return None\n",
    "    digits = re.sub(r'\\D', '', str(ssn_str))\n",
    "\n",
    "    if country == 'SE':\n",
    "        if len(digits) >= 12:  # YYYYMMDDxxxx\n",
    "            return _safe_date(digits[:4], digits[4:6], digits[6:8])\n",
    "        elif len(digits) >= 10:  # YYMMDDxxxx\n",
    "            yy, mm, dd = int(digits[:2]), digits[2:4], digits[4:6]\n",
    "            sep = '-' if '-' in str(ssn_str) else '+' if '+' in str(ssn_str) else None\n",
    "            this_year = date.today().year\n",
    "            if sep == '+':  # 100+ years old\n",
    "                y = 1900 + yy if (1900 + yy) <= this_year - 100 else 1800 + yy\n",
    "            else:\n",
    "                y = 1900 + yy if (1900 + yy) > this_year - 100 else 2000 + yy\n",
    "            return _safe_date(y, mm, dd)\n",
    "        return None\n",
    "\n",
    "    if country == 'NO' and len(digits) == 11:\n",
    "        dd, mm, yy = int(digits[0:2]), int(digits[2:4]), int(digits[4:6])\n",
    "        individ = int(digits[6:9])\n",
    "        if dd > 40:  # D-number adjustment\n",
    "            dd -= 40\n",
    "        if 0 <= individ <= 499:\n",
    "            year = 1900 + yy\n",
    "        elif 500 <= individ <= 749 and 54 <= yy <= 99:\n",
    "            year = 1800 + yy\n",
    "        elif 500 <= individ <= 999 and 0 <= yy <= 39:\n",
    "            year = 2000 + yy\n",
    "        elif 900 <= individ <= 999 and 40 <= yy <= 99:\n",
    "            year = 1900 + yy\n",
    "        else:\n",
    "            year = (2000 + yy) if yy <= 24 else (1900 + yy)\n",
    "        return _safe_date(year, mm, dd)\n",
    "\n",
    "    if country == 'DK' and len(digits) >= 10:\n",
    "        dd, mm, yy = digits[0:2], digits[2:4], int(digits[4:6])\n",
    "        year = (2000 + yy) if yy <= 24 else (1900 + yy)\n",
    "        return _safe_date(year, mm, dd)\n",
    "\n",
    "    if country == 'FI':\n",
    "        m = re.match(r'^(\\d{2})(\\d{2})(\\d{2})([-+A])(\\d{3})\\w?$', str(ssn_str).strip(), re.I)\n",
    "        if m:\n",
    "            dd, mm, yy, cent = int(m.group(1)), int(m.group(2)), int(m.group(3)), m.group(4).upper()\n",
    "            base = {'+': 1800, '-': 1900, 'A': 2000}[cent]\n",
    "            return _safe_date(base + yy, mm, dd)\n",
    "        if len(digits) >= 10:  # Old numeric-only fallback\n",
    "            dd, mm, yy = int(digits[0:2]), int(digits[2:4]), int(digits[4:6])\n",
    "            year = (2000 + yy) if yy <= 24 else (1900 + yy)\n",
    "            return _safe_date(year, mm, dd)\n",
    "        return None\n",
    "\n",
    "    return None\n",
    "\n",
    "def get_gender_age_from_ssn(ssn, country_id):\n",
    "    if pd.isna(ssn):\n",
    "        return None, None\n",
    "\n",
    "    ssn_str = str(ssn).strip()\n",
    "    country_id_str = str(country_id)\n",
    "    country = country_map.get(country_id_str)\n",
    "    if not country:\n",
    "        return None, None\n",
    "\n",
    "    digits = re.sub(r'\\D', '', ssn_str)\n",
    "    gender_digit = None\n",
    "    if country == 'SE' and len(digits) >= 10:\n",
    "        gender_digit = int(digits[-4:][2])\n",
    "    elif country == 'NO' and len(digits) == 11:\n",
    "        gender_digit = int(digits[8])\n",
    "    elif country == 'DK' and len(digits) >= 10:\n",
    "        gender_digit = int(digits[-1])\n",
    "    elif country == 'FI':\n",
    "        m = re.match(r'^\\d{6}[-+A]\\d{3}\\w?$', ssn_str, re.I)\n",
    "        if m:\n",
    "            # In Finnish SSN, the gender digit is the 9th character (index 8 in digits)\n",
    "            gender_digit = int(digits[8])\n",
    "        elif len(digits) >= 10:\n",
    "            gender_digit = int(digits[8])\n",
    "\n",
    "    gender = None\n",
    "    if gender_digit is not None:\n",
    "        gender = 'Male' if gender_digit % 2 else 'Female'\n",
    "    age = _age_from_birthdate(_parse_birthdate(ssn_str, country))\n",
    "    return gender, age\n",
    "\n",
    "# Apply to DataFrame\n",
    "customers[['Gender', 'Age']] = customers.apply(\n",
    "    lambda r: pd.Series(get_gender_age_from_ssn(r['invoiceSSN'], r['invoiceCountryId'])),\n",
    "    axis=1\n",
    ")\n"
   ]
  },
  {
   "cell_type": "code",
   "execution_count": 37,
   "id": "c9570889",
   "metadata": {},
   "outputs": [
    {
     "name": "stdout",
     "output_type": "stream",
     "text": [
      "57580\n"
     ]
    }
   ],
   "source": [
    "print(len(customers))"
   ]
  },
  {
   "cell_type": "code",
   "execution_count": 38,
   "id": "98ea7647",
   "metadata": {},
   "outputs": [],
   "source": [
    "# Keep customers where age is between 10 and 105, or where age is NaN\n",
    "customers = customers[\n",
    "    (customers['Age'].isna()) |\n",
    "    ((customers['Age'] <= 105) & (customers['Age'] >= 10))\n",
    "]\n"
   ]
  },
  {
   "cell_type": "code",
   "execution_count": 39,
   "id": "d39bcc77",
   "metadata": {},
   "outputs": [
    {
     "name": "stdout",
     "output_type": "stream",
     "text": [
      "57577\n"
     ]
    }
   ],
   "source": [
    "print(len(customers))"
   ]
  },
  {
   "cell_type": "code",
   "execution_count": 40,
   "id": "f44c3d09",
   "metadata": {},
   "outputs": [
    {
     "data": {
      "image/png": "[encoded data removed]",
      "text/plain": [
       "<Figure size 1800x400 with 3 Axes>"
      ]
     },
     "metadata": {},
     "output_type": "display_data"
    }
   ],
   "source": [
    "import seaborn as sns\n",
    "import matplotlib.pyplot as plt\n",
    "\n",
    "# Ensure correct mapping and types\n",
    "country_map = {58: 'Denmark', 205: 'Sweden', 160: 'Norway', 72: 'Finland'}\n",
    "# invoiceCountryId is object, so map after converting to int where possible\n",
    "def map_country(val):\n",
    "    try:\n",
    "        return country_map.get(int(val), val)\n",
    "    except (ValueError, TypeError):\n",
    "        return val\n",
    "\n",
    "customers['Country'] = customers['invoiceCountryId'].apply(map_country).astype(str)\n",
    "\n",
    "fig, axes = plt.subplots(1, 3, figsize=(18, 4))\n",
    "\n",
    "# Gender plot\n",
    "sns.countplot(\n",
    "    data=customers,\n",
    "    x='Gender',\n",
    "    hue='Gender',\n",
    "    palette=['#6C5B7B', '#355C7D'],\n",
    "    ax=axes[0],\n",
    "    order=['Female', 'Male'] if set(customers['Gender'].dropna()) == {'Female', 'Male'} else None,\n",
    "    legend=False\n",
    ")\n",
    "axes[0].set(title='Gender', xlabel='', ylabel='')\n",
    "\n",
    "# Age histogram\n",
    "sns.histplot(\n",
    "    customers['Age'].dropna().astype(float),\n",
    "    bins=30,\n",
    "    color='#C06C84',\n",
    "    ax=axes[1]\n",
    ")\n",
    "axes[1].set(title='Age', xlabel='', ylabel='')\n",
    "\n",
    "# Country plot\n",
    "country_order = customers['Country'].value_counts().index\n",
    "sns.countplot(\n",
    "    x='Country',\n",
    "    data=customers,\n",
    "    order=country_order,\n",
    "    color='#F8B195',\n",
    "    ax=axes[2]\n",
    ")\n",
    "axes[2].set(title='Country', xlabel='', ylabel='')\n",
    "axes[2].tick_params(axis='x', labelrotation=20)\n",
    "\n",
    "plt.tight_layout()\n",
    "plt.show()"
   ]
  },
  {
   "cell_type": "code",
   "execution_count": 41,
   "id": "73020cbe",
   "metadata": {},
   "outputs": [
    {
     "name": "stdout",
     "output_type": "stream",
     "text": [
      "57577\n"
     ]
    }
   ],
   "source": [
    "print(len(customers))"
   ]
  },
  {
   "cell_type": "code",
   "execution_count": 42,
   "id": "d2f3be9d",
   "metadata": {},
   "outputs": [],
   "source": [
    "customers.astype(str).to_csv('../data/processed/customers_clean.csv', index=False)"
   ]
  },
  {
   "cell_type": "code",
   "execution_count": 22,
   "id": "2e78d6cf",
   "metadata": {},
   "outputs": [
    {
     "data": {
      "text/plain": [
       "shopUserId              0\n",
       "invoiceFirstName        0\n",
       "invoiceLastName         0\n",
       "invoiceSSN          21477\n",
       "invoiceZip              0\n",
       "invoiceCity             0\n",
       "invoiceCountryId        0\n",
       "invoiceEmail            0\n",
       "Gender              21477\n",
       "Age                 21477\n",
       "Country                 0\n",
       "dtype: int64"
      ]
     },
     "execution_count": 22,
     "metadata": {},
     "output_type": "execute_result"
    }
   ],
   "source": [
    "customers.isna().sum()\n",
    "\n"
   ]
  },
  {
   "cell_type": "code",
   "execution_count": null,
   "id": "b83febe5",
   "metadata": {},
   "outputs": [],
   "source": []
  }
 ],
 "metadata": {
  "kernelspec": {
   "display_name": "Python 3.10 (container)",
   "language": "python",
   "name": "py310-vscode"
  },
  "language_info": {
   "codemirror_mode": {
    "name": "ipython",
    "version": 3
   },
   "file_extension": ".py",
   "mimetype": "text/x-python",
   "name": "python",
   "nbconvert_exporter": "python",
   "pygments_lexer": "ipython3",
   "version": "3.10.18"
  }
 },
 "nbformat": 4,
 "nbformat_minor": 5
}
