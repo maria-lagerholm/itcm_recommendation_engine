{
 "cells": [
  {
   "cell_type": "markdown",
   "id": "b6015605",
   "metadata": {},
   "source": [
    "# item–item knn cf using jaccard; temporal split; thresholded scoring; evaluated by leave-one-out basket completion (hit@k, coverage)."
   ]
  },
  {
   "cell_type": "code",
   "execution_count": 12,
   "id": "0fd2dd1c",
   "metadata": {},
   "outputs": [],
   "source": [
    "import pandas as pd\n",
    "from datetime import timedelta\n",
    "\n",
    "p=\"/workspace/data/processed/transactions_clean.parquet\"\n",
    "tx=pd.read_parquet(p,columns=[\"orderId\",\"groupId\",\"created\"])\n"
   ]
  },
  {
   "cell_type": "code",
   "execution_count": 13,
   "id": "d0b8c2d4",
   "metadata": {},
   "outputs": [],
   "source": [
    "bad={\"12025DK\",\"12025FI\",\"12025NO\",\"12025SE\",\"970300\",\"459978\"}\n",
    "tx=tx[~tx[\"groupId\"].astype(str).str.strip().isin(bad)].reset_index(drop=True)\n"
   ]
  },
  {
   "cell_type": "code",
   "execution_count": 14,
   "id": "3b16e720",
   "metadata": {},
   "outputs": [],
   "source": [
    "def mk_baskets(x):\n",
    "    x=x.copy()\n",
    "    x[\"created\"]=pd.to_datetime(x[\"created\"],errors=\"coerce\")\n",
    "    return x.groupby(\"orderId\",as_index=False).agg(items=(\"groupId\",lambda s:list(dict.fromkeys(s))),t=(\"created\",\"max\"))\n",
    "b=mk_baskets(tx)\n"
   ]
  },
  {
   "cell_type": "code",
   "execution_count": 15,
   "id": "d41977fd",
   "metadata": {},
   "outputs": [],
   "source": [
    "from datetime import timedelta\n",
    "\n",
    "def split_by_time(df, weeks=6):\n",
    "    last_time = df[\"t\"].max()\n",
    "    split_time = last_time - timedelta(days=7 * weeks)\n",
    "    train_df = df[df[\"t\"] < split_time].reset_index(drop=True)\n",
    "    test_eval_df = df[(df[\"t\"] >= split_time) & (df[\"items\"].apply(lambda s: len(set(s)) >= 2))].reset_index(drop=True)\n",
    "    return train_df, test_eval_df, last_time, split_time\n",
    "\n",
    "baskets_df = b\n",
    "train_df, test_df, eval_time, split_time = split_by_time(baskets_df, weeks=6)"
   ]
  },
  {
   "cell_type": "code",
   "execution_count": 16,
   "id": "d5e62cb9",
   "metadata": {},
   "outputs": [],
   "source": [
    "from collections import Counter\n",
    "from itertools import combinations\n",
    "\n",
    "def compute_supports(df):\n",
    "    item_counts = Counter()\n",
    "    pair_counts = Counter()\n",
    "    for basket in df[\"items\"]:\n",
    "        unique_items = list(dict.fromkeys(basket))\n",
    "        item_counts.update(unique_items)\n",
    "        pair_counts.update(tuple(sorted(p)) for p in combinations(unique_items, 2))\n",
    "    return item_counts, pair_counts\n",
    "\n",
    "item_counts, pair_counts = compute_supports(train_df)"
   ]
  },
  {
   "cell_type": "code",
   "execution_count": 17,
   "id": "504d9c18",
   "metadata": {},
   "outputs": [],
   "source": [
    "from collections import defaultdict\n",
    "\n",
    "min_item_support = 10\n",
    "min_pair_count = 5\n",
    "max_neighbors = 100\n",
    "\n",
    "def build_neighbors(item_counts, pair_counts):\n",
    "    neighbors = defaultdict(list)\n",
    "    for (i, j), co_count in pair_counts.items():\n",
    "        if co_count < min_pair_count:\n",
    "            continue\n",
    "        ni, nj = item_counts[i], item_counts[j]\n",
    "        if ni < min_item_support or nj < min_item_support:\n",
    "            continue\n",
    "        jaccard = co_count / (ni + nj - co_count)\n",
    "        neighbors[i].append((j, jaccard))\n",
    "        neighbors[j].append((i, jaccard))\n",
    "    for item in list(neighbors):\n",
    "        neighbors[item] = sorted(neighbors[item], key=lambda x: x[1], reverse=True)[:max_neighbors]\n",
    "    return neighbors\n",
    "\n",
    "neighbors = build_neighbors(item_counts, pair_counts)\n"
   ]
  },
  {
   "cell_type": "markdown",
   "id": "83694d45",
   "metadata": {},
   "source": [
    "Tune cut off threshold similarity based on coverage / hit rate drop"
   ]
  },
  {
   "cell_type": "code",
   "execution_count": 18,
   "id": "7dba0678",
   "metadata": {},
   "outputs": [],
   "source": [
    "from collections import defaultdict\n",
    "\n",
    "default_similarity_threshold = 0.02\n",
    "\n",
    "def recommend_items(neighbors, basket_items, topk=10, candidate_set=None, threshold=default_similarity_threshold):\n",
    "    scores = defaultdict(float)\n",
    "    seed = set(map(str, basket_items))\n",
    "    for i in seed:\n",
    "        for j, w in neighbors.get(i, []):\n",
    "            if j in seed:\n",
    "                continue\n",
    "            if candidate_set is not None and j not in candidate_set:\n",
    "                continue\n",
    "            if w < threshold:\n",
    "                continue\n",
    "            scores[j] += w\n",
    "    return [i for i, _ in sorted(scores.items(), key=lambda x: x[1], reverse=True)[:topk]]\n",
    "\n",
    "def evaluate_hit_coverage(test_df, neighbors, topk=10, candidate_set=None, threshold=default_similarity_threshold):\n",
    "    hits = 0\n",
    "    total_holdouts = 0\n",
    "    covered_baskets = 0\n",
    "    total_baskets = 0\n",
    "    for items in test_df[\"items\"]:\n",
    "        basket = list(dict.fromkeys(items))\n",
    "        if len(basket) < 2:\n",
    "            continue\n",
    "        if len(recommend_items(neighbors, basket, topk, candidate_set, threshold)) > 0:\n",
    "            covered_baskets += 1\n",
    "        total_baskets += 1\n",
    "        for x in basket:\n",
    "            seed = [y for y in basket if y != x]\n",
    "            recs = recommend_items(neighbors, seed, topk, candidate_set, threshold)\n",
    "            hits += int(str(x) in recs)\n",
    "            total_holdouts += 1\n",
    "    return (hits / total_holdouts if total_holdouts else 0.0, covered_baskets / total_baskets if total_baskets else 0.0)\n",
    "\n"
   ]
  },
  {
   "cell_type": "code",
   "execution_count": 19,
   "id": "e45e9c5a",
   "metadata": {},
   "outputs": [
    {
     "name": "stdout",
     "output_type": "stream",
     "text": [
      "0.16558569959661473 0.9755901287553648\n"
     ]
    }
   ],
   "source": [
    "art = pd.read_parquet(\"/workspace/data/processed/articles_for_recs.parquet\")\n",
    "candidate_set = {str(i) for i, cnt in item_counts.items() if cnt >= min_item_support} & set(art[\"groupId\"].astype(str))\n",
    "hit, coverage = evaluate_hit_coverage(test_df, neighbors, candidate_set=candidate_set)\n",
    "print(hit, coverage)"
   ]
  },
  {
   "cell_type": "code",
   "execution_count": 20,
   "id": "b041dcef",
   "metadata": {},
   "outputs": [
    {
     "name": "stdout",
     "output_type": "stream",
     "text": [
      "0.2053705607846239\n"
     ]
    }
   ],
   "source": [
    "baseline_hit, _ = evaluate_hit_coverage(test_df, neighbors, candidate_set=candidate_set, threshold=0.0)\n",
    "print(baseline_hit)"
   ]
  },
  {
   "cell_type": "code",
   "execution_count": 21,
   "id": "f02d6215",
   "metadata": {},
   "outputs": [],
   "source": [
    "item_counts_all, pair_counts_all = compute_supports(baskets_df)\n",
    "neighbors_all = build_neighbors(item_counts_all, pair_counts_all)\n"
   ]
  },
  {
   "cell_type": "code",
   "execution_count": 22,
   "id": "6a4d3d6e",
   "metadata": {},
   "outputs": [],
   "source": [
    "def neighbors_to_df(neighbors):\n",
    "    rows = []\n",
    "    for i, lst in neighbors.items():\n",
    "        for j, s in lst:\n",
    "            rows.append((str(i), str(j), float(s)))\n",
    "    return pd.DataFrame(rows, columns=[\"item_id\", \"neighbor_id\", \"score\"])\n",
    "\n",
    "neighbors_df = neighbors_to_df(neighbors_all)\n",
    "valid_ids = set(art[\"groupId\"].astype(str).unique())\n",
    "neighbors_df = neighbors_df[neighbors_df[\"neighbor_id\"].isin(valid_ids)]\n",
    "neighbors_df = neighbors_df[neighbors_df[\"item_id\"].isin(valid_ids)]\n",
    "\n",
    "similarity_threshold = 0.02\n",
    "top_n = 10\n",
    "\n",
    "neighbors_df = neighbors_df[neighbors_df[\"score\"] >= similarity_threshold]\n",
    "neighbors_df[\"rank\"] = neighbors_df.groupby(\"item_id\")[\"score\"].rank(method=\"first\", ascending=False)\n",
    "neighbors_df = (\n",
    "    neighbors_df[neighbors_df[\"rank\"] <= top_n]\n",
    "    .assign(rank=lambda x: x[\"rank\"].astype(int))\n",
    "    .sort_values([\"item_id\", \"rank\"])\n",
    "    .pivot(index=\"item_id\", columns=\"rank\", values=\"neighbor_id\")\n",
    ")\n",
    "neighbors_df = neighbors_df.rename(columns=lambda r: f\"Top {r}\").reindex(columns=[f\"Top {i}\" for i in range(1, top_n + 1)])\n",
    "neighbors_df.index.name = \"Product ID\"\n",
    "neighbors_df = neighbors_df.reset_index().fillna(\"—\")\n",
    "neighbors_df.to_parquet(\"/workspace/data/processed/basket_completion.parquet\", index=False)"
   ]
  },
  {
   "cell_type": "code",
   "execution_count": null,
   "id": "bef3bac0",
   "metadata": {},
   "outputs": [],
   "source": []
  }
 ],
 "metadata": {
  "kernelspec": {
   "display_name": "Python (itcm-recsys)",
   "language": "python",
   "name": "itcm-recsys"
  },
  "language_info": {
   "codemirror_mode": {
    "name": "ipython",
    "version": 3
   },
   "file_extension": ".py",
   "mimetype": "text/x-python",
   "name": "python",
   "nbconvert_exporter": "python",
   "pygments_lexer": "ipython3",
   "version": "3.10.18"
  }
 },
 "nbformat": 4,
 "nbformat_minor": 5
}
