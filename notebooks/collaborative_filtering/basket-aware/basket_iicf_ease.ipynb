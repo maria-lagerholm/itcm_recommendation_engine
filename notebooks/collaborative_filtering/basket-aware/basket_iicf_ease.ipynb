{
 "cells": [
  {
   "cell_type": "markdown",
   "id": "b6015605",
   "metadata": {},
   "source": [
    "# item–item cf using ease https://cornac.readthedocs.io/en/stable/api_ref/models.html#module-cornac.models.ease.recom_ease"
   ]
  },
  {
   "cell_type": "code",
   "execution_count": 115,
   "id": "ebb50066",
   "metadata": {},
   "outputs": [
    {
     "name": "stdout",
     "output_type": "stream",
     "text": [
      "cornac: 2.3.5\n"
     ]
    }
   ],
   "source": [
    "\n",
    "import pandas as pd\n",
    "import numpy as np\n",
    "import cornac\n",
    "from cornac.data import Dataset\n",
    "from cornac.eval_methods import RatioSplit\n",
    "from cornac.hyperopt import GridSearch, Discrete\n",
    "from cornac.metrics import Recall, NDCG, Precision, MAP, AUC\n",
    "from cornac.models.ease import EASE\n",
    "from tqdm.auto import trange\n",
    "\n",
    "print(\"cornac:\", cornac.__version__)"
   ]
  },
  {
   "cell_type": "code",
   "execution_count": 116,
   "id": "d0b8c2d4",
   "metadata": {},
   "outputs": [],
   "source": [
    "import pandas as pd\n",
    "\n",
    "def load_filtered_transactions(\n",
    "    trans_path=\"/workspace/data/processed/transactions_clean.parquet\",\n",
    "    avail_path=\"/workspace/data/processed/articles_for_recs.parquet\",\n",
    "    bad_ids={\"12025DK\", \"12025FI\", \"12025NO\", \"12025SE\", \"970300\", \"459978\"},\n",
    "    cols=(\"shopUserId\", \"orderId\", \"groupId\"),\n",
    "):\n",
    "    global df \n",
    "    df = pd.read_parquet(trans_path, columns=list(cols))\n",
    "    avail_df = pd.read_parquet(avail_path)\n",
    "\n",
    "    gid = df[\"groupId\"].astype(str).str.strip()\n",
    "    avail_ids = set(avail_df[\"groupId\"].astype(str).str.strip().unique())\n",
    "\n",
    "    df = df.loc[gid.isin(avail_ids) & ~gid.isin(bad_ids)].reset_index(drop=True)\n",
    "    return df\n",
    "\n",
    "df = load_filtered_transactions()"
   ]
  },
  {
   "cell_type": "code",
   "execution_count": 117,
   "id": "26487b7d",
   "metadata": {},
   "outputs": [
    {
     "data": {
      "text/html": [
       "<div>\n",
       "<style scoped>\n",
       "    .dataframe tbody tr th:only-of-type {\n",
       "        vertical-align: middle;\n",
       "    }\n",
       "\n",
       "    .dataframe tbody tr th {\n",
       "        vertical-align: top;\n",
       "    }\n",
       "\n",
       "    .dataframe thead th {\n",
       "        text-align: right;\n",
       "    }\n",
       "</style>\n",
       "<table border=\"1\" class=\"dataframe\">\n",
       "  <thead>\n",
       "    <tr style=\"text-align: right;\">\n",
       "      <th></th>\n",
       "      <th>shopUserId</th>\n",
       "      <th>orderId</th>\n",
       "      <th>groupId</th>\n",
       "    </tr>\n",
       "  </thead>\n",
       "  <tbody>\n",
       "    <tr>\n",
       "      <th>0</th>\n",
       "      <td>943483</td>\n",
       "      <td>902721</td>\n",
       "      <td>260257</td>\n",
       "    </tr>\n",
       "    <tr>\n",
       "      <th>1</th>\n",
       "      <td>943480</td>\n",
       "      <td>902718</td>\n",
       "      <td>280034</td>\n",
       "    </tr>\n",
       "    <tr>\n",
       "      <th>2</th>\n",
       "      <td>943480</td>\n",
       "      <td>902718</td>\n",
       "      <td>290150</td>\n",
       "    </tr>\n",
       "    <tr>\n",
       "      <th>3</th>\n",
       "      <td>943480</td>\n",
       "      <td>902718</td>\n",
       "      <td>291294</td>\n",
       "    </tr>\n",
       "    <tr>\n",
       "      <th>4</th>\n",
       "      <td>943480</td>\n",
       "      <td>902718</td>\n",
       "      <td>292359</td>\n",
       "    </tr>\n",
       "    <tr>\n",
       "      <th>...</th>\n",
       "      <td>...</td>\n",
       "      <td>...</td>\n",
       "      <td>...</td>\n",
       "    </tr>\n",
       "    <tr>\n",
       "      <th>262693</th>\n",
       "      <td>110507</td>\n",
       "      <td>166445</td>\n",
       "      <td>240012</td>\n",
       "    </tr>\n",
       "    <tr>\n",
       "      <th>262694</th>\n",
       "      <td>252853</td>\n",
       "      <td>166428</td>\n",
       "      <td>260345</td>\n",
       "    </tr>\n",
       "    <tr>\n",
       "      <th>262695</th>\n",
       "      <td>252853</td>\n",
       "      <td>166428</td>\n",
       "      <td>239301</td>\n",
       "    </tr>\n",
       "    <tr>\n",
       "      <th>262696</th>\n",
       "      <td>252844</td>\n",
       "      <td>166420</td>\n",
       "      <td>263855</td>\n",
       "    </tr>\n",
       "    <tr>\n",
       "      <th>262697</th>\n",
       "      <td>252836</td>\n",
       "      <td>166411</td>\n",
       "      <td>345901</td>\n",
       "    </tr>\n",
       "  </tbody>\n",
       "</table>\n",
       "<p>262698 rows × 3 columns</p>\n",
       "</div>"
      ],
      "text/plain": [
       "       shopUserId orderId groupId\n",
       "0          943483  902721  260257\n",
       "1          943480  902718  280034\n",
       "2          943480  902718  290150\n",
       "3          943480  902718  291294\n",
       "4          943480  902718  292359\n",
       "...           ...     ...     ...\n",
       "262693     110507  166445  240012\n",
       "262694     252853  166428  260345\n",
       "262695     252853  166428  239301\n",
       "262696     252844  166420  263855\n",
       "262697     252836  166411  345901\n",
       "\n",
       "[262698 rows x 3 columns]"
      ]
     },
     "execution_count": 117,
     "metadata": {},
     "output_type": "execute_result"
    }
   ],
   "source": [
    "df"
   ]
  },
  {
   "cell_type": "markdown",
   "id": "c617f81d",
   "metadata": {},
   "source": [
    "Aggregate to user–item level;"
   ]
  },
  {
   "cell_type": "code",
   "execution_count": 118,
   "id": "b47061da",
   "metadata": {},
   "outputs": [],
   "source": [
    "import pandas as pd\n",
    "\n",
    "def make_user_item_pairs(\n",
    "    df: pd.DataFrame,\n",
    "    user_col: str = \"shopUserId\",\n",
    "    order_col: str = \"orderId\",\n",
    "    item_col: str = \"groupId\",\n",
    "    pref_value: float = 1.0,\n",
    ") -> pd.DataFrame:\n",
    "    \"\"\"\n",
    "    Deduplicate within the same order, then reduce to unique (user, item) pairs.\n",
    "    Returns a DataFrame with [user_col, item_col, \"pref\"].\n",
    "    \"\"\"\n",
    "    pairs = (\n",
    "        df.drop_duplicates(subset=[user_col, order_col, item_col])\n",
    "          .drop_duplicates(subset=[user_col, item_col])\n",
    "          [[user_col, item_col]]\n",
    "          .copy()\n",
    "    )\n",
    "    pairs[\"pref\"] = float(pref_value)  # binary preference\n",
    "    return pairs\n",
    "\n",
    "pairs = make_user_item_pairs(df)"
   ]
  },
  {
   "cell_type": "code",
   "execution_count": 119,
   "id": "6e8a0339",
   "metadata": {},
   "outputs": [
    {
     "data": {
      "text/html": [
       "<div>\n",
       "<style scoped>\n",
       "    .dataframe tbody tr th:only-of-type {\n",
       "        vertical-align: middle;\n",
       "    }\n",
       "\n",
       "    .dataframe tbody tr th {\n",
       "        vertical-align: top;\n",
       "    }\n",
       "\n",
       "    .dataframe thead th {\n",
       "        text-align: right;\n",
       "    }\n",
       "</style>\n",
       "<table border=\"1\" class=\"dataframe\">\n",
       "  <thead>\n",
       "    <tr style=\"text-align: right;\">\n",
       "      <th></th>\n",
       "      <th>shopUserId</th>\n",
       "      <th>groupId</th>\n",
       "      <th>pref</th>\n",
       "    </tr>\n",
       "  </thead>\n",
       "  <tbody>\n",
       "    <tr>\n",
       "      <th>0</th>\n",
       "      <td>943483</td>\n",
       "      <td>260257</td>\n",
       "      <td>1.0</td>\n",
       "    </tr>\n",
       "    <tr>\n",
       "      <th>1</th>\n",
       "      <td>943480</td>\n",
       "      <td>280034</td>\n",
       "      <td>1.0</td>\n",
       "    </tr>\n",
       "    <tr>\n",
       "      <th>2</th>\n",
       "      <td>943480</td>\n",
       "      <td>290150</td>\n",
       "      <td>1.0</td>\n",
       "    </tr>\n",
       "    <tr>\n",
       "      <th>3</th>\n",
       "      <td>943480</td>\n",
       "      <td>291294</td>\n",
       "      <td>1.0</td>\n",
       "    </tr>\n",
       "    <tr>\n",
       "      <th>4</th>\n",
       "      <td>943480</td>\n",
       "      <td>292359</td>\n",
       "      <td>1.0</td>\n",
       "    </tr>\n",
       "    <tr>\n",
       "      <th>...</th>\n",
       "      <td>...</td>\n",
       "      <td>...</td>\n",
       "      <td>...</td>\n",
       "    </tr>\n",
       "    <tr>\n",
       "      <th>262691</th>\n",
       "      <td>252879</td>\n",
       "      <td>430037</td>\n",
       "      <td>1.0</td>\n",
       "    </tr>\n",
       "    <tr>\n",
       "      <th>262692</th>\n",
       "      <td>252874</td>\n",
       "      <td>261706</td>\n",
       "      <td>1.0</td>\n",
       "    </tr>\n",
       "    <tr>\n",
       "      <th>262693</th>\n",
       "      <td>110507</td>\n",
       "      <td>240012</td>\n",
       "      <td>1.0</td>\n",
       "    </tr>\n",
       "    <tr>\n",
       "      <th>262694</th>\n",
       "      <td>252853</td>\n",
       "      <td>260345</td>\n",
       "      <td>1.0</td>\n",
       "    </tr>\n",
       "    <tr>\n",
       "      <th>262696</th>\n",
       "      <td>252844</td>\n",
       "      <td>263855</td>\n",
       "      <td>1.0</td>\n",
       "    </tr>\n",
       "  </tbody>\n",
       "</table>\n",
       "<p>215106 rows × 3 columns</p>\n",
       "</div>"
      ],
      "text/plain": [
       "       shopUserId groupId  pref\n",
       "0          943483  260257   1.0\n",
       "1          943480  280034   1.0\n",
       "2          943480  290150   1.0\n",
       "3          943480  291294   1.0\n",
       "4          943480  292359   1.0\n",
       "...           ...     ...   ...\n",
       "262691     252879  430037   1.0\n",
       "262692     252874  261706   1.0\n",
       "262693     110507  240012   1.0\n",
       "262694     252853  260345   1.0\n",
       "262696     252844  263855   1.0\n",
       "\n",
       "[215106 rows x 3 columns]"
      ]
     },
     "execution_count": 119,
     "metadata": {},
     "output_type": "execute_result"
    }
   ],
   "source": [
    "pairs"
   ]
  },
  {
   "cell_type": "code",
   "execution_count": 120,
   "id": "e38ecfc5",
   "metadata": {},
   "outputs": [],
   "source": [
    "def filter_pairs_by_item_frequency(\n",
    "    pairs, item_col=\"groupId\", q_low=0.5, q_high=0.96, inclusive=\"both\", return_stats=False\n",
    "):  # quantile filter\n",
    "    gid = pairs[item_col].astype(str).str.strip()\n",
    "    counts = gid.value_counts()\n",
    "    low, high = counts.quantile([q_low, q_high])\n",
    "    mask = gid.map(counts).between(low, high, inclusive=inclusive)\n",
    "    filtered = pairs[mask].reset_index(drop=True)\n",
    "\n",
    "    if not return_stats:\n",
    "        return filtered\n",
    "\n",
    "    stats = {\n",
    "        \"low\": float(low),\n",
    "        \"high\": float(high),\n",
    "        \"groups_total\": int(counts.size),\n",
    "        \"groups_kept\": int(counts.between(low, high, inclusive=inclusive).sum()),\n",
    "        \"rows_total\": int(len(pairs)),\n",
    "        \"rows_kept\": int(mask.sum()),\n",
    "        \"gid_counts\": counts,  # included only for your print if you want the exact formula\n",
    "    }\n",
    "    return filtered, stats\n"
   ]
  },
  {
   "cell_type": "code",
   "execution_count": 121,
   "id": "fbe5006e",
   "metadata": {},
   "outputs": [
    {
     "name": "stdout",
     "output_type": "stream",
     "text": [
      "Groups kept: 679 (of 1463)\n",
      "Rows kept: 127755 (of 215106)\n",
      "Count thresholds: low=16, high=852\n"
     ]
    }
   ],
   "source": [
    "pairs, s = filter_pairs_by_item_frequency(pairs, return_stats=True)\n",
    "\n",
    "gid_counts = s[\"gid_counts\"]\n",
    "low, high = s[\"low\"], s[\"high\"]\n",
    "\n",
    "print(\n",
    "    f\"Groups kept: {(gid_counts >= low).sum() - (gid_counts > high).sum()} (of {gid_counts.size})\\n\"\n",
    "    f\"Rows kept: {s['rows_kept']} (of {s['rows_total']})\\n\"\n",
    "    f\"Count thresholds: low={low:.0f}, high={high:.0f}\"\n",
    ")\n"
   ]
  },
  {
   "cell_type": "code",
   "execution_count": 122,
   "id": "6a2076ae",
   "metadata": {},
   "outputs": [
    {
     "data": {
      "text/plain": [
       "127755"
      ]
     },
     "execution_count": 122,
     "metadata": {},
     "output_type": "execute_result"
    }
   ],
   "source": [
    "# Cornac triplets\n",
    "def to_user_item_ratings(pairs, user_col=\"shopUserId\", item_col=\"groupId\", pref_col=\"pref\"):\n",
    "    return list(zip(pairs[user_col].astype(str),\n",
    "                    pairs[item_col].astype(str),\n",
    "                    pairs[pref_col].astype(float)))\n",
    "\n",
    "uir = to_user_item_ratings(pairs)\n",
    "len(uir)"
   ]
  },
  {
   "cell_type": "code",
   "execution_count": 123,
   "id": "b5a3825e",
   "metadata": {},
   "outputs": [
    {
     "name": "stdout",
     "output_type": "stream",
     "text": [
      "rating_threshold = 1.0\n",
      "exclude_unknowns = True\n",
      "---\n",
      "Training data:\n",
      "Number of users = 43854\n",
      "Number of items = 679\n",
      "Number of ratings = 102203\n",
      "Max rating = 1.0\n",
      "Min rating = 1.0\n",
      "Global mean = 1.0\n",
      "---\n",
      "Test data:\n",
      "Number of users = 43854\n",
      "Number of items = 679\n",
      "Number of ratings = 10281\n",
      "Number of unknown users = 0\n",
      "Number of unknown items = 0\n",
      "---\n",
      "Validation data:\n",
      "Number of users = 43854\n",
      "Number of items = 679\n",
      "Number of ratings = 10304\n",
      "---\n",
      "Total users = 43854\n",
      "Total items = 679\n",
      "Users: 43854 Items: 679\n"
     ]
    }
   ],
   "source": [
    "def make_splits(uir, test_size=0.10, val_size=0.10, seed=42, verbose=True, exclude_unknowns=True, print_stats=True):\n",
    "    rs = RatioSplit(\n",
    "        data=uir,\n",
    "        test_size=test_size,\n",
    "        val_size=val_size,\n",
    "        exclude_unknowns=exclude_unknowns,\n",
    "        seed=seed,\n",
    "        verbose=verbose,\n",
    "    )\n",
    "    if print_stats:\n",
    "        print(\"Users:\", rs.train_set.num_users, \"Items:\", rs.train_set.num_items)\n",
    "    return rs\n",
    "\n",
    "rs = make_splits(uir)"
   ]
  },
  {
   "cell_type": "code",
   "execution_count": 124,
   "id": "87a7e6ee",
   "metadata": {},
   "outputs": [
    {
     "name": "stdout",
     "output_type": "stream",
     "text": [
      "Evaluating: {'lamb': 100}\n",
      "Evaluating: {'lamb': 500}\n",
      "Evaluating: {'lamb': 1000}\n",
      "Evaluating: {'lamb': 2000}\n",
      "Best parameter settings: {'lamb': 500}\n",
      "Recall@20 = 0.2927\n",
      "{'lamb': 500}\n"
     ]
    }
   ],
   "source": [
    "def tune_ease(rs, lamb_list=(100, 500, 1000, 2000), k=20):\n",
    "    space = [Discrete(\"lamb\", list(lamb_list))]\n",
    "    gs = GridSearch(\n",
    "        model=EASE(name=\"EASE\"),\n",
    "        space=space,\n",
    "        metric=Recall(k=k),\n",
    "        eval_method=rs,                 # RatioSplit-objektet\n",
    "    )\n",
    "    gs.fit(train_set=rs.train_set, val_set=rs.val_set)\n",
    "    return gs, gs.best_model, gs.best_params\n",
    "\n",
    "\n",
    "gs, best_model, best_params = tune_ease(rs)\n",
    "print(best_params)"
   ]
  },
  {
   "cell_type": "code",
   "execution_count": 125,
   "id": "b40cadac",
   "metadata": {},
   "outputs": [
    {
     "name": "stdout",
     "output_type": "stream",
     "text": [
      "\n",
      "[MostPop] Training started!\n",
      "\n",
      "[MostPop] Evaluation started!\n"
     ]
    },
    {
     "data": {
      "application/vnd.jupyter.widget-view+json": {
       "model_id": "3d87ee306180428ab0d4e0871e4cfaf4",
       "version_major": 2,
       "version_minor": 0
      },
      "text/plain": [
       "Ranking:   0%|          | 0/8440 [00:00<?, ?it/s]"
      ]
     },
     "metadata": {},
     "output_type": "display_data"
    },
    {
     "name": "stdout",
     "output_type": "stream",
     "text": [
      "\n",
      "[ItemKNN] Training started!\n"
     ]
    },
    {
     "data": {
      "application/vnd.jupyter.widget-view+json": {
       "model_id": "5abd860cfd86416d93f90dc1ab5f1e63",
       "version_major": 2,
       "version_minor": 0
      },
      "text/plain": [
       "  0%|          | 0/679 [00:00<?, ?it/s]"
      ]
     },
     "metadata": {},
     "output_type": "display_data"
    },
    {
     "name": "stdout",
     "output_type": "stream",
     "text": [
      "\n",
      "[ItemKNN] Evaluation started!\n"
     ]
    },
    {
     "data": {
      "application/vnd.jupyter.widget-view+json": {
       "model_id": "b9f27bbf163741c3a6f48b0d0e9effde",
       "version_major": 2,
       "version_minor": 0
      },
      "text/plain": [
       "Ranking:   0%|          | 0/8440 [00:00<?, ?it/s]"
      ]
     },
     "metadata": {},
     "output_type": "display_data"
    },
    {
     "name": "stdout",
     "output_type": "stream",
     "text": [
      "ItemKNN model is saved to /tmp/tmpqzdo31a7/ItemKNN/2025-10-27_10-31-51-393886.pkl\n",
      "\n",
      "[BPR-default] Training started!\n",
      "\n",
      "[BPR-default] Evaluation started!\n"
     ]
    },
    {
     "data": {
      "application/vnd.jupyter.widget-view+json": {
       "model_id": "b509740440954e06815bc8cd35dd0891",
       "version_major": 2,
       "version_minor": 0
      },
      "text/plain": [
       "Ranking:   0%|          | 0/8440 [00:00<?, ?it/s]"
      ]
     },
     "metadata": {},
     "output_type": "display_data"
    },
    {
     "name": "stdout",
     "output_type": "stream",
     "text": [
      "\n",
      "[EASE-best] Training started!\n",
      "\n",
      "[EASE-best] Evaluation started!\n"
     ]
    },
    {
     "data": {
      "application/vnd.jupyter.widget-view+json": {
       "model_id": "4137c1326f2b45fc9bc6ba6b1993c19b",
       "version_major": 2,
       "version_minor": 0
      },
      "text/plain": [
       "Ranking:   0%|          | 0/8440 [00:00<?, ?it/s]"
      ]
     },
     "metadata": {},
     "output_type": "display_data"
    },
    {
     "name": "stdout",
     "output_type": "stream",
     "text": [
      "\n",
      "TEST:\n",
      "...\n",
      "            |    MAP | NDCG@20 | Precision@20 | Recall@20 | Train (s) | Test (s)\n",
      "----------- + ------ + ------- + ------------ + --------- + --------- + --------\n",
      "MostPop     | 0.0336 |  0.0456 |       0.0074 |    0.1219 |    0.0035 |   1.4432\n",
      "ItemKNN     | 0.0067 |  0.0308 |       0.0049 |    0.0786 |    0.0210 |   6.5823\n",
      "BPR-default | 0.0461 |  0.0618 |       0.0087 |    0.1458 |    0.5218 |   4.1921\n",
      "EASE-best   | 0.1199 |  0.1552 |       0.0174 |    0.2905 |    0.0371 |   1.8888\n",
      "\n"
     ]
    }
   ],
   "source": [
    "import tempfile, shutil\n",
    "\n",
    "def run_experiment(rs, best_params, k=20, verbose=False):\n",
    "    metrics = [Recall(k=k), Precision(k=k), NDCG(k=k), MAP()]\n",
    "    ease_best = EASE(**best_params, name=\"EASE-best\", verbose=False)\n",
    "\n",
    "    tmpdir = tempfile.mkdtemp()\n",
    "    try:\n",
    "        exp = cornac.Experiment(\n",
    "            eval_method=rs,\n",
    "            models=[\n",
    "                cornac.models.MostPop(),\n",
    "                cornac.models.ItemKNN(k=100),\n",
    "                cornac.models.BPR(learning_rate=0.01, lambda_reg=0.001, max_iter=200, name=\"BPR-default\"),\n",
    "                ease_best,\n",
    "            ],\n",
    "            metrics=metrics,\n",
    "            verbose=verbose,\n",
    "            show_validation=False,\n",
    "            save_dir=tmpdir,  # logs go here\n",
    "        )\n",
    "        exp.run()\n",
    "        return exp\n",
    "    finally:\n",
    "        shutil.rmtree(tmpdir, ignore_errors=True)  # cleans logs/models\n",
    "\n",
    "\n",
    "exp = run_experiment(rs, best_params)\n"
   ]
  },
  {
   "cell_type": "code",
   "execution_count": 126,
   "id": "6ed281f9",
   "metadata": {},
   "outputs": [
    {
     "name": "stdout",
     "output_type": "stream",
     "text": [
      "rating_threshold = 1.0\n",
      "exclude_unknowns = True\n",
      "---\n",
      "Training data:\n",
      "Number of users = 46162\n",
      "Number of items = 679\n",
      "Number of ratings = 114979\n",
      "Max rating = 1.0\n",
      "Min rating = 1.0\n",
      "Global mean = 1.0\n",
      "---\n",
      "Test data:\n",
      "Number of users = 46162\n",
      "Number of items = 679\n",
      "Number of ratings = 10576\n",
      "Number of unknown users = 0\n",
      "Number of unknown items = 0\n",
      "---\n",
      "Total users = 46162\n",
      "Total items = 679\n"
     ]
    }
   ],
   "source": [
    "def finalize_ease(uir, best_params, test_size=0.10, seed=42, exclude_unknowns=True, verbose=True):\n",
    "    rs_no_val = RatioSplit(\n",
    "        data=uir,\n",
    "        test_size=test_size,\n",
    "        val_size=0.0,\n",
    "        exclude_unknowns=exclude_unknowns,\n",
    "        seed=seed,\n",
    "        verbose=verbose,\n",
    "    )\n",
    "    final_ease = EASE(**best_params, name=\"EASE-final\", verbose=True)\n",
    "    final_ease.fit(rs_no_val.train_set)\n",
    "    return final_ease, rs_no_val\n",
    "\n",
    "final_ease, rs_no_val = finalize_ease(\n",
    "    uir,\n",
    "    best_params=best_params,\n",
    ")"
   ]
  },
  {
   "cell_type": "code",
   "execution_count": 127,
   "id": "b186b21a",
   "metadata": {},
   "outputs": [
    {
     "name": "stdout",
     "output_type": "stream",
     "text": [
      "\n",
      "[EASE-final] Training started!\n",
      "\n",
      "[EASE-final] Evaluation started!\n"
     ]
    },
    {
     "name": "stderr",
     "output_type": "stream",
     "text": [
      "/usr/local/lib/python3.10/site-packages/cornac/models/recommender.py:322: UserWarning: Model is already fitted. Re-fitting will overwrite the previous model.\n",
      "  warnings.warn(\n"
     ]
    },
    {
     "data": {
      "application/vnd.jupyter.widget-view+json": {
       "model_id": "b3618a0fffd94e0c94b794af54e1f1c1",
       "version_major": 2,
       "version_minor": 0
      },
      "text/plain": [
       "Ranking:   0%|          | 0/8708 [00:00<?, ?it/s]"
      ]
     },
     "metadata": {},
     "output_type": "display_data"
    },
    {
     "name": "stdout",
     "output_type": "stream",
     "text": [
      "EASE-final model is saved to /tmp/cornac_tmp_6bqvirh5/EASE-final/2025-10-27_10-32-00-423863.pkl\n",
      "\n",
      "TEST:\n",
      "...\n",
      "           |    MAP | NDCG@20 | Precision@20 | Recall@20 | Train (s) | Test (s)\n",
      "---------- + ------ + ------- + ------------ + --------- + --------- + --------\n",
      "EASE-final | 0.1251 |  0.1629 |       0.0183 |    0.3064 |    0.0310 |   1.8543\n",
      "\n"
     ]
    }
   ],
   "source": [
    "import tempfile, shutil\n",
    "\n",
    "def evaluate_final_model(rs_no_val, final_ease, k=20, verbose=False, save_dir=None):\n",
    "    metrics = [Recall(k=k), Precision(k=k), NDCG(k=k), MAP()]\n",
    "\n",
    "    created_tmp = False\n",
    "    if save_dir is None:\n",
    "        save_dir = tempfile.mkdtemp(prefix=\"cornac_tmp_\")\n",
    "        created_tmp = True\n",
    "\n",
    "    try:\n",
    "        exp = cornac.Experiment(\n",
    "            eval_method=rs_no_val,\n",
    "            models=[final_ease],\n",
    "            metrics=metrics,\n",
    "            verbose=verbose,\n",
    "            save_dir=save_dir,\n",
    "        )\n",
    "        exp.run()\n",
    "        return exp\n",
    "    finally:\n",
    "        if created_tmp:\n",
    "            shutil.rmtree(save_dir, ignore_errors=True)\n",
    "\n",
    "\n",
    "exp = evaluate_final_model(rs_no_val, final_ease, k=20, verbose=False)"
   ]
  },
  {
   "cell_type": "markdown",
   "id": "b982514a",
   "metadata": {},
   "source": [
    "keeps a pair (i, j) only if at least 12 distinct users interacted with both items."
   ]
  },
  {
   "cell_type": "code",
   "execution_count": null,
   "id": "fc1aa832",
   "metadata": {},
   "outputs": [
    {
     "name": "stdout",
     "output_type": "stream",
     "text": [
      "Dropped groupids due to having < 4 recs: 121\n",
      "Dropped groupids due to having < 12 co-users (no pairs meeting threshold): 365\n"
     ]
    }
   ],
   "source": [
    "import numpy as np\n",
    "import pandas as pd\n",
    "from scipy import sparse as sp\n",
    "\n",
    "# ---------- helpers ----------\n",
    "def _prepare_item_data(final_ease):\n",
    "    B = np.asarray(final_ease.get_item_vectors(), dtype=float)\n",
    "    ts = final_ease.train_set\n",
    "    raw_item_ids = np.asarray(ts.item_ids, dtype=str)\n",
    "    X = ts.X if hasattr(ts, \"X\") else ts.matrix\n",
    "    X = X.tocsr() if sp.issparse(X) else sp.csr_matrix(X)\n",
    "    return B, raw_item_ids, X\n",
    "\n",
    "def _cooccurrence_support(X):\n",
    "    Xb = X.copy(); Xb.data[:] = 1\n",
    "    S = (Xb.T @ Xb).tocsr()\n",
    "    S.setdiag(0); S.eliminate_zeros()\n",
    "    return S\n",
    "\n",
    "def build_basket_completion(final_ease, min_support=12, min_recs=4, topk_cap=10):\n",
    "    \"\"\"\n",
    "    Build a per-item recommendation table:\n",
    "      - Only keep items that have at least `min_recs` candidates (after support filter).\n",
    "      - Cap each item's list to at most `topk_cap` recs.\n",
    "      - Count drops for: (< min_recs recs) and (no candidates meeting min_support).\n",
    "    \"\"\"\n",
    "    B, raw_item_ids, X = _prepare_item_data(final_ease)\n",
    "    support = _cooccurrence_support(X)\n",
    "\n",
    "    rows = []\n",
    "    dropped_lt_minrecs = 0\n",
    "    dropped_no_support = 0\n",
    "\n",
    "    for i, pid in enumerate(raw_item_ids):\n",
    "        row = support.getrow(i)\n",
    "        if row.nnz == 0:\n",
    "            # No co-occurrence at all\n",
    "            dropped_no_support += 1\n",
    "            continue\n",
    "\n",
    "        mask = row.data >= min_support\n",
    "        cand = row.indices[mask]\n",
    "\n",
    "        if cand.size == 0:\n",
    "            # No pairs met the min_support threshold\n",
    "            dropped_no_support += 1\n",
    "            continue\n",
    "\n",
    "        # Score candidates and take up to the cap\n",
    "        w = B[i, cand]\n",
    "        order = np.argsort(w)[::-1]  # descending by similarity\n",
    "        capped = cand[order][:min(topk_cap, cand.size)]\n",
    "        recs = list(raw_item_ids[capped])\n",
    "\n",
    "        if len(recs) < min_recs:\n",
    "            dropped_lt_minrecs += 1\n",
    "            continue\n",
    "\n",
    "        # Build row with fixed columns Top 1..Top topk_cap; pad with Nones if shorter\n",
    "        row_dict = {\"Product ID\": pid}\n",
    "        for k in range(1, topk_cap + 1):\n",
    "            row_dict[f\"Top {k}\"] = recs[k-1] if k-1 < len(recs) else None\n",
    "        rows.append(row_dict)\n",
    "\n",
    "    cols = [\"Product ID\"] + [f\"Top {k}\" for k in range(1, topk_cap + 1)]\n",
    "    df = pd.DataFrame(rows, columns=cols)\n",
    "\n",
    "    print(f\"Dropped groupids due to having < {min_recs} recs: {dropped_lt_minrecs}\")\n",
    "    print(f\"Dropped groupids due to having < {min_support} co-users (no pairs meeting threshold): {dropped_no_support}\")\n",
    "\n",
    "    return df\n",
    "\n",
    "def save_basket_completion(df, out_path):\n",
    "    df.to_parquet(out_path, engine=\"pyarrow\", index=False)\n",
    "\n",
    "# ---- params & run ----\n",
    "MIN_SUPPORT = 12      # co-users threshold\n",
    "MIN_RECS = 4          # keep only items with at least 4 recs\n",
    "TOPK_CAP = 10         # cap lists at max 10 recs\n",
    "#OUT_PATH = \"/workspace/data/processed/basket_completion.parquet\"\n",
    "\n",
    "df_bc = build_basket_completion(final_ease, min_support=MIN_SUPPORT, min_recs=MIN_RECS, topk_cap=TOPK_CAP)\n",
    "save_basket_completion(df_bc, OUT_PATH)\n"
   ]
  },
  {
   "cell_type": "code",
   "execution_count": 129,
   "id": "65add398",
   "metadata": {},
   "outputs": [
    {
     "data": {
      "text/html": [
       "<div>\n",
       "<style scoped>\n",
       "    .dataframe tbody tr th:only-of-type {\n",
       "        vertical-align: middle;\n",
       "    }\n",
       "\n",
       "    .dataframe tbody tr th {\n",
       "        vertical-align: top;\n",
       "    }\n",
       "\n",
       "    .dataframe thead th {\n",
       "        text-align: right;\n",
       "    }\n",
       "</style>\n",
       "<table border=\"1\" class=\"dataframe\">\n",
       "  <thead>\n",
       "    <tr style=\"text-align: right;\">\n",
       "      <th></th>\n",
       "      <th>Product ID</th>\n",
       "      <th>Top 1</th>\n",
       "      <th>Top 2</th>\n",
       "      <th>Top 3</th>\n",
       "      <th>Top 4</th>\n",
       "      <th>Top 5</th>\n",
       "      <th>Top 6</th>\n",
       "      <th>Top 7</th>\n",
       "      <th>Top 8</th>\n",
       "      <th>Top 9</th>\n",
       "      <th>Top 10</th>\n",
       "    </tr>\n",
       "  </thead>\n",
       "  <tbody>\n",
       "    <tr>\n",
       "      <th>75</th>\n",
       "      <td>266494</td>\n",
       "      <td>260182</td>\n",
       "      <td>260257</td>\n",
       "      <td>260930</td>\n",
       "      <td>260232</td>\n",
       "      <td>292250</td>\n",
       "      <td>264242</td>\n",
       "      <td>261192</td>\n",
       "      <td>260922</td>\n",
       "      <td>261608</td>\n",
       "      <td>261933</td>\n",
       "    </tr>\n",
       "  </tbody>\n",
       "</table>\n",
       "</div>"
      ],
      "text/plain": [
       "   Product ID   Top 1   Top 2   Top 3   Top 4   Top 5   Top 6   Top 7   Top 8  \\\n",
       "75     266494  260182  260257  260930  260232  292250  264242  261192  260922   \n",
       "\n",
       "     Top 9  Top 10  \n",
       "75  261608  261933  "
      ]
     },
     "execution_count": 129,
     "metadata": {},
     "output_type": "execute_result"
    }
   ],
   "source": [
    "df_bc.sample(1)"
   ]
  },
  {
   "cell_type": "code",
   "execution_count": null,
   "id": "f634dab5",
   "metadata": {},
   "outputs": [],
   "source": []
  }
 ],
 "metadata": {
  "kernelspec": {
   "display_name": "Python (itcm-recsys)",
   "language": "python",
   "name": "itcm-recsys"
  },
  "language_info": {
   "codemirror_mode": {
    "name": "ipython",
    "version": 3
   },
   "file_extension": ".py",
   "mimetype": "text/x-python",
   "name": "python",
   "nbconvert_exporter": "python",
   "pygments_lexer": "ipython3",
   "version": "3.10.18"
  }
 },
 "nbformat": 4,
 "nbformat_minor": 5
}
