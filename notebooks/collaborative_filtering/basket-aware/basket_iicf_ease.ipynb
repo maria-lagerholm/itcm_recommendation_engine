{
 "cells": [
  {
   "cell_type": "markdown",
   "id": "b6015605",
   "metadata": {},
   "source": [
    "# item–item knn cf using jaccard; temporal split; thresholded scoring; evaluated by leave-one-out basket completion (hit@k, coverage)."
   ]
  },
  {
   "cell_type": "code",
   "execution_count": null,
   "id": "ebb50066",
   "metadata": {},
   "outputs": [
    {
     "name": "stdout",
     "output_type": "stream",
     "text": [
      "cornac: 2.3.5\n"
     ]
    }
   ],
   "source": [
    "\n",
    "import pandas as pd\n",
    "import numpy as np\n",
    "import cornac\n",
    "from cornac.data import Dataset\n",
    "from cornac.eval_methods import RatioSplit\n",
    "from cornac.metrics import Recall, NDCG, Precision, MAP, AUC\n",
    "from cornac.models.ease import EASE\n",
    "from tqdm.auto import trange\n",
    "\n",
    "print(\"cornac:\", cornac.__version__)"
   ]
  },
  {
   "cell_type": "code",
   "execution_count": 29,
   "id": "d0b8c2d4",
   "metadata": {},
   "outputs": [],
   "source": [
    "import pandas as pd\n",
    "\n",
    "def load_filtered_transactions(\n",
    "    trans_path=\"/workspace/data/processed/transactions_clean.parquet\",\n",
    "    avail_path=\"/workspace/data/processed/articles_for_recs.parquet\",\n",
    "    bad_ids={\"12025DK\", \"12025FI\", \"12025NO\", \"12025SE\", \"970300\", \"459978\"},\n",
    "    cols=(\"shopUserId\", \"orderId\", \"groupId\"),\n",
    "):\n",
    "    global df  # ensure the output is assigned to the name `df`\n",
    "    df = pd.read_parquet(trans_path, columns=list(cols))\n",
    "    avail_df = pd.read_parquet(avail_path)\n",
    "\n",
    "    gid = df[\"groupId\"].astype(str).str.strip()\n",
    "    avail_ids = set(avail_df[\"groupId\"].astype(str).str.strip().unique())\n",
    "\n",
    "    df = df.loc[gid.isin(avail_ids) & ~gid.isin(bad_ids)].reset_index(drop=True)\n",
    "    return df\n",
    "\n",
    "df = load_filtered_transactions()"
   ]
  },
  {
   "cell_type": "code",
   "execution_count": 30,
   "id": "26487b7d",
   "metadata": {},
   "outputs": [
    {
     "data": {
      "text/html": [
       "<div>\n",
       "<style scoped>\n",
       "    .dataframe tbody tr th:only-of-type {\n",
       "        vertical-align: middle;\n",
       "    }\n",
       "\n",
       "    .dataframe tbody tr th {\n",
       "        vertical-align: top;\n",
       "    }\n",
       "\n",
       "    .dataframe thead th {\n",
       "        text-align: right;\n",
       "    }\n",
       "</style>\n",
       "<table border=\"1\" class=\"dataframe\">\n",
       "  <thead>\n",
       "    <tr style=\"text-align: right;\">\n",
       "      <th></th>\n",
       "      <th>shopUserId</th>\n",
       "      <th>orderId</th>\n",
       "      <th>groupId</th>\n",
       "    </tr>\n",
       "  </thead>\n",
       "  <tbody>\n",
       "    <tr>\n",
       "      <th>0</th>\n",
       "      <td>934415</td>\n",
       "      <td>893249</td>\n",
       "      <td>210770</td>\n",
       "    </tr>\n",
       "    <tr>\n",
       "      <th>1</th>\n",
       "      <td>934415</td>\n",
       "      <td>893249</td>\n",
       "      <td>210781</td>\n",
       "    </tr>\n",
       "    <tr>\n",
       "      <th>2</th>\n",
       "      <td>934415</td>\n",
       "      <td>893249</td>\n",
       "      <td>260976</td>\n",
       "    </tr>\n",
       "    <tr>\n",
       "      <th>3</th>\n",
       "      <td>934415</td>\n",
       "      <td>893249</td>\n",
       "      <td>270794</td>\n",
       "    </tr>\n",
       "    <tr>\n",
       "      <th>4</th>\n",
       "      <td>934415</td>\n",
       "      <td>893249</td>\n",
       "      <td>270794</td>\n",
       "    </tr>\n",
       "    <tr>\n",
       "      <th>...</th>\n",
       "      <td>...</td>\n",
       "      <td>...</td>\n",
       "      <td>...</td>\n",
       "    </tr>\n",
       "    <tr>\n",
       "      <th>260794</th>\n",
       "      <td>110507</td>\n",
       "      <td>166445</td>\n",
       "      <td>240012</td>\n",
       "    </tr>\n",
       "    <tr>\n",
       "      <th>260795</th>\n",
       "      <td>252853</td>\n",
       "      <td>166428</td>\n",
       "      <td>260345</td>\n",
       "    </tr>\n",
       "    <tr>\n",
       "      <th>260796</th>\n",
       "      <td>252853</td>\n",
       "      <td>166428</td>\n",
       "      <td>239301</td>\n",
       "    </tr>\n",
       "    <tr>\n",
       "      <th>260797</th>\n",
       "      <td>252844</td>\n",
       "      <td>166420</td>\n",
       "      <td>263855</td>\n",
       "    </tr>\n",
       "    <tr>\n",
       "      <th>260798</th>\n",
       "      <td>252836</td>\n",
       "      <td>166411</td>\n",
       "      <td>345901</td>\n",
       "    </tr>\n",
       "  </tbody>\n",
       "</table>\n",
       "<p>260799 rows × 3 columns</p>\n",
       "</div>"
      ],
      "text/plain": [
       "       shopUserId orderId groupId\n",
       "0          934415  893249  210770\n",
       "1          934415  893249  210781\n",
       "2          934415  893249  260976\n",
       "3          934415  893249  270794\n",
       "4          934415  893249  270794\n",
       "...           ...     ...     ...\n",
       "260794     110507  166445  240012\n",
       "260795     252853  166428  260345\n",
       "260796     252853  166428  239301\n",
       "260797     252844  166420  263855\n",
       "260798     252836  166411  345901\n",
       "\n",
       "[260799 rows x 3 columns]"
      ]
     },
     "execution_count": 30,
     "metadata": {},
     "output_type": "execute_result"
    }
   ],
   "source": [
    "df"
   ]
  },
  {
   "cell_type": "markdown",
   "id": "c617f81d",
   "metadata": {},
   "source": [
    "Aggregate to user–item level;"
   ]
  },
  {
   "cell_type": "code",
   "execution_count": 31,
   "id": "b47061da",
   "metadata": {},
   "outputs": [],
   "source": [
    "import pandas as pd\n",
    "\n",
    "def make_user_item_pairs(\n",
    "    df: pd.DataFrame,\n",
    "    user_col: str = \"shopUserId\",\n",
    "    order_col: str = \"orderId\",\n",
    "    item_col: str = \"groupId\",\n",
    "    pref_value: float = 1.0,\n",
    ") -> pd.DataFrame:\n",
    "    \"\"\"\n",
    "    Deduplicate within the same order, then reduce to unique (user, item) pairs.\n",
    "    Returns a DataFrame with [user_col, item_col, \"pref\"].\n",
    "    \"\"\"\n",
    "    pairs = (\n",
    "        df.drop_duplicates(subset=[user_col, order_col, item_col])\n",
    "          .drop_duplicates(subset=[user_col, item_col])\n",
    "          [[user_col, item_col]]\n",
    "          .copy()\n",
    "    )\n",
    "    pairs[\"pref\"] = float(pref_value)  # binary preference\n",
    "    return pairs\n",
    "\n",
    "pairs = make_user_item_pairs(df)"
   ]
  },
  {
   "cell_type": "code",
   "execution_count": 32,
   "id": "6e8a0339",
   "metadata": {},
   "outputs": [
    {
     "data": {
      "text/html": [
       "<div>\n",
       "<style scoped>\n",
       "    .dataframe tbody tr th:only-of-type {\n",
       "        vertical-align: middle;\n",
       "    }\n",
       "\n",
       "    .dataframe tbody tr th {\n",
       "        vertical-align: top;\n",
       "    }\n",
       "\n",
       "    .dataframe thead th {\n",
       "        text-align: right;\n",
       "    }\n",
       "</style>\n",
       "<table border=\"1\" class=\"dataframe\">\n",
       "  <thead>\n",
       "    <tr style=\"text-align: right;\">\n",
       "      <th></th>\n",
       "      <th>shopUserId</th>\n",
       "      <th>groupId</th>\n",
       "      <th>pref</th>\n",
       "    </tr>\n",
       "  </thead>\n",
       "  <tbody>\n",
       "    <tr>\n",
       "      <th>0</th>\n",
       "      <td>934415</td>\n",
       "      <td>210770</td>\n",
       "      <td>1.0</td>\n",
       "    </tr>\n",
       "    <tr>\n",
       "      <th>1</th>\n",
       "      <td>934415</td>\n",
       "      <td>210781</td>\n",
       "      <td>1.0</td>\n",
       "    </tr>\n",
       "    <tr>\n",
       "      <th>2</th>\n",
       "      <td>934415</td>\n",
       "      <td>260976</td>\n",
       "      <td>1.0</td>\n",
       "    </tr>\n",
       "    <tr>\n",
       "      <th>3</th>\n",
       "      <td>934415</td>\n",
       "      <td>270794</td>\n",
       "      <td>1.0</td>\n",
       "    </tr>\n",
       "    <tr>\n",
       "      <th>5</th>\n",
       "      <td>934415</td>\n",
       "      <td>261661</td>\n",
       "      <td>1.0</td>\n",
       "    </tr>\n",
       "    <tr>\n",
       "      <th>...</th>\n",
       "      <td>...</td>\n",
       "      <td>...</td>\n",
       "      <td>...</td>\n",
       "    </tr>\n",
       "    <tr>\n",
       "      <th>260792</th>\n",
       "      <td>252879</td>\n",
       "      <td>430037</td>\n",
       "      <td>1.0</td>\n",
       "    </tr>\n",
       "    <tr>\n",
       "      <th>260793</th>\n",
       "      <td>252874</td>\n",
       "      <td>261706</td>\n",
       "      <td>1.0</td>\n",
       "    </tr>\n",
       "    <tr>\n",
       "      <th>260794</th>\n",
       "      <td>110507</td>\n",
       "      <td>240012</td>\n",
       "      <td>1.0</td>\n",
       "    </tr>\n",
       "    <tr>\n",
       "      <th>260795</th>\n",
       "      <td>252853</td>\n",
       "      <td>260345</td>\n",
       "      <td>1.0</td>\n",
       "    </tr>\n",
       "    <tr>\n",
       "      <th>260797</th>\n",
       "      <td>252844</td>\n",
       "      <td>263855</td>\n",
       "      <td>1.0</td>\n",
       "    </tr>\n",
       "  </tbody>\n",
       "</table>\n",
       "<p>213893 rows × 3 columns</p>\n",
       "</div>"
      ],
      "text/plain": [
       "       shopUserId groupId  pref\n",
       "0          934415  210770   1.0\n",
       "1          934415  210781   1.0\n",
       "2          934415  260976   1.0\n",
       "3          934415  270794   1.0\n",
       "5          934415  261661   1.0\n",
       "...           ...     ...   ...\n",
       "260792     252879  430037   1.0\n",
       "260793     252874  261706   1.0\n",
       "260794     110507  240012   1.0\n",
       "260795     252853  260345   1.0\n",
       "260797     252844  263855   1.0\n",
       "\n",
       "[213893 rows x 3 columns]"
      ]
     },
     "execution_count": 32,
     "metadata": {},
     "output_type": "execute_result"
    }
   ],
   "source": [
    "pairs"
   ]
  },
  {
   "cell_type": "code",
   "execution_count": null,
   "id": "e38ecfc5",
   "metadata": {},
   "outputs": [
    {
     "name": "stdout",
     "output_type": "stream",
     "text": [
      "Groups kept: 678 (of 1457)\n",
      "Rows kept: 260799 (of 260799)\n",
      "Count thresholds: low=16, high=856\n"
     ]
    }
   ],
   "source": [
    "def filter_pairs_by_item_frequency(pairs, item_col=\"groupId\", q_low=0.5, q_high=0.96, inclusive=\"both\"): #quantile filter\n",
    "    gid = pairs[item_col].astype(str).str.strip()\n",
    "    counts = gid.value_counts()\n",
    "    low, high = counts.quantile([q_low, q_high])\n",
    "    mask = gid.map(counts).between(low, high, inclusive=inclusive)\n",
    "    return pairs[mask].reset_index(drop=True)\n",
    "\n",
    "pairs = filter_pairs_by_item_frequency(pairs)\n",
    "\n",
    "print(\n",
    "    f\"Groups kept: {(gid_counts >= low).sum() - (gid_counts > high).sum()} (of {gid_counts.size})\\n\"\n",
    "    f\"Rows kept: {len(df)} (of {len(df)})\\n\"\n",
    "    f\"Count thresholds: low={low:.0f}, high={high:.0f}\"\n",
    ")\n"
   ]
  },
  {
   "cell_type": "code",
   "execution_count": 35,
   "id": "6a2076ae",
   "metadata": {},
   "outputs": [
    {
     "data": {
      "text/plain": [
       "91499"
      ]
     },
     "execution_count": 35,
     "metadata": {},
     "output_type": "execute_result"
    }
   ],
   "source": [
    "# Cornac triplets\n",
    "def to_user_item_ratings(pairs, user_col=\"shopUserId\", item_col=\"groupId\", pref_col=\"pref\"):\n",
    "    return list(zip(pairs[user_col].astype(str),\n",
    "                    pairs[item_col].astype(str),\n",
    "                    pairs[pref_col].astype(float)))\n",
    "\n",
    "uir = to_user_item_ratings(pairs)\n",
    "len(uir)"
   ]
  },
  {
   "cell_type": "code",
   "execution_count": 44,
   "id": "b5a3825e",
   "metadata": {},
   "outputs": [
    {
     "name": "stdout",
     "output_type": "stream",
     "text": [
      "rating_threshold = 1.0\n",
      "exclude_unknowns = True\n",
      "---\n",
      "Training data:\n",
      "Number of users = 36217\n",
      "Number of items = 312\n",
      "Number of ratings = 73199\n",
      "Max rating = 1.0\n",
      "Min rating = 1.0\n",
      "Global mean = 1.0\n",
      "---\n",
      "Test data:\n",
      "Number of users = 36217\n",
      "Number of items = 312\n",
      "Number of ratings = 6736\n",
      "Number of unknown users = 0\n",
      "Number of unknown items = 0\n",
      "---\n",
      "Validation data:\n",
      "Number of users = 36217\n",
      "Number of items = 312\n",
      "Number of ratings = 6795\n",
      "---\n",
      "Total users = 36217\n",
      "Total items = 312\n",
      "Users: 36217 Items: 312\n"
     ]
    }
   ],
   "source": [
    "def make_splits(uir, test_size=0.10, val_size=0.10, seed=42, verbose=True, exclude_unknowns=True, print_stats=True):\n",
    "    rs = RatioSplit(\n",
    "        data=uir,\n",
    "        test_size=test_size,\n",
    "        val_size=val_size,\n",
    "        exclude_unknowns=exclude_unknowns,\n",
    "        seed=seed,\n",
    "        verbose=verbose,\n",
    "    )\n",
    "    train_set, val_set, test_set = rs.train_set, rs.val_set, rs.test_set\n",
    "    if print_stats:\n",
    "        print(\"Users:\", train_set.num_users, \"Items:\", train_set.num_items)\n",
    "    return train_set, val_set, test_set\n",
    "\n",
    "train_set, val_set, test_set = make_splits(uir)\n"
   ]
  },
  {
   "cell_type": "code",
   "execution_count": 54,
   "id": "87a7e6ee",
   "metadata": {},
   "outputs": [
    {
     "name": "stdout",
     "output_type": "stream",
     "text": [
      "Evaluating: {'lamb': 1000}\n",
      "Evaluating: {'lamb': 2000}\n",
      "Best parameter settings: {'lamb': 1000}\n",
      "Recall@20 = 0.2806\n",
      "{'lamb': 1000}\n"
     ]
    }
   ],
   "source": [
    "def tune_ease(rs, lamb_list=(1000, 2000), k=20):\n",
    "    space = [cornac.hyperopt.Discrete(\"lamb\", list(lamb_list))]\n",
    "    gs = cornac.hyperopt.GridSearch(\n",
    "        model=EASE(name=\"EASE\"),\n",
    "        space=space,\n",
    "        metric=Recall(k=k),\n",
    "        eval_method=rs,\n",
    "    )\n",
    "    gs.fit(rs.train_set, rs.val_set)  # <- pass splits explicitly\n",
    "    return gs, gs.best_model, gs.best_params\n",
    "\n",
    "\n",
    "gs, best_model, best_params = tune_ease(rs)\n",
    "print(best_params)"
   ]
  },
  {
   "cell_type": "code",
   "execution_count": 55,
   "id": "b40cadac",
   "metadata": {},
   "outputs": [
    {
     "name": "stdout",
     "output_type": "stream",
     "text": [
      "\n",
      "[MostPop] Training started!\n",
      "\n",
      "[MostPop] Evaluation started!\n"
     ]
    },
    {
     "data": {
      "application/vnd.jupyter.widget-view+json": {
       "model_id": "6f3a486778684ce6bf5c91a506fad93c",
       "version_major": 2,
       "version_minor": 0
      },
      "text/plain": [
       "Ranking:   0%|          | 0/8377 [00:00<?, ?it/s]"
      ]
     },
     "metadata": {},
     "output_type": "display_data"
    },
    {
     "data": {
      "application/vnd.jupyter.widget-view+json": {
       "model_id": "a47f71b965d0459eb4610d1af78649b9",
       "version_major": 2,
       "version_minor": 0
      },
      "text/plain": [
       "Ranking:   0%|          | 0/8401 [00:00<?, ?it/s]"
      ]
     },
     "metadata": {},
     "output_type": "display_data"
    },
    {
     "name": "stdout",
     "output_type": "stream",
     "text": [
      "\n",
      "[ItemKNN] Training started!\n"
     ]
    },
    {
     "data": {
      "application/vnd.jupyter.widget-view+json": {
       "model_id": "88f179604bba4263acfd59a34db6498a",
       "version_major": 2,
       "version_minor": 0
      },
      "text/plain": [
       "  0%|          | 0/678 [00:00<?, ?it/s]"
      ]
     },
     "metadata": {},
     "output_type": "display_data"
    },
    {
     "name": "stdout",
     "output_type": "stream",
     "text": [
      "\n",
      "[ItemKNN] Evaluation started!\n"
     ]
    },
    {
     "data": {
      "application/vnd.jupyter.widget-view+json": {
       "model_id": "d5ffcbd1c2284bf9aebb856a775aa5ee",
       "version_major": 2,
       "version_minor": 0
      },
      "text/plain": [
       "Ranking:   0%|          | 0/8377 [00:00<?, ?it/s]"
      ]
     },
     "metadata": {},
     "output_type": "display_data"
    },
    {
     "data": {
      "application/vnd.jupyter.widget-view+json": {
       "model_id": "6180b027432e4456b5c2c726792e7884",
       "version_major": 2,
       "version_minor": 0
      },
      "text/plain": [
       "Ranking:   0%|          | 0/8401 [00:00<?, ?it/s]"
      ]
     },
     "metadata": {},
     "output_type": "display_data"
    },
    {
     "name": "stdout",
     "output_type": "stream",
     "text": [
      "\n",
      "[BPR-default] Training started!\n",
      "\n",
      "[BPR-default] Evaluation started!\n"
     ]
    },
    {
     "data": {
      "application/vnd.jupyter.widget-view+json": {
       "model_id": "071ffffbe6c24214b09a37c86f9e5b2c",
       "version_major": 2,
       "version_minor": 0
      },
      "text/plain": [
       "Ranking:   0%|          | 0/8377 [00:00<?, ?it/s]"
      ]
     },
     "metadata": {},
     "output_type": "display_data"
    },
    {
     "data": {
      "application/vnd.jupyter.widget-view+json": {
       "model_id": "1885abfd6d3240a5b9c7bee219564dc7",
       "version_major": 2,
       "version_minor": 0
      },
      "text/plain": [
       "Ranking:   0%|          | 0/8401 [00:00<?, ?it/s]"
      ]
     },
     "metadata": {},
     "output_type": "display_data"
    },
    {
     "name": "stdout",
     "output_type": "stream",
     "text": [
      "\n",
      "[EASE-best] Training started!\n",
      "\n",
      "[EASE-best] Evaluation started!\n"
     ]
    },
    {
     "data": {
      "application/vnd.jupyter.widget-view+json": {
       "model_id": "5ebfb5cd4ddf4cac800f3caf9d8f7fe4",
       "version_major": 2,
       "version_minor": 0
      },
      "text/plain": [
       "Ranking:   0%|          | 0/8377 [00:00<?, ?it/s]"
      ]
     },
     "metadata": {},
     "output_type": "display_data"
    },
    {
     "data": {
      "application/vnd.jupyter.widget-view+json": {
       "model_id": "217d48b6342f4551bb8a55ee2700eb42",
       "version_major": 2,
       "version_minor": 0
      },
      "text/plain": [
       "Ranking:   0%|          | 0/8401 [00:00<?, ?it/s]"
      ]
     },
     "metadata": {},
     "output_type": "display_data"
    },
    {
     "name": "stdout",
     "output_type": "stream",
     "text": [
      "\n",
      "VALIDATION:\n",
      "...\n",
      "            |    MAP | NDCG@20 | Precision@20 | Recall@20 | Time (s)\n",
      "----------- + ------ + ------- + ------------ + --------- + --------\n",
      "MostPop     | 0.0333 |  0.0453 |       0.0073 |    0.1207 |   1.3246\n",
      "ItemKNN     | 0.0068 |  0.0334 |       0.0052 |    0.0853 |   6.5079\n",
      "BPR-default | 0.0439 |  0.0602 |       0.0087 |    0.1466 |   4.3697\n",
      "EASE-best   | 0.1112 |  0.1453 |       0.0166 |    0.2806 |   1.7859\n",
      "\n",
      "TEST:\n",
      "...\n",
      "            |    MAP | NDCG@20 | Precision@20 | Recall@20 | Train (s) | Test (s)\n",
      "----------- + ------ + ------- + ------------ + --------- + --------- + --------\n",
      "MostPop     | 0.0332 |  0.0461 |       0.0074 |    0.1236 |    0.0006 |   1.4355\n",
      "ItemKNN     | 0.0067 |  0.0319 |       0.0052 |    0.0848 |    0.0280 |   6.5442\n",
      "BPR-default | 0.0435 |  0.0588 |       0.0085 |    0.1423 |    0.5207 |   4.3555\n",
      "EASE-best   | 0.1112 |  0.1462 |       0.0169 |    0.2831 |    0.0518 |   1.8593\n",
      "\n"
     ]
    }
   ],
   "source": [
    "def run_experiment(rs, best_params, k=20, verbose=False):\n",
    "    metrics = [Recall(k=k), Precision(k=k), NDCG(k=k), MAP()]\n",
    "    ease_best = EASE(**best_params, name=\"EASE-best\", verbose=False)\n",
    "    exp = cornac.Experiment(\n",
    "        eval_method=rs,\n",
    "        models=[\n",
    "            cornac.models.MostPop(),\n",
    "            cornac.models.ItemKNN(k=100),\n",
    "            cornac.models.BPR(learning_rate=0.01, lambda_reg=0.001, max_iter=200, name=\"BPR-default\"),\n",
    "            ease_best,\n",
    "        ],\n",
    "        metrics=metrics,\n",
    "        verbose=verbose,\n",
    "    )\n",
    "    exp.run()\n",
    "    return exp\n",
    "\n",
    "exp = run_experiment(rs, best_params)\n"
   ]
  },
  {
   "cell_type": "code",
   "execution_count": null,
   "id": "6ed281f9",
   "metadata": {},
   "outputs": [
    {
     "name": "stdout",
     "output_type": "stream",
     "text": [
      "rating_threshold = 1.0\n",
      "exclude_unknowns = True\n",
      "---\n",
      "Training data:\n",
      "Number of users = 38445\n",
      "Number of items = 312\n",
      "Number of ratings = 82349\n",
      "Max rating = 1.0\n",
      "Min rating = 1.0\n",
      "Global mean = 1.0\n",
      "---\n",
      "Test data:\n",
      "Number of users = 38445\n",
      "Number of items = 312\n",
      "Number of ratings = 7003\n",
      "Number of unknown users = 0\n",
      "Number of unknown items = 0\n",
      "---\n",
      "Total users = 38445\n",
      "Total items = 312\n"
     ]
    }
   ],
   "source": [
    "def finalize_ease(uir, best_params, test_size=0.10, seed=42, exclude_unknowns=True, verbose=True):\n",
    "    rs_no_val = RatioSplit(\n",
    "        data=uir,\n",
    "        test_size=test_size,\n",
    "        val_size=0.0,\n",
    "        exclude_unknowns=exclude_unknowns,\n",
    "        seed=seed,\n",
    "        verbose=verbose,\n",
    "    )\n",
    "    final_ease = EASE(**best_params, name=\"EASE-final\", verbose=True)\n",
    "    final_ease.fit(rs_no_val.train_set)\n",
    "    return final_ease, rs_no_val\n",
    "\n",
    "final_ease, rs_no_val = finalize_ease(\n",
    "    uir,\n",
    "    best_params=best_params,\n",
    ")"
   ]
  },
  {
   "cell_type": "code",
   "execution_count": 68,
   "id": "b186b21a",
   "metadata": {},
   "outputs": [
    {
     "name": "stdout",
     "output_type": "stream",
     "text": [
      "\n",
      "[EASE-final] Training started!\n",
      "\n",
      "[EASE-final] Evaluation started!\n"
     ]
    },
    {
     "data": {
      "application/vnd.jupyter.widget-view+json": {
       "model_id": "935ac7615dfd4a5881252b749af6ed7e",
       "version_major": 2,
       "version_minor": 0
      },
      "text/plain": [
       "Ranking:   0%|          | 0/5958 [00:00<?, ?it/s]"
      ]
     },
     "metadata": {},
     "output_type": "display_data"
    },
    {
     "name": "stdout",
     "output_type": "stream",
     "text": [
      "\n",
      "TEST:\n",
      "...\n",
      "           |    MAP | NDCG@20 | Precision@20 | Recall@20 | Train (s) | Test (s)\n",
      "---------- + ------ + ------- + ------------ + --------- + --------- + --------\n",
      "EASE-final | 0.1267 |  0.1675 |       0.0192 |    0.3283 |    0.1192 |   2.1650\n",
      "\n"
     ]
    }
   ],
   "source": [
    "def evaluate_final_model(rs_no_val, final_ease, k=20, verbose=False, save_dir=None):\n",
    "    metrics = [Recall(k=k), Precision(k=k), NDCG(k=k), MAP()]\n",
    "    exp = cornac.Experiment(\n",
    "        eval_method=rs_no_val,\n",
    "        models=[final_ease],\n",
    "        metrics=metrics,\n",
    "        verbose=verbose,\n",
    "        save_dir=save_dir,\n",
    "    )\n",
    "    exp.run()\n",
    "    return exp\n",
    "\n",
    "exp = evaluate_final_model(rs_no_val, final_ease, k=20, verbose=False)"
   ]
  },
  {
   "cell_type": "markdown",
   "id": "b982514a",
   "metadata": {},
   "source": [
    "keeps a pair (i, j) only if at least 12 distinct users interacted with both items."
   ]
  },
  {
   "cell_type": "code",
   "execution_count": 77,
   "id": "fc1aa832",
   "metadata": {},
   "outputs": [],
   "source": [
    "import numpy as np\n",
    "import pandas as pd\n",
    "from scipy import sparse as sp\n",
    "\n",
    "# ---------- helpers ----------\n",
    "def _prepare_item_data(final_ease):\n",
    "    B = np.asarray(final_ease.get_item_vectors(), dtype=float)\n",
    "    ts = final_ease.train_set\n",
    "    raw_item_ids = np.asarray(ts.item_ids, dtype=str)\n",
    "    X = ts.X if hasattr(ts, \"X\") else ts.matrix\n",
    "    X = X.tocsr() if sp.issparse(X) else sp.csr_matrix(X)\n",
    "    return B, raw_item_ids, X\n",
    "\n",
    "def _cooccurrence_support(X):\n",
    "    Xb = X.copy(); Xb.data[:] = 1\n",
    "    S = (Xb.T @ Xb).tocsr()\n",
    "    S.setdiag(0); S.eliminate_zeros()\n",
    "    return S\n",
    "\n",
    "def _top_supported_for_item(i, support, B, raw_item_ids, min_support=12, topk=10):\n",
    "    row = support.getrow(i)\n",
    "    if row.nnz == 0:\n",
    "        return []\n",
    "    mask = row.data >= min_support\n",
    "    if not np.any(mask):\n",
    "        return []\n",
    "    cand = row.indices[mask]\n",
    "    if cand.size < topk:\n",
    "        return []\n",
    "    w = B[i, cand]\n",
    "    order = np.argsort(w)[::-1][:topk]\n",
    "    return list(raw_item_ids[cand[order]])\n",
    "\n",
    "def build_basket_completion(final_ease, min_support=12, topk=10):\n",
    "    \"\"\"Return a DataFrame with per-item Top-K complements using EASE embeddings and co-occurrence.\"\"\"\n",
    "    B, raw_item_ids, X = _prepare_item_data(final_ease)\n",
    "    support = _cooccurrence_support(X)\n",
    "\n",
    "    rows = []\n",
    "    for i, pid in enumerate(raw_item_ids):\n",
    "        recs = _top_supported_for_item(i, support, B, raw_item_ids, min_support=min_support, topk=topk)\n",
    "        if len(recs) < topk:\n",
    "            continue\n",
    "        rows.append({\"Product ID\": pid, **{f\"Top {k}\": recs[k-1] for k in range(1, topk + 1)}})\n",
    "\n",
    "    cols = [\"Product ID\"] + [f\"Top {k}\" for k in range(1, topk + 1)]\n",
    "    return pd.DataFrame(rows, columns=cols)\n",
    "\n",
    "def save_basket_completion(df, out_path):\n",
    "    df.to_parquet(out_path, engine=\"pyarrow\", index=False)\n",
    "\n",
    "MIN_SUPPORT = 12\n",
    "TOPK = 10\n",
    "OUT_PATH = \"/workspace/data/processed/basket_completion.parquet\"\n",
    "df_bc = build_basket_completion(final_ease, min_support=MIN_SUPPORT, topk=TOPK)\n",
    "save_basket_completion(df_bc, OUT_PATH)\n"
   ]
  },
  {
   "cell_type": "code",
   "execution_count": 78,
   "id": "65add398",
   "metadata": {},
   "outputs": [
    {
     "data": {
      "text/html": [
       "<div>\n",
       "<style scoped>\n",
       "    .dataframe tbody tr th:only-of-type {\n",
       "        vertical-align: middle;\n",
       "    }\n",
       "\n",
       "    .dataframe tbody tr th {\n",
       "        vertical-align: top;\n",
       "    }\n",
       "\n",
       "    .dataframe thead th {\n",
       "        text-align: right;\n",
       "    }\n",
       "</style>\n",
       "<table border=\"1\" class=\"dataframe\">\n",
       "  <thead>\n",
       "    <tr style=\"text-align: right;\">\n",
       "      <th></th>\n",
       "      <th>Product ID</th>\n",
       "      <th>Top 1</th>\n",
       "      <th>Top 2</th>\n",
       "      <th>Top 3</th>\n",
       "      <th>Top 4</th>\n",
       "      <th>Top 5</th>\n",
       "      <th>Top 6</th>\n",
       "      <th>Top 7</th>\n",
       "      <th>Top 8</th>\n",
       "      <th>Top 9</th>\n",
       "      <th>Top 10</th>\n",
       "    </tr>\n",
       "  </thead>\n",
       "  <tbody>\n",
       "    <tr>\n",
       "      <th>40</th>\n",
       "      <td>242198</td>\n",
       "      <td>241208</td>\n",
       "      <td>242214</td>\n",
       "      <td>240108</td>\n",
       "      <td>240279</td>\n",
       "      <td>250124</td>\n",
       "      <td>240181</td>\n",
       "      <td>210712</td>\n",
       "      <td>210676</td>\n",
       "      <td>210761</td>\n",
       "      <td>210789</td>\n",
       "    </tr>\n",
       "  </tbody>\n",
       "</table>\n",
       "</div>"
      ],
      "text/plain": [
       "   Product ID   Top 1   Top 2   Top 3   Top 4   Top 5   Top 6   Top 7   Top 8  \\\n",
       "40     242198  241208  242214  240108  240279  250124  240181  210712  210676   \n",
       "\n",
       "     Top 9  Top 10  \n",
       "40  210761  210789  "
      ]
     },
     "execution_count": 78,
     "metadata": {},
     "output_type": "execute_result"
    }
   ],
   "source": [
    "df_bc.sample(1)"
   ]
  },
  {
   "cell_type": "code",
   "execution_count": null,
   "id": "f634dab5",
   "metadata": {},
   "outputs": [],
   "source": []
  }
 ],
 "metadata": {
  "kernelspec": {
   "display_name": "Python (itcm-recsys)",
   "language": "python",
   "name": "itcm-recsys"
  },
  "language_info": {
   "codemirror_mode": {
    "name": "ipython",
    "version": 3
   },
   "file_extension": ".py",
   "mimetype": "text/x-python",
   "name": "python",
   "nbconvert_exporter": "python",
   "pygments_lexer": "ipython3",
   "version": "3.10.18"
  }
 },
 "nbformat": 4,
 "nbformat_minor": 5
}
