{
 "cells": [
  {
   "cell_type": "markdown",
   "id": "b6015605",
   "metadata": {},
   "source": [
    "# item–item knn cf using jaccard; temporal split; thresholded scoring; evaluated by leave-one-out basket completion (hit@k, coverage)."
   ]
  },
  {
   "cell_type": "code",
   "execution_count": 10,
   "id": "0fd2dd1c",
   "metadata": {},
   "outputs": [],
   "source": [
    "import pandas as pd\n",
    "from datetime import timedelta\n",
    "\n",
    "p=\"/workspace/data/processed/transactions_clean.parquet\"\n",
    "tx=pd.read_parquet(p,columns=[\"orderId\",\"groupId\",\"created\"])\n"
   ]
  },
  {
   "cell_type": "code",
   "execution_count": 11,
   "id": "d0b8c2d4",
   "metadata": {},
   "outputs": [],
   "source": [
    "bad={\"12025DK\",\"12025FI\",\"12025NO\",\"12025SE\",\"970300\",\"459978\"}\n",
    "tx=tx[~tx[\"groupId\"].astype(str).str.strip().isin(bad)].reset_index(drop=True)\n"
   ]
  },
  {
   "cell_type": "code",
   "execution_count": 12,
   "id": "3b16e720",
   "metadata": {},
   "outputs": [],
   "source": [
    "def mk_baskets(x):\n",
    "    x=x.copy()\n",
    "    x[\"created\"]=pd.to_datetime(x[\"created\"],errors=\"coerce\")\n",
    "    return x.groupby(\"orderId\",as_index=False).agg(items=(\"groupId\",lambda s:list(dict.fromkeys(s))),t=(\"created\",\"max\"))\n",
    "b=mk_baskets(tx)\n"
   ]
  },
  {
   "cell_type": "code",
   "execution_count": 13,
   "id": "d41977fd",
   "metadata": {},
   "outputs": [],
   "source": [
    "def split(x,w=6):\n",
    "    te=x[\"t\"].max()\n",
    "    t=te-timedelta(days=7*w)\n",
    "    tr=x[x[\"t\"]<t].reset_index(drop=True)\n",
    "    te_o=x[(x[\"t\"]>=t)&(x[\"items\"].apply(lambda s: len(set(s))>=2))].reset_index(drop=True)\n",
    "    return tr,te_o,te,t\n",
    "tr,teo,te,ts=split(b,6) #tr is the training set, teo is the test set, te is the test set for evaluation, ts is the split date\n"
   ]
  },
  {
   "cell_type": "code",
   "execution_count": 14,
   "id": "d5e62cb9",
   "metadata": {},
   "outputs": [],
   "source": [
    "from collections import Counter\n",
    "from itertools import combinations\n",
    "\n",
    "def supports(x):\n",
    "    a=Counter(); p2=Counter()\n",
    "    for s in x[\"items\"]:\n",
    "        u=list(dict.fromkeys(s))\n",
    "        a.update(u)\n",
    "        p2.update(tuple(sorted(c)) for c in combinations(u,2))\n",
    "    return a,p2\n",
    "a,p2=supports(tr)\n"
   ]
  },
  {
   "cell_type": "code",
   "execution_count": 15,
   "id": "504d9c18",
   "metadata": {},
   "outputs": [],
   "source": [
    "from collections import defaultdict\n",
    "\n",
    "mi,mp,k=10,5,100 #tune mi is the minimum support, mp is the minimum number of items in the basket, k is the number of neighbors\n",
    "def nbrs(a,p2):\n",
    "    d=defaultdict(list)\n",
    "    for (i,j),n in p2.items():\n",
    "        if n<mp: continue\n",
    "        ni,nj=a[i],a[j]\n",
    "        if ni<mi or nj<mi: continue\n",
    "        s=n/(ni+nj-n) # jaccard similarity\n",
    "        d[i].append((j,s)); d[j].append((i,s))\n",
    "    for i in list(d):\n",
    "        d[i]=sorted(d[i],key=lambda x:x[1],reverse=True)[:k]\n",
    "    return d\n",
    "nb=nbrs(a,p2)\n"
   ]
  },
  {
   "cell_type": "markdown",
   "id": "83694d45",
   "metadata": {},
   "source": [
    "Tune cut off threshold similarity based on coverage / hit rate drop"
   ]
  },
  {
   "cell_type": "code",
   "execution_count": 16,
   "id": "7dba0678",
   "metadata": {},
   "outputs": [],
   "source": [
    "from collections import defaultdict\n",
    "\n",
    "t=0.02\n",
    "def rec(nb,seed,topk=10,cand=None,thr=t):\n",
    "    from collections import defaultdict\n",
    "    sc=defaultdict(float); s=set(map(str,seed))\n",
    "    for i in s:\n",
    "        for j,w in nb.get(i,[]):\n",
    "            if j in s: continue\n",
    "            if cand is not None and j not in cand: continue\n",
    "            if w<thr: continue\n",
    "            sc[j]+=w\n",
    "    return [i for i,_ in sorted(sc.items(),key=lambda x:x[1],reverse=True)[:topk]]\n",
    "\n",
    "def hit_cov(teo,nb,topk=10,cand=None,thr=t):\n",
    "    h=0; th=0; c=0; tb=0\n",
    "    for it in teo[\"items\"]:\n",
    "        b=list(dict.fromkeys(it))\n",
    "        if len(b)<2: continue\n",
    "        if len(rec(nb,b,topk,cand,thr))>0: c+=1\n",
    "        tb+=1\n",
    "        for x in b:\n",
    "            s=[y for y in b if y!=x]\n",
    "            r=rec(nb,s,topk,cand,thr)\n",
    "            h+=int(str(x) in r); th+=1\n",
    "    return (h/th if th else 0.0,c/tb if tb else 0.0)\n"
   ]
  },
  {
   "cell_type": "code",
   "execution_count": 18,
   "id": "e45e9c5a",
   "metadata": {},
   "outputs": [
    {
     "name": "stdout",
     "output_type": "stream",
     "text": [
      "0.16923382294561334 0.9718614718614719\n"
     ]
    }
   ],
   "source": [
    "art=pd.read_parquet(\"/workspace/data/processed/articles_for_recs.parquet\")\n",
    "cand={str(i) for i,cnt in a.items() if cnt>=mi}&set(art[\"groupId\"].astype(str))\n",
    "hit,cov=hit_cov(teo,nb,cand=cand)\n",
    "print(hit,cov)\n"
   ]
  },
  {
   "cell_type": "code",
   "execution_count": 19,
   "id": "b041dcef",
   "metadata": {},
   "outputs": [
    {
     "name": "stdout",
     "output_type": "stream",
     "text": [
      "0.20857483128225487\n"
     ]
    }
   ],
   "source": [
    "h0,_=hit_cov(teo,nb,cand=cand,thr=0.0); print(h0)\n"
   ]
  },
  {
   "cell_type": "code",
   "execution_count": 20,
   "id": "6a4d3d6e",
   "metadata": {},
   "outputs": [],
   "source": [
    "a_all,p2_all=supports(b)\n",
    "nb_all=nbrs(a_all,p2_all)\n",
    "\n",
    "def nb_df(nb):\n",
    "    r=[]\n",
    "    for i,l in nb.items():\n",
    "        for j,s in l:\n",
    "            r.append((str(i),str(j),float(s)))\n",
    "    return pd.DataFrame(r,columns=[\"item_id\",\"neighbor_id\",\"score\"])\n",
    "\n",
    "df=nb_df(nb_all)\n",
    "v=set(art[\"groupId\"].astype(str).unique())\n",
    "df=df[df[\"neighbor_id\"].isin(v)]\n",
    "df=df[df[\"item_id\"].isin(v)]\n",
    "thr=0.02; top=10\n",
    "df=df[df[\"score\"]>=thr]\n",
    "df[\"rank\"]=df.groupby(\"item_id\")[\"score\"].rank(method=\"first\",ascending=False)\n",
    "df=(df[df[\"rank\"]<=top]\n",
    "      .assign(rank=lambda x: x[\"rank\"].astype(int))\n",
    "      .sort_values([\"item_id\",\"rank\"])\n",
    "      .pivot(index=\"item_id\",columns=\"rank\",values=\"neighbor_id\"))\n",
    "df=df.rename(columns=lambda r: f\"Top {r}\").reindex(columns=[f\"Top {i}\" for i in range(1,top+1)])\n",
    "df.index.name=\"Product ID\"\n",
    "df=df.reset_index().fillna(\"—\")\n",
    "df.to_parquet(\"/workspace/data/processed/basket_completion.parquet\",index=False)"
   ]
  },
  {
   "cell_type": "code",
   "execution_count": null,
   "id": "bef3bac0",
   "metadata": {},
   "outputs": [],
   "source": []
  }
 ],
 "metadata": {
  "kernelspec": {
   "display_name": "Python (itcm-recsys)",
   "language": "python",
   "name": "itcm-recsys"
  },
  "language_info": {
   "codemirror_mode": {
    "name": "ipython",
    "version": 3
   },
   "file_extension": ".py",
   "mimetype": "text/x-python",
   "name": "python",
   "nbconvert_exporter": "python",
   "pygments_lexer": "ipython3",
   "version": "3.10.18"
  }
 },
 "nbformat": 4,
 "nbformat_minor": 5
}
