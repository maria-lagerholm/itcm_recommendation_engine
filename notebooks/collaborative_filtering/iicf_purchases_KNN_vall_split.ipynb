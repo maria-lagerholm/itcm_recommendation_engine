{
 "cells": [
  {
   "cell_type": "markdown",
   "id": "5cb6dca1",
   "metadata": {},
   "source": [
    "# Personalized recommendation only for repeat buyers: training objective is always user → item preference, not item ↔ item co-occurrence."
   ]
  },
  {
   "cell_type": "markdown",
   "id": "45f2ee3e",
   "metadata": {},
   "source": [
    "\n",
    "\n",
    "item_similarity matrix is built from the user–item interaction matrix.\n",
    "Each column is an item vector showing which users bought it (and how strongly, e.g. with log1p weights).\n",
    "To compute similarity between two items, you compare those columns.\n",
    "👉 So two items will have high cosine similarity if:\n",
    "Many of the same users bought both, and\n",
    "Their purchase patterns (weights) are similar.\n",
    "\n",
    "\n",
    "\n",
    "\n",
    "### 🔹 User similarity (user–user CF)\n",
    "\n",
    "* Two users are considered **similar** if they **interacted with the same items in similar ways**.\n",
    "* You compare **rows** of the user–item matrix.\n",
    "* Example: if Alice and Bob both bought mostly the same products, their vectors look alike → high similarity.\n",
    "\n",
    "---\n",
    "\n",
    "### 🔹 Item similarity (item–item CF)\n",
    "\n",
    "* Two items are considered **similar** if they are **consumed by the same users**.\n",
    "* You compare **columns** of the user–item matrix.\n",
    "* Example: if product A and product B are often bought by the same customers, their vectors look alike → high similarity.\n",
    "---\n",
    "\n",
    "### 🔹 Concept in words\n",
    "\n",
    "* **User similarity**: “Find other people who behave like me, then recommend what they bought.”\n",
    "* **Item similarity**: “Find products that behave alike across customers, then recommend them to me based on what I bought.”\n",
    "\n",
    "\n",
    "---\n",
    "\n",
    "## 3. Item Embeddings\n",
    "\n",
    "* Treat each basket (or order) like a “sentence” and each item like a “word.”\n",
    "* Train embeddings with **Word2Vec/Skip-gram/CBOW** or newer methods.\n",
    "* Similar items end up close in embedding space, which is often smoother and less sparse than co-purchase counts.\n",
    "\n",
    "---\n",
    "\n",
    "## 4. Bayesian/Probabilistic Models\n",
    "\n",
    "* Models like **Bayesian Personalized Ranking (BPR)** or **Poisson Factorization** generate item similarity from a probabilistic perspective.\n",
    "* These models are especially good for implicit feedback (purchases, clicks).\n",
    "\n",
    "---\n",
    "\n",
    "## 5. Hybrid Approaches\n",
    "\n",
    "* Combine **collaborative signals** with **content similarity** (semantic embeddings, metadata).\n",
    "* Example: If two items rarely co-occur but are textually or visually similar, hybrid scoring can still surface them.\n",
    "\n",
    "\n",
    "\n",
    "\n",
    "\n",
    "\n"
   ]
  },
  {
   "cell_type": "markdown",
   "id": "f5895f0d",
   "metadata": {},
   "source": [
    "If your goal is ranking items for recommendation (top-N lists) → Bayesian Personalized Ranking BPR-MF is the better choice than logistic. Better suited for recommendation lists where the order matters. BPR trains recommenders to rank bought items higher than not-bought items, using implicit feedback Learn the blend: train models (logistic, trees, or learning-to-rank) to set weights/features from data. MF + BPR loss → learns latent factors optimized for ranking (top-N recommendation). \n",
    "\n",
    "* **Blending:** final score $= \\alpha \\cdot \\text{MF} + \\beta \\cdot \\text{popularity} + \\gamma \\cdot \\text{copurchase}$. Tune $\\alpha,\\beta,\\gamma$ offline by NDCG\\@K; verify with A/B.\n"
   ]
  },
  {
   "cell_type": "markdown",
   "id": "3e541b72",
   "metadata": {},
   "source": [
    "\n",
    "* **General recipe:** A recommender = **model** (e.g., MF, linear regression, nearest-neighbor) + **parameters** (θ) + **loss/utility function** + **optimization algorithm**.\n",
    "* **Training loop:**\n",
    "\n",
    "  1. Use parameters → make predictions.\n",
    "  2. Measure error/utility.\n",
    "  3. Update parameters (e.g., gradient descent).\n",
    "  4. Repeat until convergence.\n",
    "* **Models:** can be global mean, bias models, linear regression, matrix factorization, etc.\n",
    "* **Metrics to optimize:**\n",
    "\n",
    "  * RMSE (prediction accuracy).\n",
    "  * Classification accuracy (good vs. bad).\n",
    "  * Ranking accuracy (top-N).\n",
    "* **Optimization:** typically gradient descent (needs differentiable loss), sometimes EM or other iterative methods."
   ]
  },
  {
   "cell_type": "markdown",
   "id": "b7d6ef50",
   "metadata": {},
   "source": [
    "Ensembles win: Blend diverse models (MF, neighborhood, RBM, etc.) — a few strong ones often suffice. Many small, complementary predictors beat one “perfect” model.\n",
    "\n",
    "* **Matrix setup:** Instead of ratings (1–5), use a **binary matrix**:\n",
    "\n",
    "  * 1 if a user purchased an item.\n",
    "  * 0 if not (missing/unknown).\n",
    "\n",
    "* **Bias:** Biases first: Model global/user/item effects (means) — they matter a lot. Instead of rating means, the baseline becomes **popularity** (global, per-item, per-user purchase rates).\n",
    "\n",
    "* **Normalization:** Center by subtracting these purchase probabilities (so frequent buyers or p\\opular items don’t dominate).\n",
    "\n",
    "* **Factorization:** Apply SVD/matrix factorization to this binary (or normalized) matrix → find latent factors of *why* items are co-purchased. Sparse-aware MF: Use matrix factorization that fits only observed entries (not dense SVD).\n",
    "\n",
    "* **Scoring:** Predicted score = baseline purchase probability + user–item dot product in latent space.\n",
    "\n",
    "  * High score = higher predicted likelihood of purchase.\n",
    "\n",
    "* **Evaluation:**\n",
    "\n",
    "  * Ratings → RMSE.\n",
    "  * Purchases → ranking metrics (precision\\@k, recall\\@k, nDCG), since we only care about “what will the user buy next.”\n",
    "\n",
    "👉 **Lesson:** It’s the same pipeline, but you swap “rating values” with “purchase indicators,” and evaluate with **ranking-based metrics** instead of rating accuracy.\n",
    "\n",
    "Do you want me to give you a **1–2 sentence “purchase version” rewrite** of your original short learning list?\n",
    "\n",
    "RMSE ≠ product impact: Ranking/top-N and online A/B tests are more aligned with business goals.\n"
   ]
  },
  {
   "cell_type": "markdown",
   "id": "70e57fe6",
   "metadata": {},
   "source": [
    "* Start with a big **user–item interaction matrix** (ratings, purchases, clicks).\n",
    "* Initialize random **user vectors** ($p_u$) and **item vectors** ($q_i$).\n",
    "* Define a **loss function** (e.g., squared error between actual vs predicted rating, or BPR for ranking).\n",
    "* Use **optimization (like gradient descent)** to adjust the vectors so that:\n",
    "\n",
    "  * items a user liked/bought get **higher predicted scores**,\n",
    "  * items they ignored get **lower scores**.\n",
    "\n",
    "👉 Over many updates, the vectors capture hidden patterns (“user likes sci-fi,” “item is a comedy”) so that the **dot product = predicted preference**."
   ]
  },
  {
   "cell_type": "code",
   "execution_count": 53,
   "id": "769f81b8",
   "metadata": {},
   "outputs": [
    {
     "data": {
      "text/html": [
       "<div>\n",
       "<style scoped>\n",
       "    .dataframe tbody tr th:only-of-type {\n",
       "        vertical-align: middle;\n",
       "    }\n",
       "\n",
       "    .dataframe tbody tr th {\n",
       "        vertical-align: top;\n",
       "    }\n",
       "\n",
       "    .dataframe thead th {\n",
       "        text-align: right;\n",
       "    }\n",
       "</style>\n",
       "<table border=\"1\" class=\"dataframe\">\n",
       "  <thead>\n",
       "    <tr style=\"text-align: right;\">\n",
       "      <th></th>\n",
       "      <th>shopUserId</th>\n",
       "      <th>orderId</th>\n",
       "      <th>quantity</th>\n",
       "      <th>groupId</th>\n",
       "      <th>created</th>\n",
       "    </tr>\n",
       "  </thead>\n",
       "  <tbody>\n",
       "    <tr>\n",
       "      <th>0</th>\n",
       "      <td>812427</td>\n",
       "      <td>785001</td>\n",
       "      <td>1</td>\n",
       "      <td>261873</td>\n",
       "      <td>2025-08-05 20:14:28</td>\n",
       "    </tr>\n",
       "    <tr>\n",
       "      <th>1</th>\n",
       "      <td>831360</td>\n",
       "      <td>784985</td>\n",
       "      <td>4</td>\n",
       "      <td>261745</td>\n",
       "      <td>2025-08-05 19:55:36</td>\n",
       "    </tr>\n",
       "    <tr>\n",
       "      <th>2</th>\n",
       "      <td>209204</td>\n",
       "      <td>784978</td>\n",
       "      <td>1</td>\n",
       "      <td>265298</td>\n",
       "      <td>2025-08-05 19:47:22</td>\n",
       "    </tr>\n",
       "    <tr>\n",
       "      <th>4</th>\n",
       "      <td>831340</td>\n",
       "      <td>784977</td>\n",
       "      <td>1</td>\n",
       "      <td>260596</td>\n",
       "      <td>2025-08-05 19:46:09</td>\n",
       "    </tr>\n",
       "    <tr>\n",
       "      <th>5</th>\n",
       "      <td>831340</td>\n",
       "      <td>784977</td>\n",
       "      <td>1</td>\n",
       "      <td>260596</td>\n",
       "      <td>2025-08-05 19:46:09</td>\n",
       "    </tr>\n",
       "    <tr>\n",
       "      <th>...</th>\n",
       "      <td>...</td>\n",
       "      <td>...</td>\n",
       "      <td>...</td>\n",
       "      <td>...</td>\n",
       "      <td>...</td>\n",
       "    </tr>\n",
       "    <tr>\n",
       "      <th>250024</th>\n",
       "      <td>78202</td>\n",
       "      <td>158870</td>\n",
       "      <td>1</td>\n",
       "      <td>221416</td>\n",
       "      <td>2024-05-22 14:18:16</td>\n",
       "    </tr>\n",
       "    <tr>\n",
       "      <th>250026</th>\n",
       "      <td>78181</td>\n",
       "      <td>158841</td>\n",
       "      <td>1</td>\n",
       "      <td>265843</td>\n",
       "      <td>2024-05-22 13:42:39</td>\n",
       "    </tr>\n",
       "    <tr>\n",
       "      <th>250038</th>\n",
       "      <td>78145</td>\n",
       "      <td>158800</td>\n",
       "      <td>1</td>\n",
       "      <td>261518</td>\n",
       "      <td>2024-05-22 12:54:51</td>\n",
       "    </tr>\n",
       "    <tr>\n",
       "      <th>250039</th>\n",
       "      <td>78136</td>\n",
       "      <td>158791</td>\n",
       "      <td>1</td>\n",
       "      <td>542087</td>\n",
       "      <td>2024-05-22 12:44:01</td>\n",
       "    </tr>\n",
       "    <tr>\n",
       "      <th>250040</th>\n",
       "      <td>78135</td>\n",
       "      <td>158790</td>\n",
       "      <td>1</td>\n",
       "      <td>291294</td>\n",
       "      <td>2024-05-22 12:38:29</td>\n",
       "    </tr>\n",
       "  </tbody>\n",
       "</table>\n",
       "<p>138392 rows × 5 columns</p>\n",
       "</div>"
      ],
      "text/plain": [
       "        shopUserId  orderId  quantity groupId              created\n",
       "0           812427   785001         1  261873  2025-08-05 20:14:28\n",
       "1           831360   784985         4  261745  2025-08-05 19:55:36\n",
       "2           209204   784978         1  265298  2025-08-05 19:47:22\n",
       "4           831340   784977         1  260596  2025-08-05 19:46:09\n",
       "5           831340   784977         1  260596  2025-08-05 19:46:09\n",
       "...            ...      ...       ...     ...                  ...\n",
       "250024       78202   158870         1  221416  2024-05-22 14:18:16\n",
       "250026       78181   158841         1  265843  2024-05-22 13:42:39\n",
       "250038       78145   158800         1  261518  2024-05-22 12:54:51\n",
       "250039       78136   158791         1  542087  2024-05-22 12:44:01\n",
       "250040       78135   158790         1  291294  2024-05-22 12:38:29\n",
       "\n",
       "[138392 rows x 5 columns]"
      ]
     },
     "execution_count": 53,
     "metadata": {},
     "output_type": "execute_result"
    }
   ],
   "source": [
    "import pandas as pd\n",
    "\n",
    "cols = ['shopUserId', 'orderId', 'quantity', 'groupId', 'created']\n",
    "tx = pd.read_csv('../data/processed//transactions_clean.csv', usecols=cols + ['status'], low_memory=False)\n",
    "tx = tx[tx['status'] == 'active'][cols].astype({'quantity': int})\n",
    "tx"
   ]
  },
  {
   "cell_type": "code",
   "execution_count": 54,
   "id": "7001f478",
   "metadata": {},
   "outputs": [
    {
     "name": "stdout",
     "output_type": "stream",
     "text": [
      "TRAIN: (128887, 5) VAL: (3908, 5) TEST: (5588, 5)\n",
      "Users — TRAIN: 57994 VAL: 3908 TEST: 5588\n"
     ]
    }
   ],
   "source": [
    "import numpy as np\n",
    "\n",
    "# 0) sort (same-timestamp tie-breakers)\n",
    "tx = tx.sort_values([\"shopUserId\",\"created\",\"orderId\",\"groupId\"]).copy()\n",
    "\n",
    "# 1) eligible users (≥2 interactions)\n",
    "u_counts = tx.groupby(\"shopUserId\")[\"groupId\"].size()\n",
    "eligible = u_counts[u_counts >= 3].index.values\n",
    "\n",
    "# 2) disjoint cohorts\n",
    "rng = np.random.default_rng(42)\n",
    "TEST_FRAC, VAL_FRAC = 0.30, 0.30\n",
    "test_users = set(rng.choice(eligible, size=int(len(eligible)*TEST_FRAC), replace=False))\n",
    "remaining  = np.setdiff1d(eligible, list(test_users))\n",
    "val_users  = set(rng.choice(remaining, size=int(len(remaining)*VAL_FRAC), replace=False))\n",
    "\n",
    "# 3) last interaction per user\n",
    "last_rows = tx.groupby(\"shopUserId\", group_keys=False).tail(1)\n",
    "\n",
    "test = last_rows[last_rows[\"shopUserId\"].isin(test_users)].copy()\n",
    "val  = last_rows[last_rows[\"shopUserId\"].isin(val_users)].copy()\n",
    "train = tx.drop(test.index.union(val.index)).copy()\n",
    "\n",
    "# 4) safety: drop holdouts whose item never appears in TRAIN\n",
    "seen = set(train[\"groupId\"].unique())\n",
    "val  = val[val[\"groupId\"].isin(seen)].copy()\n",
    "test = test[test[\"groupId\"].isin(seen)].copy()\n",
    "\n",
    "print(\"TRAIN:\", train.shape, \"VAL:\", val.shape, \"TEST:\", test.shape)\n",
    "print(\"Users — TRAIN:\", train[\"shopUserId\"].nunique(),\n",
    "      \"VAL:\", val[\"shopUserId\"].nunique(),\n",
    "      \"TEST:\", test[\"shopUserId\"].nunique())\n"
   ]
  },
  {
   "cell_type": "markdown",
   "id": "a202898e",
   "metadata": {},
   "source": [
    "## Encode IDs on TRAIN only"
   ]
  },
  {
   "cell_type": "code",
   "execution_count": 55,
   "id": "089aa484",
   "metadata": {},
   "outputs": [],
   "source": [
    "from sklearn.preprocessing import LabelEncoder\n",
    "\n",
    "u_le = LabelEncoder().fit(train[\"shopUserId\"])\n",
    "i_le = LabelEncoder().fit(train[\"groupId\"])\n",
    "\n",
    "val  = val [val [\"shopUserId\"].isin(u_le.classes_) & val [\"groupId\"].isin(i_le.classes_)]\n",
    "test = test[test[\"shopUserId\"].isin(u_le.classes_) & test[\"groupId\"].isin(i_le.classes_)]\n",
    "\n",
    "train = train.assign(user_idx=u_le.transform(train[\"shopUserId\"]),\n",
    "                     item_idx=i_le.transform(train[\"groupId\"]))\n",
    "val   = val.assign(user_idx=u_le.transform(val[\"shopUserId\"]),\n",
    "                   item_idx=i_le.transform(val[\"groupId\"]))\n",
    "test  = test.assign(user_idx=u_le.transform(test[\"shopUserId\"]),\n",
    "                    item_idx=i_le.transform(test[\"groupId\"]))\n"
   ]
  },
  {
   "cell_type": "markdown",
   "id": "0e23af5b",
   "metadata": {},
   "source": [
    "## Build sparse matrices (binary) + BM25 KNN model"
   ]
  },
  {
   "cell_type": "code",
   "execution_count": 56,
   "id": "964e0f0e",
   "metadata": {},
   "outputs": [
    {
     "name": "stderr",
     "output_type": "stream",
     "text": [
      "/opt/conda/lib/python3.10/site-packages/implicit/utils.py:164: ParameterWarning: Method expects CSR input, and was passed coo_matrix instead. Converting to CSR took 0.0007288455963134766 seconds\n",
      "  warnings.warn(\n"
     ]
    },
    {
     "data": {
      "application/vnd.jupyter.widget-view+json": {
       "model_id": "13c369a4d6e14a0eba697ec9a9e7cac7",
       "version_major": 2,
       "version_minor": 0
      },
      "text/plain": [
       "  0%|          | 0/57994 [00:00<?, ?it/s]"
      ]
     },
     "metadata": {},
     "output_type": "display_data"
    }
   ],
   "source": [
    "\n",
    "import numpy as np\n",
    "from scipy.sparse import coo_matrix\n",
    "from implicit.nearest_neighbours import BM25Recommender\n",
    "\n",
    "UI = coo_matrix((np.ones(len(train)), (train.user_idx, train.item_idx))).tocsr()  # users×items\n",
    "IU = UI.T.tocsr()                                                                 # items×users\n",
    "UI_eval = IU.T.tocsr()                                                            # align with model\n",
    "\n",
    "knn = BM25Recommender(K=50)  # you’ll tune K soon\n",
    "knn.fit(IU)\n"
   ]
  },
  {
   "cell_type": "markdown",
   "id": "d45e44c0",
   "metadata": {},
   "source": [
    "## Ground truth (one held-out item per user)"
   ]
  },
  {
   "cell_type": "code",
   "execution_count": 57,
   "id": "1ef9663b",
   "metadata": {},
   "outputs": [],
   "source": [
    "train_pos = train.groupby(\"user_idx\")[\"item_idx\"].apply(set).to_dict()\n",
    "val_truth  = val.groupby(\"user_idx\")[\"item_idx\"].apply(set).to_dict()\n",
    "test_truth = test.groupby(\"user_idx\")[\"item_idx\"].apply(set).to_dict()"
   ]
  },
  {
   "cell_type": "markdown",
   "id": "b291bdad",
   "metadata": {},
   "source": [
    "## Recall@K helper"
   ]
  },
  {
   "cell_type": "code",
   "execution_count": 58,
   "id": "7f81c3b9",
   "metadata": {},
   "outputs": [],
   "source": [
    "def recall_at_k(model, UI_eval, truth, K=10):\n",
    "    hits = total = 0\n",
    "    n_users = UI_eval.shape[0]\n",
    "    for u, true in truth.items():\n",
    "        if not (0 <= u < n_users):\n",
    "            continue\n",
    "        recs, _ = model.recommend(u, UI_eval[u], N=K, filter_already_liked_items=True)\n",
    "        hits += len(set(recs) & true)\n",
    "        total += len(true)\n",
    "    return hits / max(total, 1)\n"
   ]
  },
  {
   "cell_type": "markdown",
   "id": "32e0172e",
   "metadata": {},
   "source": [
    "## Tune just K on validation"
   ]
  },
  {
   "cell_type": "code",
   "execution_count": 59,
   "id": "68156b3a",
   "metadata": {},
   "outputs": [
    {
     "name": "stderr",
     "output_type": "stream",
     "text": [
      "/opt/conda/lib/python3.10/site-packages/implicit/utils.py:164: ParameterWarning: Method expects CSR input, and was passed coo_matrix instead. Converting to CSR took 0.0005855560302734375 seconds\n",
      "  warnings.warn(\n"
     ]
    },
    {
     "data": {
      "application/vnd.jupyter.widget-view+json": {
       "model_id": "c2fae8ee0a1b44afa8c0dc18f4479cf9",
       "version_major": 2,
       "version_minor": 0
      },
      "text/plain": [
       "  0%|          | 0/57994 [00:00<?, ?it/s]"
      ]
     },
     "metadata": {},
     "output_type": "display_data"
    },
    {
     "name": "stderr",
     "output_type": "stream",
     "text": [
      "/opt/conda/lib/python3.10/site-packages/implicit/utils.py:164: ParameterWarning: Method expects CSR input, and was passed coo_matrix instead. Converting to CSR took 0.00037741661071777344 seconds\n",
      "  warnings.warn(\n"
     ]
    },
    {
     "data": {
      "application/vnd.jupyter.widget-view+json": {
       "model_id": "ab19e4f2096b476ab4c115f529668c3d",
       "version_major": 2,
       "version_minor": 0
      },
      "text/plain": [
       "  0%|          | 0/57994 [00:00<?, ?it/s]"
      ]
     },
     "metadata": {},
     "output_type": "display_data"
    },
    {
     "name": "stderr",
     "output_type": "stream",
     "text": [
      "/opt/conda/lib/python3.10/site-packages/implicit/utils.py:164: ParameterWarning: Method expects CSR input, and was passed coo_matrix instead. Converting to CSR took 0.00037169456481933594 seconds\n",
      "  warnings.warn(\n"
     ]
    },
    {
     "data": {
      "application/vnd.jupyter.widget-view+json": {
       "model_id": "7f0105db0b6a436a977af28d91711c8f",
       "version_major": 2,
       "version_minor": 0
      },
      "text/plain": [
       "  0%|          | 0/57994 [00:00<?, ?it/s]"
      ]
     },
     "metadata": {},
     "output_type": "display_data"
    },
    {
     "name": "stderr",
     "output_type": "stream",
     "text": [
      "/opt/conda/lib/python3.10/site-packages/implicit/utils.py:164: ParameterWarning: Method expects CSR input, and was passed coo_matrix instead. Converting to CSR took 0.00034928321838378906 seconds\n",
      "  warnings.warn(\n"
     ]
    },
    {
     "data": {
      "application/vnd.jupyter.widget-view+json": {
       "model_id": "4512d990c5fb4cf38b70fa300ec50ed2",
       "version_major": 2,
       "version_minor": 0
      },
      "text/plain": [
       "  0%|          | 0/57994 [00:00<?, ?it/s]"
      ]
     },
     "metadata": {},
     "output_type": "display_data"
    },
    {
     "name": "stdout",
     "output_type": "stream",
     "text": [
      "Best K: 20 Val Recall@10: 0.0\n"
     ]
    }
   ],
   "source": [
    "# correct training loop\n",
    "best = (None, -1.0)\n",
    "for K in (20, 50, 100, 200):\n",
    "    knn = BM25Recommender(K=K)\n",
    "    knn.fit(IU)  # in-place; do NOT reassign\n",
    "\n",
    "    score = recall_at_k(knn, UI_eval, val_truth, K=10)\n",
    "    if score > best[1]:\n",
    "        best = (K, score)\n",
    "\n",
    "print(\"Best K:\", best[0], \"Val Recall@10:\", round(best[1], 4))\n"
   ]
  },
  {
   "cell_type": "code",
   "execution_count": 52,
   "id": "8640269d",
   "metadata": {},
   "outputs": [
    {
     "name": "stderr",
     "output_type": "stream",
     "text": [
      "/opt/conda/lib/python3.10/site-packages/implicit/utils.py:164: ParameterWarning: Method expects CSR input, and was passed coo_matrix instead. Converting to CSR took 0.0007426738739013672 seconds\n",
      "  warnings.warn(\n"
     ]
    },
    {
     "data": {
      "application/vnd.jupyter.widget-view+json": {
       "model_id": "3d686f47e67e4ab0bd91adc4a5765331",
       "version_major": 2,
       "version_minor": 0
      },
      "text/plain": [
       "  0%|          | 0/57994 [00:00<?, ?it/s]"
      ]
     },
     "metadata": {},
     "output_type": "display_data"
    },
    {
     "ename": "AttributeError",
     "evalue": "'NoneType' object has no attribute 'recommend'",
     "output_type": "error",
     "traceback": [
      "\u001b[0;31m---------------------------------------------------------------------------\u001b[0m",
      "\u001b[0;31mAttributeError\u001b[0m                            Traceback (most recent call last)",
      "Cell \u001b[0;32mIn[52], line 11\u001b[0m\n\u001b[1;32m      8\u001b[0m UIe_full \u001b[38;5;241m=\u001b[39m IU_full\u001b[38;5;241m.\u001b[39mT\u001b[38;5;241m.\u001b[39mtocsr()\n\u001b[1;32m     10\u001b[0m knn \u001b[38;5;241m=\u001b[39m BM25Recommender(K\u001b[38;5;241m=\u001b[39mbest[\u001b[38;5;241m0\u001b[39m])\u001b[38;5;241m.\u001b[39mfit(IU_full)\n\u001b[0;32m---> 11\u001b[0m test_recall10 \u001b[38;5;241m=\u001b[39m \u001b[43mrecall_at_k\u001b[49m\u001b[43m(\u001b[49m\u001b[43mknn\u001b[49m\u001b[43m,\u001b[49m\u001b[43m \u001b[49m\u001b[43mUIe_full\u001b[49m\u001b[43m,\u001b[49m\u001b[43m \u001b[49m\u001b[43mtest_truth\u001b[49m\u001b[43m,\u001b[49m\u001b[43m \u001b[49m\u001b[43mK\u001b[49m\u001b[38;5;241;43m=\u001b[39;49m\u001b[38;5;241;43m10\u001b[39;49m\u001b[43m)\u001b[49m\n\u001b[1;32m     12\u001b[0m \u001b[38;5;28mprint\u001b[39m(\u001b[38;5;124m\"\u001b[39m\u001b[38;5;124mTest Recall@10:\u001b[39m\u001b[38;5;124m\"\u001b[39m, \u001b[38;5;28mround\u001b[39m(test_recall10, \u001b[38;5;241m4\u001b[39m))\n",
      "Cell \u001b[0;32mIn[50], line 7\u001b[0m, in \u001b[0;36mrecall_at_k\u001b[0;34m(model, UI_eval, truth, K)\u001b[0m\n\u001b[1;32m      5\u001b[0m \u001b[38;5;28;01mif\u001b[39;00m \u001b[38;5;129;01mnot\u001b[39;00m (\u001b[38;5;241m0\u001b[39m \u001b[38;5;241m<\u001b[39m\u001b[38;5;241m=\u001b[39m u \u001b[38;5;241m<\u001b[39m n_users):\n\u001b[1;32m      6\u001b[0m     \u001b[38;5;28;01mcontinue\u001b[39;00m\n\u001b[0;32m----> 7\u001b[0m recs, _ \u001b[38;5;241m=\u001b[39m \u001b[43mmodel\u001b[49m\u001b[38;5;241;43m.\u001b[39;49m\u001b[43mrecommend\u001b[49m(u, UI_eval[u], N\u001b[38;5;241m=\u001b[39mK, filter_already_liked_items\u001b[38;5;241m=\u001b[39m\u001b[38;5;28;01mTrue\u001b[39;00m)\n\u001b[1;32m      8\u001b[0m hits \u001b[38;5;241m+\u001b[39m\u001b[38;5;241m=\u001b[39m \u001b[38;5;28mlen\u001b[39m(\u001b[38;5;28mset\u001b[39m(recs) \u001b[38;5;241m&\u001b[39m true_items)\n\u001b[1;32m      9\u001b[0m total \u001b[38;5;241m+\u001b[39m\u001b[38;5;241m=\u001b[39m \u001b[38;5;28mlen\u001b[39m(true_items)\n",
      "\u001b[0;31mAttributeError\u001b[0m: 'NoneType' object has no attribute 'recommend'"
     ]
    }
   ],
   "source": [
    "# merge train+val (binary dedup)\n",
    "full = (pd.concat([train[[\"user_idx\",\"item_idx\"]],\n",
    "                   val  [[\"user_idx\",\"item_idx\"]]], ignore_index=True)\n",
    "          .drop_duplicates()\n",
    "          .assign(x=1.0))\n",
    "UI_full  = coo_matrix((full.x, (full.user_idx, full.item_idx))).tocsr()\n",
    "IU_full  = UI_full.T.tocsr()\n",
    "UIe_full = IU_full.T.tocsr()\n",
    "\n",
    "knn = BM25Recommender(K=best[0]).fit(IU_full)\n",
    "test_recall10 = recall_at_k(knn, UIe_full, test_truth, K=10)\n",
    "print(\"Test Recall@10:\", round(test_recall10, 4))\n"
   ]
  },
  {
   "cell_type": "code",
   "execution_count": null,
   "metadata": {},
   "outputs": [],
   "source": [
    "pop = np.argsort(-UI_eval.sum(axis=0).A1)\n",
    "def pop_recall_at_k(K=10):\n",
    "    hits=tot=0\n",
    "    for u, true in val_truth.items():\n",
    "        recs = [i for i in pop if i not in train_pos.get(u, set())][:K]\n",
    "        hits += len(set(recs) & true); tot += len(true)\n",
    "    return hits/max(tot,1)\n",
    "print(\"Popularity Val Recall@10:\", round(pop_recall_at_k(10), 4))\n"
   ]
  },
  {
   "cell_type": "code",
   "execution_count": null,
   "id": "993fa17f",
   "metadata": {},
   "outputs": [],
   "source": []
  },
  {
   "cell_type": "code",
   "execution_count": null,
   "id": "292da8c7",
   "metadata": {},
   "outputs": [],
   "source": []
  },
  {
   "cell_type": "code",
   "execution_count": null,
   "id": "a6632b31",
   "metadata": {},
   "outputs": [],
   "source": []
  },
  {
   "cell_type": "code",
   "execution_count": null,
   "id": "8a9f8e67",
   "metadata": {},
   "outputs": [],
   "source": []
  },
  {
   "cell_type": "code",
   "execution_count": null,
   "id": "af3c0e75",
   "metadata": {},
   "outputs": [],
   "source": []
  },
  {
   "cell_type": "code",
   "execution_count": 3,
   "id": "7f4a1711",
   "metadata": {},
   "outputs": [],
   "source": [
    "import numpy as np\n",
    "\n",
    "# --- compute IDF on train only ---\n",
    "user_per_item = train.groupby(\"groupId\")[\"shopUserId\"].nunique()\n",
    "N_users = train[\"shopUserId\"].nunique()\n",
    "idf = np.log1p(N_users / (1.0 + user_per_item))\n",
    "\n",
    "# --- apply TF * IDF ---\n",
    "def add_weights(df):\n",
    "    df = df.copy()\n",
    "    df = df.merge(idf.rename(\"idf\"), on=\"groupId\", how=\"left\")\n",
    "    df[\"interaction\"] = np.log1p(df[\"quantity\"]) * df[\"idf\"]\n",
    "    return df\n",
    "\n",
    "train = add_weights(train)\n",
    "val = add_weights(val)\n",
    "test  = add_weights(test)"
   ]
  },
  {
   "cell_type": "code",
   "execution_count": 4,
   "id": "3ca06d69",
   "metadata": {},
   "outputs": [
    {
     "data": {
      "text/html": [
       "<div>\n",
       "<style scoped>\n",
       "    .dataframe tbody tr th:only-of-type {\n",
       "        vertical-align: middle;\n",
       "    }\n",
       "\n",
       "    .dataframe tbody tr th {\n",
       "        vertical-align: top;\n",
       "    }\n",
       "\n",
       "    .dataframe thead th {\n",
       "        text-align: right;\n",
       "    }\n",
       "</style>\n",
       "<table border=\"1\" class=\"dataframe\">\n",
       "  <thead>\n",
       "    <tr style=\"text-align: right;\">\n",
       "      <th></th>\n",
       "      <th>shopUserId</th>\n",
       "      <th>orderId</th>\n",
       "      <th>quantity</th>\n",
       "      <th>groupId</th>\n",
       "      <th>created</th>\n",
       "      <th>idf</th>\n",
       "      <th>interaction</th>\n",
       "    </tr>\n",
       "  </thead>\n",
       "  <tbody>\n",
       "    <tr>\n",
       "      <th>0</th>\n",
       "      <td>78181</td>\n",
       "      <td>158841</td>\n",
       "      <td>1</td>\n",
       "      <td>265843</td>\n",
       "      <td>2024-05-22 13:42:39</td>\n",
       "      <td>4.288121</td>\n",
       "      <td>2.972299</td>\n",
       "    </tr>\n",
       "    <tr>\n",
       "      <th>1</th>\n",
       "      <td>78181</td>\n",
       "      <td>631793</td>\n",
       "      <td>1</td>\n",
       "      <td>265823</td>\n",
       "      <td>2025-03-20 13:32:48</td>\n",
       "      <td>6.427674</td>\n",
       "      <td>4.455324</td>\n",
       "    </tr>\n",
       "    <tr>\n",
       "      <th>2</th>\n",
       "      <td>78181</td>\n",
       "      <td>631793</td>\n",
       "      <td>1</td>\n",
       "      <td>270794</td>\n",
       "      <td>2025-03-20 13:32:48</td>\n",
       "      <td>6.783864</td>\n",
       "      <td>4.702216</td>\n",
       "    </tr>\n",
       "    <tr>\n",
       "      <th>3</th>\n",
       "      <td>78181</td>\n",
       "      <td>631793</td>\n",
       "      <td>1</td>\n",
       "      <td>263855</td>\n",
       "      <td>2025-03-20 13:32:48</td>\n",
       "      <td>4.323148</td>\n",
       "      <td>2.996578</td>\n",
       "    </tr>\n",
       "    <tr>\n",
       "      <th>4</th>\n",
       "      <td>78182</td>\n",
       "      <td>307897</td>\n",
       "      <td>1</td>\n",
       "      <td>291625</td>\n",
       "      <td>2024-09-17 11:30:56</td>\n",
       "      <td>5.310418</td>\n",
       "      <td>3.680901</td>\n",
       "    </tr>\n",
       "    <tr>\n",
       "      <th>...</th>\n",
       "      <td>...</td>\n",
       "      <td>...</td>\n",
       "      <td>...</td>\n",
       "      <td>...</td>\n",
       "      <td>...</td>\n",
       "      <td>...</td>\n",
       "      <td>...</td>\n",
       "    </tr>\n",
       "    <tr>\n",
       "      <th>45466</th>\n",
       "      <td>831087</td>\n",
       "      <td>784699</td>\n",
       "      <td>1</td>\n",
       "      <td>265298</td>\n",
       "      <td>2025-08-05 15:11:28</td>\n",
       "      <td>3.672967</td>\n",
       "      <td>2.545907</td>\n",
       "    </tr>\n",
       "    <tr>\n",
       "      <th>45467</th>\n",
       "      <td>831138</td>\n",
       "      <td>784753</td>\n",
       "      <td>2</td>\n",
       "      <td>291252</td>\n",
       "      <td>2025-08-05 16:12:48</td>\n",
       "      <td>4.858314</td>\n",
       "      <td>5.337404</td>\n",
       "    </tr>\n",
       "    <tr>\n",
       "      <th>45468</th>\n",
       "      <td>831138</td>\n",
       "      <td>784753</td>\n",
       "      <td>1</td>\n",
       "      <td>210773</td>\n",
       "      <td>2025-08-05 16:12:48</td>\n",
       "      <td>8.035818</td>\n",
       "      <td>5.570005</td>\n",
       "    </tr>\n",
       "    <tr>\n",
       "      <th>45469</th>\n",
       "      <td>831184</td>\n",
       "      <td>784801</td>\n",
       "      <td>1</td>\n",
       "      <td>261427</td>\n",
       "      <td>2025-08-05 16:44:36</td>\n",
       "      <td>4.166134</td>\n",
       "      <td>2.887744</td>\n",
       "    </tr>\n",
       "    <tr>\n",
       "      <th>45470</th>\n",
       "      <td>831184</td>\n",
       "      <td>784801</td>\n",
       "      <td>1</td>\n",
       "      <td>265298</td>\n",
       "      <td>2025-08-05 16:44:36</td>\n",
       "      <td>3.672967</td>\n",
       "      <td>2.545907</td>\n",
       "    </tr>\n",
       "  </tbody>\n",
       "</table>\n",
       "<p>45471 rows × 7 columns</p>\n",
       "</div>"
      ],
      "text/plain": [
       "       shopUserId  orderId  quantity groupId              created       idf  \\\n",
       "0           78181   158841         1  265843  2024-05-22 13:42:39  4.288121   \n",
       "1           78181   631793         1  265823  2025-03-20 13:32:48  6.427674   \n",
       "2           78181   631793         1  270794  2025-03-20 13:32:48  6.783864   \n",
       "3           78181   631793         1  263855  2025-03-20 13:32:48  4.323148   \n",
       "4           78182   307897         1  291625  2024-09-17 11:30:56  5.310418   \n",
       "...           ...      ...       ...     ...                  ...       ...   \n",
       "45466      831087   784699         1  265298  2025-08-05 15:11:28  3.672967   \n",
       "45467      831138   784753         2  291252  2025-08-05 16:12:48  4.858314   \n",
       "45468      831138   784753         1  210773  2025-08-05 16:12:48  8.035818   \n",
       "45469      831184   784801         1  261427  2025-08-05 16:44:36  4.166134   \n",
       "45470      831184   784801         1  265298  2025-08-05 16:44:36  3.672967   \n",
       "\n",
       "       interaction  \n",
       "0         2.972299  \n",
       "1         4.455324  \n",
       "2         4.702216  \n",
       "3         2.996578  \n",
       "4         3.680901  \n",
       "...            ...  \n",
       "45466     2.545907  \n",
       "45467     5.337404  \n",
       "45468     5.570005  \n",
       "45469     2.887744  \n",
       "45470     2.545907  \n",
       "\n",
       "[45471 rows x 7 columns]"
      ]
     },
     "execution_count": 4,
     "metadata": {},
     "output_type": "execute_result"
    }
   ],
   "source": [
    "train"
   ]
  },
  {
   "cell_type": "code",
   "execution_count": 195,
   "id": "9f69f5e0",
   "metadata": {},
   "outputs": [],
   "source": [
    "# aggregate with sum\n",
    "train = train.groupby([\"shopUserId\",\"groupId\"], as_index=False)[\"interaction\"].sum()\n",
    "val   = val.groupby([\"shopUserId\",\"groupId\"],   as_index=False)[\"interaction\"].sum()\n",
    "test  = test.groupby([\"shopUserId\",\"groupId\"],  as_index=False)[\"interaction\"].sum()\n",
    "\n",
    "#cap = train[\"interaction\"].quantile(0.99)\n",
    "#train[\"interaction\"] = train[\"interaction\"].clip(upper=cap)\n",
    "#val[\"interaction\"]   = val[\"interaction\"].clip(upper=cap)\n",
    "#test[\"interaction\"]  = test[\"interaction\"].clip(upper=cap)"
   ]
  },
  {
   "cell_type": "code",
   "execution_count": 196,
   "id": "e3c5445d",
   "metadata": {},
   "outputs": [
    {
     "data": {
      "text/html": [
       "<div>\n",
       "<style scoped>\n",
       "    .dataframe tbody tr th:only-of-type {\n",
       "        vertical-align: middle;\n",
       "    }\n",
       "\n",
       "    .dataframe tbody tr th {\n",
       "        vertical-align: top;\n",
       "    }\n",
       "\n",
       "    .dataframe thead th {\n",
       "        text-align: right;\n",
       "    }\n",
       "</style>\n",
       "<table border=\"1\" class=\"dataframe\">\n",
       "  <thead>\n",
       "    <tr style=\"text-align: right;\">\n",
       "      <th></th>\n",
       "      <th>shopUserId</th>\n",
       "      <th>groupId</th>\n",
       "      <th>interaction</th>\n",
       "    </tr>\n",
       "  </thead>\n",
       "  <tbody>\n",
       "    <tr>\n",
       "      <th>0</th>\n",
       "      <td>79265</td>\n",
       "      <td>210186</td>\n",
       "      <td>1.477531</td>\n",
       "    </tr>\n",
       "    <tr>\n",
       "      <th>1</th>\n",
       "      <td>79265</td>\n",
       "      <td>210338</td>\n",
       "      <td>1.209708</td>\n",
       "    </tr>\n",
       "    <tr>\n",
       "      <th>2</th>\n",
       "      <td>79265</td>\n",
       "      <td>242024</td>\n",
       "      <td>2.793249</td>\n",
       "    </tr>\n",
       "    <tr>\n",
       "      <th>3</th>\n",
       "      <td>79265</td>\n",
       "      <td>260646</td>\n",
       "      <td>1.305010</td>\n",
       "    </tr>\n",
       "    <tr>\n",
       "      <th>4</th>\n",
       "      <td>79265</td>\n",
       "      <td>260695</td>\n",
       "      <td>1.449191</td>\n",
       "    </tr>\n",
       "    <tr>\n",
       "      <th>...</th>\n",
       "      <td>...</td>\n",
       "      <td>...</td>\n",
       "      <td>...</td>\n",
       "    </tr>\n",
       "    <tr>\n",
       "      <th>928</th>\n",
       "      <td>674430</td>\n",
       "      <td>261699</td>\n",
       "      <td>1.885429</td>\n",
       "    </tr>\n",
       "    <tr>\n",
       "      <th>929</th>\n",
       "      <td>674430</td>\n",
       "      <td>265041</td>\n",
       "      <td>1.608156</td>\n",
       "    </tr>\n",
       "    <tr>\n",
       "      <th>930</th>\n",
       "      <td>683096</td>\n",
       "      <td>210338</td>\n",
       "      <td>6.048539</td>\n",
       "    </tr>\n",
       "    <tr>\n",
       "      <th>931</th>\n",
       "      <td>683096</td>\n",
       "      <td>221416</td>\n",
       "      <td>8.727666</td>\n",
       "    </tr>\n",
       "    <tr>\n",
       "      <th>932</th>\n",
       "      <td>683096</td>\n",
       "      <td>280051</td>\n",
       "      <td>12.032919</td>\n",
       "    </tr>\n",
       "  </tbody>\n",
       "</table>\n",
       "<p>933 rows × 3 columns</p>\n",
       "</div>"
      ],
      "text/plain": [
       "     shopUserId groupId  interaction\n",
       "0         79265  210186     1.477531\n",
       "1         79265  210338     1.209708\n",
       "2         79265  242024     2.793249\n",
       "3         79265  260646     1.305010\n",
       "4         79265  260695     1.449191\n",
       "..          ...     ...          ...\n",
       "928      674430  261699     1.885429\n",
       "929      674430  265041     1.608156\n",
       "930      683096  210338     6.048539\n",
       "931      683096  221416     8.727666\n",
       "932      683096  280051    12.032919\n",
       "\n",
       "[933 rows x 3 columns]"
      ]
     },
     "execution_count": 196,
     "metadata": {},
     "output_type": "execute_result"
    }
   ],
   "source": [
    "train"
   ]
  },
  {
   "cell_type": "code",
   "execution_count": 197,
   "id": "16686c84",
   "metadata": {},
   "outputs": [
    {
     "data": {
      "image/png": "[encoded data removed]",
      "text/plain": [
       "<Figure size 800x400 with 1 Axes>"
      ]
     },
     "metadata": {},
     "output_type": "display_data"
    }
   ],
   "source": [
    "import matplotlib.pyplot as plt\n",
    "\n",
    "plt.figure(figsize=(8,4))\n",
    "plt.hist(train[\"interaction\"], bins=50, alpha=0.7, label=\"train\", density=True)\n",
    "plt.hist(test[\"interaction\"], bins=50, alpha=0.7, label=\"test\", density=True)\n",
    "plt.xlabel(\"interaction\")\n",
    "plt.ylabel(\"density\")\n",
    "plt.title(\"Value distribution of 'interaction' (train vs test)\")\n",
    "plt.legend()\n",
    "plt.show()\n"
   ]
  },
  {
   "cell_type": "markdown",
   "id": "94a89e54",
   "metadata": {},
   "source": [
    "## creat labels for further mf "
   ]
  },
  {
   "cell_type": "code",
   "execution_count": 198,
   "id": "e8ba2586",
   "metadata": {},
   "outputs": [],
   "source": [
    "from sklearn.preprocessing import LabelEncoder\n",
    "\n",
    "# --- fit encoders on TRAIN only ---\n",
    "user_enc = LabelEncoder().fit(train[\"shopUserId\"])\n",
    "item_enc = LabelEncoder().fit(train[\"groupId\"])\n",
    "\n",
    "# --- filter val/test to drop unseen users/items ---\n",
    "val  = val[val[\"shopUserId\"].isin(user_enc.classes_) & val[\"groupId\"].isin(item_enc.classes_)]\n",
    "test = test[test[\"shopUserId\"].isin(user_enc.classes_) & test[\"groupId\"].isin(item_enc.classes_)]\n",
    "\n",
    "# --- transform all splits ---\n",
    "train[\"user_idx\"] = user_enc.transform(train[\"shopUserId\"])\n",
    "train[\"item_idx\"] = item_enc.transform(train[\"groupId\"])\n",
    "\n",
    "val[\"user_idx\"]   = user_enc.transform(val[\"shopUserId\"])\n",
    "val[\"item_idx\"]   = item_enc.transform(val[\"groupId\"])\n",
    "\n",
    "test[\"user_idx\"]  = user_enc.transform(test[\"shopUserId\"])\n",
    "test[\"item_idx\"]  = item_enc.transform(test[\"groupId\"])"
   ]
  },
  {
   "cell_type": "markdown",
   "id": "23542080",
   "metadata": {},
   "source": [
    "## quick lookup dicts for later"
   ]
  },
  {
   "cell_type": "code",
   "execution_count": 199,
   "id": "b0d5acb9",
   "metadata": {},
   "outputs": [],
   "source": [
    "uid2idx = dict(zip(user_enc.classes_, user_enc.transform(user_enc.classes_)))\n",
    "iid2idx = dict(zip(item_enc.classes_, item_enc.transform(item_enc.classes_)))\n"
   ]
  },
  {
   "cell_type": "markdown",
   "id": "42d08224",
   "metadata": {},
   "source": [
    "## Build the sparse interaction matrix"
   ]
  },
  {
   "cell_type": "code",
   "execution_count": 200,
   "id": "cd82e923",
   "metadata": {},
   "outputs": [
    {
     "data": {
      "text/plain": [
       "((156, 81), (81, 156))"
      ]
     },
     "execution_count": 200,
     "metadata": {},
     "output_type": "execute_result"
    }
   ],
   "source": [
    "from scipy.sparse import coo_matrix\n",
    "\n",
    "# Build user–item from TRAIN\n",
    "UI = coo_matrix(\n",
    "    (train[\"interaction\"].astype(float), (train[\"user_idx\"], train[\"item_idx\"]))\n",
    ").tocsr()\n",
    "\n",
    "# Item–user for training\n",
    "IU = UI.T.tocsr()\n",
    "\n",
    "# User–item for evaluation (always the transpose of IU)\n",
    "UI_eval = IU.T.tocsr()\n",
    "\n",
    "assert UI_eval.shape[0] == IU.shape[1]   # sanity: same user dimension\n",
    "\n",
    "UI.shape, IU.shape"
   ]
  },
  {
   "cell_type": "code",
   "execution_count": 185,
   "id": "adc7dc6e",
   "metadata": {},
   "outputs": [],
   "source": [
    "# must run AFTER encoding train/val/test with encoders fit on TRAIN\n",
    "train_pos = train.groupby(\"user_idx\")[\"item_idx\"].apply(set).to_dict()\n",
    "val_truth = val.groupby(\"user_idx\")[\"item_idx\"].apply(set).to_dict()\n",
    "test_truth = test.groupby(\"user_idx\")[\"item_idx\"].apply(set).to_dict()\n",
    "\n",
    "# optional guard — align with training matrix dimensions\n",
    "n_users = IU.shape[1]          # same as UI_eval.shape[0]\n",
    "val_truth  = {u: s for u, s in val_truth.items()  if 0 <= u < n_users}\n",
    "test_truth = {u: s for u, s in test_truth.items() if 0 <= u < n_users}\n",
    "\n",
    "# sanity\n",
    "assert set(val_truth.keys()).issubset(train_pos.keys())\n",
    "assert set(test_truth.keys()).issubset(train_pos.keys())"
   ]
  },
  {
   "cell_type": "code",
   "execution_count": 186,
   "id": "3d46e59b",
   "metadata": {},
   "outputs": [],
   "source": [
    "# --- hyperparameter grid ---\n",
    "grid = {\n",
    "    \"factors\": [32, 64, 96],\n",
    "    \"regularization\": [0.003, 0.01, 0.03],\n",
    "    \"learning_rate\": [0.03, 0.05, 0.08],\n",
    "    \"iterations\": [30, 60, 100],\n",
    "}\n"
   ]
  },
  {
   "cell_type": "code",
   "execution_count": 187,
   "id": "1d8d3e49",
   "metadata": {},
   "outputs": [
    {
     "data": {
      "application/vnd.jupyter.widget-view+json": {
       "model_id": "9af876dfe9c6494aa824e37bfb65a6f4",
       "version_major": 2,
       "version_minor": 0
      },
      "text/plain": [
       "  0%|          | 0/30 [00:00<?, ?it/s]"
      ]
     },
     "metadata": {},
     "output_type": "display_data"
    },
    {
     "data": {
      "application/vnd.jupyter.widget-view+json": {
       "model_id": "a28ce8bf0fb646b1ac52af2b2f29db85",
       "version_major": 2,
       "version_minor": 0
      },
      "text/plain": [
       "  0%|          | 0/60 [00:00<?, ?it/s]"
      ]
     },
     "metadata": {},
     "output_type": "display_data"
    },
    {
     "data": {
      "application/vnd.jupyter.widget-view+json": {
       "model_id": "cb29298661df4bbf813993defa3d8a13",
       "version_major": 2,
       "version_minor": 0
      },
      "text/plain": [
       "  0%|          | 0/100 [00:00<?, ?it/s]"
      ]
     },
     "metadata": {},
     "output_type": "display_data"
    },
    {
     "data": {
      "application/vnd.jupyter.widget-view+json": {
       "model_id": "b9395fedaa6846d497beaeacff343f32",
       "version_major": 2,
       "version_minor": 0
      },
      "text/plain": [
       "  0%|          | 0/30 [00:00<?, ?it/s]"
      ]
     },
     "metadata": {},
     "output_type": "display_data"
    },
    {
     "data": {
      "application/vnd.jupyter.widget-view+json": {
       "model_id": "0624bd829d4b4fa99c2f6405650f9947",
       "version_major": 2,
       "version_minor": 0
      },
      "text/plain": [
       "  0%|          | 0/60 [00:00<?, ?it/s]"
      ]
     },
     "metadata": {},
     "output_type": "display_data"
    },
    {
     "data": {
      "application/vnd.jupyter.widget-view+json": {
       "model_id": "1203a9de5e8f4318acbaf9561876cfbf",
       "version_major": 2,
       "version_minor": 0
      },
      "text/plain": [
       "  0%|          | 0/100 [00:00<?, ?it/s]"
      ]
     },
     "metadata": {},
     "output_type": "display_data"
    },
    {
     "data": {
      "application/vnd.jupyter.widget-view+json": {
       "model_id": "fc69f2e51ecf495aa28bfa8346604462",
       "version_major": 2,
       "version_minor": 0
      },
      "text/plain": [
       "  0%|          | 0/30 [00:00<?, ?it/s]"
      ]
     },
     "metadata": {},
     "output_type": "display_data"
    },
    {
     "data": {
      "application/vnd.jupyter.widget-view+json": {
       "model_id": "cd0cdd1562e34ea8ad32e9a37cdfe20b",
       "version_major": 2,
       "version_minor": 0
      },
      "text/plain": [
       "  0%|          | 0/60 [00:00<?, ?it/s]"
      ]
     },
     "metadata": {},
     "output_type": "display_data"
    },
    {
     "data": {
      "application/vnd.jupyter.widget-view+json": {
       "model_id": "9070b6ed3e3745ca8b35266fd78f3266",
       "version_major": 2,
       "version_minor": 0
      },
      "text/plain": [
       "  0%|          | 0/100 [00:00<?, ?it/s]"
      ]
     },
     "metadata": {},
     "output_type": "display_data"
    },
    {
     "data": {
      "application/vnd.jupyter.widget-view+json": {
       "model_id": "516dc67d32e342a59c4f0d3862e305d3",
       "version_major": 2,
       "version_minor": 0
      },
      "text/plain": [
       "  0%|          | 0/30 [00:00<?, ?it/s]"
      ]
     },
     "metadata": {},
     "output_type": "display_data"
    },
    {
     "data": {
      "application/vnd.jupyter.widget-view+json": {
       "model_id": "03272ad9d10144e2afc4d1d0c1fe3ad0",
       "version_major": 2,
       "version_minor": 0
      },
      "text/plain": [
       "  0%|          | 0/60 [00:00<?, ?it/s]"
      ]
     },
     "metadata": {},
     "output_type": "display_data"
    },
    {
     "data": {
      "application/vnd.jupyter.widget-view+json": {
       "model_id": "ebb21d8edde14b28918cf3a6ef995a43",
       "version_major": 2,
       "version_minor": 0
      },
      "text/plain": [
       "  0%|          | 0/100 [00:00<?, ?it/s]"
      ]
     },
     "metadata": {},
     "output_type": "display_data"
    },
    {
     "data": {
      "application/vnd.jupyter.widget-view+json": {
       "model_id": "b65e6854974741ea992613eab282eb7f",
       "version_major": 2,
       "version_minor": 0
      },
      "text/plain": [
       "  0%|          | 0/30 [00:00<?, ?it/s]"
      ]
     },
     "metadata": {},
     "output_type": "display_data"
    },
    {
     "data": {
      "application/vnd.jupyter.widget-view+json": {
       "model_id": "2cf5323d805d4c0eb5ed9ad0d0448142",
       "version_major": 2,
       "version_minor": 0
      },
      "text/plain": [
       "  0%|          | 0/60 [00:00<?, ?it/s]"
      ]
     },
     "metadata": {},
     "output_type": "display_data"
    },
    {
     "data": {
      "application/vnd.jupyter.widget-view+json": {
       "model_id": "065cd79380314573bf69d369647ddcab",
       "version_major": 2,
       "version_minor": 0
      },
      "text/plain": [
       "  0%|          | 0/100 [00:00<?, ?it/s]"
      ]
     },
     "metadata": {},
     "output_type": "display_data"
    },
    {
     "data": {
      "application/vnd.jupyter.widget-view+json": {
       "model_id": "dac5895ec87b41d388ca178b1598284a",
       "version_major": 2,
       "version_minor": 0
      },
      "text/plain": [
       "  0%|          | 0/30 [00:00<?, ?it/s]"
      ]
     },
     "metadata": {},
     "output_type": "display_data"
    },
    {
     "data": {
      "application/vnd.jupyter.widget-view+json": {
       "model_id": "75613f5e06c64543b955a6de21d72159",
       "version_major": 2,
       "version_minor": 0
      },
      "text/plain": [
       "  0%|          | 0/60 [00:00<?, ?it/s]"
      ]
     },
     "metadata": {},
     "output_type": "display_data"
    },
    {
     "data": {
      "application/vnd.jupyter.widget-view+json": {
       "model_id": "76ff43629a6e4351929cabc773c1b3a2",
       "version_major": 2,
       "version_minor": 0
      },
      "text/plain": [
       "  0%|          | 0/100 [00:00<?, ?it/s]"
      ]
     },
     "metadata": {},
     "output_type": "display_data"
    },
    {
     "data": {
      "application/vnd.jupyter.widget-view+json": {
       "model_id": "af9b7c37719e4c1eb947413981997cc8",
       "version_major": 2,
       "version_minor": 0
      },
      "text/plain": [
       "  0%|          | 0/30 [00:00<?, ?it/s]"
      ]
     },
     "metadata": {},
     "output_type": "display_data"
    },
    {
     "data": {
      "application/vnd.jupyter.widget-view+json": {
       "model_id": "ef5348133e7c4358ae68ba9e04ad098b",
       "version_major": 2,
       "version_minor": 0
      },
      "text/plain": [
       "  0%|          | 0/60 [00:00<?, ?it/s]"
      ]
     },
     "metadata": {},
     "output_type": "display_data"
    },
    {
     "data": {
      "application/vnd.jupyter.widget-view+json": {
       "model_id": "8fd16858d11944028a99c77d8e69478f",
       "version_major": 2,
       "version_minor": 0
      },
      "text/plain": [
       "  0%|          | 0/100 [00:00<?, ?it/s]"
      ]
     },
     "metadata": {},
     "output_type": "display_data"
    },
    {
     "data": {
      "application/vnd.jupyter.widget-view+json": {
       "model_id": "e8e3d8cb972e4cdc99b5918c7865513f",
       "version_major": 2,
       "version_minor": 0
      },
      "text/plain": [
       "  0%|          | 0/30 [00:00<?, ?it/s]"
      ]
     },
     "metadata": {},
     "output_type": "display_data"
    },
    {
     "data": {
      "application/vnd.jupyter.widget-view+json": {
       "model_id": "913bcc6e78184e749d5a561a4ae0918a",
       "version_major": 2,
       "version_minor": 0
      },
      "text/plain": [
       "  0%|          | 0/60 [00:00<?, ?it/s]"
      ]
     },
     "metadata": {},
     "output_type": "display_data"
    },
    {
     "data": {
      "application/vnd.jupyter.widget-view+json": {
       "model_id": "b9e50faf3b374e0396059fd27618218e",
       "version_major": 2,
       "version_minor": 0
      },
      "text/plain": [
       "  0%|          | 0/100 [00:00<?, ?it/s]"
      ]
     },
     "metadata": {},
     "output_type": "display_data"
    },
    {
     "data": {
      "application/vnd.jupyter.widget-view+json": {
       "model_id": "0db49d34cbbb4f2487ea34ef35a9fdb2",
       "version_major": 2,
       "version_minor": 0
      },
      "text/plain": [
       "  0%|          | 0/30 [00:00<?, ?it/s]"
      ]
     },
     "metadata": {},
     "output_type": "display_data"
    },
    {
     "data": {
      "application/vnd.jupyter.widget-view+json": {
       "model_id": "10b9c2133c3047a08d2f0b27dd13c115",
       "version_major": 2,
       "version_minor": 0
      },
      "text/plain": [
       "  0%|          | 0/60 [00:00<?, ?it/s]"
      ]
     },
     "metadata": {},
     "output_type": "display_data"
    },
    {
     "data": {
      "application/vnd.jupyter.widget-view+json": {
       "model_id": "a81fd36d6a6f4552859d0d53795806f6",
       "version_major": 2,
       "version_minor": 0
      },
      "text/plain": [
       "  0%|          | 0/100 [00:00<?, ?it/s]"
      ]
     },
     "metadata": {},
     "output_type": "display_data"
    },
    {
     "data": {
      "application/vnd.jupyter.widget-view+json": {
       "model_id": "bb6d6d0152ae402c87a5e2e5847215a8",
       "version_major": 2,
       "version_minor": 0
      },
      "text/plain": [
       "  0%|          | 0/30 [00:00<?, ?it/s]"
      ]
     },
     "metadata": {},
     "output_type": "display_data"
    },
    {
     "data": {
      "application/vnd.jupyter.widget-view+json": {
       "model_id": "7254a19ac2eb4b1e90935a8c718c4b7d",
       "version_major": 2,
       "version_minor": 0
      },
      "text/plain": [
       "  0%|          | 0/60 [00:00<?, ?it/s]"
      ]
     },
     "metadata": {},
     "output_type": "display_data"
    },
    {
     "data": {
      "application/vnd.jupyter.widget-view+json": {
       "model_id": "d9e5211693764ff1ade0f01241b1875c",
       "version_major": 2,
       "version_minor": 0
      },
      "text/plain": [
       "  0%|          | 0/100 [00:00<?, ?it/s]"
      ]
     },
     "metadata": {},
     "output_type": "display_data"
    },
    {
     "data": {
      "application/vnd.jupyter.widget-view+json": {
       "model_id": "7e6e8bd057a44960bf56bc7563355ce1",
       "version_major": 2,
       "version_minor": 0
      },
      "text/plain": [
       "  0%|          | 0/30 [00:00<?, ?it/s]"
      ]
     },
     "metadata": {},
     "output_type": "display_data"
    },
    {
     "data": {
      "application/vnd.jupyter.widget-view+json": {
       "model_id": "bd458edbc5894b37b936360b8321e9ce",
       "version_major": 2,
       "version_minor": 0
      },
      "text/plain": [
       "  0%|          | 0/60 [00:00<?, ?it/s]"
      ]
     },
     "metadata": {},
     "output_type": "display_data"
    },
    {
     "data": {
      "application/vnd.jupyter.widget-view+json": {
       "model_id": "528bbee5594e46d990938b928ff23bd2",
       "version_major": 2,
       "version_minor": 0
      },
      "text/plain": [
       "  0%|          | 0/100 [00:00<?, ?it/s]"
      ]
     },
     "metadata": {},
     "output_type": "display_data"
    },
    {
     "data": {
      "application/vnd.jupyter.widget-view+json": {
       "model_id": "4ea798d779f84ee8b9d68ca8bebcf19e",
       "version_major": 2,
       "version_minor": 0
      },
      "text/plain": [
       "  0%|          | 0/30 [00:00<?, ?it/s]"
      ]
     },
     "metadata": {},
     "output_type": "display_data"
    },
    {
     "data": {
      "application/vnd.jupyter.widget-view+json": {
       "model_id": "6be967c6a27047c09d36e27b93d0a5cf",
       "version_major": 2,
       "version_minor": 0
      },
      "text/plain": [
       "  0%|          | 0/60 [00:00<?, ?it/s]"
      ]
     },
     "metadata": {},
     "output_type": "display_data"
    },
    {
     "data": {
      "application/vnd.jupyter.widget-view+json": {
       "model_id": "b0176170e8b544e29ed9348684d84ea0",
       "version_major": 2,
       "version_minor": 0
      },
      "text/plain": [
       "  0%|          | 0/100 [00:00<?, ?it/s]"
      ]
     },
     "metadata": {},
     "output_type": "display_data"
    },
    {
     "data": {
      "application/vnd.jupyter.widget-view+json": {
       "model_id": "11c711fba20444fc83bc840cdbce7a71",
       "version_major": 2,
       "version_minor": 0
      },
      "text/plain": [
       "  0%|          | 0/30 [00:00<?, ?it/s]"
      ]
     },
     "metadata": {},
     "output_type": "display_data"
    },
    {
     "data": {
      "application/vnd.jupyter.widget-view+json": {
       "model_id": "7f3b0c2ccb624894a9b6c014559b6ba7",
       "version_major": 2,
       "version_minor": 0
      },
      "text/plain": [
       "  0%|          | 0/60 [00:00<?, ?it/s]"
      ]
     },
     "metadata": {},
     "output_type": "display_data"
    },
    {
     "data": {
      "application/vnd.jupyter.widget-view+json": {
       "model_id": "c81bba215bdc43eda61e00bed8ca2d81",
       "version_major": 2,
       "version_minor": 0
      },
      "text/plain": [
       "  0%|          | 0/100 [00:00<?, ?it/s]"
      ]
     },
     "metadata": {},
     "output_type": "display_data"
    },
    {
     "data": {
      "application/vnd.jupyter.widget-view+json": {
       "model_id": "ae6317e9a232460bb24f7df5d5d0f106",
       "version_major": 2,
       "version_minor": 0
      },
      "text/plain": [
       "  0%|          | 0/30 [00:00<?, ?it/s]"
      ]
     },
     "metadata": {},
     "output_type": "display_data"
    },
    {
     "data": {
      "application/vnd.jupyter.widget-view+json": {
       "model_id": "86bd9ede29cd483ca814be6e92a01ffc",
       "version_major": 2,
       "version_minor": 0
      },
      "text/plain": [
       "  0%|          | 0/60 [00:00<?, ?it/s]"
      ]
     },
     "metadata": {},
     "output_type": "display_data"
    },
    {
     "data": {
      "application/vnd.jupyter.widget-view+json": {
       "model_id": "858650ac3dc2417e84c4a5ecf14e95a4",
       "version_major": 2,
       "version_minor": 0
      },
      "text/plain": [
       "  0%|          | 0/100 [00:00<?, ?it/s]"
      ]
     },
     "metadata": {},
     "output_type": "display_data"
    },
    {
     "data": {
      "application/vnd.jupyter.widget-view+json": {
       "model_id": "b4111bf809f04af0ab99aafba46a2643",
       "version_major": 2,
       "version_minor": 0
      },
      "text/plain": [
       "  0%|          | 0/30 [00:00<?, ?it/s]"
      ]
     },
     "metadata": {},
     "output_type": "display_data"
    },
    {
     "data": {
      "application/vnd.jupyter.widget-view+json": {
       "model_id": "1e1956c8167b4ec7b3a0c4594fbc2aec",
       "version_major": 2,
       "version_minor": 0
      },
      "text/plain": [
       "  0%|          | 0/60 [00:00<?, ?it/s]"
      ]
     },
     "metadata": {},
     "output_type": "display_data"
    },
    {
     "data": {
      "application/vnd.jupyter.widget-view+json": {
       "model_id": "e0f43e50674b4e08ba4899ea4701a1f7",
       "version_major": 2,
       "version_minor": 0
      },
      "text/plain": [
       "  0%|          | 0/100 [00:00<?, ?it/s]"
      ]
     },
     "metadata": {},
     "output_type": "display_data"
    },
    {
     "data": {
      "application/vnd.jupyter.widget-view+json": {
       "model_id": "717a34562e25449aa20304dcba289574",
       "version_major": 2,
       "version_minor": 0
      },
      "text/plain": [
       "  0%|          | 0/30 [00:00<?, ?it/s]"
      ]
     },
     "metadata": {},
     "output_type": "display_data"
    },
    {
     "data": {
      "application/vnd.jupyter.widget-view+json": {
       "model_id": "9db7347121d040cab2b1eb1a88be60f2",
       "version_major": 2,
       "version_minor": 0
      },
      "text/plain": [
       "  0%|          | 0/60 [00:00<?, ?it/s]"
      ]
     },
     "metadata": {},
     "output_type": "display_data"
    },
    {
     "data": {
      "application/vnd.jupyter.widget-view+json": {
       "model_id": "79fa8ffa695549a7bd10570e21121b27",
       "version_major": 2,
       "version_minor": 0
      },
      "text/plain": [
       "  0%|          | 0/100 [00:00<?, ?it/s]"
      ]
     },
     "metadata": {},
     "output_type": "display_data"
    },
    {
     "data": {
      "application/vnd.jupyter.widget-view+json": {
       "model_id": "6510bd0fa10946aa9c7630bf8c3c92fb",
       "version_major": 2,
       "version_minor": 0
      },
      "text/plain": [
       "  0%|          | 0/30 [00:00<?, ?it/s]"
      ]
     },
     "metadata": {},
     "output_type": "display_data"
    },
    {
     "data": {
      "application/vnd.jupyter.widget-view+json": {
       "model_id": "413df9fc834b4678b7c77c8e81fc62ba",
       "version_major": 2,
       "version_minor": 0
      },
      "text/plain": [
       "  0%|          | 0/60 [00:00<?, ?it/s]"
      ]
     },
     "metadata": {},
     "output_type": "display_data"
    },
    {
     "data": {
      "application/vnd.jupyter.widget-view+json": {
       "model_id": "c3e6816289f54252a64f43b6885dbe43",
       "version_major": 2,
       "version_minor": 0
      },
      "text/plain": [
       "  0%|          | 0/100 [00:00<?, ?it/s]"
      ]
     },
     "metadata": {},
     "output_type": "display_data"
    },
    {
     "data": {
      "application/vnd.jupyter.widget-view+json": {
       "model_id": "dc7d833cce13459dbbb60b734a0c343c",
       "version_major": 2,
       "version_minor": 0
      },
      "text/plain": [
       "  0%|          | 0/30 [00:00<?, ?it/s]"
      ]
     },
     "metadata": {},
     "output_type": "display_data"
    },
    {
     "data": {
      "application/vnd.jupyter.widget-view+json": {
       "model_id": "bdab65c4d56644ec825bed2bfaf39e12",
       "version_major": 2,
       "version_minor": 0
      },
      "text/plain": [
       "  0%|          | 0/60 [00:00<?, ?it/s]"
      ]
     },
     "metadata": {},
     "output_type": "display_data"
    },
    {
     "data": {
      "application/vnd.jupyter.widget-view+json": {
       "model_id": "b1dfbc3866a74ba18e71712fad88e687",
       "version_major": 2,
       "version_minor": 0
      },
      "text/plain": [
       "  0%|          | 0/100 [00:00<?, ?it/s]"
      ]
     },
     "metadata": {},
     "output_type": "display_data"
    },
    {
     "data": {
      "application/vnd.jupyter.widget-view+json": {
       "model_id": "991862de40e3468fab1f13aa645527d6",
       "version_major": 2,
       "version_minor": 0
      },
      "text/plain": [
       "  0%|          | 0/30 [00:00<?, ?it/s]"
      ]
     },
     "metadata": {},
     "output_type": "display_data"
    },
    {
     "data": {
      "application/vnd.jupyter.widget-view+json": {
       "model_id": "31c4fd7396ac4bbfb1abe1132df0908c",
       "version_major": 2,
       "version_minor": 0
      },
      "text/plain": [
       "  0%|          | 0/60 [00:00<?, ?it/s]"
      ]
     },
     "metadata": {},
     "output_type": "display_data"
    },
    {
     "data": {
      "application/vnd.jupyter.widget-view+json": {
       "model_id": "6900bd6a72334ec8bc4d81f818fb2b8b",
       "version_major": 2,
       "version_minor": 0
      },
      "text/plain": [
       "  0%|          | 0/100 [00:00<?, ?it/s]"
      ]
     },
     "metadata": {},
     "output_type": "display_data"
    },
    {
     "data": {
      "application/vnd.jupyter.widget-view+json": {
       "model_id": "70248122b6ab4eb4ae1f8aeefc5ff763",
       "version_major": 2,
       "version_minor": 0
      },
      "text/plain": [
       "  0%|          | 0/30 [00:00<?, ?it/s]"
      ]
     },
     "metadata": {},
     "output_type": "display_data"
    },
    {
     "data": {
      "application/vnd.jupyter.widget-view+json": {
       "model_id": "dc53cd6dd46e4b02b29174578a107ff8",
       "version_major": 2,
       "version_minor": 0
      },
      "text/plain": [
       "  0%|          | 0/60 [00:00<?, ?it/s]"
      ]
     },
     "metadata": {},
     "output_type": "display_data"
    },
    {
     "data": {
      "application/vnd.jupyter.widget-view+json": {
       "model_id": "d7d62b5a4649456d94e8aff3281846c9",
       "version_major": 2,
       "version_minor": 0
      },
      "text/plain": [
       "  0%|          | 0/100 [00:00<?, ?it/s]"
      ]
     },
     "metadata": {},
     "output_type": "display_data"
    },
    {
     "data": {
      "application/vnd.jupyter.widget-view+json": {
       "model_id": "d6ab74bbf57d4f15ac2fb5657439bf41",
       "version_major": 2,
       "version_minor": 0
      },
      "text/plain": [
       "  0%|          | 0/30 [00:00<?, ?it/s]"
      ]
     },
     "metadata": {},
     "output_type": "display_data"
    },
    {
     "data": {
      "application/vnd.jupyter.widget-view+json": {
       "model_id": "c9322e0b7da74dbf8be7429203f10101",
       "version_major": 2,
       "version_minor": 0
      },
      "text/plain": [
       "  0%|          | 0/60 [00:00<?, ?it/s]"
      ]
     },
     "metadata": {},
     "output_type": "display_data"
    },
    {
     "data": {
      "application/vnd.jupyter.widget-view+json": {
       "model_id": "c7b3692ecf3d448fa7636feddc2507dd",
       "version_major": 2,
       "version_minor": 0
      },
      "text/plain": [
       "  0%|          | 0/100 [00:00<?, ?it/s]"
      ]
     },
     "metadata": {},
     "output_type": "display_data"
    },
    {
     "data": {
      "application/vnd.jupyter.widget-view+json": {
       "model_id": "729d09d962d04e5a94b0f711d9f6a94e",
       "version_major": 2,
       "version_minor": 0
      },
      "text/plain": [
       "  0%|          | 0/30 [00:00<?, ?it/s]"
      ]
     },
     "metadata": {},
     "output_type": "display_data"
    },
    {
     "data": {
      "application/vnd.jupyter.widget-view+json": {
       "model_id": "d1f552486fb14c24b02ed6d0339a7048",
       "version_major": 2,
       "version_minor": 0
      },
      "text/plain": [
       "  0%|          | 0/60 [00:00<?, ?it/s]"
      ]
     },
     "metadata": {},
     "output_type": "display_data"
    },
    {
     "data": {
      "application/vnd.jupyter.widget-view+json": {
       "model_id": "d72eef32184d4c2b86b71edb66b1ec83",
       "version_major": 2,
       "version_minor": 0
      },
      "text/plain": [
       "  0%|          | 0/100 [00:00<?, ?it/s]"
      ]
     },
     "metadata": {},
     "output_type": "display_data"
    },
    {
     "data": {
      "application/vnd.jupyter.widget-view+json": {
       "model_id": "c464c133a225450eaf258a130b3b9871",
       "version_major": 2,
       "version_minor": 0
      },
      "text/plain": [
       "  0%|          | 0/30 [00:00<?, ?it/s]"
      ]
     },
     "metadata": {},
     "output_type": "display_data"
    },
    {
     "data": {
      "application/vnd.jupyter.widget-view+json": {
       "model_id": "0f822c642ca5498daa1c139085019b49",
       "version_major": 2,
       "version_minor": 0
      },
      "text/plain": [
       "  0%|          | 0/60 [00:00<?, ?it/s]"
      ]
     },
     "metadata": {},
     "output_type": "display_data"
    },
    {
     "data": {
      "application/vnd.jupyter.widget-view+json": {
       "model_id": "b208405256c5475f882d9f0f8c85b3b5",
       "version_major": 2,
       "version_minor": 0
      },
      "text/plain": [
       "  0%|          | 0/100 [00:00<?, ?it/s]"
      ]
     },
     "metadata": {},
     "output_type": "display_data"
    },
    {
     "data": {
      "application/vnd.jupyter.widget-view+json": {
       "model_id": "3034899946714e5f8514757f5eb9eb19",
       "version_major": 2,
       "version_minor": 0
      },
      "text/plain": [
       "  0%|          | 0/30 [00:00<?, ?it/s]"
      ]
     },
     "metadata": {},
     "output_type": "display_data"
    },
    {
     "data": {
      "application/vnd.jupyter.widget-view+json": {
       "model_id": "15bd145f37f74f8ca8845a271571074e",
       "version_major": 2,
       "version_minor": 0
      },
      "text/plain": [
       "  0%|          | 0/60 [00:00<?, ?it/s]"
      ]
     },
     "metadata": {},
     "output_type": "display_data"
    },
    {
     "data": {
      "application/vnd.jupyter.widget-view+json": {
       "model_id": "2902808105274d9fb749566a3fc74a98",
       "version_major": 2,
       "version_minor": 0
      },
      "text/plain": [
       "  0%|          | 0/100 [00:00<?, ?it/s]"
      ]
     },
     "metadata": {},
     "output_type": "display_data"
    },
    {
     "data": {
      "application/vnd.jupyter.widget-view+json": {
       "model_id": "9abff6e4e44e48abb963ee244a18d0db",
       "version_major": 2,
       "version_minor": 0
      },
      "text/plain": [
       "  0%|          | 0/30 [00:00<?, ?it/s]"
      ]
     },
     "metadata": {},
     "output_type": "display_data"
    },
    {
     "data": {
      "application/vnd.jupyter.widget-view+json": {
       "model_id": "1a0866e2519344249a0f23ae2451ae82",
       "version_major": 2,
       "version_minor": 0
      },
      "text/plain": [
       "  0%|          | 0/60 [00:00<?, ?it/s]"
      ]
     },
     "metadata": {},
     "output_type": "display_data"
    },
    {
     "data": {
      "application/vnd.jupyter.widget-view+json": {
       "model_id": "3d2c640e3f314f77ba4070ce424a9235",
       "version_major": 2,
       "version_minor": 0
      },
      "text/plain": [
       "  0%|          | 0/100 [00:00<?, ?it/s]"
      ]
     },
     "metadata": {},
     "output_type": "display_data"
    },
    {
     "data": {
      "application/vnd.jupyter.widget-view+json": {
       "model_id": "ac9cec19098446deacbea702a6d3923b",
       "version_major": 2,
       "version_minor": 0
      },
      "text/plain": [
       "  0%|          | 0/30 [00:00<?, ?it/s]"
      ]
     },
     "metadata": {},
     "output_type": "display_data"
    },
    {
     "data": {
      "application/vnd.jupyter.widget-view+json": {
       "model_id": "7deedcf333ef4e95b9244844e5c72ef8",
       "version_major": 2,
       "version_minor": 0
      },
      "text/plain": [
       "  0%|          | 0/60 [00:00<?, ?it/s]"
      ]
     },
     "metadata": {},
     "output_type": "display_data"
    },
    {
     "data": {
      "application/vnd.jupyter.widget-view+json": {
       "model_id": "5c6b48c8c8c841e192c07990cf1d5770",
       "version_major": 2,
       "version_minor": 0
      },
      "text/plain": [
       "  0%|          | 0/100 [00:00<?, ?it/s]"
      ]
     },
     "metadata": {},
     "output_type": "display_data"
    },
    {
     "data": {
      "application/vnd.jupyter.widget-view+json": {
       "model_id": "939cb551d7d14e98980227de33b69bff",
       "version_major": 2,
       "version_minor": 0
      },
      "text/plain": [
       "  0%|          | 0/30 [00:00<?, ?it/s]"
      ]
     },
     "metadata": {},
     "output_type": "display_data"
    },
    {
     "data": {
      "application/vnd.jupyter.widget-view+json": {
       "model_id": "b979eca73df64f6b8e61d779d3e07b22",
       "version_major": 2,
       "version_minor": 0
      },
      "text/plain": [
       "  0%|          | 0/60 [00:00<?, ?it/s]"
      ]
     },
     "metadata": {},
     "output_type": "display_data"
    },
    {
     "data": {
      "application/vnd.jupyter.widget-view+json": {
       "model_id": "1ef3836d17804a519e9204da16bdbafb",
       "version_major": 2,
       "version_minor": 0
      },
      "text/plain": [
       "  0%|          | 0/100 [00:00<?, ?it/s]"
      ]
     },
     "metadata": {},
     "output_type": "display_data"
    },
    {
     "name": "stdout",
     "output_type": "stream",
     "text": [
      "Best on VAL: {'factors': 32, 'regularization': 0.01, 'learning_rate': 0.05, 'iterations': 100} Recall@10 = 0.0864\n"
     ]
    }
   ],
   "source": [
    "from itertools import product\n",
    "from implicit.bpr import BayesianPersonalizedRanking\n",
    "\n",
    "def recall_at_k(model, UI_eval, truth, K=10):\n",
    "    hits = total = 0\n",
    "    n_users_model = model.user_factors.shape[0]  # authoritative size\n",
    "    for u, true_items in truth.items():\n",
    "        if not (0 <= u < n_users_model):\n",
    "            continue\n",
    "        recs, _ = model.recommend(u, UI_eval[u], N=K, filter_already_liked_items=True)\n",
    "        hits += len(set(recs) & true_items)\n",
    "        total += len(true_items)\n",
    "    return hits / max(total, 1)\n",
    "\n",
    "# --- grid search with validation ---\n",
    "best = (None, float('-inf'))  # Initialize best as (params, score) with lowest possible score\n",
    "for f, reg, lr, it in product(grid[\"factors\"],\n",
    "                              grid[\"regularization\"],\n",
    "                              grid[\"learning_rate\"],\n",
    "                              grid[\"iterations\"]):\n",
    "    model = BayesianPersonalizedRanking(\n",
    "        factors=f, regularization=reg, learning_rate=lr, iterations=it\n",
    "    )\n",
    "    model.fit(IU)  # train on TRAIN only\n",
    "    score = recall_at_k(model, UI_eval, val_truth, K=10)  # use only validation here\n",
    "    if score > best[1]:\n",
    "        best = ({\"factors\": f, \"regularization\": reg,\n",
    "                 \"learning_rate\": lr, \"iterations\": it}, score)\n",
    "\n",
    "print(\"Best on VAL:\", best[0], \"Recall@10 =\", round(best[1], 4))\n"
   ]
  },
  {
   "cell_type": "code",
   "execution_count": 188,
   "id": "3e453289",
   "metadata": {},
   "outputs": [
    {
     "data": {
      "application/vnd.jupyter.widget-view+json": {
       "model_id": "f11a99ff40e243df8bd282712805ee1b",
       "version_major": 2,
       "version_minor": 0
      },
      "text/plain": [
       "  0%|          | 0/30 [00:00<?, ?it/s]"
      ]
     },
     "metadata": {},
     "output_type": "display_data"
    },
    {
     "name": "stdout",
     "output_type": "stream",
     "text": [
      "Test HitRate@10: 0.0247\n"
     ]
    }
   ],
   "source": [
    "import pandas as pd\n",
    "from scipy.sparse import coo_matrix\n",
    "\n",
    "# 0) Merge TRAIN+VAL (indices already from train-fitted encoders)\n",
    "full = pd.concat(\n",
    "    [train[[\"user_idx\",\"item_idx\",\"interaction\"]],\n",
    "     val[[\"user_idx\",\"item_idx\",\"interaction\"]]],\n",
    "    ignore_index=True\n",
    ")\n",
    "\n",
    "# 1) Make interactions binary & drop dupes\n",
    "full = full.drop_duplicates(subset=[\"user_idx\",\"item_idx\"]).assign(interaction=1.0)\n",
    "\n",
    "# 2) Build matrices (users × items) and its transpose (items × users)\n",
    "UI_full = coo_matrix((full[\"interaction\"], (full[\"user_idx\"], full[\"item_idx\"]))).tocsr()\n",
    "IU_full = UI_full.T.tocsr()\n",
    "UI_eval_full = IU_full.T.tocsr()  # guarantees row indexing matches model.user_factors\n",
    "\n",
    "# 3) Retrain BPR on TRAIN+VAL with the best params found on VAL\n",
    "best_params = {\"factors\": 64, \"regularization\": 0.003, \"learning_rate\": 0.03, \"iterations\": 30}\n",
    "from implicit.bpr import BayesianPersonalizedRanking\n",
    "model = BayesianPersonalizedRanking(**best_params)\n",
    "model.fit(IU_full)\n",
    "\n",
    "# 4) Evaluate HIT RATE / RECALL@K on TEST (K=10)\n",
    "def recall_at_k(model, UI_eval, truth, K=10):\n",
    "    hits = total = 0\n",
    "    n_users = model.user_factors.shape[0]\n",
    "    for u, true_items in truth.items():\n",
    "        if not (0 <= u < n_users):  # safety (shouldn't trigger)\n",
    "            continue\n",
    "        recs, _ = model.recommend(u, UI_eval[u], N=K, filter_already_liked_items=True)\n",
    "        hits += len(set(recs) & true_items)\n",
    "        total += len(true_items)\n",
    "    return hits / max(total, 1)\n",
    "\n",
    "test_hit_at_10 = recall_at_k(model, UI_eval_full, test_truth, K=10)\n",
    "print(f\"Test HitRate@10: {test_hit_at_10:.4f}\")"
   ]
  },
  {
   "cell_type": "code",
   "execution_count": null,
   "id": "48bff598",
   "metadata": {},
   "outputs": [],
   "source": []
  },
  {
   "cell_type": "code",
   "execution_count": null,
   "id": "4d43c567",
   "metadata": {},
   "outputs": [],
   "source": []
  },
  {
   "cell_type": "code",
   "execution_count": null,
   "id": "ba098f3f",
   "metadata": {},
   "outputs": [],
   "source": []
  },
  {
   "cell_type": "code",
   "execution_count": null,
   "id": "811a8a1a",
   "metadata": {},
   "outputs": [],
   "source": []
  },
  {
   "cell_type": "code",
   "execution_count": null,
   "id": "49a806bf",
   "metadata": {},
   "outputs": [],
   "source": []
  },
  {
   "cell_type": "code",
   "execution_count": null,
   "id": "c78975b8",
   "metadata": {},
   "outputs": [],
   "source": []
  },
  {
   "cell_type": "code",
   "execution_count": null,
   "id": "aaacd803",
   "metadata": {},
   "outputs": [],
   "source": []
  }
 ],
 "metadata": {
  "kernelspec": {
   "display_name": "base",
   "language": "python",
   "name": "python3"
  },
  "language_info": {
   "codemirror_mode": {
    "name": "ipython",
    "version": 3
   },
   "file_extension": ".py",
   "mimetype": "text/x-python",
   "name": "python",
   "nbconvert_exporter": "python",
   "pygments_lexer": "ipython3",
   "version": "3.10.14"
  }
 },
 "nbformat": 4,
 "nbformat_minor": 5
}
