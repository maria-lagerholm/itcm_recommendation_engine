{
 "cells": [
  {
   "cell_type": "code",
   "execution_count": 1,
   "id": "4ac35dd1",
   "metadata": {
    "execution": {
     "iopub.execute_input": "2025-08-26T05:39:24.029372Z",
     "iopub.status.busy": "2025-08-26T05:39:24.028932Z",
     "iopub.status.idle": "2025-08-26T05:39:24.589037Z",
     "shell.execute_reply": "2025-08-26T05:39:24.588405Z"
    }
   },
   "outputs": [],
   "source": [
    "import pandas as pd\n",
    "import numpy as np\n",
    "import lenskit as lk\n",
    "import lenskit.algorithms as lk_algo\n",
    "import lenskit.crossfold as xf\n",
    "import lenskit.metrics.predict as lk_metrics\n",
    "import lenskit.util as lk_util"
   ]
  },
  {
   "cell_type": "code",
   "execution_count": 2,
   "id": "0c05810b",
   "metadata": {
    "execution": {
     "iopub.execute_input": "2025-08-26T05:39:24.591227Z",
     "iopub.status.busy": "2025-08-26T05:39:24.591056Z",
     "iopub.status.idle": "2025-08-26T05:39:24.597572Z",
     "shell.execute_reply": "2025-08-26T05:39:24.597184Z"
    }
   },
   "outputs": [
    {
     "data": {
      "text/plain": [
       "(PosixPath('/workspace/data/external/ratings.csv'),\n",
       " PosixPath('/workspace/data/external/movies.csv'))"
      ]
     },
     "execution_count": 2,
     "metadata": {},
     "output_type": "execute_result"
    }
   ],
   "source": [
    "from pathlib import Path\n",
    "import pandas as pd\n",
    "import numpy as np\n",
    "\n",
    "# --- Paths tailored to your project ---\n",
    "PROJ = Path.cwd().parents[0] if Path.cwd().name == 'notebooks' else Path.cwd()\n",
    "DATA = PROJ / 'data' / 'external'\n",
    "PRED_DIR = PROJ / 'predictions' / 'processed'\n",
    "PRED_DIR.mkdir(parents=True, exist_ok=True)\n",
    "\n",
    "RATINGS_PATH = DATA / 'ratings.csv'\n",
    "MOVIES_PATH  = DATA / 'movies.csv'\n",
    "\n",
    "# Read as latin-1 encoding\n",
    "RATINGS_PATH, MOVIES_PATH\n"
   ]
  },
  {
   "cell_type": "code",
   "execution_count": 3,
   "id": "9f5537e0",
   "metadata": {
    "execution": {
     "iopub.execute_input": "2025-08-26T05:39:24.600910Z",
     "iopub.status.busy": "2025-08-26T05:39:24.600632Z",
     "iopub.status.idle": "2025-08-26T05:39:24.729797Z",
     "shell.execute_reply": "2025-08-26T05:39:24.729328Z"
    }
   },
   "outputs": [
    {
     "data": {
      "text/html": [
       "<div>\n",
       "<style scoped>\n",
       "    .dataframe tbody tr th:only-of-type {\n",
       "        vertical-align: middle;\n",
       "    }\n",
       "\n",
       "    .dataframe tbody tr th {\n",
       "        vertical-align: top;\n",
       "    }\n",
       "\n",
       "    .dataframe thead th {\n",
       "        text-align: right;\n",
       "    }\n",
       "</style>\n",
       "<table border=\"1\" class=\"dataframe\">\n",
       "  <thead>\n",
       "    <tr style=\"text-align: right;\">\n",
       "      <th></th>\n",
       "      <th>userId</th>\n",
       "      <th>movieId</th>\n",
       "      <th>rating</th>\n",
       "    </tr>\n",
       "  </thead>\n",
       "  <tbody>\n",
       "    <tr>\n",
       "      <th>0</th>\n",
       "      <td>12882</td>\n",
       "      <td>1</td>\n",
       "      <td>4.0</td>\n",
       "    </tr>\n",
       "    <tr>\n",
       "      <th>1</th>\n",
       "      <td>12882</td>\n",
       "      <td>32</td>\n",
       "      <td>3.5</td>\n",
       "    </tr>\n",
       "    <tr>\n",
       "      <th>2</th>\n",
       "      <td>12882</td>\n",
       "      <td>47</td>\n",
       "      <td>5.0</td>\n",
       "    </tr>\n",
       "    <tr>\n",
       "      <th>3</th>\n",
       "      <td>12882</td>\n",
       "      <td>50</td>\n",
       "      <td>5.0</td>\n",
       "    </tr>\n",
       "    <tr>\n",
       "      <th>4</th>\n",
       "      <td>12882</td>\n",
       "      <td>110</td>\n",
       "      <td>4.5</td>\n",
       "    </tr>\n",
       "  </tbody>\n",
       "</table>\n",
       "</div>"
      ],
      "text/plain": [
       "   userId  movieId  rating\n",
       "0   12882        1     4.0\n",
       "1   12882       32     3.5\n",
       "2   12882       47     5.0\n",
       "3   12882       50     5.0\n",
       "4   12882      110     4.5"
      ]
     },
     "metadata": {},
     "output_type": "display_data"
    }
   ],
   "source": [
    "import pandas as pd\n",
    "\n",
    "# Read ratings and movies data with specified encoding\n",
    "ratings = pd.read_csv(RATINGS_PATH, encoding='latin-1')\n",
    "movies  = pd.read_csv(MOVIES_PATH, encoding='latin-1')\n",
    "\n",
    "# Normalize column names to standard names\n",
    "colmap = {}\n",
    "if 'user' in ratings.columns: colmap['user'] = 'userId'\n",
    "if 'item' in ratings.columns: colmap['item'] = 'movieId'\n",
    "if 'UserID' in ratings.columns: colmap['UserID'] = 'userId'\n",
    "if 'MovieID' in ratings.columns: colmap['MovieID'] = 'movieId'\n",
    "if 'Rating' in ratings.columns: colmap['Rating'] = 'rating'\n",
    "\n",
    "ratings = ratings.rename(columns=colmap)\n",
    "ratings = ratings[['userId','movieId','rating']]\n",
    "\n",
    "# Display the ratings table as output\n",
    "from IPython.display import display\n",
    "display(ratings.head())"
   ]
  },
  {
   "cell_type": "markdown",
   "id": "f01ba0ad",
   "metadata": {},
   "source": [
    "## ranks items by their scores to get the top-N results (topn_series) and then attaches movie titles to those top-scoring IDs if the movies DataFrame contains them (with_titles)."
   ]
  },
  {
   "cell_type": "code",
   "execution_count": 4,
   "id": "effde4f7",
   "metadata": {
    "execution": {
     "iopub.execute_input": "2025-08-26T05:39:24.731215Z",
     "iopub.status.busy": "2025-08-26T05:39:24.731111Z",
     "iopub.status.idle": "2025-08-26T05:39:24.735550Z",
     "shell.execute_reply": "2025-08-26T05:39:24.735261Z"
    }
   },
   "outputs": [],
   "source": [
    "def topn_series(scores: pd.Series, n=10) -> pd.Series:\n",
    "    if n is None or n >= len(scores):\n",
    "        return scores.sort_values(ascending=False)\n",
    "    idx = np.argpartition(-scores.values, range(min(n, len(scores))))[:n]\n",
    "    return scores.iloc[idx].sort_values(ascending=False)\n",
    "\n",
    "def with_titles(series: pd.Series, movies: pd.DataFrame) -> pd.DataFrame:\n",
    "    df = series.rename('score').to_frame().reset_index().rename(columns={'index':'movieId'})\n",
    "    has_titles = {'movieId','title'}.issubset(movies.columns)\n",
    "    return df.merge(movies[['movieId','title']], on='movieId', how='left') if has_titles else df\n"
   ]
  },
  {
   "cell_type": "markdown",
   "id": "b72d61ec",
   "metadata": {},
   "source": [
    "## Raw item means (equivalent of pandas groupby)"
   ]
  },
  {
   "cell_type": "code",
   "execution_count": 5,
   "id": "30ff15eb",
   "metadata": {
    "execution": {
     "iopub.execute_input": "2025-08-26T05:39:24.736648Z",
     "iopub.status.busy": "2025-08-26T05:39:24.736535Z",
     "iopub.status.idle": "2025-08-26T05:39:24.761712Z",
     "shell.execute_reply": "2025-08-26T05:39:24.761309Z"
    }
   },
   "outputs": [
    {
     "data": {
      "text/html": [
       "<div>\n",
       "<style scoped>\n",
       "    .dataframe tbody tr th:only-of-type {\n",
       "        vertical-align: middle;\n",
       "    }\n",
       "\n",
       "    .dataframe tbody tr th {\n",
       "        vertical-align: top;\n",
       "    }\n",
       "\n",
       "    .dataframe thead th {\n",
       "        text-align: right;\n",
       "    }\n",
       "</style>\n",
       "<table border=\"1\" class=\"dataframe\">\n",
       "  <thead>\n",
       "    <tr style=\"text-align: right;\">\n",
       "      <th></th>\n",
       "      <th>movieId</th>\n",
       "      <th>score</th>\n",
       "      <th>title</th>\n",
       "    </tr>\n",
       "  </thead>\n",
       "  <tbody>\n",
       "    <tr>\n",
       "      <th>0</th>\n",
       "      <td>318</td>\n",
       "      <td>4.364362</td>\n",
       "      <td>Shawshank Redemption, The (1994)</td>\n",
       "    </tr>\n",
       "    <tr>\n",
       "      <th>1</th>\n",
       "      <td>858</td>\n",
       "      <td>4.315848</td>\n",
       "      <td>Godfather, The (1972)</td>\n",
       "    </tr>\n",
       "    <tr>\n",
       "      <th>2</th>\n",
       "      <td>1248</td>\n",
       "      <td>4.259259</td>\n",
       "      <td>Touch of Evil (1958)</td>\n",
       "    </tr>\n",
       "    <tr>\n",
       "      <th>3</th>\n",
       "      <td>2959</td>\n",
       "      <td>4.258503</td>\n",
       "      <td>Fight Club (1999)</td>\n",
       "    </tr>\n",
       "    <tr>\n",
       "      <th>4</th>\n",
       "      <td>7502</td>\n",
       "      <td>4.247423</td>\n",
       "      <td>Band of Brothers (2001)</td>\n",
       "    </tr>\n",
       "    <tr>\n",
       "      <th>5</th>\n",
       "      <td>1203</td>\n",
       "      <td>4.246032</td>\n",
       "      <td>12 Angry Men (1957)</td>\n",
       "    </tr>\n",
       "    <tr>\n",
       "      <th>6</th>\n",
       "      <td>2859</td>\n",
       "      <td>4.220000</td>\n",
       "      <td>Stop Making Sense (1984)</td>\n",
       "    </tr>\n",
       "    <tr>\n",
       "      <th>7</th>\n",
       "      <td>1221</td>\n",
       "      <td>4.218462</td>\n",
       "      <td>Godfather: Part II, The (1974)</td>\n",
       "    </tr>\n",
       "    <tr>\n",
       "      <th>8</th>\n",
       "      <td>296</td>\n",
       "      <td>4.217781</td>\n",
       "      <td>Pulp Fiction (1994)</td>\n",
       "    </tr>\n",
       "    <tr>\n",
       "      <th>9</th>\n",
       "      <td>2571</td>\n",
       "      <td>4.195359</td>\n",
       "      <td>Matrix, The (1999)</td>\n",
       "    </tr>\n",
       "  </tbody>\n",
       "</table>\n",
       "</div>"
      ],
      "text/plain": [
       "   movieId     score                             title\n",
       "0      318  4.364362  Shawshank Redemption, The (1994)\n",
       "1      858  4.315848             Godfather, The (1972)\n",
       "2     1248  4.259259              Touch of Evil (1958)\n",
       "3     2959  4.258503                 Fight Club (1999)\n",
       "4     7502  4.247423           Band of Brothers (2001)\n",
       "5     1203  4.246032               12 Angry Men (1957)\n",
       "6     2859  4.220000          Stop Making Sense (1984)\n",
       "7     1221  4.218462    Godfather: Part II, The (1974)\n",
       "8      296  4.217781               Pulp Fiction (1994)\n",
       "9     2571  4.195359                Matrix, The (1999)"
      ]
     },
     "execution_count": 5,
     "metadata": {},
     "output_type": "execute_result"
    }
   ],
   "source": [
    "item_means = ratings.groupby('movieId')['rating'].mean().rename('mean')\n",
    "top_raw = with_titles(topn_series(item_means, 10), movies)\n",
    "top_raw"
   ]
  },
  {
   "cell_type": "code",
   "execution_count": 6,
   "id": "ce35258b",
   "metadata": {
    "execution": {
     "iopub.execute_input": "2025-08-26T05:39:24.763047Z",
     "iopub.status.busy": "2025-08-26T05:39:24.762912Z",
     "iopub.status.idle": "2025-08-26T05:39:24.771683Z",
     "shell.execute_reply": "2025-08-26T05:39:24.771317Z"
    }
   },
   "outputs": [],
   "source": [
    "item_means.to_csv(PRED_DIR / 'item_means_raw.csv', index=True)\n"
   ]
  },
  {
   "cell_type": "markdown",
   "id": "3b90df65",
   "metadata": {},
   "source": [
    "## 5) Damped item means (Bayesian mean)\n",
    "\n",
    "> Formula: $\\displaystyle \\hat{\\mu}_i = \\frac{\\sum r_{ui} + \\alpha \\mu}{n_i + \\alpha}$, where $\\mu$ is global mean, $n_i$ is item count, $\\alpha$ is damping (e.g., 5)."
   ]
  },
  {
   "cell_type": "code",
   "execution_count": 7,
   "id": "ace40f3c",
   "metadata": {
    "execution": {
     "iopub.execute_input": "2025-08-26T05:39:24.773044Z",
     "iopub.status.busy": "2025-08-26T05:39:24.772887Z",
     "iopub.status.idle": "2025-08-26T05:39:24.787452Z",
     "shell.execute_reply": "2025-08-26T05:39:24.787110Z"
    }
   },
   "outputs": [
    {
     "data": {
      "text/html": [
       "<div>\n",
       "<style scoped>\n",
       "    .dataframe tbody tr th:only-of-type {\n",
       "        vertical-align: middle;\n",
       "    }\n",
       "\n",
       "    .dataframe tbody tr th {\n",
       "        vertical-align: top;\n",
       "    }\n",
       "\n",
       "    .dataframe thead th {\n",
       "        text-align: right;\n",
       "    }\n",
       "</style>\n",
       "<table border=\"1\" class=\"dataframe\">\n",
       "  <thead>\n",
       "    <tr style=\"text-align: right;\">\n",
       "      <th></th>\n",
       "      <th>movieId</th>\n",
       "      <th>score</th>\n",
       "      <th>title</th>\n",
       "    </tr>\n",
       "  </thead>\n",
       "  <tbody>\n",
       "    <tr>\n",
       "      <th>0</th>\n",
       "      <td>318</td>\n",
       "      <td>4.356802</td>\n",
       "      <td>Shawshank Redemption, The (1994)</td>\n",
       "    </tr>\n",
       "    <tr>\n",
       "      <th>1</th>\n",
       "      <td>858</td>\n",
       "      <td>4.306888</td>\n",
       "      <td>Godfather, The (1972)</td>\n",
       "    </tr>\n",
       "    <tr>\n",
       "      <th>2</th>\n",
       "      <td>2959</td>\n",
       "      <td>4.252142</td>\n",
       "      <td>Fight Club (1999)</td>\n",
       "    </tr>\n",
       "    <tr>\n",
       "      <th>3</th>\n",
       "      <td>1203</td>\n",
       "      <td>4.226909</td>\n",
       "      <td>12 Angry Men (1957)</td>\n",
       "    </tr>\n",
       "    <tr>\n",
       "      <th>4</th>\n",
       "      <td>296</td>\n",
       "      <td>4.212007</td>\n",
       "      <td>Pulp Fiction (1994)</td>\n",
       "    </tr>\n",
       "    <tr>\n",
       "      <th>5</th>\n",
       "      <td>7502</td>\n",
       "      <td>4.210983</td>\n",
       "      <td>Band of Brothers (2001)</td>\n",
       "    </tr>\n",
       "    <tr>\n",
       "      <th>6</th>\n",
       "      <td>1221</td>\n",
       "      <td>4.207637</td>\n",
       "      <td>Godfather: Part II, The (1974)</td>\n",
       "    </tr>\n",
       "    <tr>\n",
       "      <th>7</th>\n",
       "      <td>1248</td>\n",
       "      <td>4.195260</td>\n",
       "      <td>Touch of Evil (1958)</td>\n",
       "    </tr>\n",
       "    <tr>\n",
       "      <th>8</th>\n",
       "      <td>2571</td>\n",
       "      <td>4.190223</td>\n",
       "      <td>Matrix, The (1999)</td>\n",
       "    </tr>\n",
       "    <tr>\n",
       "      <th>9</th>\n",
       "      <td>4226</td>\n",
       "      <td>4.187542</td>\n",
       "      <td>Memento (2000)</td>\n",
       "    </tr>\n",
       "  </tbody>\n",
       "</table>\n",
       "</div>"
      ],
      "text/plain": [
       "   movieId     score                             title\n",
       "0      318  4.356802  Shawshank Redemption, The (1994)\n",
       "1      858  4.306888             Godfather, The (1972)\n",
       "2     2959  4.252142                 Fight Club (1999)\n",
       "3     1203  4.226909               12 Angry Men (1957)\n",
       "4      296  4.212007               Pulp Fiction (1994)\n",
       "5     7502  4.210983           Band of Brothers (2001)\n",
       "6     1221  4.207637    Godfather: Part II, The (1974)\n",
       "7     1248  4.195260              Touch of Evil (1958)\n",
       "8     2571  4.190223                Matrix, The (1999)\n",
       "9     4226  4.187542                    Memento (2000)"
      ]
     },
     "execution_count": 7,
     "metadata": {},
     "output_type": "execute_result"
    }
   ],
   "source": [
    "ALPHA = 5.0  # matches the assignment\n",
    "\n",
    "mu = ratings['rating'].mean()\n",
    "grp = ratings.groupby('movieId')['rating'].agg(['sum','count'])\n",
    "item_means_damped = ((grp['sum'] + ALPHA*mu) / (grp['count'] + ALPHA)).rename('damped_mean')\n",
    "\n",
    "top_damped = with_titles(topn_series(item_means_damped, 10), movies)\n",
    "top_damped\n"
   ]
  },
  {
   "cell_type": "code",
   "execution_count": 8,
   "id": "08c5690f",
   "metadata": {
    "execution": {
     "iopub.execute_input": "2025-08-26T05:39:24.788777Z",
     "iopub.status.busy": "2025-08-26T05:39:24.788660Z",
     "iopub.status.idle": "2025-08-26T05:39:24.794646Z",
     "shell.execute_reply": "2025-08-26T05:39:24.794262Z"
    }
   },
   "outputs": [],
   "source": [
    "item_means_damped.to_csv(PRED_DIR / 'item_means_damped.csv', index=True)"
   ]
  },
  {
   "cell_type": "markdown",
   "id": "3733105b",
   "metadata": {},
   "source": [
    "# Cross-check with LensKit’s Bias model"
   ]
  },
  {
   "cell_type": "code",
   "execution_count": 9,
   "id": "678b8b95",
   "metadata": {
    "execution": {
     "iopub.execute_input": "2025-08-26T05:39:24.796266Z",
     "iopub.status.busy": "2025-08-26T05:39:24.796150Z",
     "iopub.status.idle": "2025-08-26T05:39:25.199755Z",
     "shell.execute_reply": "2025-08-26T05:39:25.199169Z"
    }
   },
   "outputs": [
    {
     "data": {
      "text/plain": [
       "(8.881784197001252e-16,\n",
       "          damped_mean  mean_lkpy\n",
       " movieId                        \n",
       " 1           3.790460   3.790460\n",
       " 2           3.077536   3.077536\n",
       " 3           2.958076   2.958076\n",
       " 4           2.834462   2.834462\n",
       " 5           2.889140   2.889140)"
      ]
     },
     "execution_count": 9,
     "metadata": {},
     "output_type": "execute_result"
    }
   ],
   "source": [
    "# Try both import paths; different LKPY versions organize modules slightly differently.\n",
    "try:\n",
    "    from lenskit.algorithms.basic import Bias\n",
    "except Exception:\n",
    "    from lenskit.basic import Bias  # fallback for some builds\n",
    "\n",
    "# lenskit 0.14.4 expects columns named 'user', 'item', 'rating'\n",
    "ratings_lk = ratings.rename(columns={'userId': 'user', 'movieId': 'item'})\n",
    "\n",
    "# item-only bias → item means (global + item offset)\n",
    "bias = Bias(items=True, users=False, damping=ALPHA)\n",
    "bias.fit(ratings_lk)  # expects user, item, rating\n",
    "\n",
    "# In recent LKPY versions, use bias.mean_ instead of bias.global_mean\n",
    "lkpy_item_means = pd.Series(\n",
    "    bias.mean_ + bias.item_offsets_,\n",
    "    index=bias.item_offsets_.index, name='mean_lkpy'\n",
    ")\n",
    "# Convert index back to movieId for comparison\n",
    "lkpy_item_means.index.name = 'movieId'\n",
    "lkpy_item_means.index = lkpy_item_means.index.astype(ratings['movieId'].dtype)\n",
    "\n",
    "# Check they match our manual damped means\n",
    "chk = pd.concat([item_means_damped, lkpy_item_means], axis=1).dropna()\n",
    "float(np.max(np.abs(chk['damped_mean'] - chk['mean_lkpy']))), chk.head()\n"
   ]
  },
  {
   "cell_type": "markdown",
   "id": "783baa05",
   "metadata": {},
   "source": [
    "\n",
    "\n",
    "## 7) Basic Association Rules — $P(i\\mid j)$\n",
    "\n",
    "> $P(i\\mid j) = \\frac{|U_i \\cap U_j|}{|U_j|}$. Treat each user’s rated items as a basket.\n"
   ]
  },
  {
   "cell_type": "code",
   "execution_count": 10,
   "id": "8889b623",
   "metadata": {
    "execution": {
     "iopub.execute_input": "2025-08-26T05:39:25.201747Z",
     "iopub.status.busy": "2025-08-26T05:39:25.201535Z",
     "iopub.status.idle": "2025-08-26T05:39:25.277740Z",
     "shell.execute_reply": "2025-08-26T05:39:25.277349Z"
    }
   },
   "outputs": [
    {
     "data": {
      "text/html": [
       "<div>\n",
       "<style scoped>\n",
       "    .dataframe tbody tr th:only-of-type {\n",
       "        vertical-align: middle;\n",
       "    }\n",
       "\n",
       "    .dataframe tbody tr th {\n",
       "        vertical-align: top;\n",
       "    }\n",
       "\n",
       "    .dataframe thead th {\n",
       "        text-align: right;\n",
       "    }\n",
       "</style>\n",
       "<table border=\"1\" class=\"dataframe\">\n",
       "  <thead>\n",
       "    <tr style=\"text-align: right;\">\n",
       "      <th></th>\n",
       "      <th>movieId</th>\n",
       "      <th>score</th>\n",
       "      <th>title</th>\n",
       "    </tr>\n",
       "  </thead>\n",
       "  <tbody>\n",
       "    <tr>\n",
       "      <th>0</th>\n",
       "      <td>2571</td>\n",
       "      <td>0.915888</td>\n",
       "      <td>Matrix, The (1999)</td>\n",
       "    </tr>\n",
       "    <tr>\n",
       "      <th>1</th>\n",
       "      <td>1196</td>\n",
       "      <td>0.899065</td>\n",
       "      <td>Star Wars: Episode V - The Empire Strikes Back...</td>\n",
       "    </tr>\n",
       "    <tr>\n",
       "      <th>2</th>\n",
       "      <td>4993</td>\n",
       "      <td>0.891589</td>\n",
       "      <td>Lord of the Rings: The Fellowship of the Ring,...</td>\n",
       "    </tr>\n",
       "    <tr>\n",
       "      <th>3</th>\n",
       "      <td>1210</td>\n",
       "      <td>0.846729</td>\n",
       "      <td>Star Wars: Episode VI - Return of the Jedi (1983)</td>\n",
       "    </tr>\n",
       "    <tr>\n",
       "      <th>4</th>\n",
       "      <td>356</td>\n",
       "      <td>0.842991</td>\n",
       "      <td>Forrest Gump (1994)</td>\n",
       "    </tr>\n",
       "    <tr>\n",
       "      <th>5</th>\n",
       "      <td>5952</td>\n",
       "      <td>0.841121</td>\n",
       "      <td>Lord of the Rings: The Two Towers, The (2002)</td>\n",
       "    </tr>\n",
       "    <tr>\n",
       "      <th>6</th>\n",
       "      <td>7153</td>\n",
       "      <td>0.829907</td>\n",
       "      <td>Lord of the Rings: The Return of the King, The...</td>\n",
       "    </tr>\n",
       "    <tr>\n",
       "      <th>7</th>\n",
       "      <td>296</td>\n",
       "      <td>0.828037</td>\n",
       "      <td>Pulp Fiction (1994)</td>\n",
       "    </tr>\n",
       "    <tr>\n",
       "      <th>8</th>\n",
       "      <td>1198</td>\n",
       "      <td>0.790654</td>\n",
       "      <td>Raiders of the Lost Ark (Indiana Jones and the...</td>\n",
       "    </tr>\n",
       "    <tr>\n",
       "      <th>9</th>\n",
       "      <td>480</td>\n",
       "      <td>0.788785</td>\n",
       "      <td>Jurassic Park (1993)</td>\n",
       "    </tr>\n",
       "  </tbody>\n",
       "</table>\n",
       "</div>"
      ],
      "text/plain": [
       "   movieId     score                                              title\n",
       "0     2571  0.915888                                 Matrix, The (1999)\n",
       "1     1196  0.899065  Star Wars: Episode V - The Empire Strikes Back...\n",
       "2     4993  0.891589  Lord of the Rings: The Fellowship of the Ring,...\n",
       "3     1210  0.846729  Star Wars: Episode VI - Return of the Jedi (1983)\n",
       "4      356  0.842991                                Forrest Gump (1994)\n",
       "5     5952  0.841121      Lord of the Rings: The Two Towers, The (2002)\n",
       "6     7153  0.829907  Lord of the Rings: The Return of the King, The...\n",
       "7      296  0.828037                                Pulp Fiction (1994)\n",
       "8     1198  0.790654  Raiders of the Lost Ark (Indiana Jones and the...\n",
       "9      480  0.788785                               Jurassic Park (1993)"
      ]
     },
     "execution_count": 10,
     "metadata": {},
     "output_type": "execute_result"
    }
   ],
   "source": [
    "from collections import Counter, defaultdict\n",
    "\n",
    "def baskets_from_ratings(df: pd.DataFrame):\n",
    "    return df.groupby('userId')['movieId'].apply(lambda s: set(s.values))\n",
    "\n",
    "def basic_assoc_scores(df: pd.DataFrame, reference: int) -> pd.Series:\n",
    "    baskets = baskets_from_ratings(df)\n",
    "    uj = sum(1 for items in baskets if reference in items)\n",
    "    if uj == 0:\n",
    "        return pd.Series(dtype=float)\n",
    "\n",
    "    co = Counter()\n",
    "    for items in baskets:\n",
    "        if reference in items:\n",
    "            co.update(i for i in items if i != reference)\n",
    "    scores = {i: c/uj for i, c in co.items()}\n",
    "    return pd.Series(scores, name='assoc_basic').sort_values(ascending=False)\n",
    "\n",
    "REFERENCE = 260  # Star Wars in ML-1M/100k; adjust to your data if needed\n",
    "basic_scores = basic_assoc_scores(ratings, REFERENCE)\n",
    "with_titles(topn_series(basic_scores, 10), movies)\n"
   ]
  },
  {
   "cell_type": "code",
   "execution_count": 11,
   "id": "3eb37e33",
   "metadata": {
    "execution": {
     "iopub.execute_input": "2025-08-26T05:39:25.279011Z",
     "iopub.status.busy": "2025-08-26T05:39:25.278875Z",
     "iopub.status.idle": "2025-08-26T05:39:25.285726Z",
     "shell.execute_reply": "2025-08-26T05:39:25.285408Z"
    }
   },
   "outputs": [],
   "source": [
    "basic_scores.to_csv(PRED_DIR / f'basic_assoc_ref_{REFERENCE}.csv', index=True)"
   ]
  },
  {
   "cell_type": "markdown",
   "id": "e22bbe37",
   "metadata": {},
   "source": [
    "## 8) Lift Association Rules — $\\text{lift}(i\\mid j)=\\frac{P(i\\land j)}{P(i)P(j)}$\n",
    "\n",
    "> Equivalent with counts: $\\text{lift} = \\frac{|U_i\\cap U_j|\\cdot |U|}{|U_i|\\cdot |U_j|}$.\n"
   ]
  },
  {
   "cell_type": "code",
   "execution_count": 12,
   "id": "383113e4",
   "metadata": {
    "execution": {
     "iopub.execute_input": "2025-08-26T05:39:25.286911Z",
     "iopub.status.busy": "2025-08-26T05:39:25.286787Z",
     "iopub.status.idle": "2025-08-26T05:39:25.356780Z",
     "shell.execute_reply": "2025-08-26T05:39:25.356364Z"
    }
   },
   "outputs": [
    {
     "data": {
      "text/html": [
       "<div>\n",
       "<style scoped>\n",
       "    .dataframe tbody tr th:only-of-type {\n",
       "        vertical-align: middle;\n",
       "    }\n",
       "\n",
       "    .dataframe tbody tr th {\n",
       "        vertical-align: top;\n",
       "    }\n",
       "\n",
       "    .dataframe thead th {\n",
       "        text-align: right;\n",
       "    }\n",
       "</style>\n",
       "<table border=\"1\" class=\"dataframe\">\n",
       "  <thead>\n",
       "    <tr style=\"text-align: right;\">\n",
       "      <th></th>\n",
       "      <th>movieId</th>\n",
       "      <th>score</th>\n",
       "      <th>title</th>\n",
       "    </tr>\n",
       "  </thead>\n",
       "  <tbody>\n",
       "    <tr>\n",
       "      <th>0</th>\n",
       "      <td>631</td>\n",
       "      <td>4.897727</td>\n",
       "      <td>All Dogs Go to Heaven 2 (1996)</td>\n",
       "    </tr>\n",
       "    <tr>\n",
       "      <th>1</th>\n",
       "      <td>2532</td>\n",
       "      <td>4.810268</td>\n",
       "      <td>Conquest of the Planet of the Apes (1972)</td>\n",
       "    </tr>\n",
       "    <tr>\n",
       "      <th>2</th>\n",
       "      <td>3615</td>\n",
       "      <td>4.545703</td>\n",
       "      <td>Dinosaur (2000)</td>\n",
       "    </tr>\n",
       "    <tr>\n",
       "      <th>3</th>\n",
       "      <td>340</td>\n",
       "      <td>4.489583</td>\n",
       "      <td>War, The (1994)</td>\n",
       "    </tr>\n",
       "    <tr>\n",
       "      <th>4</th>\n",
       "      <td>1016</td>\n",
       "      <td>4.489583</td>\n",
       "      <td>Shaggy Dog, The (1959)</td>\n",
       "    </tr>\n",
       "    <tr>\n",
       "      <th>5</th>\n",
       "      <td>2439</td>\n",
       "      <td>4.489583</td>\n",
       "      <td>Affliction (1997)</td>\n",
       "    </tr>\n",
       "    <tr>\n",
       "      <th>6</th>\n",
       "      <td>1649</td>\n",
       "      <td>4.489583</td>\n",
       "      <td>Fast, Cheap &amp; Out of Control (1997)</td>\n",
       "    </tr>\n",
       "    <tr>\n",
       "      <th>7</th>\n",
       "      <td>332</td>\n",
       "      <td>4.377344</td>\n",
       "      <td>Village of the Damned (1995)</td>\n",
       "    </tr>\n",
       "    <tr>\n",
       "      <th>8</th>\n",
       "      <td>2736</td>\n",
       "      <td>4.329241</td>\n",
       "      <td>Brighton Beach Memoirs (1986)</td>\n",
       "    </tr>\n",
       "    <tr>\n",
       "      <th>9</th>\n",
       "      <td>3213</td>\n",
       "      <td>4.316907</td>\n",
       "      <td>Batman: Mask of the Phantasm (1993)</td>\n",
       "    </tr>\n",
       "  </tbody>\n",
       "</table>\n",
       "</div>"
      ],
      "text/plain": [
       "   movieId     score                                      title\n",
       "0      631  4.897727             All Dogs Go to Heaven 2 (1996)\n",
       "1     2532  4.810268  Conquest of the Planet of the Apes (1972)\n",
       "2     3615  4.545703                            Dinosaur (2000)\n",
       "3      340  4.489583                            War, The (1994)\n",
       "4     1016  4.489583                     Shaggy Dog, The (1959)\n",
       "5     2439  4.489583                          Affliction (1997)\n",
       "6     1649  4.489583        Fast, Cheap & Out of Control (1997)\n",
       "7      332  4.377344               Village of the Damned (1995)\n",
       "8     2736  4.329241              Brighton Beach Memoirs (1986)\n",
       "9     3213  4.316907        Batman: Mask of the Phantasm (1993)"
      ]
     },
     "execution_count": 12,
     "metadata": {},
     "output_type": "execute_result"
    }
   ],
   "source": [
    "def lift_assoc_scores(df: pd.DataFrame, reference: int) -> pd.Series:\n",
    "    baskets = baskets_from_ratings(df)\n",
    "    U = len(baskets)\n",
    "    if U == 0:\n",
    "        return pd.Series(dtype=float)\n",
    "\n",
    "    item_users = Counter()\n",
    "    for items in baskets:\n",
    "        item_users.update(items)\n",
    "\n",
    "    uj = item_users.get(reference, 0)\n",
    "    if uj == 0:\n",
    "        return pd.Series(dtype=float)\n",
    "\n",
    "    co = Counter()\n",
    "    for items in baskets:\n",
    "        if reference in items:\n",
    "            co.update(i for i in items if i != reference)\n",
    "\n",
    "    out = {}\n",
    "    for i, cij in co.items():\n",
    "        ui = item_users.get(i, 0)\n",
    "        if ui > 0:\n",
    "            out[i] = (cij * U) / (ui * uj)\n",
    "    return pd.Series(out, name='assoc_lift').sort_values(ascending=False)\n",
    "\n",
    "REFERENCE_LIFT = 2761  # Iron Giant in example; change if not in your data\n",
    "lift_scores = lift_assoc_scores(ratings, REFERENCE_LIFT)\n",
    "with_titles(topn_series(lift_scores, 10), movies)"
   ]
  },
  {
   "cell_type": "code",
   "execution_count": 13,
   "id": "8232a2f1",
   "metadata": {
    "execution": {
     "iopub.execute_input": "2025-08-26T05:39:25.357982Z",
     "iopub.status.busy": "2025-08-26T05:39:25.357859Z",
     "iopub.status.idle": "2025-08-26T05:39:25.364404Z",
     "shell.execute_reply": "2025-08-26T05:39:25.364021Z"
    }
   },
   "outputs": [],
   "source": [
    "lift_scores.to_csv(PRED_DIR / f'lift_assoc_ref_{REFERENCE_LIFT}.csv', index=True)"
   ]
  },
  {
   "cell_type": "markdown",
   "id": "e7a7a3dc",
   "metadata": {},
   "source": [
    "# Quick sanity checks (match the handout)"
   ]
  },
  {
   "cell_type": "code",
   "execution_count": 14,
   "id": "4f210360",
   "metadata": {
    "execution": {
     "iopub.execute_input": "2025-08-26T05:39:25.365671Z",
     "iopub.status.busy": "2025-08-26T05:39:25.365553Z",
     "iopub.status.idle": "2025-08-26T05:39:25.378782Z",
     "shell.execute_reply": "2025-08-26T05:39:25.378378Z"
    }
   },
   "outputs": [
    {
     "data": {
      "text/html": [
       "<div>\n",
       "<style scoped>\n",
       "    .dataframe tbody tr th:only-of-type {\n",
       "        vertical-align: middle;\n",
       "    }\n",
       "\n",
       "    .dataframe tbody tr th {\n",
       "        vertical-align: top;\n",
       "    }\n",
       "\n",
       "    .dataframe thead th {\n",
       "        text-align: right;\n",
       "    }\n",
       "</style>\n",
       "<table border=\"1\" class=\"dataframe\">\n",
       "  <thead>\n",
       "    <tr style=\"text-align: right;\">\n",
       "      <th></th>\n",
       "      <th>movieId</th>\n",
       "      <th>score_raw</th>\n",
       "      <th>title</th>\n",
       "      <th>score_damped</th>\n",
       "    </tr>\n",
       "  </thead>\n",
       "  <tbody>\n",
       "    <tr>\n",
       "      <th>0</th>\n",
       "      <td>2959</td>\n",
       "      <td>4.258503</td>\n",
       "      <td>Fight Club (1999)</td>\n",
       "      <td>4.252142</td>\n",
       "    </tr>\n",
       "    <tr>\n",
       "      <th>1</th>\n",
       "      <td>1203</td>\n",
       "      <td>4.246032</td>\n",
       "      <td>12 Angry Men (1957)</td>\n",
       "      <td>4.226909</td>\n",
       "    </tr>\n",
       "  </tbody>\n",
       "</table>\n",
       "</div>"
      ],
      "text/plain": [
       "   movieId  score_raw                title  score_damped\n",
       "0     2959   4.258503    Fight Club (1999)      4.252142\n",
       "1     1203   4.246032  12 Angry Men (1957)      4.226909"
      ]
     },
     "execution_count": 14,
     "metadata": {},
     "output_type": "execute_result"
    }
   ],
   "source": [
    "# Adjust IDs if your dataset differs from the handout\n",
    "check_ids = [2959, 1203]  # Fight Club, 12 Angry Men (if present)\n",
    "disp = pd.DataFrame({\n",
    "    'movieId': check_ids,\n",
    "    'mean': [item_means.get(i, np.nan) for i in check_ids],\n",
    "    'damped_mean': [item_means_damped.get(i, np.nan) for i in check_ids],\n",
    "})\n",
    "with_titles(disp.set_index('movieId')['mean'], movies).merge(\n",
    "    with_titles(disp.set_index('movieId')['damped_mean'], movies),\n",
    "    on=['movieId','title'], suffixes=('_raw','_damped')\n",
    ")\n"
   ]
  },
  {
   "cell_type": "markdown",
   "id": "6e823bb6",
   "metadata": {},
   "source": [
    "# Save pretty Top-N tables"
   ]
  },
  {
   "cell_type": "code",
   "execution_count": 15,
   "id": "e8f87f2a",
   "metadata": {
    "execution": {
     "iopub.execute_input": "2025-08-26T05:39:25.380039Z",
     "iopub.status.busy": "2025-08-26T05:39:25.379883Z",
     "iopub.status.idle": "2025-08-26T05:39:25.390762Z",
     "shell.execute_reply": "2025-08-26T05:39:25.390424Z"
    }
   },
   "outputs": [
    {
     "data": {
      "text/plain": [
       "PosixPath('/workspace/predictions/processed')"
      ]
     },
     "execution_count": 15,
     "metadata": {},
     "output_type": "execute_result"
    }
   ],
   "source": [
    "top_raw.to_csv(PRED_DIR / 'top10_raw_means.csv', index=False)\n",
    "top_damped.to_csv(PRED_DIR / 'top10_damped_means.csv', index=False)\n",
    "with_titles(topn_series(basic_scores, 50), movies).to_csv(PRED_DIR / f'top_basic_assoc_{REFERENCE}.csv', index=False)\n",
    "with_titles(topn_series(lift_scores, 50), movies).to_csv(PRED_DIR / f'top_lift_assoc_{REFERENCE_LIFT}.csv', index=False)\n",
    "\n",
    "PRED_DIR"
   ]
  },
  {
   "cell_type": "code",
   "execution_count": null,
   "id": "57a4147f",
   "metadata": {},
   "outputs": [],
   "source": []
  },
  {
   "cell_type": "code",
   "execution_count": null,
   "id": "84d6e314",
   "metadata": {},
   "outputs": [],
   "source": []
  },
  {
   "cell_type": "code",
   "execution_count": null,
   "id": "6db980e9",
   "metadata": {},
   "outputs": [],
   "source": []
  }
 ],
 "metadata": {
  "kernelspec": {
   "display_name": "base",
   "language": "python",
   "name": "python3"
  },
  "language_info": {
   "codemirror_mode": {
    "name": "ipython",
    "version": 3
   },
   "file_extension": ".py",
   "mimetype": "text/x-python",
   "name": "python",
   "nbconvert_exporter": "python",
   "pygments_lexer": "ipython3",
   "version": "3.10.14"
  }
 },
 "nbformat": 4,
 "nbformat_minor": 5
}
