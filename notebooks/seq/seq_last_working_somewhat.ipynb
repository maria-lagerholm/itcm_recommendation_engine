{
 "cells": [
  {
   "cell_type": "markdown",
   "id": "5cb6dca1",
   "metadata": {},
   "source": [
    "# Personalized recommendation"
   ]
  },
  {
   "cell_type": "markdown",
   "id": "701ddddc",
   "metadata": {},
   "source": [
    "After buying X, people next buy Y"
   ]
  },
  {
   "cell_type": "code",
   "execution_count": 1,
   "id": "8e9e02ce",
   "metadata": {},
   "outputs": [],
   "source": [
    "# %% [markdown]\n",
    "# Penultimate→Last item–item CF (next-basket prediction)\n",
    "import pandas as pd\n",
    "from collections import Counter, defaultdict\n",
    "from math import sqrt\n",
    "\n",
    "\n",
    "DATA_PATH = \"/workspace/data/processed/transactions_clean.parquet\"\n",
    "OUTPUT_PATH = \"/workspace/data/processed/personalized_cf_recs.parquet\"\n",
    "\n",
    "BAD_GROUP_IDS = {\"12025DK\",\"12025FI\",\"12025NO\",\"12025SE\",\"970300\",\"459978\"}\n",
    "\n",
    "LAM_SEQ = 50\n",
    "POP_DISCOUNT = True\n",
    "K_NEIGHBORS = 100\n",
    "\n",
    "TOPK = 10\n",
    "MIN_SCORE = 0.0\n",
    "ITEM_SUPPORT_THR = 15\n",
    "\n",
    "ALLOW_SELF_TRANSITION = False   # do not learn i->i edges\n",
    "EVAL_ALLOW_REPURCHASE = False   # eval new-item next-order\n",
    "EXPORT_ALLOW_REPURCHASE = False  # allow repurchases in production export\n",
    "\n",
    "USER_MIN_ORDERS = 2\n"
   ]
  },
  {
   "cell_type": "code",
   "execution_count": 2,
   "id": "a1b1564b",
   "metadata": {},
   "outputs": [
    {
     "name": "stdout",
     "output_type": "stream",
     "text": [
      "Rows: 298,972 | Users: 61,452 | Orders: 109,808\n"
     ]
    }
   ],
   "source": [
    "# %%\n",
    "cols = [\"shopUserId\", \"orderId\", \"groupId\", \"created\"]\n",
    "tx = pd.read_parquet(DATA_PATH, columns=cols).copy()\n",
    "\n",
    "tx[\"created\"] = pd.to_datetime(tx[\"created\"], errors=\"coerce\")\n",
    "tx[\"groupId\"] = tx[\"groupId\"].astype(str).str.strip()\n",
    "\n",
    "# drop empties / NaNs / banned groups\n",
    "tx = tx[tx[\"groupId\"].ne(\"\") & ~tx[\"groupId\"].str.lower().eq(\"nan\")].copy()\n",
    "tx = tx[~tx[\"groupId\"].isin(BAD_GROUP_IDS)].reset_index(drop=True)\n",
    "\n",
    "print(f\"Rows: {len(tx):,} | Users: {tx['shopUserId'].nunique():,} | Orders: {tx['orderId'].nunique():,}\")\n"
   ]
  },
  {
   "cell_type": "markdown",
   "id": "34c6dc4d",
   "metadata": {},
   "source": [
    "Orders & split (leave‑last‑order‑out)"
   ]
  },
  {
   "cell_type": "code",
   "execution_count": 3,
   "id": "b16ec9b2",
   "metadata": {},
   "outputs": [
    {
     "name": "stdout",
     "output_type": "stream",
     "text": [
      "Qualified users: 24632 | Qualified orders: 72988 | Test (last) orders: 24637\n"
     ]
    }
   ],
   "source": [
    "# %%\n",
    "# One row per (user, order) with unique item set and order timestamp\n",
    "o0 = (\n",
    "    tx.groupby([\"shopUserId\", \"orderId\"], as_index=False)\n",
    "      .agg(items=(\"groupId\", lambda s: list(set(map(str, s)))),\n",
    "           t=(\"created\", \"max\"))\n",
    ")\n",
    "\n",
    "# Keep users with at least USER_MIN_ORDERS orders\n",
    "user_order_counts = o0.groupby(\"shopUserId\")[\"orderId\"].transform(\"nunique\")\n",
    "o = o0[user_order_counts >= USER_MIN_ORDERS].copy().reset_index(drop=True)\n",
    "\n",
    "# Identify the last order timestamp per user\n",
    "lt = o.groupby(\"shopUserId\")[\"t\"].transform(\"max\")\n",
    "test_orders = o[o[\"t\"] == lt].copy()  # last order per qualified user (evaluation target)\n",
    "\n",
    "print(\n",
    "    \"Qualified users:\", o[\"shopUserId\"].nunique(),\n",
    "    \"| Qualified orders:\", len(o),\n",
    "    \"| Test (last) orders:\", len(test_orders)\n",
    ")\n"
   ]
  },
  {
   "cell_type": "markdown",
   "id": "c99d3e99",
   "metadata": {},
   "source": [
    "Item supports & candidates"
   ]
  },
  {
   "cell_type": "code",
   "execution_count": 4,
   "id": "de9e2837",
   "metadata": {},
   "outputs": [
    {
     "name": "stdout",
     "output_type": "stream",
     "text": [
      "Train pairs (prev→cur): 24632\n"
     ]
    },
    {
     "data": {
      "text/html": [
       "<div>\n",
       "<style scoped>\n",
       "    .dataframe tbody tr th:only-of-type {\n",
       "        vertical-align: middle;\n",
       "    }\n",
       "\n",
       "    .dataframe tbody tr th {\n",
       "        vertical-align: top;\n",
       "    }\n",
       "\n",
       "    .dataframe thead th {\n",
       "        text-align: right;\n",
       "    }\n",
       "</style>\n",
       "<table border=\"1\" class=\"dataframe\">\n",
       "  <thead>\n",
       "    <tr style=\"text-align: right;\">\n",
       "      <th></th>\n",
       "      <th>prev</th>\n",
       "      <th>cur</th>\n",
       "    </tr>\n",
       "    <tr>\n",
       "      <th>shopUserId</th>\n",
       "      <th></th>\n",
       "      <th></th>\n",
       "    </tr>\n",
       "  </thead>\n",
       "  <tbody>\n",
       "    <tr>\n",
       "      <th>100140</th>\n",
       "      <td>[264549]</td>\n",
       "      <td>[264549]</td>\n",
       "    </tr>\n",
       "    <tr>\n",
       "      <th>100157</th>\n",
       "      <td>[240279]</td>\n",
       "      <td>[210789]</td>\n",
       "    </tr>\n",
       "    <tr>\n",
       "      <th>100208</th>\n",
       "      <td>[210707]</td>\n",
       "      <td>[241562, 210695, 210686]</td>\n",
       "    </tr>\n",
       "    <tr>\n",
       "      <th>100844</th>\n",
       "      <td>[250122, 260513]</td>\n",
       "      <td>[260513, 270696, 270544, 541419]</td>\n",
       "    </tr>\n",
       "    <tr>\n",
       "      <th>100948</th>\n",
       "      <td>[261890, 200187, 266882, 270599, 260205]</td>\n",
       "      <td>[293647, 291088, 291054, 292045]</td>\n",
       "    </tr>\n",
       "  </tbody>\n",
       "</table>\n",
       "</div>"
      ],
      "text/plain": [
       "                                                prev  \\\n",
       "shopUserId                                             \n",
       "100140                                      [264549]   \n",
       "100157                                      [240279]   \n",
       "100208                                      [210707]   \n",
       "100844                              [250122, 260513]   \n",
       "100948      [261890, 200187, 266882, 270599, 260205]   \n",
       "\n",
       "                                         cur  \n",
       "shopUserId                                    \n",
       "100140                              [264549]  \n",
       "100157                              [210789]  \n",
       "100208              [241562, 210695, 210686]  \n",
       "100844      [260513, 270696, 270544, 541419]  \n",
       "100948      [293647, 291088, 291054, 292045]  "
      ]
     },
     "execution_count": 4,
     "metadata": {},
     "output_type": "execute_result"
    }
   ],
   "source": [
    "# %%\n",
    "# Take the last two orders per user (penultimate, last)\n",
    "last_two = (\n",
    "    o.sort_values(\"t\")\n",
    "     .groupby(\"shopUserId\", as_index=False, sort=False)\n",
    "     .tail(2)\n",
    "     .sort_values([\"shopUserId\", \"t\"])\n",
    ")\n",
    "\n",
    "# For each user, prev = penultimate items, cur = last items\n",
    "pairs = (\n",
    "    last_two.groupby(\"shopUserId\", sort=False)\n",
    "            .agg(prev=(\"items\", lambda s: list(map(str, s.iloc[0]))),\n",
    "                 cur =(\"items\", lambda s: list(map(str, s.iloc[1]))))\n",
    ")\n",
    "\n",
    "# Seeds for evaluation = penultimate basket\n",
    "last_seed_train = dict(zip(pairs.index, pairs[\"prev\"]))\n",
    "\n",
    "print(\"Train pairs (prev→cur):\", len(pairs))\n",
    "pairs.head()\n"
   ]
  },
  {
   "cell_type": "markdown",
   "id": "bf2a87ea",
   "metadata": {},
   "source": [
    "Sequential transitions (i → j)"
   ]
  },
  {
   "cell_type": "code",
   "execution_count": 5,
   "id": "511e2b2c",
   "metadata": {},
   "outputs": [
    {
     "name": "stdout",
     "output_type": "stream",
     "text": [
      "Seen items (prev∪cur): 1770 | Candidate items (as targets): 636\n"
     ]
    }
   ],
   "source": [
    "# %%\n",
    "# Support counted only from prev (sources of transitions)\n",
    "isup = Counter()\n",
    "for items in pairs[\"prev\"]:\n",
    "    isup.update(set(items))\n",
    "\n",
    "# Items seen anywhere in last-two (prev ∪ cur)\n",
    "seen_items = set(isup.keys()) | {x for xs in pairs[\"cur\"] for x in xs}\n",
    "\n",
    "# Candidate prediction targets must have at least ITEM_SUPPORT_THR occurrences as prev\n",
    "candidates = {i for i, c in isup.items() if c >= ITEM_SUPPORT_THR}\n",
    "\n",
    "print(\n",
    "    \"Seen items (prev∪cur):\", len(seen_items),\n",
    "    \"| Candidate items (as targets):\", len(candidates)\n",
    ")\n"
   ]
  },
  {
   "cell_type": "code",
   "execution_count": 6,
   "id": "e88a6423",
   "metadata": {},
   "outputs": [
    {
     "name": "stdout",
     "output_type": "stream",
     "text": [
      "Transitions learned (i→j): 105437\n"
     ]
    }
   ],
   "source": [
    "# %%\n",
    "psup_seq = Counter()\n",
    "isup_in = Counter()\n",
    "isup_out = Counter()\n",
    "\n",
    "for _, r in pairs.iterrows():\n",
    "    prev = set(r[\"prev\"])\n",
    "    cur  = set(r[\"cur\"])\n",
    "    for i in prev:\n",
    "        for j in cur:\n",
    "            if (i == j) and (not ALLOW_SELF_TRANSITION):\n",
    "                continue\n",
    "            psup_seq[(i, j)] += 1\n",
    "            isup_out[i] += 1\n",
    "            isup_in[j]  += 1\n",
    "\n",
    "print(\"Transitions learned (i→j):\", len(psup_seq))\n"
   ]
  },
  {
   "cell_type": "code",
   "execution_count": 7,
   "id": "3ad59b09",
   "metadata": {},
   "outputs": [],
   "source": [
    "def build_neighbors_seq(psup_seq, isup_in, isup_out, K=None, lam=None, pop_discount=None):\n",
    "    if K is None: K = K_NEIGHBORS\n",
    "    if lam is None: lam = LAM_SEQ\n",
    "    if pop_discount is None: pop_discount = POP_DISCOUNT\n",
    "\n",
    "    nei = defaultdict(list)\n",
    "    for (i, j), n_ij in psup_seq.items():\n",
    "        p = n_ij / (isup_out[i] + lam)\n",
    "        if pop_discount:\n",
    "            p /= sqrt(max(1, isup_in[j]))\n",
    "        nei[i].append((j, p))\n",
    "    for i in list(nei):\n",
    "        nei[i] = sorted(nei[i], key=lambda x: x[1], reverse=True)[:K]\n",
    "    return nei\n",
    "\n",
    "# cleaner call\n",
    "neighbors = build_neighbors_seq(psup_seq, isup_in, isup_out)\n"
   ]
  },
  {
   "cell_type": "code",
   "execution_count": 8,
   "id": "366962d8",
   "metadata": {},
   "outputs": [],
   "source": [
    "# %%\n",
    "from collections import defaultdict as ddict\n",
    "\n",
    "def rec_seq(seed, k=TOPK, allow_repurchase=EVAL_ALLOW_REPURCHASE,\n",
    "            thr=MIN_SCORE, use_candidates=True):\n",
    "    S = set(seed)\n",
    "    scores = ddict(float)\n",
    "    for i in S:\n",
    "        for j, w in neighbors.get(i, []):\n",
    "            if (not allow_repurchase) and (j in S):\n",
    "                continue\n",
    "            if w < thr:\n",
    "                continue\n",
    "            if use_candidates and (j not in candidates):\n",
    "                continue\n",
    "            scores[j] += w\n",
    "    ranked = [j for j, _ in sorted(scores.items(), key=lambda x: x[1], reverse=True)]\n",
    "    return ranked[:k]\n"
   ]
  },
  {
   "cell_type": "code",
   "execution_count": 9,
   "id": "4aa9aa04",
   "metadata": {},
   "outputs": [
    {
     "name": "stdout",
     "output_type": "stream",
     "text": [
      "Hit@10: 0.2482 | Users: 24632 | UserHitRate: 0.4046\n",
      "Cold share (test): 0.0\n"
     ]
    }
   ],
   "source": [
    "# %%\n",
    "hits = tot = users = users_hit = 0\n",
    "\n",
    "# Build a (user -> last basket) map from test_orders\n",
    "test_last = dict(zip(test_orders[\"shopUserId\"], test_orders[\"items\"]))\n",
    "\n",
    "for u, seed in last_seed_train.items():\n",
    "    tgt = set(test_last.get(u, []))\n",
    "    if not seed or not tgt:\n",
    "        continue\n",
    "    users += 1\n",
    "    R = set(rec_seq(seed, k=TOPK))\n",
    "    users_hit += int(len(tgt & R) > 0)\n",
    "    hits += sum(1 for x in tgt if x in R)\n",
    "    tot  += len(tgt)\n",
    "\n",
    "print(\n",
    "    \"Hit@10:\", round(hits / tot if tot else 0.0, 4),\n",
    "    \"| Users:\", users,\n",
    "    \"| UserHitRate:\", round(users_hit / users if users else 0.0, 4)\n",
    ")\n",
    "\n",
    "# Cold-start share among test labels\n",
    "tot_items = sum(len(x) for x in test_orders[\"items\"])\n",
    "cold_items = sum(1 for xs in test_orders[\"items\"] for x in xs if x not in seen_items)\n",
    "print(\"Cold share (test):\", round(cold_items / tot_items if tot_items else 0.0, 4))\n"
   ]
  },
  {
   "cell_type": "code",
   "execution_count": 10,
   "id": "dcb149f4",
   "metadata": {},
   "outputs": [],
   "source": [
    "# %%\n",
    "# In production, recommend for the user's current most recent basket (last order)\n",
    "last_order_all = (\n",
    "    o.sort_values(\"t\")\n",
    "     .groupby(\"shopUserId\", as_index=False)\n",
    "     .tail(1)[[\"shopUserId\",\"items\"]]\n",
    ")\n",
    "seed_map_export = dict(zip(last_order_all[\"shopUserId\"], last_order_all[\"items\"]))\n",
    "\n",
    "# No popularity backfill — only neighbor-based (similar) items\n",
    "def rec_seq_export(seed, k=TOPK, allow_repurchase=EXPORT_ALLOW_REPURCHASE, thr=MIN_SCORE):\n",
    "    S = set(seed)\n",
    "    scores = ddict(float)\n",
    "    for i in S:\n",
    "        for j, w in neighbors.get(i, []):\n",
    "            if w < thr:\n",
    "                continue\n",
    "            if (not allow_repurchase) and (j in S):\n",
    "                continue\n",
    "            scores[j] += w\n",
    "    ranked = [j for j, _ in sorted(scores.items(), key=lambda x: x[1], reverse=True)]\n",
    "    return ranked[:k]  # may be shorter than k if not enough similar items\n"
   ]
  },
  {
   "cell_type": "code",
   "execution_count": 11,
   "id": "2596654a",
   "metadata": {},
   "outputs": [
    {
     "name": "stdout",
     "output_type": "stream",
     "text": [
      "Wrote 24,632 users → /workspace/data/processed/personalized_cf_recs.parquet | Users with <10 recs: 327\n"
     ]
    },
    {
     "data": {
      "text/html": [
       "<div>\n",
       "<style scoped>\n",
       "    .dataframe tbody tr th:only-of-type {\n",
       "        vertical-align: middle;\n",
       "    }\n",
       "\n",
       "    .dataframe tbody tr th {\n",
       "        vertical-align: top;\n",
       "    }\n",
       "\n",
       "    .dataframe thead th {\n",
       "        text-align: right;\n",
       "    }\n",
       "</style>\n",
       "<table border=\"1\" class=\"dataframe\">\n",
       "  <thead>\n",
       "    <tr style=\"text-align: right;\">\n",
       "      <th></th>\n",
       "      <th>shopUserId</th>\n",
       "      <th>Recent Purchase</th>\n",
       "      <th>Recommended Items</th>\n",
       "    </tr>\n",
       "  </thead>\n",
       "  <tbody>\n",
       "    <tr>\n",
       "      <th>0</th>\n",
       "      <td>252934</td>\n",
       "      <td>[261610, 291294]</td>\n",
       "      <td>[291612, 270054, 265546, 290150, 290278, 29207...</td>\n",
       "    </tr>\n",
       "    <tr>\n",
       "      <th>1</th>\n",
       "      <td>218595</td>\n",
       "      <td>[265823]</td>\n",
       "      <td>[270247, 271010, 270103, 270573, 266072, 26493...</td>\n",
       "    </tr>\n",
       "    <tr>\n",
       "      <th>2</th>\n",
       "      <td>253943</td>\n",
       "      <td>[280053, 261193]</td>\n",
       "      <td>[261371, 280008, 290179, 261688, 261737, 21066...</td>\n",
       "    </tr>\n",
       "    <tr>\n",
       "      <th>3</th>\n",
       "      <td>246488</td>\n",
       "      <td>[260513]</td>\n",
       "      <td>[265843, 265231, 290176, 260313, 260887, 26334...</td>\n",
       "    </tr>\n",
       "    <tr>\n",
       "      <th>4</th>\n",
       "      <td>255340</td>\n",
       "      <td>[291839]</td>\n",
       "      <td>[280109, 290290, 352787, 291690, 262010, 26056...</td>\n",
       "    </tr>\n",
       "  </tbody>\n",
       "</table>\n",
       "</div>"
      ],
      "text/plain": [
       "  shopUserId   Recent Purchase  \\\n",
       "0     252934  [261610, 291294]   \n",
       "1     218595          [265823]   \n",
       "2     253943  [280053, 261193]   \n",
       "3     246488          [260513]   \n",
       "4     255340          [291839]   \n",
       "\n",
       "                                   Recommended Items  \n",
       "0  [291612, 270054, 265546, 290150, 290278, 29207...  \n",
       "1  [270247, 271010, 270103, 270573, 266072, 26493...  \n",
       "2  [261371, 280008, 290179, 261688, 261737, 21066...  \n",
       "3  [265843, 265231, 290176, 260313, 260887, 26334...  \n",
       "4  [280109, 290290, 352787, 291690, 262010, 26056...  "
      ]
     },
     "execution_count": 11,
     "metadata": {},
     "output_type": "execute_result"
    }
   ],
   "source": [
    "# Generate export\n",
    "rows = []\n",
    "short_lists = 0\n",
    "for u, seed in seed_map_export.items():\n",
    "    recs = rec_seq_export(seed, k=TOPK)\n",
    "    if len(recs) < TOPK:\n",
    "        short_lists += 1\n",
    "    rows.append({\"shopUserId\": u, \"Recent Purchase\": seed, \"Recommended Items\": recs})\n",
    "\n",
    "df_recs = pd.DataFrame(rows, columns=[\"shopUserId\",\"Recent Purchase\",\"Recommended Items\"])\n",
    "df_recs.to_parquet(OUTPUT_PATH, engine=\"pyarrow\", index=False)\n",
    "print(f\"Wrote {len(df_recs):,} users → {OUTPUT_PATH} | Users with <{TOPK} recs: {short_lists}\")\n",
    "df_recs.head()"
   ]
  },
  {
   "cell_type": "code",
   "execution_count": null,
   "id": "763773c5",
   "metadata": {},
   "outputs": [],
   "source": []
  },
  {
   "cell_type": "code",
   "execution_count": null,
   "id": "f9314ae2",
   "metadata": {},
   "outputs": [],
   "source": []
  }
 ],
 "metadata": {
  "kernelspec": {
   "display_name": "Python (itcm-recsys)",
   "language": "python",
   "name": "itcm-recsys"
  },
  "language_info": {
   "codemirror_mode": {
    "name": "ipython",
    "version": 3
   },
   "file_extension": ".py",
   "mimetype": "text/x-python",
   "name": "python",
   "nbconvert_exporter": "python",
   "pygments_lexer": "ipython3",
   "version": "3.10.18"
  }
 },
 "nbformat": 4,
 "nbformat_minor": 5
}
