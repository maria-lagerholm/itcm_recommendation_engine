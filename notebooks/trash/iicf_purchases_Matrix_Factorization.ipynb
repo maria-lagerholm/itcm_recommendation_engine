{
 "cells": [
  {
   "cell_type": "markdown",
   "id": "5cb6dca1",
   "metadata": {},
   "source": [
    "# Personalized recommendation only for repeat buyers: training objective is always user → item preference, not item ↔ item co-occurrence."
   ]
  },
  {
   "cell_type": "markdown",
   "id": "45f2ee3e",
   "metadata": {},
   "source": [
    "\n",
    "\n",
    "item_similarity matrix is built from the user–item interaction matrix.\n",
    "Each column is an item vector showing which users bought it (and how strongly, e.g. with log1p weights).\n",
    "To compute similarity between two items, you compare those columns.\n",
    "👉 So two items will have high cosine similarity if:\n",
    "Many of the same users bought both, and\n",
    "Their purchase patterns (weights) are similar.\n",
    "\n",
    "## 1) Goal\n",
    "\n",
    "Recommend items to users, using only **purchase (0/1) histories**.\n",
    "\n",
    "\n",
    "### 🔹 User similarity (user–user CF)\n",
    "\n",
    "* Two users are considered **similar** if they **interacted with the same items in similar ways**.\n",
    "* You compare **rows** of the user–item matrix.\n",
    "* Example: if Alice and Bob both bought mostly the same products, their vectors look alike → high similarity.\n",
    "\n",
    "---\n",
    "\n",
    "### 🔹 Item similarity (item–item CF)\n",
    "\n",
    "* Two items are considered **similar** if they are **consumed by the same users**.\n",
    "* You compare **columns** of the user–item matrix.\n",
    "* Example: if product A and product B are often bought by the same customers, their vectors look alike → high similarity.\n",
    "---\n",
    "\n",
    "### 🔹 Concept in words\n",
    "\n",
    "* **User similarity**: “Find other people who behave like me, then recommend what they bought.”\n",
    "* **Item similarity**: “Find products that behave alike across customers, then recommend them to me based on what I bought.”\n",
    "\n",
    "\n",
    "Good question 👍 You already tried **item–item KNN with cosine similarity** on the user–item matrix. That’s the most basic collaborative filtering way to find similar items. But there are several **more robust methods** you can try to get better and less noisy “similar items” signals.\n",
    "\n",
    "---\n",
    "\n",
    "\n",
    "## 2. Matrix Factorization (Latent Factors)\n",
    "\n",
    "* Learn hidden factors (FunkSVD, ALS, etc.).\n",
    "* Then compute **item similarity in latent space**: items that project to similar factor vectors are “similar.”\n",
    "* This is usually more robust because it captures *deeper patterns* (e.g., both items load on “organic food” factor), not just co-purchases.\n",
    "\n",
    "---\n",
    "\n",
    "## 3. Item Embeddings\n",
    "\n",
    "* Treat each basket (or order) like a “sentence” and each item like a “word.”\n",
    "* Train embeddings with **Word2Vec/Skip-gram/CBOW** or newer methods.\n",
    "* Similar items end up close in embedding space, which is often smoother and less sparse than co-purchase counts.\n",
    "\n",
    "---\n",
    "\n",
    "## 4. Bayesian/Probabilistic Models\n",
    "\n",
    "* Models like **Bayesian Personalized Ranking (BPR)** or **Poisson Factorization** generate item similarity from a probabilistic perspective.\n",
    "* These models are especially good for implicit feedback (purchases, clicks).\n",
    "\n",
    "---\n",
    "\n",
    "## 5. Hybrid Approaches\n",
    "\n",
    "* Combine **collaborative signals** with **content similarity** (semantic embeddings, metadata).\n",
    "* Example: If two items rarely co-occur but are textually or visually similar, hybrid scoring can still surface them.\n",
    "\n",
    "\n",
    "\n",
    "\n",
    "\n",
    "\n"
   ]
  },
  {
   "cell_type": "markdown",
   "id": "161cf9dd",
   "metadata": {},
   "source": [
    "# Hybrid methods help: combine factorization with neighborhood or graph-based closeness. standard user–item factorization ignores side information (demographics, cast, reviews, genres)., adding content/meta-data into MF makes recommenders more accurate and sometimes more interpretable, but harder to compute. Collective factorization: jointly factorize multiple matrices (user–item, movie–cast, movie–reviews, etc.) so entities share latent vectors.\n"
   ]
  },
  {
   "cell_type": "markdown",
   "id": "f5895f0d",
   "metadata": {},
   "source": [
    "If your goal is ranking items for recommendation (top-N lists) → Bayesian Personalized Ranking BPR-MF is the better choice than logistic. Better suited for recommendation lists where the order matters. BPR trains recommenders to rank bought items higher than not-bought items, using implicit feedback Learn the blend: train models (logistic, trees, or learning-to-rank) to set weights/features from data. MF + BPR loss → learns latent factors optimized for ranking (top-N recommendation). \n",
    "\n",
    "* **Blending:** final score $= \\alpha \\cdot \\text{MF} + \\beta \\cdot \\text{popularity} + \\gamma \\cdot \\text{copurchase}$. Tune $\\alpha,\\beta,\\gamma$ offline by NDCG\\@K; verify with A/B.\n"
   ]
  },
  {
   "cell_type": "markdown",
   "id": "3e541b72",
   "metadata": {},
   "source": [
    "\n",
    "* **General recipe:** A recommender = **model** (e.g., MF, linear regression, nearest-neighbor) + **parameters** (θ) + **loss/utility function** + **optimization algorithm**.\n",
    "* **Training loop:**\n",
    "\n",
    "  1. Use parameters → make predictions.\n",
    "  2. Measure error/utility.\n",
    "  3. Update parameters (e.g., gradient descent).\n",
    "  4. Repeat until convergence.\n",
    "* **Models:** can be global mean, bias models, linear regression, matrix factorization, etc.\n",
    "* **Metrics to optimize:**\n",
    "\n",
    "  * RMSE (prediction accuracy).\n",
    "  * Classification accuracy (good vs. bad).\n",
    "  * Ranking accuracy (top-N).\n",
    "* **Optimization:** typically gradient descent (needs differentiable loss), sometimes EM or other iterative methods."
   ]
  },
  {
   "cell_type": "markdown",
   "id": "b7d6ef50",
   "metadata": {},
   "source": [
    "Ensembles win: Blend diverse models (MF, neighborhood, RBM, etc.) — a few strong ones often suffice. Many small, complementary predictors beat one “perfect” model.\n",
    "\n",
    "* **Matrix setup:** Instead of ratings (1–5), use a **binary matrix**:\n",
    "\n",
    "  * 1 if a user purchased an item.\n",
    "  * 0 if not (missing/unknown).\n",
    "\n",
    "* **Bias:** Biases first: Model global/user/item effects (means) — they matter a lot. Instead of rating means, the baseline becomes **popularity** (global, per-item, per-user purchase rates).\n",
    "\n",
    "* **Normalization:** Center by subtracting these purchase probabilities (so frequent buyers or p\\opular items don’t dominate).\n",
    "\n",
    "* **Factorization:** Apply SVD/matrix factorization to this binary (or normalized) matrix → find latent factors of *why* items are co-purchased. Sparse-aware MF: Use matrix factorization that fits only observed entries (not dense SVD).\n",
    "\n",
    "* **Scoring:** Predicted score = baseline purchase probability + user–item dot product in latent space.\n",
    "\n",
    "  * High score = higher predicted likelihood of purchase.\n",
    "\n",
    "* **Evaluation:**\n",
    "\n",
    "  * Ratings → RMSE.\n",
    "  * Purchases → ranking metrics (precision\\@k, recall\\@k, nDCG), since we only care about “what will the user buy next.”\n",
    "\n",
    "👉 **Lesson:** It’s the same pipeline, but you swap “rating values” with “purchase indicators,” and evaluate with **ranking-based metrics** instead of rating accuracy.\n",
    "\n",
    "Do you want me to give you a **1–2 sentence “purchase version” rewrite** of your original short learning list?\n",
    "\n",
    "RMSE ≠ product impact: Ranking/top-N and online A/B tests are more aligned with business goals.\n"
   ]
  },
  {
   "cell_type": "markdown",
   "id": "70e57fe6",
   "metadata": {},
   "source": [
    "* Start with a big **user–item interaction matrix** (ratings, purchases, clicks).\n",
    "* Initialize random **user vectors** ($p_u$) and **item vectors** ($q_i$).\n",
    "* Define a **loss function** (e.g., squared error between actual vs predicted rating, or BPR for ranking).\n",
    "* Use **optimization (like gradient descent)** to adjust the vectors so that:\n",
    "\n",
    "  * items a user liked/bought get **higher predicted scores**,\n",
    "  * items they ignored get **lower scores**.\n",
    "\n",
    "👉 Over many updates, the vectors capture hidden patterns (“user likes sci-fi,” “item is a comedy”) so that the **dot product = predicted preference**."
   ]
  },
  {
   "cell_type": "code",
   "execution_count": 205,
   "id": "769f81b8",
   "metadata": {},
   "outputs": [
    {
     "data": {
      "text/html": [
       "<div>\n",
       "<style scoped>\n",
       "    .dataframe tbody tr th:only-of-type {\n",
       "        vertical-align: middle;\n",
       "    }\n",
       "\n",
       "    .dataframe tbody tr th {\n",
       "        vertical-align: top;\n",
       "    }\n",
       "\n",
       "    .dataframe thead th {\n",
       "        text-align: right;\n",
       "    }\n",
       "</style>\n",
       "<table border=\"1\" class=\"dataframe\">\n",
       "  <thead>\n",
       "    <tr style=\"text-align: right;\">\n",
       "      <th></th>\n",
       "      <th>shopUserId</th>\n",
       "      <th>orderId</th>\n",
       "      <th>quantity</th>\n",
       "      <th>groupId</th>\n",
       "      <th>created</th>\n",
       "    </tr>\n",
       "  </thead>\n",
       "  <tbody>\n",
       "    <tr>\n",
       "      <th>0</th>\n",
       "      <td>812427</td>\n",
       "      <td>785001</td>\n",
       "      <td>1</td>\n",
       "      <td>261873</td>\n",
       "      <td>2025-08-05 20:14:28</td>\n",
       "    </tr>\n",
       "    <tr>\n",
       "      <th>1</th>\n",
       "      <td>831360</td>\n",
       "      <td>784985</td>\n",
       "      <td>4</td>\n",
       "      <td>261745</td>\n",
       "      <td>2025-08-05 19:55:36</td>\n",
       "    </tr>\n",
       "    <tr>\n",
       "      <th>2</th>\n",
       "      <td>209204</td>\n",
       "      <td>784978</td>\n",
       "      <td>1</td>\n",
       "      <td>265298</td>\n",
       "      <td>2025-08-05 19:47:22</td>\n",
       "    </tr>\n",
       "    <tr>\n",
       "      <th>4</th>\n",
       "      <td>831340</td>\n",
       "      <td>784977</td>\n",
       "      <td>1</td>\n",
       "      <td>260596</td>\n",
       "      <td>2025-08-05 19:46:09</td>\n",
       "    </tr>\n",
       "    <tr>\n",
       "      <th>5</th>\n",
       "      <td>831340</td>\n",
       "      <td>784977</td>\n",
       "      <td>1</td>\n",
       "      <td>260596</td>\n",
       "      <td>2025-08-05 19:46:09</td>\n",
       "    </tr>\n",
       "    <tr>\n",
       "      <th>...</th>\n",
       "      <td>...</td>\n",
       "      <td>...</td>\n",
       "      <td>...</td>\n",
       "      <td>...</td>\n",
       "      <td>...</td>\n",
       "    </tr>\n",
       "    <tr>\n",
       "      <th>250024</th>\n",
       "      <td>78202</td>\n",
       "      <td>158870</td>\n",
       "      <td>1</td>\n",
       "      <td>221416</td>\n",
       "      <td>2024-05-22 14:18:16</td>\n",
       "    </tr>\n",
       "    <tr>\n",
       "      <th>250026</th>\n",
       "      <td>78181</td>\n",
       "      <td>158841</td>\n",
       "      <td>1</td>\n",
       "      <td>265843</td>\n",
       "      <td>2024-05-22 13:42:39</td>\n",
       "    </tr>\n",
       "    <tr>\n",
       "      <th>250038</th>\n",
       "      <td>78145</td>\n",
       "      <td>158800</td>\n",
       "      <td>1</td>\n",
       "      <td>261518</td>\n",
       "      <td>2024-05-22 12:54:51</td>\n",
       "    </tr>\n",
       "    <tr>\n",
       "      <th>250039</th>\n",
       "      <td>78136</td>\n",
       "      <td>158791</td>\n",
       "      <td>1</td>\n",
       "      <td>542087</td>\n",
       "      <td>2024-05-22 12:44:01</td>\n",
       "    </tr>\n",
       "    <tr>\n",
       "      <th>250040</th>\n",
       "      <td>78135</td>\n",
       "      <td>158790</td>\n",
       "      <td>1</td>\n",
       "      <td>291294</td>\n",
       "      <td>2024-05-22 12:38:29</td>\n",
       "    </tr>\n",
       "  </tbody>\n",
       "</table>\n",
       "<p>138392 rows × 5 columns</p>\n",
       "</div>"
      ],
      "text/plain": [
       "        shopUserId  orderId  quantity groupId              created\n",
       "0           812427   785001         1  261873  2025-08-05 20:14:28\n",
       "1           831360   784985         4  261745  2025-08-05 19:55:36\n",
       "2           209204   784978         1  265298  2025-08-05 19:47:22\n",
       "4           831340   784977         1  260596  2025-08-05 19:46:09\n",
       "5           831340   784977         1  260596  2025-08-05 19:46:09\n",
       "...            ...      ...       ...     ...                  ...\n",
       "250024       78202   158870         1  221416  2024-05-22 14:18:16\n",
       "250026       78181   158841         1  265843  2024-05-22 13:42:39\n",
       "250038       78145   158800         1  261518  2024-05-22 12:54:51\n",
       "250039       78136   158791         1  542087  2024-05-22 12:44:01\n",
       "250040       78135   158790         1  291294  2024-05-22 12:38:29\n",
       "\n",
       "[138392 rows x 5 columns]"
      ]
     },
     "execution_count": 205,
     "metadata": {},
     "output_type": "execute_result"
    }
   ],
   "source": [
    "import pandas as pd\n",
    "\n",
    "cols = ['shopUserId', 'orderId', 'quantity', 'groupId', 'created']\n",
    "tx = pd.read_csv('../data/processed//transactions_clean.csv', usecols=cols + ['status'], low_memory=False)\n",
    "tx = tx[tx['status'] == 'active'][cols].astype({'quantity': int})\n",
    "tx"
   ]
  },
  {
   "cell_type": "code",
   "execution_count": 202,
   "id": "372b6621",
   "metadata": {},
   "outputs": [
    {
     "data": {
      "text/html": [
       "<div>\n",
       "<style scoped>\n",
       "    .dataframe tbody tr th:only-of-type {\n",
       "        vertical-align: middle;\n",
       "    }\n",
       "\n",
       "    .dataframe tbody tr th {\n",
       "        vertical-align: top;\n",
       "    }\n",
       "\n",
       "    .dataframe thead th {\n",
       "        text-align: right;\n",
       "    }\n",
       "</style>\n",
       "<table border=\"1\" class=\"dataframe\">\n",
       "  <thead>\n",
       "    <tr style=\"text-align: right;\">\n",
       "      <th></th>\n",
       "      <th>shopUserId</th>\n",
       "      <th>orderId</th>\n",
       "      <th>quantity</th>\n",
       "      <th>groupId</th>\n",
       "      <th>created</th>\n",
       "    </tr>\n",
       "  </thead>\n",
       "  <tbody>\n",
       "    <tr>\n",
       "      <th>22</th>\n",
       "      <td>250624</td>\n",
       "      <td>784921</td>\n",
       "      <td>1</td>\n",
       "      <td>240281</td>\n",
       "      <td>2025-08-05 18:52:02</td>\n",
       "    </tr>\n",
       "    <tr>\n",
       "      <th>23</th>\n",
       "      <td>250624</td>\n",
       "      <td>784921</td>\n",
       "      <td>1</td>\n",
       "      <td>270606</td>\n",
       "      <td>2025-08-05 18:52:02</td>\n",
       "    </tr>\n",
       "    <tr>\n",
       "      <th>24</th>\n",
       "      <td>233349</td>\n",
       "      <td>784904</td>\n",
       "      <td>1</td>\n",
       "      <td>240201</td>\n",
       "      <td>2025-08-05 18:31:48</td>\n",
       "    </tr>\n",
       "    <tr>\n",
       "      <th>25</th>\n",
       "      <td>233349</td>\n",
       "      <td>784904</td>\n",
       "      <td>1</td>\n",
       "      <td>290134</td>\n",
       "      <td>2025-08-05 18:31:48</td>\n",
       "    </tr>\n",
       "    <tr>\n",
       "      <th>27</th>\n",
       "      <td>112602</td>\n",
       "      <td>784896</td>\n",
       "      <td>1</td>\n",
       "      <td>260695</td>\n",
       "      <td>2025-08-05 18:24:50</td>\n",
       "    </tr>\n",
       "    <tr>\n",
       "      <th>...</th>\n",
       "      <td>...</td>\n",
       "      <td>...</td>\n",
       "      <td>...</td>\n",
       "      <td>...</td>\n",
       "      <td>...</td>\n",
       "    </tr>\n",
       "    <tr>\n",
       "      <th>249895</th>\n",
       "      <td>78936</td>\n",
       "      <td>159650</td>\n",
       "      <td>1</td>\n",
       "      <td>261012</td>\n",
       "      <td>2024-05-24 07:17:48</td>\n",
       "    </tr>\n",
       "    <tr>\n",
       "      <th>249911</th>\n",
       "      <td>78871</td>\n",
       "      <td>159593</td>\n",
       "      <td>1</td>\n",
       "      <td>242289</td>\n",
       "      <td>2024-05-24 04:38:49</td>\n",
       "    </tr>\n",
       "    <tr>\n",
       "      <th>249944</th>\n",
       "      <td>78731</td>\n",
       "      <td>159449</td>\n",
       "      <td>1</td>\n",
       "      <td>266494</td>\n",
       "      <td>2024-05-23 15:41:24</td>\n",
       "    </tr>\n",
       "    <tr>\n",
       "      <th>249945</th>\n",
       "      <td>78698</td>\n",
       "      <td>159412</td>\n",
       "      <td>1</td>\n",
       "      <td>261712</td>\n",
       "      <td>2024-05-23 15:02:12</td>\n",
       "    </tr>\n",
       "    <tr>\n",
       "      <th>250026</th>\n",
       "      <td>78181</td>\n",
       "      <td>158841</td>\n",
       "      <td>1</td>\n",
       "      <td>265843</td>\n",
       "      <td>2024-05-22 13:42:39</td>\n",
       "    </tr>\n",
       "  </tbody>\n",
       "</table>\n",
       "<p>9853 rows × 5 columns</p>\n",
       "</div>"
      ],
      "text/plain": [
       "        shopUserId  orderId  quantity groupId              created\n",
       "22          250624   784921         1  240281  2025-08-05 18:52:02\n",
       "23          250624   784921         1  270606  2025-08-05 18:52:02\n",
       "24          233349   784904         1  240201  2025-08-05 18:31:48\n",
       "25          233349   784904         1  290134  2025-08-05 18:31:48\n",
       "27          112602   784896         1  260695  2025-08-05 18:24:50\n",
       "...            ...      ...       ...     ...                  ...\n",
       "249895       78936   159650         1  261012  2024-05-24 07:17:48\n",
       "249911       78871   159593         1  242289  2024-05-24 04:38:49\n",
       "249944       78731   159449         1  266494  2024-05-23 15:41:24\n",
       "249945       78698   159412         1  261712  2024-05-23 15:02:12\n",
       "250026       78181   158841         1  265843  2024-05-22 13:42:39\n",
       "\n",
       "[9853 rows x 5 columns]"
      ]
     },
     "execution_count": 202,
     "metadata": {},
     "output_type": "execute_result"
    }
   ],
   "source": [
    "# keep only users with ≥4 distinct orders (by orderId)\n",
    "orders = tx[[\"shopUserId\", \"orderId\"]].drop_duplicates()\n",
    "keep = orders.groupby(\"shopUserId\").size().ge(4)\n",
    "tx = tx[tx[\"shopUserId\"].isin(keep[keep].index)].copy()\n",
    "tx"
   ]
  },
  {
   "cell_type": "code",
   "execution_count": 203,
   "id": "f6b5640f",
   "metadata": {},
   "outputs": [
    {
     "name": "stdout",
     "output_type": "stream",
     "text": [
      "Before filtering: rows=9853  users=1024  items=725\n",
      "After filtering: rows=2070  users=156  items=81\n"
     ]
    }
   ],
   "source": [
    "import pandas as pd\n",
    "import numpy as np\n",
    "\n",
    "# Config: tune to your data\n",
    "MIN_USER_INTERACTIONS  = 10   # need ≥3 to have train + val + test\n",
    "MIN_ITEM_INTERACTIONS  = 10  # raise/lower as needed\n",
    "\n",
    "tx = tx.copy()\n",
    "tx[\"created\"] = pd.to_datetime(tx[\"created\"])\n",
    "\n",
    "# Show stats before filtering\n",
    "print(\"Before filtering:\",\n",
    "      f\"rows={len(tx)}  users={tx['shopUserId'].nunique()}  items={tx['groupId'].nunique()}\")\n",
    "\n",
    "prev_rows = -1\n",
    "while prev_rows != len(tx):\n",
    "    prev_rows = len(tx)\n",
    "    # users with enough interactions\n",
    "    u_counts = tx.groupby(\"shopUserId\")[\"groupId\"].transform(\"count\")\n",
    "    tx = tx[u_counts >= MIN_USER_INTERACTIONS]\n",
    "\n",
    "    # items with enough interactions\n",
    "    i_counts = tx.groupby(\"groupId\")[\"shopUserId\"].transform(\"count\")\n",
    "    tx = tx[i_counts >= MIN_ITEM_INTERACTIONS]\n",
    "\n",
    "print(\"After filtering:\",\n",
    "      f\"rows={len(tx)}  users={tx['shopUserId'].nunique()}  items={tx['groupId'].nunique()}\")\n"
   ]
  },
  {
   "cell_type": "code",
   "execution_count": 204,
   "id": "7001f478",
   "metadata": {},
   "outputs": [
    {
     "data": {
      "text/plain": [
       "((1758, 5), (156, 5), (156, 5))"
      ]
     },
     "execution_count": 204,
     "metadata": {},
     "output_type": "execute_result"
    }
   ],
   "source": [
    "# 1) time-sort\n",
    "tx = tx.sort_values([\"shopUserId\", \"created\"])\n",
    "\n",
    "# 2) last order → TEST\n",
    "test_idx = tx.groupby(\"shopUserId\")[\"created\"].idxmax()\n",
    "test = tx.loc[test_idx]\n",
    "tx_wo_test = tx.drop(test_idx)\n",
    "\n",
    "# 3) next-to-last order → VAL\n",
    "val_idx = tx_wo_test.groupby(\"shopUserId\")[\"created\"].idxmax()\n",
    "val  = tx_wo_test.loc[val_idx]\n",
    "train = tx_wo_test.drop(val_idx)\n",
    "\n",
    "# 4) ensure VAL/TEST items exist in TRAIN (MF needs seen items)\n",
    "val  = val[val[\"groupId\"].isin(train[\"groupId\"])]\n",
    "test = test[test[\"groupId\"].isin(train[\"groupId\"])]\n",
    "\n",
    "# 5) keep only users that remain in both VAL and TEST\n",
    "valid_users = set(val[\"shopUserId\"]).intersection(test[\"shopUserId\"])\n",
    "train = train[train[\"shopUserId\"].isin(valid_users)]\n",
    "val   = val[val[\"shopUserId\"].isin(valid_users)]\n",
    "test  = test[test[\"shopUserId\"].isin(valid_users)]\n",
    "\n",
    "train.shape, test.shape, val.shape"
   ]
  },
  {
   "cell_type": "code",
   "execution_count": 193,
   "id": "7f4a1711",
   "metadata": {},
   "outputs": [],
   "source": [
    "import numpy as np\n",
    "\n",
    "# --- compute IDF on train only ---\n",
    "user_per_item = train.groupby(\"groupId\")[\"shopUserId\"].nunique()\n",
    "N_users = train[\"shopUserId\"].nunique()\n",
    "idf = np.log1p(N_users / (1.0 + user_per_item))\n",
    "\n",
    "# --- apply TF * IDF ---\n",
    "def add_weights(df):\n",
    "    df = df.copy()\n",
    "    df = df.merge(idf.rename(\"idf\"), on=\"groupId\", how=\"left\")\n",
    "    df[\"interaction\"] = np.log1p(df[\"quantity\"]) * df[\"idf\"]\n",
    "    return df\n",
    "\n",
    "train = add_weights(train)\n",
    "val = add_weights(val)\n",
    "test  = add_weights(test)"
   ]
  },
  {
   "cell_type": "code",
   "execution_count": 194,
   "id": "3ca06d69",
   "metadata": {},
   "outputs": [
    {
     "data": {
      "text/html": [
       "<div>\n",
       "<style scoped>\n",
       "    .dataframe tbody tr th:only-of-type {\n",
       "        vertical-align: middle;\n",
       "    }\n",
       "\n",
       "    .dataframe tbody tr th {\n",
       "        vertical-align: top;\n",
       "    }\n",
       "\n",
       "    .dataframe thead th {\n",
       "        text-align: right;\n",
       "    }\n",
       "</style>\n",
       "<table border=\"1\" class=\"dataframe\">\n",
       "  <thead>\n",
       "    <tr style=\"text-align: right;\">\n",
       "      <th></th>\n",
       "      <th>shopUserId</th>\n",
       "      <th>orderId</th>\n",
       "      <th>quantity</th>\n",
       "      <th>groupId</th>\n",
       "      <th>created</th>\n",
       "      <th>idf</th>\n",
       "      <th>interaction</th>\n",
       "    </tr>\n",
       "  </thead>\n",
       "  <tbody>\n",
       "    <tr>\n",
       "      <th>0</th>\n",
       "      <td>79265</td>\n",
       "      <td>160006</td>\n",
       "      <td>2</td>\n",
       "      <td>261608</td>\n",
       "      <td>2024-05-24 15:09:27</td>\n",
       "      <td>2.639057</td>\n",
       "      <td>2.899301</td>\n",
       "    </tr>\n",
       "    <tr>\n",
       "      <th>1</th>\n",
       "      <td>79265</td>\n",
       "      <td>232223</td>\n",
       "      <td>1</td>\n",
       "      <td>260646</td>\n",
       "      <td>2024-07-29 06:46:43</td>\n",
       "      <td>1.882731</td>\n",
       "      <td>1.305010</td>\n",
       "    </tr>\n",
       "    <tr>\n",
       "      <th>2</th>\n",
       "      <td>79265</td>\n",
       "      <td>232223</td>\n",
       "      <td>1</td>\n",
       "      <td>260695</td>\n",
       "      <td>2024-07-29 06:46:43</td>\n",
       "      <td>2.090741</td>\n",
       "      <td>1.449191</td>\n",
       "    </tr>\n",
       "    <tr>\n",
       "      <th>3</th>\n",
       "      <td>79265</td>\n",
       "      <td>355703</td>\n",
       "      <td>1</td>\n",
       "      <td>210186</td>\n",
       "      <td>2024-10-15 03:54:09</td>\n",
       "      <td>2.131627</td>\n",
       "      <td>1.477531</td>\n",
       "    </tr>\n",
       "    <tr>\n",
       "      <th>4</th>\n",
       "      <td>79265</td>\n",
       "      <td>523985</td>\n",
       "      <td>1</td>\n",
       "      <td>265249</td>\n",
       "      <td>2025-01-09 06:30:19</td>\n",
       "      <td>2.639057</td>\n",
       "      <td>1.829255</td>\n",
       "    </tr>\n",
       "    <tr>\n",
       "      <th>...</th>\n",
       "      <td>...</td>\n",
       "      <td>...</td>\n",
       "      <td>...</td>\n",
       "      <td>...</td>\n",
       "      <td>...</td>\n",
       "      <td>...</td>\n",
       "      <td>...</td>\n",
       "    </tr>\n",
       "    <tr>\n",
       "      <th>1753</th>\n",
       "      <td>683096</td>\n",
       "      <td>640389</td>\n",
       "      <td>1</td>\n",
       "      <td>221416</td>\n",
       "      <td>2025-03-27 10:15:49</td>\n",
       "      <td>3.147840</td>\n",
       "      <td>2.181916</td>\n",
       "    </tr>\n",
       "    <tr>\n",
       "      <th>1754</th>\n",
       "      <td>683096</td>\n",
       "      <td>665727</td>\n",
       "      <td>1</td>\n",
       "      <td>210338</td>\n",
       "      <td>2025-04-17 14:48:57</td>\n",
       "      <td>1.745239</td>\n",
       "      <td>1.209708</td>\n",
       "    </tr>\n",
       "    <tr>\n",
       "      <th>1755</th>\n",
       "      <td>683096</td>\n",
       "      <td>665727</td>\n",
       "      <td>1</td>\n",
       "      <td>280051</td>\n",
       "      <td>2025-04-17 14:48:57</td>\n",
       "      <td>3.471966</td>\n",
       "      <td>2.406584</td>\n",
       "    </tr>\n",
       "    <tr>\n",
       "      <th>1756</th>\n",
       "      <td>683096</td>\n",
       "      <td>665727</td>\n",
       "      <td>1</td>\n",
       "      <td>221416</td>\n",
       "      <td>2025-04-17 14:48:57</td>\n",
       "      <td>3.147840</td>\n",
       "      <td>2.181916</td>\n",
       "    </tr>\n",
       "    <tr>\n",
       "      <th>1757</th>\n",
       "      <td>683096</td>\n",
       "      <td>669245</td>\n",
       "      <td>1</td>\n",
       "      <td>221416</td>\n",
       "      <td>2025-04-21 18:07:06</td>\n",
       "      <td>3.147840</td>\n",
       "      <td>2.181916</td>\n",
       "    </tr>\n",
       "  </tbody>\n",
       "</table>\n",
       "<p>1758 rows × 7 columns</p>\n",
       "</div>"
      ],
      "text/plain": [
       "      shopUserId  orderId  quantity groupId             created       idf  \\\n",
       "0          79265   160006         2  261608 2024-05-24 15:09:27  2.639057   \n",
       "1          79265   232223         1  260646 2024-07-29 06:46:43  1.882731   \n",
       "2          79265   232223         1  260695 2024-07-29 06:46:43  2.090741   \n",
       "3          79265   355703         1  210186 2024-10-15 03:54:09  2.131627   \n",
       "4          79265   523985         1  265249 2025-01-09 06:30:19  2.639057   \n",
       "...          ...      ...       ...     ...                 ...       ...   \n",
       "1753      683096   640389         1  221416 2025-03-27 10:15:49  3.147840   \n",
       "1754      683096   665727         1  210338 2025-04-17 14:48:57  1.745239   \n",
       "1755      683096   665727         1  280051 2025-04-17 14:48:57  3.471966   \n",
       "1756      683096   665727         1  221416 2025-04-17 14:48:57  3.147840   \n",
       "1757      683096   669245         1  221416 2025-04-21 18:07:06  3.147840   \n",
       "\n",
       "      interaction  \n",
       "0        2.899301  \n",
       "1        1.305010  \n",
       "2        1.449191  \n",
       "3        1.477531  \n",
       "4        1.829255  \n",
       "...           ...  \n",
       "1753     2.181916  \n",
       "1754     1.209708  \n",
       "1755     2.406584  \n",
       "1756     2.181916  \n",
       "1757     2.181916  \n",
       "\n",
       "[1758 rows x 7 columns]"
      ]
     },
     "execution_count": 194,
     "metadata": {},
     "output_type": "execute_result"
    }
   ],
   "source": [
    "train"
   ]
  },
  {
   "cell_type": "code",
   "execution_count": 195,
   "id": "9f69f5e0",
   "metadata": {},
   "outputs": [],
   "source": [
    "# aggregate with sum\n",
    "train = train.groupby([\"shopUserId\",\"groupId\"], as_index=False)[\"interaction\"].sum()\n",
    "val   = val.groupby([\"shopUserId\",\"groupId\"],   as_index=False)[\"interaction\"].sum()\n",
    "test  = test.groupby([\"shopUserId\",\"groupId\"],  as_index=False)[\"interaction\"].sum()\n",
    "\n",
    "#cap = train[\"interaction\"].quantile(0.99)\n",
    "#train[\"interaction\"] = train[\"interaction\"].clip(upper=cap)\n",
    "#val[\"interaction\"]   = val[\"interaction\"].clip(upper=cap)\n",
    "#test[\"interaction\"]  = test[\"interaction\"].clip(upper=cap)"
   ]
  },
  {
   "cell_type": "code",
   "execution_count": 196,
   "id": "e3c5445d",
   "metadata": {},
   "outputs": [
    {
     "data": {
      "text/html": [
       "<div>\n",
       "<style scoped>\n",
       "    .dataframe tbody tr th:only-of-type {\n",
       "        vertical-align: middle;\n",
       "    }\n",
       "\n",
       "    .dataframe tbody tr th {\n",
       "        vertical-align: top;\n",
       "    }\n",
       "\n",
       "    .dataframe thead th {\n",
       "        text-align: right;\n",
       "    }\n",
       "</style>\n",
       "<table border=\"1\" class=\"dataframe\">\n",
       "  <thead>\n",
       "    <tr style=\"text-align: right;\">\n",
       "      <th></th>\n",
       "      <th>shopUserId</th>\n",
       "      <th>groupId</th>\n",
       "      <th>interaction</th>\n",
       "    </tr>\n",
       "  </thead>\n",
       "  <tbody>\n",
       "    <tr>\n",
       "      <th>0</th>\n",
       "      <td>79265</td>\n",
       "      <td>210186</td>\n",
       "      <td>1.477531</td>\n",
       "    </tr>\n",
       "    <tr>\n",
       "      <th>1</th>\n",
       "      <td>79265</td>\n",
       "      <td>210338</td>\n",
       "      <td>1.209708</td>\n",
       "    </tr>\n",
       "    <tr>\n",
       "      <th>2</th>\n",
       "      <td>79265</td>\n",
       "      <td>242024</td>\n",
       "      <td>2.793249</td>\n",
       "    </tr>\n",
       "    <tr>\n",
       "      <th>3</th>\n",
       "      <td>79265</td>\n",
       "      <td>260646</td>\n",
       "      <td>1.305010</td>\n",
       "    </tr>\n",
       "    <tr>\n",
       "      <th>4</th>\n",
       "      <td>79265</td>\n",
       "      <td>260695</td>\n",
       "      <td>1.449191</td>\n",
       "    </tr>\n",
       "    <tr>\n",
       "      <th>...</th>\n",
       "      <td>...</td>\n",
       "      <td>...</td>\n",
       "      <td>...</td>\n",
       "    </tr>\n",
       "    <tr>\n",
       "      <th>928</th>\n",
       "      <td>674430</td>\n",
       "      <td>261699</td>\n",
       "      <td>1.885429</td>\n",
       "    </tr>\n",
       "    <tr>\n",
       "      <th>929</th>\n",
       "      <td>674430</td>\n",
       "      <td>265041</td>\n",
       "      <td>1.608156</td>\n",
       "    </tr>\n",
       "    <tr>\n",
       "      <th>930</th>\n",
       "      <td>683096</td>\n",
       "      <td>210338</td>\n",
       "      <td>6.048539</td>\n",
       "    </tr>\n",
       "    <tr>\n",
       "      <th>931</th>\n",
       "      <td>683096</td>\n",
       "      <td>221416</td>\n",
       "      <td>8.727666</td>\n",
       "    </tr>\n",
       "    <tr>\n",
       "      <th>932</th>\n",
       "      <td>683096</td>\n",
       "      <td>280051</td>\n",
       "      <td>12.032919</td>\n",
       "    </tr>\n",
       "  </tbody>\n",
       "</table>\n",
       "<p>933 rows × 3 columns</p>\n",
       "</div>"
      ],
      "text/plain": [
       "     shopUserId groupId  interaction\n",
       "0         79265  210186     1.477531\n",
       "1         79265  210338     1.209708\n",
       "2         79265  242024     2.793249\n",
       "3         79265  260646     1.305010\n",
       "4         79265  260695     1.449191\n",
       "..          ...     ...          ...\n",
       "928      674430  261699     1.885429\n",
       "929      674430  265041     1.608156\n",
       "930      683096  210338     6.048539\n",
       "931      683096  221416     8.727666\n",
       "932      683096  280051    12.032919\n",
       "\n",
       "[933 rows x 3 columns]"
      ]
     },
     "execution_count": 196,
     "metadata": {},
     "output_type": "execute_result"
    }
   ],
   "source": [
    "train"
   ]
  },
  {
   "cell_type": "code",
   "execution_count": 197,
   "id": "16686c84",
   "metadata": {},
   "outputs": [
    {
     "data": {
      "image/png": "[encoded data removed]",
      "text/plain": [
       "<Figure size 800x400 with 1 Axes>"
      ]
     },
     "metadata": {},
     "output_type": "display_data"
    }
   ],
   "source": [
    "import matplotlib.pyplot as plt\n",
    "\n",
    "plt.figure(figsize=(8,4))\n",
    "plt.hist(train[\"interaction\"], bins=50, alpha=0.7, label=\"train\", density=True)\n",
    "plt.hist(test[\"interaction\"], bins=50, alpha=0.7, label=\"test\", density=True)\n",
    "plt.xlabel(\"interaction\")\n",
    "plt.ylabel(\"density\")\n",
    "plt.title(\"Value distribution of 'interaction' (train vs test)\")\n",
    "plt.legend()\n",
    "plt.show()\n"
   ]
  },
  {
   "cell_type": "markdown",
   "id": "94a89e54",
   "metadata": {},
   "source": [
    "## creat labels for further mf "
   ]
  },
  {
   "cell_type": "code",
   "execution_count": 198,
   "id": "e8ba2586",
   "metadata": {},
   "outputs": [],
   "source": [
    "from sklearn.preprocessing import LabelEncoder\n",
    "\n",
    "# --- fit encoders on TRAIN only ---\n",
    "user_enc = LabelEncoder().fit(train[\"shopUserId\"])\n",
    "item_enc = LabelEncoder().fit(train[\"groupId\"])\n",
    "\n",
    "# --- filter val/test to drop unseen users/items ---\n",
    "val  = val[val[\"shopUserId\"].isin(user_enc.classes_) & val[\"groupId\"].isin(item_enc.classes_)]\n",
    "test = test[test[\"shopUserId\"].isin(user_enc.classes_) & test[\"groupId\"].isin(item_enc.classes_)]\n",
    "\n",
    "# --- transform all splits ---\n",
    "train[\"user_idx\"] = user_enc.transform(train[\"shopUserId\"])\n",
    "train[\"item_idx\"] = item_enc.transform(train[\"groupId\"])\n",
    "\n",
    "val[\"user_idx\"]   = user_enc.transform(val[\"shopUserId\"])\n",
    "val[\"item_idx\"]   = item_enc.transform(val[\"groupId\"])\n",
    "\n",
    "test[\"user_idx\"]  = user_enc.transform(test[\"shopUserId\"])\n",
    "test[\"item_idx\"]  = item_enc.transform(test[\"groupId\"])"
   ]
  },
  {
   "cell_type": "markdown",
   "id": "23542080",
   "metadata": {},
   "source": [
    "## quick lookup dicts for later"
   ]
  },
  {
   "cell_type": "code",
   "execution_count": 199,
   "id": "b0d5acb9",
   "metadata": {},
   "outputs": [],
   "source": [
    "uid2idx = dict(zip(user_enc.classes_, user_enc.transform(user_enc.classes_)))\n",
    "iid2idx = dict(zip(item_enc.classes_, item_enc.transform(item_enc.classes_)))\n"
   ]
  },
  {
   "cell_type": "markdown",
   "id": "42d08224",
   "metadata": {},
   "source": [
    "## Build the sparse interaction matrix"
   ]
  },
  {
   "cell_type": "code",
   "execution_count": 200,
   "id": "cd82e923",
   "metadata": {},
   "outputs": [
    {
     "data": {
      "text/plain": [
       "((156, 81), (81, 156))"
      ]
     },
     "execution_count": 200,
     "metadata": {},
     "output_type": "execute_result"
    }
   ],
   "source": [
    "from scipy.sparse import coo_matrix\n",
    "\n",
    "# Build user–item from TRAIN\n",
    "UI = coo_matrix(\n",
    "    (train[\"interaction\"].astype(float), (train[\"user_idx\"], train[\"item_idx\"]))\n",
    ").tocsr()\n",
    "\n",
    "# Item–user for training\n",
    "IU = UI.T.tocsr()\n",
    "\n",
    "# User–item for evaluation (always the transpose of IU)\n",
    "UI_eval = IU.T.tocsr()\n",
    "\n",
    "assert UI_eval.shape[0] == IU.shape[1]   # sanity: same user dimension\n",
    "\n",
    "UI.shape, IU.shape"
   ]
  },
  {
   "cell_type": "code",
   "execution_count": 185,
   "id": "adc7dc6e",
   "metadata": {},
   "outputs": [],
   "source": [
    "# must run AFTER encoding train/val/test with encoders fit on TRAIN\n",
    "train_pos = train.groupby(\"user_idx\")[\"item_idx\"].apply(set).to_dict()\n",
    "val_truth = val.groupby(\"user_idx\")[\"item_idx\"].apply(set).to_dict()\n",
    "test_truth = test.groupby(\"user_idx\")[\"item_idx\"].apply(set).to_dict()\n",
    "\n",
    "# optional guard — align with training matrix dimensions\n",
    "n_users = IU.shape[1]          # same as UI_eval.shape[0]\n",
    "val_truth  = {u: s for u, s in val_truth.items()  if 0 <= u < n_users}\n",
    "test_truth = {u: s for u, s in test_truth.items() if 0 <= u < n_users}\n",
    "\n",
    "# sanity\n",
    "assert set(val_truth.keys()).issubset(train_pos.keys())\n",
    "assert set(test_truth.keys()).issubset(train_pos.keys())"
   ]
  },
  {
   "cell_type": "code",
   "execution_count": 186,
   "id": "3d46e59b",
   "metadata": {},
   "outputs": [],
   "source": [
    "# --- hyperparameter grid ---\n",
    "grid = {\n",
    "    \"factors\": [32, 64, 96],\n",
    "    \"regularization\": [0.003, 0.01, 0.03],\n",
    "    \"learning_rate\": [0.03, 0.05, 0.08],\n",
    "    \"iterations\": [30, 60, 100],\n",
    "}\n"
   ]
  },
  {
   "cell_type": "code",
   "execution_count": 187,
   "id": "1d8d3e49",
   "metadata": {},
   "outputs": [
    {
     "data": {
      "application/vnd.jupyter.widget-view+json": {
       "model_id": "9af876dfe9c6494aa824e37bfb65a6f4",
       "version_major": 2,
       "version_minor": 0
      },
      "text/plain": [
       "  0%|          | 0/30 [00:00<?, ?it/s]"
      ]
     },
     "metadata": {},
     "output_type": "display_data"
    },
    {
     "data": {
      "application/vnd.jupyter.widget-view+json": {
       "model_id": "a28ce8bf0fb646b1ac52af2b2f29db85",
       "version_major": 2,
       "version_minor": 0
      },
      "text/plain": [
       "  0%|          | 0/60 [00:00<?, ?it/s]"
      ]
     },
     "metadata": {},
     "output_type": "display_data"
    },
    {
     "data": {
      "application/vnd.jupyter.widget-view+json": {
       "model_id": "cb29298661df4bbf813993defa3d8a13",
       "version_major": 2,
       "version_minor": 0
      },
      "text/plain": [
       "  0%|          | 0/100 [00:00<?, ?it/s]"
      ]
     },
     "metadata": {},
     "output_type": "display_data"
    },
    {
     "data": {
      "application/vnd.jupyter.widget-view+json": {
       "model_id": "b9395fedaa6846d497beaeacff343f32",
       "version_major": 2,
       "version_minor": 0
      },
      "text/plain": [
       "  0%|          | 0/30 [00:00<?, ?it/s]"
      ]
     },
     "metadata": {},
     "output_type": "display_data"
    },
    {
     "data": {
      "application/vnd.jupyter.widget-view+json": {
       "model_id": "0624bd829d4b4fa99c2f6405650f9947",
       "version_major": 2,
       "version_minor": 0
      },
      "text/plain": [
       "  0%|          | 0/60 [00:00<?, ?it/s]"
      ]
     },
     "metadata": {},
     "output_type": "display_data"
    },
    {
     "data": {
      "application/vnd.jupyter.widget-view+json": {
       "model_id": "1203a9de5e8f4318acbaf9561876cfbf",
       "version_major": 2,
       "version_minor": 0
      },
      "text/plain": [
       "  0%|          | 0/100 [00:00<?, ?it/s]"
      ]
     },
     "metadata": {},
     "output_type": "display_data"
    },
    {
     "data": {
      "application/vnd.jupyter.widget-view+json": {
       "model_id": "fc69f2e51ecf495aa28bfa8346604462",
       "version_major": 2,
       "version_minor": 0
      },
      "text/plain": [
       "  0%|          | 0/30 [00:00<?, ?it/s]"
      ]
     },
     "metadata": {},
     "output_type": "display_data"
    },
    {
     "data": {
      "application/vnd.jupyter.widget-view+json": {
       "model_id": "cd0cdd1562e34ea8ad32e9a37cdfe20b",
       "version_major": 2,
       "version_minor": 0
      },
      "text/plain": [
       "  0%|          | 0/60 [00:00<?, ?it/s]"
      ]
     },
     "metadata": {},
     "output_type": "display_data"
    },
    {
     "data": {
      "application/vnd.jupyter.widget-view+json": {
       "model_id": "9070b6ed3e3745ca8b35266fd78f3266",
       "version_major": 2,
       "version_minor": 0
      },
      "text/plain": [
       "  0%|          | 0/100 [00:00<?, ?it/s]"
      ]
     },
     "metadata": {},
     "output_type": "display_data"
    },
    {
     "data": {
      "application/vnd.jupyter.widget-view+json": {
       "model_id": "516dc67d32e342a59c4f0d3862e305d3",
       "version_major": 2,
       "version_minor": 0
      },
      "text/plain": [
       "  0%|          | 0/30 [00:00<?, ?it/s]"
      ]
     },
     "metadata": {},
     "output_type": "display_data"
    },
    {
     "data": {
      "application/vnd.jupyter.widget-view+json": {
       "model_id": "03272ad9d10144e2afc4d1d0c1fe3ad0",
       "version_major": 2,
       "version_minor": 0
      },
      "text/plain": [
       "  0%|          | 0/60 [00:00<?, ?it/s]"
      ]
     },
     "metadata": {},
     "output_type": "display_data"
    },
    {
     "data": {
      "application/vnd.jupyter.widget-view+json": {
       "model_id": "ebb21d8edde14b28918cf3a6ef995a43",
       "version_major": 2,
       "version_minor": 0
      },
      "text/plain": [
       "  0%|          | 0/100 [00:00<?, ?it/s]"
      ]
     },
     "metadata": {},
     "output_type": "display_data"
    },
    {
     "data": {
      "application/vnd.jupyter.widget-view+json": {
       "model_id": "b65e6854974741ea992613eab282eb7f",
       "version_major": 2,
       "version_minor": 0
      },
      "text/plain": [
       "  0%|          | 0/30 [00:00<?, ?it/s]"
      ]
     },
     "metadata": {},
     "output_type": "display_data"
    },
    {
     "data": {
      "application/vnd.jupyter.widget-view+json": {
       "model_id": "2cf5323d805d4c0eb5ed9ad0d0448142",
       "version_major": 2,
       "version_minor": 0
      },
      "text/plain": [
       "  0%|          | 0/60 [00:00<?, ?it/s]"
      ]
     },
     "metadata": {},
     "output_type": "display_data"
    },
    {
     "data": {
      "application/vnd.jupyter.widget-view+json": {
       "model_id": "065cd79380314573bf69d369647ddcab",
       "version_major": 2,
       "version_minor": 0
      },
      "text/plain": [
       "  0%|          | 0/100 [00:00<?, ?it/s]"
      ]
     },
     "metadata": {},
     "output_type": "display_data"
    },
    {
     "data": {
      "application/vnd.jupyter.widget-view+json": {
       "model_id": "dac5895ec87b41d388ca178b1598284a",
       "version_major": 2,
       "version_minor": 0
      },
      "text/plain": [
       "  0%|          | 0/30 [00:00<?, ?it/s]"
      ]
     },
     "metadata": {},
     "output_type": "display_data"
    },
    {
     "data": {
      "application/vnd.jupyter.widget-view+json": {
       "model_id": "75613f5e06c64543b955a6de21d72159",
       "version_major": 2,
       "version_minor": 0
      },
      "text/plain": [
       "  0%|          | 0/60 [00:00<?, ?it/s]"
      ]
     },
     "metadata": {},
     "output_type": "display_data"
    },
    {
     "data": {
      "application/vnd.jupyter.widget-view+json": {
       "model_id": "76ff43629a6e4351929cabc773c1b3a2",
       "version_major": 2,
       "version_minor": 0
      },
      "text/plain": [
       "  0%|          | 0/100 [00:00<?, ?it/s]"
      ]
     },
     "metadata": {},
     "output_type": "display_data"
    },
    {
     "data": {
      "application/vnd.jupyter.widget-view+json": {
       "model_id": "af9b7c37719e4c1eb947413981997cc8",
       "version_major": 2,
       "version_minor": 0
      },
      "text/plain": [
       "  0%|          | 0/30 [00:00<?, ?it/s]"
      ]
     },
     "metadata": {},
     "output_type": "display_data"
    },
    {
     "data": {
      "application/vnd.jupyter.widget-view+json": {
       "model_id": "ef5348133e7c4358ae68ba9e04ad098b",
       "version_major": 2,
       "version_minor": 0
      },
      "text/plain": [
       "  0%|          | 0/60 [00:00<?, ?it/s]"
      ]
     },
     "metadata": {},
     "output_type": "display_data"
    },
    {
     "data": {
      "application/vnd.jupyter.widget-view+json": {
       "model_id": "8fd16858d11944028a99c77d8e69478f",
       "version_major": 2,
       "version_minor": 0
      },
      "text/plain": [
       "  0%|          | 0/100 [00:00<?, ?it/s]"
      ]
     },
     "metadata": {},
     "output_type": "display_data"
    },
    {
     "data": {
      "application/vnd.jupyter.widget-view+json": {
       "model_id": "e8e3d8cb972e4cdc99b5918c7865513f",
       "version_major": 2,
       "version_minor": 0
      },
      "text/plain": [
       "  0%|          | 0/30 [00:00<?, ?it/s]"
      ]
     },
     "metadata": {},
     "output_type": "display_data"
    },
    {
     "data": {
      "application/vnd.jupyter.widget-view+json": {
       "model_id": "913bcc6e78184e749d5a561a4ae0918a",
       "version_major": 2,
       "version_minor": 0
      },
      "text/plain": [
       "  0%|          | 0/60 [00:00<?, ?it/s]"
      ]
     },
     "metadata": {},
     "output_type": "display_data"
    },
    {
     "data": {
      "application/vnd.jupyter.widget-view+json": {
       "model_id": "b9e50faf3b374e0396059fd27618218e",
       "version_major": 2,
       "version_minor": 0
      },
      "text/plain": [
       "  0%|          | 0/100 [00:00<?, ?it/s]"
      ]
     },
     "metadata": {},
     "output_type": "display_data"
    },
    {
     "data": {
      "application/vnd.jupyter.widget-view+json": {
       "model_id": "0db49d34cbbb4f2487ea34ef35a9fdb2",
       "version_major": 2,
       "version_minor": 0
      },
      "text/plain": [
       "  0%|          | 0/30 [00:00<?, ?it/s]"
      ]
     },
     "metadata": {},
     "output_type": "display_data"
    },
    {
     "data": {
      "application/vnd.jupyter.widget-view+json": {
       "model_id": "10b9c2133c3047a08d2f0b27dd13c115",
       "version_major": 2,
       "version_minor": 0
      },
      "text/plain": [
       "  0%|          | 0/60 [00:00<?, ?it/s]"
      ]
     },
     "metadata": {},
     "output_type": "display_data"
    },
    {
     "data": {
      "application/vnd.jupyter.widget-view+json": {
       "model_id": "a81fd36d6a6f4552859d0d53795806f6",
       "version_major": 2,
       "version_minor": 0
      },
      "text/plain": [
       "  0%|          | 0/100 [00:00<?, ?it/s]"
      ]
     },
     "metadata": {},
     "output_type": "display_data"
    },
    {
     "data": {
      "application/vnd.jupyter.widget-view+json": {
       "model_id": "bb6d6d0152ae402c87a5e2e5847215a8",
       "version_major": 2,
       "version_minor": 0
      },
      "text/plain": [
       "  0%|          | 0/30 [00:00<?, ?it/s]"
      ]
     },
     "metadata": {},
     "output_type": "display_data"
    },
    {
     "data": {
      "application/vnd.jupyter.widget-view+json": {
       "model_id": "7254a19ac2eb4b1e90935a8c718c4b7d",
       "version_major": 2,
       "version_minor": 0
      },
      "text/plain": [
       "  0%|          | 0/60 [00:00<?, ?it/s]"
      ]
     },
     "metadata": {},
     "output_type": "display_data"
    },
    {
     "data": {
      "application/vnd.jupyter.widget-view+json": {
       "model_id": "d9e5211693764ff1ade0f01241b1875c",
       "version_major": 2,
       "version_minor": 0
      },
      "text/plain": [
       "  0%|          | 0/100 [00:00<?, ?it/s]"
      ]
     },
     "metadata": {},
     "output_type": "display_data"
    },
    {
     "data": {
      "application/vnd.jupyter.widget-view+json": {
       "model_id": "7e6e8bd057a44960bf56bc7563355ce1",
       "version_major": 2,
       "version_minor": 0
      },
      "text/plain": [
       "  0%|          | 0/30 [00:00<?, ?it/s]"
      ]
     },
     "metadata": {},
     "output_type": "display_data"
    },
    {
     "data": {
      "application/vnd.jupyter.widget-view+json": {
       "model_id": "bd458edbc5894b37b936360b8321e9ce",
       "version_major": 2,
       "version_minor": 0
      },
      "text/plain": [
       "  0%|          | 0/60 [00:00<?, ?it/s]"
      ]
     },
     "metadata": {},
     "output_type": "display_data"
    },
    {
     "data": {
      "application/vnd.jupyter.widget-view+json": {
       "model_id": "528bbee5594e46d990938b928ff23bd2",
       "version_major": 2,
       "version_minor": 0
      },
      "text/plain": [
       "  0%|          | 0/100 [00:00<?, ?it/s]"
      ]
     },
     "metadata": {},
     "output_type": "display_data"
    },
    {
     "data": {
      "application/vnd.jupyter.widget-view+json": {
       "model_id": "4ea798d779f84ee8b9d68ca8bebcf19e",
       "version_major": 2,
       "version_minor": 0
      },
      "text/plain": [
       "  0%|          | 0/30 [00:00<?, ?it/s]"
      ]
     },
     "metadata": {},
     "output_type": "display_data"
    },
    {
     "data": {
      "application/vnd.jupyter.widget-view+json": {
       "model_id": "6be967c6a27047c09d36e27b93d0a5cf",
       "version_major": 2,
       "version_minor": 0
      },
      "text/plain": [
       "  0%|          | 0/60 [00:00<?, ?it/s]"
      ]
     },
     "metadata": {},
     "output_type": "display_data"
    },
    {
     "data": {
      "application/vnd.jupyter.widget-view+json": {
       "model_id": "b0176170e8b544e29ed9348684d84ea0",
       "version_major": 2,
       "version_minor": 0
      },
      "text/plain": [
       "  0%|          | 0/100 [00:00<?, ?it/s]"
      ]
     },
     "metadata": {},
     "output_type": "display_data"
    },
    {
     "data": {
      "application/vnd.jupyter.widget-view+json": {
       "model_id": "11c711fba20444fc83bc840cdbce7a71",
       "version_major": 2,
       "version_minor": 0
      },
      "text/plain": [
       "  0%|          | 0/30 [00:00<?, ?it/s]"
      ]
     },
     "metadata": {},
     "output_type": "display_data"
    },
    {
     "data": {
      "application/vnd.jupyter.widget-view+json": {
       "model_id": "7f3b0c2ccb624894a9b6c014559b6ba7",
       "version_major": 2,
       "version_minor": 0
      },
      "text/plain": [
       "  0%|          | 0/60 [00:00<?, ?it/s]"
      ]
     },
     "metadata": {},
     "output_type": "display_data"
    },
    {
     "data": {
      "application/vnd.jupyter.widget-view+json": {
       "model_id": "c81bba215bdc43eda61e00bed8ca2d81",
       "version_major": 2,
       "version_minor": 0
      },
      "text/plain": [
       "  0%|          | 0/100 [00:00<?, ?it/s]"
      ]
     },
     "metadata": {},
     "output_type": "display_data"
    },
    {
     "data": {
      "application/vnd.jupyter.widget-view+json": {
       "model_id": "ae6317e9a232460bb24f7df5d5d0f106",
       "version_major": 2,
       "version_minor": 0
      },
      "text/plain": [
       "  0%|          | 0/30 [00:00<?, ?it/s]"
      ]
     },
     "metadata": {},
     "output_type": "display_data"
    },
    {
     "data": {
      "application/vnd.jupyter.widget-view+json": {
       "model_id": "86bd9ede29cd483ca814be6e92a01ffc",
       "version_major": 2,
       "version_minor": 0
      },
      "text/plain": [
       "  0%|          | 0/60 [00:00<?, ?it/s]"
      ]
     },
     "metadata": {},
     "output_type": "display_data"
    },
    {
     "data": {
      "application/vnd.jupyter.widget-view+json": {
       "model_id": "858650ac3dc2417e84c4a5ecf14e95a4",
       "version_major": 2,
       "version_minor": 0
      },
      "text/plain": [
       "  0%|          | 0/100 [00:00<?, ?it/s]"
      ]
     },
     "metadata": {},
     "output_type": "display_data"
    },
    {
     "data": {
      "application/vnd.jupyter.widget-view+json": {
       "model_id": "b4111bf809f04af0ab99aafba46a2643",
       "version_major": 2,
       "version_minor": 0
      },
      "text/plain": [
       "  0%|          | 0/30 [00:00<?, ?it/s]"
      ]
     },
     "metadata": {},
     "output_type": "display_data"
    },
    {
     "data": {
      "application/vnd.jupyter.widget-view+json": {
       "model_id": "1e1956c8167b4ec7b3a0c4594fbc2aec",
       "version_major": 2,
       "version_minor": 0
      },
      "text/plain": [
       "  0%|          | 0/60 [00:00<?, ?it/s]"
      ]
     },
     "metadata": {},
     "output_type": "display_data"
    },
    {
     "data": {
      "application/vnd.jupyter.widget-view+json": {
       "model_id": "e0f43e50674b4e08ba4899ea4701a1f7",
       "version_major": 2,
       "version_minor": 0
      },
      "text/plain": [
       "  0%|          | 0/100 [00:00<?, ?it/s]"
      ]
     },
     "metadata": {},
     "output_type": "display_data"
    },
    {
     "data": {
      "application/vnd.jupyter.widget-view+json": {
       "model_id": "717a34562e25449aa20304dcba289574",
       "version_major": 2,
       "version_minor": 0
      },
      "text/plain": [
       "  0%|          | 0/30 [00:00<?, ?it/s]"
      ]
     },
     "metadata": {},
     "output_type": "display_data"
    },
    {
     "data": {
      "application/vnd.jupyter.widget-view+json": {
       "model_id": "9db7347121d040cab2b1eb1a88be60f2",
       "version_major": 2,
       "version_minor": 0
      },
      "text/plain": [
       "  0%|          | 0/60 [00:00<?, ?it/s]"
      ]
     },
     "metadata": {},
     "output_type": "display_data"
    },
    {
     "data": {
      "application/vnd.jupyter.widget-view+json": {
       "model_id": "79fa8ffa695549a7bd10570e21121b27",
       "version_major": 2,
       "version_minor": 0
      },
      "text/plain": [
       "  0%|          | 0/100 [00:00<?, ?it/s]"
      ]
     },
     "metadata": {},
     "output_type": "display_data"
    },
    {
     "data": {
      "application/vnd.jupyter.widget-view+json": {
       "model_id": "6510bd0fa10946aa9c7630bf8c3c92fb",
       "version_major": 2,
       "version_minor": 0
      },
      "text/plain": [
       "  0%|          | 0/30 [00:00<?, ?it/s]"
      ]
     },
     "metadata": {},
     "output_type": "display_data"
    },
    {
     "data": {
      "application/vnd.jupyter.widget-view+json": {
       "model_id": "413df9fc834b4678b7c77c8e81fc62ba",
       "version_major": 2,
       "version_minor": 0
      },
      "text/plain": [
       "  0%|          | 0/60 [00:00<?, ?it/s]"
      ]
     },
     "metadata": {},
     "output_type": "display_data"
    },
    {
     "data": {
      "application/vnd.jupyter.widget-view+json": {
       "model_id": "c3e6816289f54252a64f43b6885dbe43",
       "version_major": 2,
       "version_minor": 0
      },
      "text/plain": [
       "  0%|          | 0/100 [00:00<?, ?it/s]"
      ]
     },
     "metadata": {},
     "output_type": "display_data"
    },
    {
     "data": {
      "application/vnd.jupyter.widget-view+json": {
       "model_id": "dc7d833cce13459dbbb60b734a0c343c",
       "version_major": 2,
       "version_minor": 0
      },
      "text/plain": [
       "  0%|          | 0/30 [00:00<?, ?it/s]"
      ]
     },
     "metadata": {},
     "output_type": "display_data"
    },
    {
     "data": {
      "application/vnd.jupyter.widget-view+json": {
       "model_id": "bdab65c4d56644ec825bed2bfaf39e12",
       "version_major": 2,
       "version_minor": 0
      },
      "text/plain": [
       "  0%|          | 0/60 [00:00<?, ?it/s]"
      ]
     },
     "metadata": {},
     "output_type": "display_data"
    },
    {
     "data": {
      "application/vnd.jupyter.widget-view+json": {
       "model_id": "b1dfbc3866a74ba18e71712fad88e687",
       "version_major": 2,
       "version_minor": 0
      },
      "text/plain": [
       "  0%|          | 0/100 [00:00<?, ?it/s]"
      ]
     },
     "metadata": {},
     "output_type": "display_data"
    },
    {
     "data": {
      "application/vnd.jupyter.widget-view+json": {
       "model_id": "991862de40e3468fab1f13aa645527d6",
       "version_major": 2,
       "version_minor": 0
      },
      "text/plain": [
       "  0%|          | 0/30 [00:00<?, ?it/s]"
      ]
     },
     "metadata": {},
     "output_type": "display_data"
    },
    {
     "data": {
      "application/vnd.jupyter.widget-view+json": {
       "model_id": "31c4fd7396ac4bbfb1abe1132df0908c",
       "version_major": 2,
       "version_minor": 0
      },
      "text/plain": [
       "  0%|          | 0/60 [00:00<?, ?it/s]"
      ]
     },
     "metadata": {},
     "output_type": "display_data"
    },
    {
     "data": {
      "application/vnd.jupyter.widget-view+json": {
       "model_id": "6900bd6a72334ec8bc4d81f818fb2b8b",
       "version_major": 2,
       "version_minor": 0
      },
      "text/plain": [
       "  0%|          | 0/100 [00:00<?, ?it/s]"
      ]
     },
     "metadata": {},
     "output_type": "display_data"
    },
    {
     "data": {
      "application/vnd.jupyter.widget-view+json": {
       "model_id": "70248122b6ab4eb4ae1f8aeefc5ff763",
       "version_major": 2,
       "version_minor": 0
      },
      "text/plain": [
       "  0%|          | 0/30 [00:00<?, ?it/s]"
      ]
     },
     "metadata": {},
     "output_type": "display_data"
    },
    {
     "data": {
      "application/vnd.jupyter.widget-view+json": {
       "model_id": "dc53cd6dd46e4b02b29174578a107ff8",
       "version_major": 2,
       "version_minor": 0
      },
      "text/plain": [
       "  0%|          | 0/60 [00:00<?, ?it/s]"
      ]
     },
     "metadata": {},
     "output_type": "display_data"
    },
    {
     "data": {
      "application/vnd.jupyter.widget-view+json": {
       "model_id": "d7d62b5a4649456d94e8aff3281846c9",
       "version_major": 2,
       "version_minor": 0
      },
      "text/plain": [
       "  0%|          | 0/100 [00:00<?, ?it/s]"
      ]
     },
     "metadata": {},
     "output_type": "display_data"
    },
    {
     "data": {
      "application/vnd.jupyter.widget-view+json": {
       "model_id": "d6ab74bbf57d4f15ac2fb5657439bf41",
       "version_major": 2,
       "version_minor": 0
      },
      "text/plain": [
       "  0%|          | 0/30 [00:00<?, ?it/s]"
      ]
     },
     "metadata": {},
     "output_type": "display_data"
    },
    {
     "data": {
      "application/vnd.jupyter.widget-view+json": {
       "model_id": "c9322e0b7da74dbf8be7429203f10101",
       "version_major": 2,
       "version_minor": 0
      },
      "text/plain": [
       "  0%|          | 0/60 [00:00<?, ?it/s]"
      ]
     },
     "metadata": {},
     "output_type": "display_data"
    },
    {
     "data": {
      "application/vnd.jupyter.widget-view+json": {
       "model_id": "c7b3692ecf3d448fa7636feddc2507dd",
       "version_major": 2,
       "version_minor": 0
      },
      "text/plain": [
       "  0%|          | 0/100 [00:00<?, ?it/s]"
      ]
     },
     "metadata": {},
     "output_type": "display_data"
    },
    {
     "data": {
      "application/vnd.jupyter.widget-view+json": {
       "model_id": "729d09d962d04e5a94b0f711d9f6a94e",
       "version_major": 2,
       "version_minor": 0
      },
      "text/plain": [
       "  0%|          | 0/30 [00:00<?, ?it/s]"
      ]
     },
     "metadata": {},
     "output_type": "display_data"
    },
    {
     "data": {
      "application/vnd.jupyter.widget-view+json": {
       "model_id": "d1f552486fb14c24b02ed6d0339a7048",
       "version_major": 2,
       "version_minor": 0
      },
      "text/plain": [
       "  0%|          | 0/60 [00:00<?, ?it/s]"
      ]
     },
     "metadata": {},
     "output_type": "display_data"
    },
    {
     "data": {
      "application/vnd.jupyter.widget-view+json": {
       "model_id": "d72eef32184d4c2b86b71edb66b1ec83",
       "version_major": 2,
       "version_minor": 0
      },
      "text/plain": [
       "  0%|          | 0/100 [00:00<?, ?it/s]"
      ]
     },
     "metadata": {},
     "output_type": "display_data"
    },
    {
     "data": {
      "application/vnd.jupyter.widget-view+json": {
       "model_id": "c464c133a225450eaf258a130b3b9871",
       "version_major": 2,
       "version_minor": 0
      },
      "text/plain": [
       "  0%|          | 0/30 [00:00<?, ?it/s]"
      ]
     },
     "metadata": {},
     "output_type": "display_data"
    },
    {
     "data": {
      "application/vnd.jupyter.widget-view+json": {
       "model_id": "0f822c642ca5498daa1c139085019b49",
       "version_major": 2,
       "version_minor": 0
      },
      "text/plain": [
       "  0%|          | 0/60 [00:00<?, ?it/s]"
      ]
     },
     "metadata": {},
     "output_type": "display_data"
    },
    {
     "data": {
      "application/vnd.jupyter.widget-view+json": {
       "model_id": "b208405256c5475f882d9f0f8c85b3b5",
       "version_major": 2,
       "version_minor": 0
      },
      "text/plain": [
       "  0%|          | 0/100 [00:00<?, ?it/s]"
      ]
     },
     "metadata": {},
     "output_type": "display_data"
    },
    {
     "data": {
      "application/vnd.jupyter.widget-view+json": {
       "model_id": "3034899946714e5f8514757f5eb9eb19",
       "version_major": 2,
       "version_minor": 0
      },
      "text/plain": [
       "  0%|          | 0/30 [00:00<?, ?it/s]"
      ]
     },
     "metadata": {},
     "output_type": "display_data"
    },
    {
     "data": {
      "application/vnd.jupyter.widget-view+json": {
       "model_id": "15bd145f37f74f8ca8845a271571074e",
       "version_major": 2,
       "version_minor": 0
      },
      "text/plain": [
       "  0%|          | 0/60 [00:00<?, ?it/s]"
      ]
     },
     "metadata": {},
     "output_type": "display_data"
    },
    {
     "data": {
      "application/vnd.jupyter.widget-view+json": {
       "model_id": "2902808105274d9fb749566a3fc74a98",
       "version_major": 2,
       "version_minor": 0
      },
      "text/plain": [
       "  0%|          | 0/100 [00:00<?, ?it/s]"
      ]
     },
     "metadata": {},
     "output_type": "display_data"
    },
    {
     "data": {
      "application/vnd.jupyter.widget-view+json": {
       "model_id": "9abff6e4e44e48abb963ee244a18d0db",
       "version_major": 2,
       "version_minor": 0
      },
      "text/plain": [
       "  0%|          | 0/30 [00:00<?, ?it/s]"
      ]
     },
     "metadata": {},
     "output_type": "display_data"
    },
    {
     "data": {
      "application/vnd.jupyter.widget-view+json": {
       "model_id": "1a0866e2519344249a0f23ae2451ae82",
       "version_major": 2,
       "version_minor": 0
      },
      "text/plain": [
       "  0%|          | 0/60 [00:00<?, ?it/s]"
      ]
     },
     "metadata": {},
     "output_type": "display_data"
    },
    {
     "data": {
      "application/vnd.jupyter.widget-view+json": {
       "model_id": "3d2c640e3f314f77ba4070ce424a9235",
       "version_major": 2,
       "version_minor": 0
      },
      "text/plain": [
       "  0%|          | 0/100 [00:00<?, ?it/s]"
      ]
     },
     "metadata": {},
     "output_type": "display_data"
    },
    {
     "data": {
      "application/vnd.jupyter.widget-view+json": {
       "model_id": "ac9cec19098446deacbea702a6d3923b",
       "version_major": 2,
       "version_minor": 0
      },
      "text/plain": [
       "  0%|          | 0/30 [00:00<?, ?it/s]"
      ]
     },
     "metadata": {},
     "output_type": "display_data"
    },
    {
     "data": {
      "application/vnd.jupyter.widget-view+json": {
       "model_id": "7deedcf333ef4e95b9244844e5c72ef8",
       "version_major": 2,
       "version_minor": 0
      },
      "text/plain": [
       "  0%|          | 0/60 [00:00<?, ?it/s]"
      ]
     },
     "metadata": {},
     "output_type": "display_data"
    },
    {
     "data": {
      "application/vnd.jupyter.widget-view+json": {
       "model_id": "5c6b48c8c8c841e192c07990cf1d5770",
       "version_major": 2,
       "version_minor": 0
      },
      "text/plain": [
       "  0%|          | 0/100 [00:00<?, ?it/s]"
      ]
     },
     "metadata": {},
     "output_type": "display_data"
    },
    {
     "data": {
      "application/vnd.jupyter.widget-view+json": {
       "model_id": "939cb551d7d14e98980227de33b69bff",
       "version_major": 2,
       "version_minor": 0
      },
      "text/plain": [
       "  0%|          | 0/30 [00:00<?, ?it/s]"
      ]
     },
     "metadata": {},
     "output_type": "display_data"
    },
    {
     "data": {
      "application/vnd.jupyter.widget-view+json": {
       "model_id": "b979eca73df64f6b8e61d779d3e07b22",
       "version_major": 2,
       "version_minor": 0
      },
      "text/plain": [
       "  0%|          | 0/60 [00:00<?, ?it/s]"
      ]
     },
     "metadata": {},
     "output_type": "display_data"
    },
    {
     "data": {
      "application/vnd.jupyter.widget-view+json": {
       "model_id": "1ef3836d17804a519e9204da16bdbafb",
       "version_major": 2,
       "version_minor": 0
      },
      "text/plain": [
       "  0%|          | 0/100 [00:00<?, ?it/s]"
      ]
     },
     "metadata": {},
     "output_type": "display_data"
    },
    {
     "name": "stdout",
     "output_type": "stream",
     "text": [
      "Best on VAL: {'factors': 32, 'regularization': 0.01, 'learning_rate': 0.05, 'iterations': 100} Recall@10 = 0.0864\n"
     ]
    }
   ],
   "source": [
    "from itertools import product\n",
    "from implicit.bpr import BayesianPersonalizedRanking\n",
    "\n",
    "def recall_at_k(model, UI_eval, truth, K=10):\n",
    "    hits = total = 0\n",
    "    n_users_model = model.user_factors.shape[0]  # authoritative size\n",
    "    for u, true_items in truth.items():\n",
    "        if not (0 <= u < n_users_model):\n",
    "            continue\n",
    "        recs, _ = model.recommend(u, UI_eval[u], N=K, filter_already_liked_items=True)\n",
    "        hits += len(set(recs) & true_items)\n",
    "        total += len(true_items)\n",
    "    return hits / max(total, 1)\n",
    "\n",
    "# --- grid search with validation ---\n",
    "best = (None, float('-inf'))  # Initialize best as (params, score) with lowest possible score\n",
    "for f, reg, lr, it in product(grid[\"factors\"],\n",
    "                              grid[\"regularization\"],\n",
    "                              grid[\"learning_rate\"],\n",
    "                              grid[\"iterations\"]):\n",
    "    model = BayesianPersonalizedRanking(\n",
    "        factors=f, regularization=reg, learning_rate=lr, iterations=it\n",
    "    )\n",
    "    model.fit(IU)  # train on TRAIN only\n",
    "    score = recall_at_k(model, UI_eval, val_truth, K=10)  # use only validation here\n",
    "    if score > best[1]:\n",
    "        best = ({\"factors\": f, \"regularization\": reg,\n",
    "                 \"learning_rate\": lr, \"iterations\": it}, score)\n",
    "\n",
    "print(\"Best on VAL:\", best[0], \"Recall@10 =\", round(best[1], 4))\n"
   ]
  },
  {
   "cell_type": "code",
   "execution_count": 188,
   "metadata": {},
   "outputs": [
    {
     "data": {
      "application/vnd.jupyter.widget-view+json": {
       "model_id": "f11a99ff40e243df8bd282712805ee1b",
       "version_major": 2,
       "version_minor": 0
      },
      "text/plain": [
       "  0%|          | 0/30 [00:00<?, ?it/s]"
      ]
     },
     "metadata": {},
     "output_type": "display_data"
    },
    {
     "name": "stdout",
     "output_type": "stream",
     "text": [
      "Test HitRate@10: 0.0247\n"
     ]
    }
   ],
   "source": [
    "import pandas as pd\n",
    "from scipy.sparse import coo_matrix\n",
    "\n",
    "# 0) Merge TRAIN+VAL (indices already from train-fitted encoders)\n",
    "full = pd.concat(\n",
    "    [train[[\"user_idx\",\"item_idx\",\"interaction\"]],\n",
    "     val[[\"user_idx\",\"item_idx\",\"interaction\"]]],\n",
    "    ignore_index=True\n",
    ")\n",
    "\n",
    "# 1) Make interactions binary & drop dupes\n",
    "full = full.drop_duplicates(subset=[\"user_idx\",\"item_idx\"]).assign(interaction=1.0)\n",
    "\n",
    "# 2) Build matrices (users × items) and its transpose (items × users)\n",
    "UI_full = coo_matrix((full[\"interaction\"], (full[\"user_idx\"], full[\"item_idx\"]))).tocsr()\n",
    "IU_full = UI_full.T.tocsr()\n",
    "UI_eval_full = IU_full.T.tocsr()  # guarantees row indexing matches model.user_factors\n",
    "\n",
    "# 3) Retrain BPR on TRAIN+VAL with the best params found on VAL\n",
    "best_params = {\"factors\": 64, \"regularization\": 0.003, \"learning_rate\": 0.03, \"iterations\": 30}\n",
    "from implicit.bpr import BayesianPersonalizedRanking\n",
    "model = BayesianPersonalizedRanking(**best_params)\n",
    "model.fit(IU_full)\n",
    "\n",
    "# 4) Evaluate HIT RATE / RECALL@K on TEST (K=10)\n",
    "def recall_at_k(model, UI_eval, truth, K=10):\n",
    "    hits = total = 0\n",
    "    n_users = model.user_factors.shape[0]\n",
    "    for u, true_items in truth.items():\n",
    "        if not (0 <= u < n_users):  # safety (shouldn't trigger)\n",
    "            continue\n",
    "        recs, _ = model.recommend(u, UI_eval[u], N=K, filter_already_liked_items=True)\n",
    "        hits += len(set(recs) & true_items)\n",
    "        total += len(true_items)\n",
    "    return hits / max(total, 1)\n",
    "\n",
    "test_hit_at_10 = recall_at_k(model, UI_eval_full, test_truth, K=10)\n",
    "print(f\"Test HitRate@10: {test_hit_at_10:.4f}\")"
   ]
  },
  {
   "cell_type": "code",
   "execution_count": null,
   "id": "48bff598",
   "metadata": {},
   "outputs": [],
   "source": []
  },
  {
   "cell_type": "code",
   "execution_count": null,
   "id": "4d43c567",
   "metadata": {},
   "outputs": [],
   "source": []
  },
  {
   "cell_type": "code",
   "execution_count": null,
   "id": "ba098f3f",
   "metadata": {},
   "outputs": [],
   "source": []
  },
  {
   "cell_type": "code",
   "execution_count": null,
   "id": "811a8a1a",
   "metadata": {},
   "outputs": [],
   "source": []
  },
  {
   "cell_type": "code",
   "execution_count": null,
   "id": "49a806bf",
   "metadata": {},
   "outputs": [],
   "source": []
  },
  {
   "cell_type": "code",
   "execution_count": null,
   "id": "c78975b8",
   "metadata": {},
   "outputs": [],
   "source": []
  },
  {
   "cell_type": "code",
   "execution_count": null,
   "id": "aaacd803",
   "metadata": {},
   "outputs": [],
   "source": []
  }
 ],
 "metadata": {
  "kernelspec": {
   "display_name": "base",
   "language": "python",
   "name": "python3"
  },
  "language_info": {
   "codemirror_mode": {
    "name": "ipython",
    "version": 3
   },
   "file_extension": ".py",
   "mimetype": "text/x-python",
   "name": "python",
   "nbconvert_exporter": "python",
   "pygments_lexer": "ipython3",
   "version": "3.10.14"
  }
 },
 "nbformat": 4,
 "nbformat_minor": 5
}
