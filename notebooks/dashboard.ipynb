{
 "cells": [
  {
   "cell_type": "markdown",
   "id": "fdbdbffe",
   "metadata": {},
   "source": [
    "- UI: Plotly Dash (pure Python, nice charts).\n",
    "- API/jobs: FastAPI + APScheduler (hourly refresh) or RQ if jobs get heavy.\n",
    "- Data: Postgres (or SQLite if truly single-user).\n",
    "- Cache: Redis (optional but helpful).\n",
    "- Ops: Docker Compose with Nginx reverse proxy + Let’s Encrypt; environment variables for secrets.\n",
    "- Security: basic password or OIDC if you already use Google/Microsoft; serve only over HTTPS; log PII carefully (GDPR)."
   ]
  },
  {
   "cell_type": "code",
   "execution_count": null,
   "id": "d747e018",
   "metadata": {},
   "outputs": [],
   "source": []
  }
 ],
 "metadata": {
  "kernelspec": {
   "display_name": "base",
   "language": "python",
   "name": "python3"
  },
  "language_info": {
   "name": "python",
   "version": "3.10.14"
  }
 },
 "nbformat": 4,
 "nbformat_minor": 5
}
