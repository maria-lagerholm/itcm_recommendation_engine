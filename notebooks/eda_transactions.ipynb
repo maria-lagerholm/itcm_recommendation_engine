{
 "cells": [
  {
   "cell_type": "code",
   "execution_count": 7,
   "id": "c1eb670a",
   "metadata": {},
   "outputs": [
    {
     "data": {
      "text/plain": [
       "259661"
      ]
     },
     "execution_count": 7,
     "metadata": {},
     "output_type": "execute_result"
    }
   ],
   "source": [
    "# How many rows are there in tx?\n",
    "\n",
    "import pandas as pd\n",
    "tx = pd.read_csv(\"../data/external/transactions_train.csv\")\n",
    "\n",
    "len(tx)"
   ]
  },
  {
   "cell_type": "code",
   "execution_count": 8,
   "id": "4160d9ec",
   "metadata": {},
   "outputs": [
    {
     "name": "stdout",
     "output_type": "stream",
     "text": [
      "Unique SKUs in tx: 17,500 | in articles: 108,600\n",
      "sku that are not in articles: 3\n"
     ]
    }
   ],
   "source": [
    "# Bring in the 'status' and 'groupId' columns from articles_clean and merge them into tx\n",
    "a = pd.read_csv(\"../data/processed/articles_clean.csv\", dtype=\"string\", usecols=[\"sku\", \"status\", \"groupId\"])\n",
    "tx[\"sku\"], a[\"sku\"] = tx[\"sku\"].str.strip(), a[\"sku\"].str.strip()\n",
    "# Merge status and groupId from articles into tx based on sku\n",
    "tx = tx.merge(a[[\"sku\", \"status\", \"groupId\"]], on=\"sku\", how=\"left\")\n",
    "tx_sku, a_sku = pd.Index(tx[\"sku\"].dropna().unique()), pd.Index(a[\"sku\"].dropna().unique())\n",
    "m = tx_sku.difference(a_sku)\n",
    "print(f\"Unique SKUs in tx: {len(tx_sku):,} | in articles: {len(a_sku):,}\\nsku that are not in articles: {len(m):,}\")"
   ]
  },
  {
   "cell_type": "code",
   "execution_count": 9,
   "id": "54616fa9",
   "metadata": {},
   "outputs": [],
   "source": [
    "# Remove rows from tx where sku is not found in articles\n",
    "tx = tx[tx[\"sku\"].isin(a_sku)]"
   ]
  },
  {
   "cell_type": "code",
   "execution_count": 10,
   "id": "5477d8a2",
   "metadata": {},
   "outputs": [
    {
     "data": {
      "text/html": [
       "<div>\n",
       "<style scoped>\n",
       "    .dataframe tbody tr th:only-of-type {\n",
       "        vertical-align: middle;\n",
       "    }\n",
       "\n",
       "    .dataframe tbody tr th {\n",
       "        vertical-align: top;\n",
       "    }\n",
       "\n",
       "    .dataframe thead th {\n",
       "        text-align: right;\n",
       "    }\n",
       "</style>\n",
       "<table border=\"1\" class=\"dataframe\">\n",
       "  <thead>\n",
       "    <tr style=\"text-align: right;\">\n",
       "      <th></th>\n",
       "      <th>orderId</th>\n",
       "      <th>shopUserId</th>\n",
       "      <th>created</th>\n",
       "      <th>currencyId</th>\n",
       "      <th>orderLineId</th>\n",
       "      <th>sku</th>\n",
       "      <th>quantity</th>\n",
       "      <th>price</th>\n",
       "      <th>name</th>\n",
       "      <th>status</th>\n",
       "      <th>groupId</th>\n",
       "    </tr>\n",
       "  </thead>\n",
       "  <tbody>\n",
       "    <tr>\n",
       "      <th>259660</th>\n",
       "      <td>158790</td>\n",
       "      <td>78135</td>\n",
       "      <td>2024-05-22 12:38:29</td>\n",
       "      <td>50</td>\n",
       "      <td>454306.0</td>\n",
       "      <td>291294</td>\n",
       "      <td>1.0</td>\n",
       "      <td>11.3</td>\n",
       "      <td>Vasaravarpaan oikaisija 4/pak</td>\n",
       "      <td>active</td>\n",
       "      <td>291294</td>\n",
       "    </tr>\n",
       "    <tr>\n",
       "      <th>259659</th>\n",
       "      <td>158791</td>\n",
       "      <td>78136</td>\n",
       "      <td>2024-05-22 12:44:01</td>\n",
       "      <td>40</td>\n",
       "      <td>454308.0</td>\n",
       "      <td>542092</td>\n",
       "      <td>1.0</td>\n",
       "      <td>89.0</td>\n",
       "      <td>Tvättlappar enfärgade av frotté 5-pack</td>\n",
       "      <td>active</td>\n",
       "      <td>542087</td>\n",
       "    </tr>\n",
       "    <tr>\n",
       "      <th>259657</th>\n",
       "      <td>158800</td>\n",
       "      <td>78145</td>\n",
       "      <td>2024-05-22 12:54:51</td>\n",
       "      <td>40</td>\n",
       "      <td>454358.0</td>\n",
       "      <td>250209-0039</td>\n",
       "      <td>1.0</td>\n",
       "      <td>259.0</td>\n",
       "      <td>Hälsotoffel</td>\n",
       "      <td>inactive</td>\n",
       "      <td>250209</td>\n",
       "    </tr>\n",
       "    <tr>\n",
       "      <th>259658</th>\n",
       "      <td>158800</td>\n",
       "      <td>78145</td>\n",
       "      <td>2024-05-22 12:54:51</td>\n",
       "      <td>40</td>\n",
       "      <td>454359.0</td>\n",
       "      <td>261518</td>\n",
       "      <td>1.0</td>\n",
       "      <td>49.0</td>\n",
       "      <td>Bh-förlängare 3-pack</td>\n",
       "      <td>active</td>\n",
       "      <td>261518</td>\n",
       "    </tr>\n",
       "    <tr>\n",
       "      <th>259655</th>\n",
       "      <td>158805</td>\n",
       "      <td>78150</td>\n",
       "      <td>2024-05-22 12:59:31</td>\n",
       "      <td>134</td>\n",
       "      <td>454377.0</td>\n",
       "      <td>542252</td>\n",
       "      <td>1.0</td>\n",
       "      <td>179.0</td>\n",
       "      <td>Köksset 4-delar återvunnet material</td>\n",
       "      <td>inactive</td>\n",
       "      <td>542251</td>\n",
       "    </tr>\n",
       "  </tbody>\n",
       "</table>\n",
       "</div>"
      ],
      "text/plain": [
       "        orderId  shopUserId              created  currencyId  orderLineId  \\\n",
       "259660   158790       78135  2024-05-22 12:38:29          50     454306.0   \n",
       "259659   158791       78136  2024-05-22 12:44:01          40     454308.0   \n",
       "259657   158800       78145  2024-05-22 12:54:51          40     454358.0   \n",
       "259658   158800       78145  2024-05-22 12:54:51          40     454359.0   \n",
       "259655   158805       78150  2024-05-22 12:59:31         134     454377.0   \n",
       "\n",
       "                sku  quantity  price                                    name  \\\n",
       "259660       291294       1.0   11.3           Vasaravarpaan oikaisija 4/pak   \n",
       "259659       542092       1.0   89.0  Tvättlappar enfärgade av frotté 5-pack   \n",
       "259657  250209-0039       1.0  259.0                             Hälsotoffel   \n",
       "259658       261518       1.0   49.0                    Bh-förlängare 3-pack   \n",
       "259655       542252       1.0  179.0     Köksset 4-delar återvunnet material   \n",
       "\n",
       "          status groupId  \n",
       "259660    active  291294  \n",
       "259659    active  542087  \n",
       "259657  inactive  250209  \n",
       "259658    active  261518  \n",
       "259655  inactive  542251  "
      ]
     },
     "execution_count": 10,
     "metadata": {},
     "output_type": "execute_result"
    }
   ],
   "source": [
    "tx.sort_values(\"orderId\", key=lambda x: x.astype(int)).head()"
   ]
  },
  {
   "cell_type": "code",
   "execution_count": 11,
   "id": "c5351039",
   "metadata": {},
   "outputs": [
    {
     "data": {
      "text/plain": [
       "orderId        0.0\n",
       "shopUserId     0.0\n",
       "created        0.0\n",
       "currencyId     0.0\n",
       "orderLineId    0.0\n",
       "sku            0.0\n",
       "quantity       0.0\n",
       "price          0.0\n",
       "name           0.0\n",
       "status         0.0\n",
       "groupId        0.0\n",
       "dtype: float64"
      ]
     },
     "execution_count": 11,
     "metadata": {},
     "output_type": "execute_result"
    }
   ],
   "source": [
    "# What proportion of null values are there in tx?\n",
    "tx.isnull().mean()"
   ]
  },
  {
   "cell_type": "markdown",
   "id": "b3504556",
   "metadata": {},
   "source": [
    "## Remove known bugs"
   ]
  },
  {
   "cell_type": "code",
   "execution_count": 12,
   "id": "01485391",
   "metadata": {},
   "outputs": [],
   "source": [
    "\n",
    "# Remove rows where 'created' date is 2024-05-26, 2024-05-27, 2024-05-28, or 2024-05-29 (bugs)\n",
    "tx['created'] = pd.to_datetime(tx['created'], errors='coerce')\n",
    "dates_to_remove = pd.to_datetime(['2024-05-21', '2024-05-26', '2024-05-27', '2024-05-28', '2024-05-29'])\n",
    "tx = tx[~tx['created'].dt.normalize().isin(dates_to_remove)]\n"
   ]
  },
  {
   "cell_type": "code",
   "execution_count": 13,
   "id": "670623b6",
   "metadata": {},
   "outputs": [
    {
     "name": "stdout",
     "output_type": "stream",
     "text": [
      "250042\n"
     ]
    }
   ],
   "source": [
    "print(len(tx))"
   ]
  },
  {
   "cell_type": "code",
   "execution_count": 14,
   "id": "7ea551ad",
   "metadata": {},
   "outputs": [],
   "source": [
    "# Save mapping between each individual SKU and its sku_family for later use\n",
    "import os\n",
    "\n",
    "import re\n",
    "def extract_sku_family(sku):\n",
    "    # Remove trailing SE, NO, FI, DK (case-insensitive) if present\n",
    "    sku_base = re.sub(r'(SE|SV|NO|FI|DK)$', '', str(sku), flags=re.IGNORECASE)\n",
    "    # Take part before '-' if present\n",
    "    return sku_base.split('-')[0]\n",
    "tx.insert(tx.columns.get_loc('sku') + 1, 'sku_family', tx['sku'].apply(extract_sku_family))\n"
   ]
  },
  {
   "cell_type": "markdown",
   "id": "df749fd0",
   "metadata": {},
   "source": [
    "## Unify currenies to SEK for price bucketing"
   ]
  },
  {
   "cell_type": "code",
   "execution_count": 15,
   "id": "a6afce74",
   "metadata": {},
   "outputs": [],
   "source": [
    "# Source: ECB euro foreign exchange reference rates (2025-08-18)\n",
    "# https://www.ecb.europa.eu/stats/eurofxref/ (rates are indicative; updated ~16:00 CET on banking days)\n",
    "\n",
    "# Map currencyId to country code: 40=DK, 134=SE, 103=NO, 50=FI\n",
    "currencyid_to_country = {\n",
    "    40: \"DK\",\n",
    "    134: \"SE\",\n",
    "    103: \"NO\",\n",
    "    50: \"FI\"\n",
    "}\n",
    "\n",
    "conversion_rates = {\n",
    "    \"DK\": 1.494795,  # Danish krone -> SEK\n",
    "    \"NO\": 0.938825,  # Norwegian krone -> SEK\n",
    "    \"SE\": 1.0,       # Swedish krona -> SEK\n",
    "    \"FI\": 11.1570    # Finland (EUR) -> SEK\n",
    "}\n",
    "\n",
    "# Map currencyId to country code\n",
    "tx[\"currency_country\"] = tx[\"currencyId\"].map(currencyid_to_country)\n",
    "\n",
    "# Map to each row\n",
    "tx[\"sek_rate\"] = tx[\"currency_country\"].map(conversion_rates)\n",
    "\n",
    "# Safety: flag any unmapped currencyIds\n",
    "missing = tx[\"sek_rate\"].isna()\n",
    "if missing.any():\n",
    "    print(\"Warning: missing SEK rate for currencyIds:\", tx.loc[missing, \"currencyId\"].unique())\n",
    "\n",
    "# Ensure price is numeric, then compute\n",
    "tx[\"price\"] = pd.to_numeric(tx[\"price\"], errors=\"coerce\")\n",
    "tx[\"price_sek\"] = tx[\"price\"] * tx[\"sek_rate\"]"
   ]
  },
  {
   "cell_type": "code",
   "execution_count": 16,
   "id": "5660f058",
   "metadata": {},
   "outputs": [
    {
     "data": {
      "text/plain": [
       "118963    671759.378205\n",
       "200879      7098.781455\n",
       "106847      5556.186000\n",
       "65755       5515.793550\n",
       "220976      5515.793550\n",
       "32302       5515.793550\n",
       "39090       5515.793550\n",
       "225427      5515.793550\n",
       "26878       5515.793550\n",
       "131092      5515.793550\n",
       "Name: price_sek, dtype: float64"
      ]
     },
     "execution_count": 16,
     "metadata": {},
     "output_type": "execute_result"
    }
   ],
   "source": [
    "tx['price_sek'].sort_values(ascending=False).head(10)"
   ]
  },
  {
   "cell_type": "code",
   "execution_count": 17,
   "id": "4aaf40ef",
   "metadata": {},
   "outputs": [],
   "source": [
    "# Remove rows where the price value is 6 digits\n",
    "tx = tx[~tx['price'].astype(str).str.replace('.0$', '', regex=True).str.fullmatch(r'\\d{6}')]"
   ]
  },
  {
   "cell_type": "code",
   "execution_count": 18,
   "id": "6d8a7390",
   "metadata": {},
   "outputs": [
    {
     "data": {
      "image/png": "[encoded data removed]",
      "text/plain": [
       "<Figure size 800x500 with 1 Axes>"
      ]
     },
     "metadata": {},
     "output_type": "display_data"
    }
   ],
   "source": [
    "import matplotlib.pyplot as plt\n",
    "\n",
    "plt.figure(figsize=(8, 5))\n",
    "plt.hist(\n",
    "    tx[\"price\"].dropna(), \n",
    "    bins=50, \n",
    "    color=\"skyblue\", \n",
    "    edgecolor=\"black\"\n",
    ")\n",
    "plt.title(\"Distribution of Price (min to max)\")\n",
    "plt.xlabel(\"price_sek\")\n",
    "plt.ylabel(\"Frequency\")\n",
    "plt.xlim(tx[\"price_sek\"].min(), tx[\"price_sek\"].max())\n",
    "plt.grid(axis='y', alpha=0.75)\n",
    "plt.show()\n"
   ]
  },
  {
   "cell_type": "code",
   "execution_count": 19,
   "id": "0ee28f4c",
   "metadata": {},
   "outputs": [],
   "source": [
    "# Merge age info from customers into transactions\n",
    "customers = pd.read_csv(\"../data/processed/customers_clean.csv\", dtype={\"shopUserId\": str})\n",
    "tx['shopUserId'] = tx['shopUserId'].astype(str)\n",
    "tx = tx.merge(customers[['shopUserId', 'Age']], on='shopUserId', how='left')"
   ]
  },
  {
   "cell_type": "code",
   "execution_count": 20,
   "id": "bee41923",
   "metadata": {},
   "outputs": [
    {
     "data": {
      "text/plain": [
       "orderId             0.000000\n",
       "shopUserId          0.000000\n",
       "created             0.000000\n",
       "currencyId          0.000000\n",
       "orderLineId         0.000000\n",
       "sku                 0.000000\n",
       "sku_family          0.000000\n",
       "quantity            0.000000\n",
       "price               0.000000\n",
       "name                0.000000\n",
       "status              0.000000\n",
       "groupId             0.000000\n",
       "currency_country    0.000000\n",
       "sek_rate            0.000000\n",
       "price_sek           0.000000\n",
       "Age                 0.503653\n",
       "dtype: float64"
      ]
     },
     "execution_count": 20,
     "metadata": {},
     "output_type": "execute_result"
    }
   ],
   "source": [
    "tx.isna().mean()"
   ]
  },
  {
   "cell_type": "code",
   "execution_count": 21,
   "id": "915f1134",
   "metadata": {},
   "outputs": [],
   "source": [
    "# Save cleaned transactions to CSV\n",
    "tx.to_csv(\"../data/processed/transactions_clean.csv\", index=False)"
   ]
  },
  {
   "cell_type": "markdown",
   "id": "1f8c004f",
   "metadata": {},
   "source": []
  },
  {
   "cell_type": "code",
   "execution_count": null,
   "id": "33c0d2f6",
   "metadata": {},
   "outputs": [],
   "source": []
  },
  {
   "cell_type": "code",
   "execution_count": null,
   "id": "d766c99c",
   "metadata": {},
   "outputs": [],
   "source": []
  },
  {
   "cell_type": "code",
   "execution_count": null,
   "id": "62410c2e",
   "metadata": {},
   "outputs": [],
   "source": []
  },
  {
   "cell_type": "code",
   "execution_count": null,
   "id": "ba7f496e",
   "metadata": {},
   "outputs": [],
   "source": []
  },
  {
   "cell_type": "code",
   "execution_count": null,
   "id": "3dfc8330",
   "metadata": {},
   "outputs": [],
   "source": []
  },
  {
   "cell_type": "code",
   "execution_count": null,
   "id": "287441ab",
   "metadata": {},
   "outputs": [],
   "source": []
  },
  {
   "cell_type": "code",
   "execution_count": null,
   "id": "8af864bd",
   "metadata": {},
   "outputs": [],
   "source": []
  },
  {
   "cell_type": "code",
   "execution_count": null,
   "id": "b3c8bdba",
   "metadata": {},
   "outputs": [],
   "source": []
  },
  {
   "cell_type": "markdown",
   "id": "5ef4a855",
   "metadata": {},
   "source": [
    " compute order-level user history (past order count, recency in seconds/log, and average past basket value) and merge it back to each line, so every row has the same past-user context without leaking the current order. We then add leave-one-line-out basket features (sum/qty/lines/avg unit price excluding the current line) and calendar features (hour, weekday/weekend, month, quarter) from order_created. "
   ]
  },
  {
   "cell_type": "code",
   "execution_count": 71,
   "id": "97d7f745",
   "metadata": {},
   "outputs": [
    {
     "name": "stdout",
     "output_type": "stream",
     "text": [
      " orderId shopUserId       order_created  total_qty  basket_value  currencyId  avg_unit_price                                sku_list\n",
      "  158790      78135 2024-05-22 12:38:29          1            11          50              11                                [291294]\n",
      "  158791      78136 2024-05-22 12:44:01          1            89          40              89                                [542092]\n",
      "  158800      78145 2024-05-22 12:54:51          2           308          40             154                   [250209-0039, 261518]\n",
      "  158805      78150 2024-05-22 12:59:31          3          1075         134             358           [200226, 250116-0042, 542252]\n",
      "  158808      78150 2024-05-22 13:07:10          1           418         134             418                           [270482-4446]\n",
      "  158817      78162 2024-05-22 13:23:46          1           149         103             149                           [210643-3638]\n",
      "  158818      78162 2024-05-22 13:24:47          1           119         103             119                           [270529-1111]\n",
      "  158824      78162 2024-05-22 13:27:19          1           119         103             119                           [270530-1111]\n",
      "  158840      78180 2024-05-22 13:41:43          1            98          40              98                           [200102-9008]\n",
      "  158841      78181 2024-05-22 13:42:39          3          1476         103             492 [240176-0046, 265823-E115, 265843-4115]\n"
     ]
    }
   ],
   "source": [
    "# aggregate rows based on orderId (object dtypes OK, in-place edits)\n",
    "\n",
    "import pandas as pd\n",
    "import numpy as np\n",
    "\n",
    "# --- Parse numerics & time from object ---\n",
    "tx.loc[:, 'created']  = pd.to_datetime(tx['created'], errors='coerce')\n",
    "tx.loc[:, 'quantity'] = pd.to_numeric(tx['quantity'], errors='coerce').fillna(1).clip(lower=1).round().astype('Int64')\n",
    "tx.loc[:, 'price_sek']    = pd.to_numeric(tx['price'], errors='coerce').round().astype('Int64')\n",
    "\n",
    "# Line total (no decimals)\n",
    "tx.loc[:, '_line_total'] = (tx['price'] * tx['quantity']).round().astype('Int64')\n",
    "\n",
    "# --- One row per orderId ---\n",
    "orders = (\n",
    "    tx.sort_values(['orderId','created'])\n",
    "      .groupby('orderId', as_index=False)\n",
    "      .agg(\n",
    "          shopUserId    = ('shopUserId','first'),\n",
    "          order_created = ('created','min'),\n",
    "          total_qty     = ('quantity','sum'),\n",
    "          basket_value  = ('_line_total','sum'),\n",
    "          currencyId    = ('currencyId','first')\n",
    "      )\n",
    ")\n",
    "\n",
    "# Ensure basket_value and total_qty are integers (no decimals)\n",
    "orders['total_qty'] = orders['total_qty'].astype(int)\n",
    "orders['basket_value'] = orders['basket_value'].astype(int)\n",
    "orders['avg_unit_price'] = (orders['basket_value'] / orders['total_qty']).round().astype(int)\n",
    "\n",
    "# SKUs per order (unique, sorted) — stays object list\n",
    "sku_list = (\n",
    "    tx.groupby('orderId')['sku']\n",
    "      .apply(lambda s: sorted(pd.Series(s, dtype='string').dropna().unique().tolist()))\n",
    "      .rename('sku_list')\n",
    ")\n",
    "orders = orders.merge(sku_list, on='orderId', how='left')\n",
    "\n",
    "print(orders.head(10).to_string(index=False))\n"
   ]
  },
  {
   "cell_type": "code",
   "execution_count": 72,
   "id": "cfc2110a",
   "metadata": {},
   "outputs": [
    {
     "data": {
      "image/png": "[encoded data removed]",
      "text/plain": [
       "<Figure size 700x500 with 1 Axes>"
      ]
     },
     "metadata": {},
     "output_type": "display_data"
    }
   ],
   "source": [
    "# Plot 1: Past orders (no columns written to `orders`)\n",
    "import matplotlib.pyplot as plt\n",
    "import seaborn as sns\n",
    "import numpy as np\n",
    "import pandas as pd\n",
    "\n",
    "o = orders.sort_values(['shopUserId','order_created','orderId'])\n",
    "past = o.groupby('shopUserId').cumcount().astype('Int32')           # 0,1,2,...\n",
    "past_cap = past.clip(upper=20)\n",
    "\n",
    "bins   = list(range(0, 21)) + [np.inf]\n",
    "labels = [str(i) for i in range(0, 20)] + ['20+']\n",
    "past_cat = pd.cut(past_cap, bins=bins, right=False, labels=labels, include_lowest=True)\n",
    "\n",
    "plt.figure(figsize=(7,5))\n",
    "ax = sns.countplot(x=past_cat, color='skyblue')\n",
    "ax.set_yscale('log')\n",
    "ax.set_title('User Past Orders (capped at 20+, log-y)')\n",
    "ax.set_xlabel('Number of Past Orders'); ax.set_ylabel('Count')\n",
    "\n",
    "for p in ax.patches:\n",
    "    h = int(p.get_height())\n",
    "    if h > 0:\n",
    "        ax.annotate(f'{h:,}', (p.get_x()+p.get_width()/2., h),\n",
    "                    ha='center', va='bottom', fontsize=8, rotation=90)\n",
    "\n",
    "plt.tight_layout(); plt.show()\n"
   ]
  },
  {
   "cell_type": "code",
   "execution_count": 73,
   "id": "c8c47511",
   "metadata": {},
   "outputs": [
    {
     "name": "stdout",
     "output_type": "stream",
     "text": [
      "One-time customers:      62,813 (85.4%)\n",
      "Repeat customers:        10,751 (14.6%)\n",
      "More than 2 orders:      4,127 (5.6%)\n"
     ]
    }
   ],
   "source": [
    "# Customers who ordered once vs. more than once, and more than twice\n",
    "order_counts = orders.groupby('shopUserId')['orderId'].nunique()\n",
    "\n",
    "one_time_customers   = int((order_counts == 1).sum())\n",
    "repeat_customers     = int((order_counts > 1).sum())\n",
    "more_than_two_customers = int((order_counts > 2).sum())\n",
    "total_customers      = int(order_counts.size)\n",
    "\n",
    "print(f\"One-time customers:      {one_time_customers:,} ({one_time_customers/total_customers*100:.1f}%)\")\n",
    "print(f\"Repeat customers:        {repeat_customers:,} ({repeat_customers/total_customers*100:.1f}%)\")\n",
    "print(f\"More than 2 orders:      {more_than_two_customers:,} ({more_than_two_customers/total_customers*100:.1f}%)\")\n"
   ]
  },
  {
   "cell_type": "code",
   "execution_count": 74,
   "id": "8e28a81e",
   "metadata": {},
   "outputs": [
    {
     "name": "stdout",
     "output_type": "stream",
     "text": [
      "Users with multiple orders on the same day: 753\n",
      "shopUserId _order_date  n_orders                                         orderIds                                                        times                        basket_values  same_total_price\n",
      "    183783  2024-09-02         6 [284522, 284542, 284545, 284552, 284557, 284563] [12:32:27, 12:40:17, 12:41:25, 12:42:53, 12:44:51, 12:46:16]       [279, 298, 398, 458, 498, 498]             False\n",
      "    654825  2025-05-21         6 [709594, 709601, 709604, 709654, 709670, 709682] [11:26:01, 11:26:48, 11:27:53, 11:30:05, 11:35:14, 11:40:26] [1274, 1274, 1274, 1274, 1274, 1274]              True\n",
      "    703767  2025-04-16         5         [665013, 665017, 665025, 665029, 665045]           [17:33:15, 17:38:46, 17:43:46, 17:48:28, 18:01:02]            [139, 149, 278, 298, 298]             False\n",
      "    262090  2024-06-24         4                 [192175, 192347, 192367, 192415]                     [09:38:27, 11:55:01, 12:06:48, 12:41:22]                 [254, 254, 254, 254]              True\n",
      "    289725  2024-08-30         4                 [279909, 280192, 280761, 280932]                     [03:49:44, 08:37:18, 14:43:30, 17:54:03]             [1107, 1107, 1107, 1107]              True\n",
      "    638761  2025-02-13         4                 [582552, 582682, 582960, 583240]                     [10:42:02, 11:57:28, 14:39:42, 18:59:09]                 [349, 469, 498, 818]             False\n",
      "    355898  2025-04-23         4                 [671361, 671363, 671367, 671431]                     [10:52:11, 10:52:56, 10:55:12, 11:32:20]                 [875, 875, 875, 875]              True\n",
      "    104278  2025-07-18         4                 [767273, 767274, 767279, 767292]                     [10:23:33, 10:26:25, 10:29:09, 10:39:57]                 [298, 349, 398, 947]             False\n",
      "     78162  2024-05-22         3                         [158817, 158818, 158824]                               [13:23:46, 13:24:47, 13:27:19]                      [119, 119, 149]             False\n",
      "     78162  2024-05-24         3                         [159788, 159795, 159796]                               [10:34:39, 10:37:02, 10:38:58]                        [29, 98, 198]             False\n"
     ]
    }
   ],
   "source": [
    "# Same-user, same-day orders (calendar day) and check if those orders have the same total price\n",
    "\n",
    "import pandas as pd\n",
    "\n",
    "# ensure datetime\n",
    "orders['order_created'] = pd.to_datetime(orders['order_created'], errors='coerce')\n",
    "\n",
    "# calendar day\n",
    "orders['_order_date'] = orders['order_created'].dt.floor('D')\n",
    "\n",
    "# aggregate per (user, day)\n",
    "same_day = (orders\n",
    "    .groupby(['shopUserId','_order_date'], as_index=False)\n",
    "    .agg(\n",
    "        n_orders=('orderId','nunique'),\n",
    "        orderIds=('orderId', lambda s: sorted(s.tolist())),\n",
    "        times=('order_created', lambda s: sorted(s.dt.strftime('%H:%M:%S').tolist())),\n",
    "        basket_values=('basket_value', lambda s: sorted(s.tolist()))\n",
    "    )\n",
    ")\n",
    "\n",
    "# keep only days with 2+ orders\n",
    "same_day_multi = same_day.query('n_orders > 1').sort_values(['n_orders', '_order_date', 'shopUserId'], ascending=[False, True, True])\n",
    "\n",
    "# Check if all basket_values are the same for each group\n",
    "def all_equal(lst):\n",
    "    return len(set(lst)) == 1 if len(lst) > 1 else True\n",
    "\n",
    "same_day_multi['same_total_price'] = same_day_multi['basket_values'].apply(all_equal)\n",
    "\n",
    "print(f\"Users with multiple orders on the same day: {same_day_multi.shape[0]}\")\n",
    "print(same_day_multi[['shopUserId', '_order_date', 'n_orders', 'orderIds', 'times', 'basket_values', 'same_total_price']].head(10).to_string(index=False))\n"
   ]
  },
  {
   "cell_type": "code",
   "execution_count": 75,
   "id": "d4a3ee7b",
   "metadata": {},
   "outputs": [
    {
     "name": "stdout",
     "output_type": "stream",
     "text": [
      "Removed 469 duplicate same-day orders with identical totals.\n",
      " orderId shopUserId       order_created  total_qty  basket_value  currencyId  avg_unit_price                                sku_list\n",
      "  290862     100102 2024-09-06 18:41:18          1           119         134             119                           [261595-4450]\n",
      "  171345     100140 2024-06-06 17:00:43          3          1127          40             376 [260451-4095, 261544-D095, 261555-D095]\n",
      "  289419     100140 2024-09-05 14:58:33          3          1107          40             369 [260451-4095, 261544-D095, 265835-4095]\n",
      "  334653     100140 2024-10-03 16:14:38          3          1107          40             369 [260451-4090, 261544-D090, 265835-4090]\n",
      "  459823     100140 2024-12-02 17:28:53          2           768          40             384              [261554-D090, 261687-4090]\n",
      "  566013     100140 2025-02-02 11:54:52          2           738          40             369              [260451-5090, 264549-5090]\n",
      "  616637     100140 2025-03-08 21:04:14          2           738          40             369              [260451-5090, 264549-5090]\n",
      "  213105     100157 2024-07-12 13:12:40          2            46          50              23                           [270512-5254]\n",
      "  251247     100157 2024-08-11 14:19:55          3           139          50              46              [210190-5658, 265900-5105]\n",
      "  251868     100157 2024-08-12 05:57:23          2            81          50              40              [210190-5658, 265900-5105]\n"
     ]
    }
   ],
   "source": [
    "# Dedup: same user + same day + identical basket_value across the day -> keep earliest, drop others\n",
    "\n",
    "import pandas as pd\n",
    "\n",
    "# ensure datetime & numeric\n",
    "orders['order_created'] = pd.to_datetime(orders['order_created'], errors='coerce')\n",
    "orders['basket_value']  = pd.to_numeric(orders['basket_value'], errors='coerce')\n",
    "\n",
    "# work per (user, day)\n",
    "orders['_order_date'] = orders['order_created'].dt.floor('D')\n",
    "orders.sort_values(['shopUserId','_order_date','order_created','orderId'], inplace=True)\n",
    "\n",
    "grp = orders.groupby(['shopUserId','_order_date'])\n",
    "same_total = grp['basket_value'].transform('nunique').eq(1)     # all totals equal within the day?\n",
    "multi_in_day = grp['orderId'].transform('nunique').gt(1)        # 2+ orders that day?\n",
    "orders['__seq'] = grp.cumcount()                                # 0 = earliest in that day\n",
    "\n",
    "mask_dup = multi_in_day & same_total & (orders['__seq'] > 0)\n",
    "\n",
    "n_before = len(orders)\n",
    "orders.drop(index=orders.index[mask_dup], inplace=True)\n",
    "orders.drop(columns=['_order_date','__seq'], inplace=True, errors='ignore')\n",
    "orders.sort_values(['shopUserId','order_created','orderId'], inplace=True)\n",
    "\n",
    "print(f\"Removed {n_before - len(orders)} duplicate same-day orders with identical totals.\")\n",
    "print(orders.head(10).to_string(index=False))"
   ]
  },
  {
   "cell_type": "code",
   "execution_count": null,
   "id": "7587fe9d",
   "metadata": {},
   "outputs": [],
   "source": []
  },
  {
   "cell_type": "code",
   "execution_count": null,
   "id": "79334a0e",
   "metadata": {},
   "outputs": [],
   "source": []
  },
  {
   "cell_type": "code",
   "execution_count": null,
   "id": "dcbb7e10",
   "metadata": {},
   "outputs": [],
   "source": []
  },
  {
   "cell_type": "code",
   "execution_count": 76,
   "id": "dca1cc91",
   "metadata": {},
   "outputs": [
    {
     "name": "stdout",
     "output_type": "stream",
     "text": [
      "kept 18,024/18,392 gaps | min kept≈0.0d, max kept≈345.3d\n"
     ]
    },
    {
     "data": {
      "image/png": "[encoded data removed]",
      "text/plain": [
       "<Figure size 700x500 with 1 Axes>"
      ]
     },
     "metadata": {},
     "output_type": "display_data"
    },
    {
     "name": "stdout",
     "output_type": "stream",
     "text": [
      "median=59.9d | p75=134.9d | p90=210.9d\n"
     ]
    }
   ],
   "source": [
    "# Plot 2: Purchase recency — quantile-based trimming on both ends\n",
    "\n",
    "import numpy as np\n",
    "import pandas as pd\n",
    "import matplotlib.pyplot as plt\n",
    "import seaborn as sns\n",
    "from matplotlib.ticker import FuncFormatter\n",
    "\n",
    "# sort (no writes to `orders`)\n",
    "idx = orders.sort_values(['shopUserId','order_created','orderId']).index\n",
    "oc  = pd.to_datetime(orders.loc[idx, 'order_created'], errors='coerce')\n",
    "\n",
    "# break ties (same user+timestamp)\n",
    "tiebreak = orders.loc[idx].groupby(['shopUserId','order_created']).cumcount()\n",
    "adj = oc + pd.to_timedelta(tiebreak, unit='s')\n",
    "\n",
    "# recency in days (exclude first orders)\n",
    "recency_days = adj.groupby(orders.loc[idx, 'shopUserId']).diff().dt.total_seconds().div(86400).dropna()\n",
    "\n",
    "# quantile-based trim\n",
    "q_low, q_high = 0.01, 0.99\n",
    "min_d = float(recency_days.quantile(q_low))\n",
    "cap_d = float(recency_days.quantile(q_high))\n",
    "rd = recency_days[(recency_days >= min_d) & (recency_days <= cap_d)]\n",
    "\n",
    "print(f\"kept {len(rd):,}/{len(recency_days):,} gaps | \"\n",
    "      f\"min kept≈{min_d:.1f}d, max kept≈{cap_d:.1f}d\")\n",
    "\n",
    "# log1p binning; label axis in real days\n",
    "x = np.log1p(rd)\n",
    "plt.figure(figsize=(7,5))\n",
    "ax = sns.histplot(x, bins=50, kde=True, color='salmon')\n",
    "\n",
    "for d, c in [(7,'green'), (30,'orange'), (90,'red')]:\n",
    "    if min_d <= d <= cap_d:\n",
    "        ax.axvline(np.log1p(d), ls='--', color=c, lw=1)\n",
    "        ax.text(np.log1p(d)+0.02, ax.get_ylim()[1]*0.9, f'{(rd<=d).mean()*100:.1f}%', color=c)\n",
    "\n",
    "ax.xaxis.set_major_formatter(FuncFormatter(lambda v, _: f'{np.expm1(v):.0f}'))\n",
    "ax.set_title(f'Purchase Recency (trimmed to {int(q_low*100)}–{int(q_high*100)}th pct)')\n",
    "ax.set_xlabel('Days between consecutive orders'); ax.set_ylabel('Count')\n",
    "plt.tight_layout(); plt.show()\n",
    "\n",
    "# quick stats on trimmed distribution\n",
    "print(f\"median={rd.median():.1f}d | p75={rd.quantile(.75):.1f}d | p90={rd.quantile(.90):.1f}d\")\n"
   ]
  },
  {
   "cell_type": "code",
   "execution_count": 77,
   "id": "71745f05",
   "metadata": {},
   "outputs": [
    {
     "data": {
      "image/png": "[encoded data removed]",
      "text/plain": [
       "<Figure size 800x500 with 1 Axes>"
      ]
     },
     "metadata": {},
     "output_type": "display_data"
    },
    {
     "name": "stdout",
     "output_type": "stream",
     "text": [
      "Removed values below 25 kr and above 3,118 kr\n"
     ]
    }
   ],
   "source": [
    "import numpy as np\n",
    "import matplotlib.pyplot as plt\n",
    "import seaborn as sns\n",
    "\n",
    "# Remove zero/negative values\n",
    "basket_vals = orders['basket_value']\n",
    "basket_vals = basket_vals[basket_vals > 0]\n",
    "\n",
    "# Define lower and upper percentiles for trimming\n",
    "low_p, high_p = 0.01, 0.99  # keep middle 98% of orders\n",
    "low_val, high_val = basket_vals.quantile([low_p, high_p])\n",
    "\n",
    "# Filter within range\n",
    "basket_vals = basket_vals[(basket_vals >= low_val) & (basket_vals <= high_val)]\n",
    "\n",
    "# Log transform\n",
    "log_basket = np.log10(basket_vals)\n",
    "\n",
    "plt.figure(figsize=(8,5))\n",
    "sns.histplot(log_basket, bins=50, color='skyblue', kde=True)\n",
    "\n",
    "# Back-transform ticks to kr\n",
    "xticks = plt.xticks()[0]\n",
    "xtick_labels = [f\"{10**x:,.0f} kr\" for x in xticks]\n",
    "plt.xticks(ticks=xticks, labels=xtick_labels)\n",
    "\n",
    "plt.title(f'Basket Value Distribution (middle 98%, log-binned)')\n",
    "plt.xlabel('Basket Value (kr)')\n",
    "plt.ylabel('Count')\n",
    "plt.tight_layout()\n",
    "plt.show()\n",
    "\n",
    "# Optional: show cutoffs\n",
    "print(f\"Removed values below {low_val:,.0f} kr and above {high_val:,.0f} kr\")\n"
   ]
  },
  {
   "cell_type": "code",
   "execution_count": 78,
   "id": "82964290",
   "metadata": {},
   "outputs": [
    {
     "data": {
      "text/plain": [
       "91956"
      ]
     },
     "execution_count": 78,
     "metadata": {},
     "output_type": "execute_result"
    }
   ],
   "source": [
    "len(orders)"
   ]
  },
  {
   "cell_type": "code",
   "execution_count": 79,
   "id": "dd468f74",
   "metadata": {},
   "outputs": [
    {
     "name": "stdout",
     "output_type": "stream",
     "text": [
      "shopUserId  orderId             created         sku  quantity  unit_price  line_value\n",
      "    100102   290862 2024-09-06 18:41:18 261595-4450       1.0      119.00      119.00\n",
      "    100140   171345 2024-06-06 17:00:43 260451-4095       1.0      369.00      369.00\n",
      "    100140   171345 2024-06-06 17:00:43 261544-D095       1.0      369.00      369.00\n",
      "    100140   171345 2024-06-06 17:00:43 261555-D095       1.0      389.00      389.00\n",
      "    100140   289419 2024-09-05 14:58:33 265835-4095       1.0      369.00      369.00\n",
      "    100140   289419 2024-09-05 14:58:33 261544-D095       1.0      369.00      369.00\n",
      "    100140   289419 2024-09-05 14:58:33 260451-4095       1.0      369.00      369.00\n",
      "    100140   334653 2024-10-03 16:14:38 265835-4090       1.0      369.00      369.00\n",
      "    100140   334653 2024-10-03 16:14:38 260451-4090       1.0      369.00      369.00\n",
      "    100140   334653 2024-10-03 16:14:38 261544-D090       1.0      369.00      369.00\n",
      "    100140   459823 2024-12-02 17:28:53 261554-D090       1.0      389.00      389.00\n",
      "    100140   459823 2024-12-02 17:28:53 261687-4090       1.0      379.00      379.00\n",
      "    100140   566013 2025-02-02 11:54:52 264549-5090       1.0      369.00      369.00\n",
      "    100140   566013 2025-02-02 11:54:52 260451-5090       1.0      369.00      369.00\n",
      "    100140   616637 2025-03-08 21:04:14 264549-5090       1.0      369.00      369.00\n",
      "    100140   616637 2025-03-08 21:04:14 260451-5090       1.0      369.00      369.00\n",
      "    100157   213105 2024-07-12 13:12:40 270512-5254       2.0       23.10       46.20\n",
      "    100157   251247 2024-08-11 14:19:55 265900-5105       2.0       57.90      115.80\n",
      "    100157   251247 2024-08-11 14:19:55 210190-5658       1.0       22.90       22.90\n",
      "    100157   251868 2024-08-12 05:57:23 265900-5105       1.0       57.90       57.90\n",
      "    100157   251868 2024-08-12 05:57:23 210190-5658       1.0       22.90       22.90\n",
      "    100157   257508 2024-08-15 11:27:22 265900-5105       2.0       57.90      115.80\n",
      "    100157   257508 2024-08-15 11:27:22 210190-5254       1.0       22.90       22.90\n",
      "    100157   259896 2024-08-17 08:44:34 281444-0042       1.0       31.05       31.05\n",
      "    100157   259896 2024-08-17 08:44:34 210701-5254       1.0       18.90       18.90\n",
      "    100157   613097 2025-03-06 07:41:02 250130-0054       1.0       83.90       83.90\n",
      "    100157   640598 2025-03-27 11:58:54 210736-5254       1.0       16.90       16.90\n",
      "    100157   640598 2025-03-27 11:58:54 210638-5254       1.0        9.90        9.90\n",
      "    100157   640610 2025-03-27 12:03:50 210736-5254       1.0       16.90       16.90\n",
      "    100157   640610 2025-03-27 12:03:50 210638-5254       1.0        9.90        9.90\n",
      "    100157   640885 2025-03-27 14:32:34 261824-0052       1.0       47.90       47.90\n",
      "    100157   640885 2025-03-27 14:32:34 210736-5254       1.0       16.90       16.90\n",
      "    100157   640885 2025-03-27 14:32:34 210638-5254       1.0        9.90        9.90\n",
      "    100157   675259 2025-04-26 15:11:27 240012-0052       1.0       51.90       51.90\n",
      "    100157   691070 2025-05-07 17:11:19 240279-0050       1.0       51.90       51.90\n",
      "    100157   767958 2025-07-19 14:25:38 210790-5254       1.0       29.90       29.90\n",
      "    100208   326906 2024-09-29 12:13:13 210707-0048       1.0      599.00      599.00\n",
      "    100208   378144 2024-10-27 13:30:53 210686-4850       1.0      418.00      418.00\n",
      "    100208   378144 2024-10-27 13:30:53 210700-4850       1.0      199.00      199.00\n",
      "    100208   378144 2024-10-27 13:30:53 241620-0048       1.0      518.00      518.00\n",
      "    100844   308029 2024-09-17 12:22:49 250122-0050       1.0       72.90       72.90\n",
      "    100844   308029 2024-09-17 12:22:49 261543-E115       1.0       57.90       57.90\n",
      "    100844   582227 2025-02-13 07:44:43 270544-4850       1.0       36.90       36.90\n",
      "    100844   582227 2025-02-13 07:44:43 270696-4850       1.0       31.90       31.90\n",
      "    100844   582227 2025-02-13 07:44:43 261543-E115       1.0       57.90       57.90\n",
      "    100844   582227 2025-02-13 07:44:43      541419       2.0        3.50        7.00\n",
      "    100948   549466 2025-01-22 13:14:47 240176-0044       1.0      498.00      498.00\n",
      "    100948   549466 2025-01-22 13:14:47 210760-4042       1.0      298.00      298.00\n",
      "    100948   549466 2025-01-22 13:14:47 210652-4042       1.0      149.00      149.00\n",
      "    100948   633574 2025-03-22 08:54:16 210247-0042       1.0      498.00      498.00\n"
     ]
    }
   ],
   "source": [
    "# STEP 1 — Prepare transaction-level lines (one row per SKU line)\n",
    "\n",
    "import pandas as pd\n",
    "import numpy as np\n",
    "\n",
    "# Parse dtypes\n",
    "tx.loc[:, 'created']  = pd.to_datetime(tx['created'], errors='coerce')\n",
    "tx.loc[:, 'quantity'] = pd.to_numeric(tx['quantity'], errors='coerce').fillna(1).clip(lower=1)\n",
    "tx.loc[:, 'price']    = pd.to_numeric(tx['price'],    errors='coerce')\n",
    "\n",
    "# Ensure per-line features\n",
    "if 'unit_price' not in tx.columns:\n",
    "    tx['unit_price'] = tx['price']\n",
    "if 'line_value' not in tx.columns:\n",
    "    tx['line_value'] = tx['price'] * tx['quantity']\n",
    "\n",
    "# Stable within-order ordering\n",
    "sort_cols = ['shopUserId','orderId','created']\n",
    "if 'orderLineId' in tx.columns:\n",
    "    sort_cols.append('orderLineId')\n",
    "\n",
    "txL = tx.sort_values(sort_cols).reset_index(drop=True)\n",
    "\n",
    "# Quick peek\n",
    "print(txL[['shopUserId','orderId','created','sku','quantity','unit_price','line_value']]\n",
    "      .head(50).to_string(index=False))\n"
   ]
  },
  {
   "cell_type": "code",
   "execution_count": 80,
   "id": "3c6c1ade",
   "metadata": {},
   "outputs": [
    {
     "name": "stdout",
     "output_type": "stream",
     "text": [
      "shopUserId  orderId             created         sku  quantity  unit_price  line_value  pos_in_order  lines_so_far  qty_so_far  value_so_far\n",
      "    100102   290862 2024-09-06 18:41:18 261595-4450       1.0       119.0       119.0             0             0         0.0           0.0\n",
      "    100140   171345 2024-06-06 17:00:43 260451-4095       1.0       369.0       369.0             0             0         0.0           0.0\n",
      "    100140   171345 2024-06-06 17:00:43 261544-D095       1.0       369.0       369.0             1             1         1.0         369.0\n",
      "    100140   171345 2024-06-06 17:00:43 261555-D095       1.0       389.0       389.0             2             2         2.0         738.0\n",
      "    100140   289419 2024-09-05 14:58:33 265835-4095       1.0       369.0       369.0             0             0         0.0           0.0\n",
      "    100140   289419 2024-09-05 14:58:33 261544-D095       1.0       369.0       369.0             1             1         1.0         369.0\n",
      "    100140   289419 2024-09-05 14:58:33 260451-4095       1.0       369.0       369.0             2             2         2.0         738.0\n",
      "    100140   334653 2024-10-03 16:14:38 265835-4090       1.0       369.0       369.0             0             0         0.0           0.0\n",
      "    100140   334653 2024-10-03 16:14:38 260451-4090       1.0       369.0       369.0             1             1         1.0         369.0\n",
      "    100140   334653 2024-10-03 16:14:38 261544-D090       1.0       369.0       369.0             2             2         2.0         738.0\n"
     ]
    }
   ],
   "source": [
    "# STEP 2 — Add leak-safe prefix features (no labels yet)\n",
    "\n",
    "import pandas as pd\n",
    "import numpy as np\n",
    "\n",
    "txL = txL.copy()\n",
    "g = txL.groupby('orderId', sort=False)\n",
    "\n",
    "# Position and prefixes (exclude current line)\n",
    "txL['pos_in_order'] = g.cumcount()\n",
    "txL['lines_so_far'] = txL['pos_in_order']\n",
    "txL['qty_so_far']   = g['quantity'].cumsum()   - txL['quantity']\n",
    "txL['value_so_far'] = g['line_value'].cumsum() - txL['line_value']\n",
    "\n",
    "# Feature view for the dataset (adjust as needed)\n",
    "feature_cols = [\n",
    "    'shopUserId','orderId','created','sku','quantity','unit_price','line_value',\n",
    "    'pos_in_order','lines_so_far','qty_so_far','value_so_far'\n",
    "]\n",
    "feature_cols = [c for c in feature_cols if c in txL.columns]\n",
    "dataset_lines = txL[feature_cols]\n",
    "\n",
    "print(dataset_lines.head(10).to_string(index=False))\n"
   ]
  },
  {
   "cell_type": "code",
   "execution_count": null,
   "id": "28841c2f",
   "metadata": {},
   "outputs": [],
   "source": []
  },
  {
   "cell_type": "code",
   "execution_count": null,
   "id": "ffdee096",
   "metadata": {},
   "outputs": [],
   "source": []
  },
  {
   "cell_type": "code",
   "execution_count": null,
   "id": "8f7d586e",
   "metadata": {},
   "outputs": [],
   "source": []
  },
  {
   "cell_type": "code",
   "execution_count": null,
   "id": "f9969a5d",
   "metadata": {},
   "outputs": [],
   "source": []
  },
  {
   "cell_type": "code",
   "execution_count": null,
   "id": "79ab1f2d",
   "metadata": {},
   "outputs": [],
   "source": []
  },
  {
   "cell_type": "code",
   "execution_count": null,
   "id": "27bf586b",
   "metadata": {},
   "outputs": [],
   "source": []
  },
  {
   "cell_type": "code",
   "execution_count": null,
   "id": "e9e6f776",
   "metadata": {},
   "outputs": [],
   "source": []
  },
  {
   "cell_type": "code",
   "execution_count": null,
   "id": "573cc82f",
   "metadata": {},
   "outputs": [],
   "source": []
  },
  {
   "cell_type": "code",
   "execution_count": null,
   "metadata": {},
   "outputs": [],
   "source": []
  },
  {
   "cell_type": "code",
   "execution_count": 81,
   "id": "0eae7969",
   "metadata": {},
   "outputs": [
    {
     "ename": "KeyboardInterrupt",
     "evalue": "",
     "output_type": "error",
     "traceback": [
      "\u001b[0;31m---------------------------------------------------------------------------\u001b[0m",
      "\u001b[0;31mKeyboardInterrupt\u001b[0m                         Traceback (most recent call last)",
      "Cell \u001b[0;32mIn[81], line 28\u001b[0m\n\u001b[1;32m     25\u001b[0m \u001b[38;5;66;03m# leakage-safe left-exclusive EWMA of basket_value\u001b[39;00m\n\u001b[1;32m     26\u001b[0m alpha \u001b[38;5;241m=\u001b[39m \u001b[38;5;241m0.30\u001b[39m\n\u001b[1;32m     27\u001b[0m orders[\u001b[38;5;124m'\u001b[39m\u001b[38;5;124muser_avg_basket_value\u001b[39m\u001b[38;5;124m'\u001b[39m] \u001b[38;5;241m=\u001b[39m (\n\u001b[0;32m---> 28\u001b[0m     \u001b[43morders\u001b[49m\u001b[38;5;241;43m.\u001b[39;49m\u001b[43mgroupby\u001b[49m\u001b[43m(\u001b[49m\u001b[38;5;124;43m'\u001b[39;49m\u001b[38;5;124;43mshopUserId\u001b[39;49m\u001b[38;5;124;43m'\u001b[39;49m\u001b[43m)\u001b[49m\u001b[43m[\u001b[49m\u001b[38;5;124;43m'\u001b[39;49m\u001b[38;5;124;43mbasket_value\u001b[39;49m\u001b[38;5;124;43m'\u001b[39;49m\u001b[43m]\u001b[49m\n\u001b[1;32m     29\u001b[0m \u001b[43m          \u001b[49m\u001b[38;5;241;43m.\u001b[39;49m\u001b[43mapply\u001b[49m\u001b[43m(\u001b[49m\u001b[38;5;28;43;01mlambda\u001b[39;49;00m\u001b[43m \u001b[49m\u001b[43ms\u001b[49m\u001b[43m:\u001b[49m\u001b[43m \u001b[49m\u001b[43ms\u001b[49m\u001b[38;5;241;43m.\u001b[39;49m\u001b[43mshift\u001b[49m\u001b[43m(\u001b[49m\u001b[38;5;241;43m1\u001b[39;49m\u001b[43m)\u001b[49m\u001b[38;5;241;43m.\u001b[39;49m\u001b[43mastype\u001b[49m\u001b[43m(\u001b[49m\u001b[38;5;28;43mfloat\u001b[39;49m\u001b[43m)\u001b[49m\u001b[38;5;241;43m.\u001b[39;49m\u001b[43mewm\u001b[49m\u001b[43m(\u001b[49m\u001b[43malpha\u001b[49m\u001b[38;5;241;43m=\u001b[39;49m\u001b[43malpha\u001b[49m\u001b[43m,\u001b[49m\u001b[43m \u001b[49m\u001b[43madjust\u001b[49m\u001b[38;5;241;43m=\u001b[39;49m\u001b[38;5;28;43;01mFalse\u001b[39;49;00m\u001b[43m)\u001b[49m\u001b[38;5;241;43m.\u001b[39;49m\u001b[43mmean\u001b[49m\u001b[43m(\u001b[49m\u001b[43m)\u001b[49m\u001b[43m)\u001b[49m\n\u001b[1;32m     30\u001b[0m           \u001b[38;5;241m.\u001b[39mfillna(\u001b[38;5;241m0.0\u001b[39m)\n\u001b[1;32m     31\u001b[0m )\n\u001b[1;32m     33\u001b[0m \u001b[38;5;66;03m# --- Merge minimal order context back to lines for ranking ---\u001b[39;00m\n\u001b[1;32m     34\u001b[0m \u001b[38;5;66;03m# ensure base line features exist\u001b[39;00m\n\u001b[1;32m     35\u001b[0m \u001b[38;5;28;01mif\u001b[39;00m \u001b[38;5;124m'\u001b[39m\u001b[38;5;124mline_value\u001b[39m\u001b[38;5;124m'\u001b[39m \u001b[38;5;129;01mnot\u001b[39;00m \u001b[38;5;129;01min\u001b[39;00m tx\u001b[38;5;241m.\u001b[39mcolumns:\n",
      "File \u001b[0;32m/usr/local/lib/python3.9/site-packages/pandas/core/groupby/generic.py:230\u001b[0m, in \u001b[0;36mSeriesGroupBy.apply\u001b[0;34m(self, func, *args, **kwargs)\u001b[0m\n\u001b[1;32m    224\u001b[0m \u001b[38;5;129m@Appender\u001b[39m(\n\u001b[1;32m    225\u001b[0m     _apply_docs[\u001b[38;5;124m\"\u001b[39m\u001b[38;5;124mtemplate\u001b[39m\u001b[38;5;124m\"\u001b[39m]\u001b[38;5;241m.\u001b[39mformat(\n\u001b[1;32m    226\u001b[0m         \u001b[38;5;28minput\u001b[39m\u001b[38;5;241m=\u001b[39m\u001b[38;5;124m\"\u001b[39m\u001b[38;5;124mseries\u001b[39m\u001b[38;5;124m\"\u001b[39m, examples\u001b[38;5;241m=\u001b[39m_apply_docs[\u001b[38;5;124m\"\u001b[39m\u001b[38;5;124mseries_examples\u001b[39m\u001b[38;5;124m\"\u001b[39m]\n\u001b[1;32m    227\u001b[0m     )\n\u001b[1;32m    228\u001b[0m )\n\u001b[1;32m    229\u001b[0m \u001b[38;5;28;01mdef\u001b[39;00m\u001b[38;5;250m \u001b[39m\u001b[38;5;21mapply\u001b[39m(\u001b[38;5;28mself\u001b[39m, func, \u001b[38;5;241m*\u001b[39margs, \u001b[38;5;241m*\u001b[39m\u001b[38;5;241m*\u001b[39mkwargs) \u001b[38;5;241m-\u001b[39m\u001b[38;5;241m>\u001b[39m Series:\n\u001b[0;32m--> 230\u001b[0m     \u001b[38;5;28;01mreturn\u001b[39;00m \u001b[38;5;28;43msuper\u001b[39;49m\u001b[43m(\u001b[49m\u001b[43m)\u001b[49m\u001b[38;5;241;43m.\u001b[39;49m\u001b[43mapply\u001b[49m\u001b[43m(\u001b[49m\u001b[43mfunc\u001b[49m\u001b[43m,\u001b[49m\u001b[43m \u001b[49m\u001b[38;5;241;43m*\u001b[39;49m\u001b[43margs\u001b[49m\u001b[43m,\u001b[49m\u001b[43m \u001b[49m\u001b[38;5;241;43m*\u001b[39;49m\u001b[38;5;241;43m*\u001b[39;49m\u001b[43mkwargs\u001b[49m\u001b[43m)\u001b[49m\n",
      "File \u001b[0;32m/usr/local/lib/python3.9/site-packages/pandas/core/groupby/groupby.py:1825\u001b[0m, in \u001b[0;36mGroupBy.apply\u001b[0;34m(self, func, include_groups, *args, **kwargs)\u001b[0m\n\u001b[1;32m   1823\u001b[0m \u001b[38;5;28;01mwith\u001b[39;00m option_context(\u001b[38;5;124m\"\u001b[39m\u001b[38;5;124mmode.chained_assignment\u001b[39m\u001b[38;5;124m\"\u001b[39m, \u001b[38;5;28;01mNone\u001b[39;00m):\n\u001b[1;32m   1824\u001b[0m     \u001b[38;5;28;01mtry\u001b[39;00m:\n\u001b[0;32m-> 1825\u001b[0m         result \u001b[38;5;241m=\u001b[39m \u001b[38;5;28;43mself\u001b[39;49m\u001b[38;5;241;43m.\u001b[39;49m\u001b[43m_python_apply_general\u001b[49m\u001b[43m(\u001b[49m\u001b[43mf\u001b[49m\u001b[43m,\u001b[49m\u001b[43m \u001b[49m\u001b[38;5;28;43mself\u001b[39;49m\u001b[38;5;241;43m.\u001b[39;49m\u001b[43m_selected_obj\u001b[49m\u001b[43m)\u001b[49m\n\u001b[1;32m   1826\u001b[0m         \u001b[38;5;28;01mif\u001b[39;00m (\n\u001b[1;32m   1827\u001b[0m             \u001b[38;5;129;01mnot\u001b[39;00m \u001b[38;5;28misinstance\u001b[39m(\u001b[38;5;28mself\u001b[39m\u001b[38;5;241m.\u001b[39mobj, Series)\n\u001b[1;32m   1828\u001b[0m             \u001b[38;5;129;01mand\u001b[39;00m \u001b[38;5;28mself\u001b[39m\u001b[38;5;241m.\u001b[39m_selection \u001b[38;5;129;01mis\u001b[39;00m \u001b[38;5;28;01mNone\u001b[39;00m\n\u001b[1;32m   1829\u001b[0m             \u001b[38;5;129;01mand\u001b[39;00m \u001b[38;5;28mself\u001b[39m\u001b[38;5;241m.\u001b[39m_selected_obj\u001b[38;5;241m.\u001b[39mshape \u001b[38;5;241m!=\u001b[39m \u001b[38;5;28mself\u001b[39m\u001b[38;5;241m.\u001b[39m_obj_with_exclusions\u001b[38;5;241m.\u001b[39mshape\n\u001b[1;32m   1830\u001b[0m         ):\n\u001b[1;32m   1831\u001b[0m             warnings\u001b[38;5;241m.\u001b[39mwarn(\n\u001b[1;32m   1832\u001b[0m                 message\u001b[38;5;241m=\u001b[39m_apply_groupings_depr\u001b[38;5;241m.\u001b[39mformat(\n\u001b[1;32m   1833\u001b[0m                     \u001b[38;5;28mtype\u001b[39m(\u001b[38;5;28mself\u001b[39m)\u001b[38;5;241m.\u001b[39m\u001b[38;5;18m__name__\u001b[39m, \u001b[38;5;124m\"\u001b[39m\u001b[38;5;124mapply\u001b[39m\u001b[38;5;124m\"\u001b[39m\n\u001b[0;32m   (...)\u001b[0m\n\u001b[1;32m   1836\u001b[0m                 stacklevel\u001b[38;5;241m=\u001b[39mfind_stack_level(),\n\u001b[1;32m   1837\u001b[0m             )\n",
      "File \u001b[0;32m/usr/local/lib/python3.9/site-packages/pandas/core/groupby/groupby.py:1886\u001b[0m, in \u001b[0;36mGroupBy._python_apply_general\u001b[0;34m(self, f, data, not_indexed_same, is_transform, is_agg)\u001b[0m\n\u001b[1;32m   1851\u001b[0m \u001b[38;5;129m@final\u001b[39m\n\u001b[1;32m   1852\u001b[0m \u001b[38;5;28;01mdef\u001b[39;00m\u001b[38;5;250m \u001b[39m\u001b[38;5;21m_python_apply_general\u001b[39m(\n\u001b[1;32m   1853\u001b[0m     \u001b[38;5;28mself\u001b[39m,\n\u001b[0;32m   (...)\u001b[0m\n\u001b[1;32m   1858\u001b[0m     is_agg: \u001b[38;5;28mbool\u001b[39m \u001b[38;5;241m=\u001b[39m \u001b[38;5;28;01mFalse\u001b[39;00m,\n\u001b[1;32m   1859\u001b[0m ) \u001b[38;5;241m-\u001b[39m\u001b[38;5;241m>\u001b[39m NDFrameT:\n\u001b[1;32m   1860\u001b[0m \u001b[38;5;250m    \u001b[39m\u001b[38;5;124;03m\"\"\"\u001b[39;00m\n\u001b[1;32m   1861\u001b[0m \u001b[38;5;124;03m    Apply function f in python space\u001b[39;00m\n\u001b[1;32m   1862\u001b[0m \n\u001b[0;32m   (...)\u001b[0m\n\u001b[1;32m   1884\u001b[0m \u001b[38;5;124;03m        data after applying f\u001b[39;00m\n\u001b[1;32m   1885\u001b[0m \u001b[38;5;124;03m    \"\"\"\u001b[39;00m\n\u001b[0;32m-> 1886\u001b[0m     values, mutated \u001b[38;5;241m=\u001b[39m \u001b[38;5;28;43mself\u001b[39;49m\u001b[38;5;241;43m.\u001b[39;49m\u001b[43m_grouper\u001b[49m\u001b[38;5;241;43m.\u001b[39;49m\u001b[43mapply_groupwise\u001b[49m\u001b[43m(\u001b[49m\u001b[43mf\u001b[49m\u001b[43m,\u001b[49m\u001b[43m \u001b[49m\u001b[43mdata\u001b[49m\u001b[43m,\u001b[49m\u001b[43m \u001b[49m\u001b[38;5;28;43mself\u001b[39;49m\u001b[38;5;241;43m.\u001b[39;49m\u001b[43maxis\u001b[49m\u001b[43m)\u001b[49m\n\u001b[1;32m   1887\u001b[0m     \u001b[38;5;28;01mif\u001b[39;00m not_indexed_same \u001b[38;5;129;01mis\u001b[39;00m \u001b[38;5;28;01mNone\u001b[39;00m:\n\u001b[1;32m   1888\u001b[0m         not_indexed_same \u001b[38;5;241m=\u001b[39m mutated\n",
      "File \u001b[0;32m/usr/local/lib/python3.9/site-packages/pandas/core/groupby/ops.py:909\u001b[0m, in \u001b[0;36mBaseGrouper.apply_groupwise\u001b[0;34m(self, f, data, axis)\u001b[0m\n\u001b[1;32m    906\u001b[0m \u001b[38;5;66;03m# This calls DataSplitter.__iter__\u001b[39;00m\n\u001b[1;32m    907\u001b[0m zipped \u001b[38;5;241m=\u001b[39m \u001b[38;5;28mzip\u001b[39m(group_keys, splitter)\n\u001b[0;32m--> 909\u001b[0m \u001b[38;5;28;01mfor\u001b[39;00m key, group \u001b[38;5;129;01min\u001b[39;00m zipped:\n\u001b[1;32m    910\u001b[0m     \u001b[38;5;66;03m# Pinning name is needed for\u001b[39;00m\n\u001b[1;32m    911\u001b[0m     \u001b[38;5;66;03m#  test_group_apply_once_per_group,\u001b[39;00m\n\u001b[1;32m    912\u001b[0m     \u001b[38;5;66;03m#  test_inconsistent_return_type, test_set_group_name,\u001b[39;00m\n\u001b[1;32m    913\u001b[0m     \u001b[38;5;66;03m#  test_group_name_available_in_inference_pass,\u001b[39;00m\n\u001b[1;32m    914\u001b[0m     \u001b[38;5;66;03m#  test_groupby_multi_timezone\u001b[39;00m\n\u001b[1;32m    915\u001b[0m     \u001b[38;5;28mobject\u001b[39m\u001b[38;5;241m.\u001b[39m\u001b[38;5;21m__setattr__\u001b[39m(group, \u001b[38;5;124m\"\u001b[39m\u001b[38;5;124mname\u001b[39m\u001b[38;5;124m\"\u001b[39m, key)\n\u001b[1;32m    917\u001b[0m     \u001b[38;5;66;03m# group might be modified\u001b[39;00m\n",
      "File \u001b[0;32m/usr/local/lib/python3.9/site-packages/pandas/core/groupby/ops.py:1160\u001b[0m, in \u001b[0;36mDataSplitter.__iter__\u001b[0;34m(self)\u001b[0m\n\u001b[1;32m   1157\u001b[0m starts, ends \u001b[38;5;241m=\u001b[39m lib\u001b[38;5;241m.\u001b[39mgenerate_slices(\u001b[38;5;28mself\u001b[39m\u001b[38;5;241m.\u001b[39m_slabels, \u001b[38;5;28mself\u001b[39m\u001b[38;5;241m.\u001b[39mngroups)\n\u001b[1;32m   1159\u001b[0m \u001b[38;5;28;01mfor\u001b[39;00m start, end \u001b[38;5;129;01min\u001b[39;00m \u001b[38;5;28mzip\u001b[39m(starts, ends):\n\u001b[0;32m-> 1160\u001b[0m     \u001b[38;5;28;01myield\u001b[39;00m \u001b[38;5;28;43mself\u001b[39;49m\u001b[38;5;241;43m.\u001b[39;49m\u001b[43m_chop\u001b[49m\u001b[43m(\u001b[49m\u001b[43msdata\u001b[49m\u001b[43m,\u001b[49m\u001b[43m \u001b[49m\u001b[38;5;28;43mslice\u001b[39;49m\u001b[43m(\u001b[49m\u001b[43mstart\u001b[49m\u001b[43m,\u001b[49m\u001b[43m \u001b[49m\u001b[43mend\u001b[49m\u001b[43m)\u001b[49m\u001b[43m)\u001b[49m\n",
      "File \u001b[0;32m/usr/local/lib/python3.9/site-packages/pandas/core/groupby/ops.py:1173\u001b[0m, in \u001b[0;36mSeriesSplitter._chop\u001b[0;34m(self, sdata, slice_obj)\u001b[0m\n\u001b[1;32m   1171\u001b[0m \u001b[38;5;28;01mdef\u001b[39;00m\u001b[38;5;250m \u001b[39m\u001b[38;5;21m_chop\u001b[39m(\u001b[38;5;28mself\u001b[39m, sdata: Series, slice_obj: \u001b[38;5;28mslice\u001b[39m) \u001b[38;5;241m-\u001b[39m\u001b[38;5;241m>\u001b[39m Series:\n\u001b[1;32m   1172\u001b[0m     \u001b[38;5;66;03m# fastpath equivalent to `sdata.iloc[slice_obj]`\u001b[39;00m\n\u001b[0;32m-> 1173\u001b[0m     mgr \u001b[38;5;241m=\u001b[39m \u001b[43msdata\u001b[49m\u001b[38;5;241;43m.\u001b[39;49m\u001b[43m_mgr\u001b[49m\u001b[38;5;241;43m.\u001b[39;49m\u001b[43mget_slice\u001b[49m\u001b[43m(\u001b[49m\u001b[43mslice_obj\u001b[49m\u001b[43m)\u001b[49m\n\u001b[1;32m   1174\u001b[0m     ser \u001b[38;5;241m=\u001b[39m sdata\u001b[38;5;241m.\u001b[39m_constructor_from_mgr(mgr, axes\u001b[38;5;241m=\u001b[39mmgr\u001b[38;5;241m.\u001b[39maxes)\n\u001b[1;32m   1175\u001b[0m     ser\u001b[38;5;241m.\u001b[39m_name \u001b[38;5;241m=\u001b[39m sdata\u001b[38;5;241m.\u001b[39mname\n",
      "File \u001b[0;32m/usr/local/lib/python3.9/site-packages/pandas/core/internals/managers.py:1987\u001b[0m, in \u001b[0;36mSingleBlockManager.get_slice\u001b[0;34m(self, slobj, axis)\u001b[0m\n\u001b[1;32m   1985\u001b[0m block \u001b[38;5;241m=\u001b[39m \u001b[38;5;28mtype\u001b[39m(blk)(array, placement\u001b[38;5;241m=\u001b[39mbp, ndim\u001b[38;5;241m=\u001b[39m\u001b[38;5;241m1\u001b[39m, refs\u001b[38;5;241m=\u001b[39mblk\u001b[38;5;241m.\u001b[39mrefs)\n\u001b[1;32m   1986\u001b[0m new_index \u001b[38;5;241m=\u001b[39m \u001b[38;5;28mself\u001b[39m\u001b[38;5;241m.\u001b[39mindex\u001b[38;5;241m.\u001b[39m_getitem_slice(slobj)\n\u001b[0;32m-> 1987\u001b[0m \u001b[38;5;28;01mreturn\u001b[39;00m \u001b[38;5;28;43mtype\u001b[39;49m\u001b[43m(\u001b[49m\u001b[38;5;28;43mself\u001b[39;49m\u001b[43m)\u001b[49m\u001b[43m(\u001b[49m\u001b[43mblock\u001b[49m\u001b[43m,\u001b[49m\u001b[43m \u001b[49m\u001b[43mnew_index\u001b[49m\u001b[43m)\u001b[49m\n",
      "File \u001b[0;32m/usr/local/lib/python3.9/site-packages/pandas/core/internals/managers.py:1837\u001b[0m, in \u001b[0;36mSingleBlockManager.__init__\u001b[0;34m(self, block, axis, verify_integrity)\u001b[0m\n\u001b[1;32m   1834\u001b[0m \u001b[38;5;18m__slots__\u001b[39m \u001b[38;5;241m=\u001b[39m ()\n\u001b[1;32m   1835\u001b[0m is_single_block \u001b[38;5;241m=\u001b[39m \u001b[38;5;28;01mTrue\u001b[39;00m\n\u001b[0;32m-> 1837\u001b[0m \u001b[38;5;28;01mdef\u001b[39;00m\u001b[38;5;250m \u001b[39m\u001b[38;5;21m__init__\u001b[39m(\n\u001b[1;32m   1838\u001b[0m     \u001b[38;5;28mself\u001b[39m,\n\u001b[1;32m   1839\u001b[0m     block: Block,\n\u001b[1;32m   1840\u001b[0m     axis: Index,\n\u001b[1;32m   1841\u001b[0m     verify_integrity: \u001b[38;5;28mbool\u001b[39m \u001b[38;5;241m=\u001b[39m \u001b[38;5;28;01mFalse\u001b[39;00m,\n\u001b[1;32m   1842\u001b[0m ) \u001b[38;5;241m-\u001b[39m\u001b[38;5;241m>\u001b[39m \u001b[38;5;28;01mNone\u001b[39;00m:\n\u001b[1;32m   1843\u001b[0m     \u001b[38;5;66;03m# Assertions disabled for performance\u001b[39;00m\n\u001b[1;32m   1844\u001b[0m     \u001b[38;5;66;03m# assert isinstance(block, Block), type(block)\u001b[39;00m\n\u001b[1;32m   1845\u001b[0m     \u001b[38;5;66;03m# assert isinstance(axis, Index), type(axis)\u001b[39;00m\n\u001b[1;32m   1847\u001b[0m     \u001b[38;5;28mself\u001b[39m\u001b[38;5;241m.\u001b[39maxes \u001b[38;5;241m=\u001b[39m [axis]\n\u001b[1;32m   1848\u001b[0m     \u001b[38;5;28mself\u001b[39m\u001b[38;5;241m.\u001b[39mblocks \u001b[38;5;241m=\u001b[39m (block,)\n",
      "\u001b[0;31mKeyboardInterrupt\u001b[0m: "
     ]
    }
   ],
   "source": [
    "import numpy as np\n",
    "import pandas as pd\n",
    "\n",
    "# --- Recompute per-user history on cleaned `orders` ---\n",
    "orders = orders.sort_values(['shopUserId','order_created','orderId']).copy()\n",
    "\n",
    "# break exact timestamp ties so 0-gaps aren’t artifacts\n",
    "tb = orders.groupby(['shopUserId','order_created']).cumcount()\n",
    "orders['order_created_adj'] = pd.to_datetime(orders['order_created'], errors='coerce') + pd.to_timedelta(tb, unit='s')\n",
    "\n",
    "# past orders (0 for first), recency (sec)\n",
    "orders['user_past_orders'] = orders.groupby('shopUserId').cumcount().astype('Int32')\n",
    "orders['user_recency_sec'] = (orders.groupby('shopUserId')['order_created_adj']\n",
    "                              .diff().dt.total_seconds().fillna(-1))\n",
    "\n",
    "# recency -> hours, cap at p99, log1p\n",
    "rec_h = orders['user_recency_sec'].clip(lower=0) / 3600.0\n",
    "cap_h = np.nanpercentile(rec_h[rec_h.notna()], 99) if rec_h.notna().any() else 0.0\n",
    "orders['user_recency_hours'] = np.clip(rec_h, 0, cap_h)\n",
    "orders['user_recency_log']   = np.log1p(orders['user_recency_hours'])\n",
    "\n",
    "# stabilized past order count\n",
    "orders['user_past_orders_log'] = np.log1p(orders['user_past_orders'])\n",
    "\n",
    "# leakage-safe left-exclusive EWMA of basket_value\n",
    "alpha = 0.30\n",
    "orders['user_avg_basket_value'] = (\n",
    "    orders.groupby('shopUserId')['basket_value']\n",
    "          .apply(lambda s: s.shift(1).astype(float).ewm(alpha=alpha, adjust=False).mean())\n",
    "          .fillna(0.0)\n",
    ")\n",
    "\n",
    "# --- Merge minimal order context back to lines for ranking ---\n",
    "# ensure base line features exist\n",
    "if 'line_value' not in tx.columns:\n",
    "    tx['line_value'] = pd.to_numeric(tx['price'], errors='coerce') * pd.to_numeric(tx['quantity'], errors='coerce')\n",
    "if 'unit_price' not in tx.columns:\n",
    "    tx['unit_price'] = pd.to_numeric(tx['price'], errors='coerce')\n",
    "\n",
    "tx = tx.merge(\n",
    "    orders[['shopUserId','orderId','order_created','basket_value',\n",
    "            'user_past_orders','user_past_orders_log',\n",
    "            'user_recency_hours','user_recency_log','user_avg_basket_value']],\n",
    "    on=['shopUserId','orderId'], how='left'\n",
    ")\n",
    "\n",
    "# --- Leave-one-line-out basket context (quantity-weighted) ---\n",
    "g = tx.groupby('orderId', dropna=False)\n",
    "sum_val = g['line_value'].transform('sum')\n",
    "sum_qty = g['quantity'].transform('sum')\n",
    "n_lines = g['sku'].transform('size')\n",
    "\n",
    "tx['basket_num_lines_excl']   = (n_lines - 1).clip(lower=0)\n",
    "tx['basket_total_value_excl'] = (sum_val - tx['line_value']).fillna(0.0)\n",
    "tx['basket_total_qty_excl']   = (sum_qty - tx['quantity']).fillna(0)\n",
    "\n",
    "# quantity-weighted avg unit price of *other* lines\n",
    "den = tx['basket_total_qty_excl'].replace(0, np.nan)\n",
    "tx['basket_avg_unit_price_excl'] = (tx['basket_total_value_excl'] / den).fillna(0.0)\n",
    "\n",
    "# --- Time/context features ---\n",
    "oc = pd.to_datetime(tx['order_created'], errors='coerce')\n",
    "tx['year']      = oc.dt.year.astype('Int16')\n",
    "tx['week']      = oc.dt.isocalendar().week.astype('Int16')\n",
    "tx['hour']      = oc.dt.hour.astype('Int16')\n",
    "tx['dayofweek'] = oc.dt.dayofweek.astype('Int8')\n",
    "tx['is_weekend']= tx['dayofweek'].isin([5,6]).astype('Int8')\n",
    "tx['month']     = oc.dt.month.astype('Int8')\n",
    "tx['quarter']   = oc.dt.quarter.astype('Int8')\n",
    "\n",
    "# cyclical encodings\n",
    "tx['hour_sin'] = np.sin(2*np.pi*tx['hour']/24);   tx['hour_cos'] = np.cos(2*np.pi*tx['hour']/24)\n",
    "tx['dow_sin']  = np.sin(2*np.pi*tx['dayofweek']/7); tx['dow_cos']  = np.cos(2*np.pi*tx['dayofweek']/7)\n",
    "\n",
    "# activity flags (based on capped recency)\n",
    "tx['active_30d'] = (tx['user_recency_hours'] <= 30*24).astype('Int8')\n",
    "tx['active_90d'] = (tx['user_recency_hours'] <= 90*24).astype('Int8')"
   ]
  },
  {
   "cell_type": "markdown",
   "id": "91de4a3d",
   "metadata": {},
   "source": [
    "Goal: Create one row per user–item interaction (the “positive” examples), with the user’s context at that time."
   ]
  },
  {
   "cell_type": "code",
   "execution_count": null,
   "id": "223528d6",
   "metadata": {},
   "outputs": [],
   "source": [
    "import pandas as pd\n",
    "import numpy as np\n",
    "\n",
    "# --- minimal guards so .dt works ---\n",
    "tx['created'] = pd.to_datetime(tx['created'], errors='coerce')   # ensure created is datetime\n",
    "\n",
    "# Ensure order_created/year/week exist\n",
    "if 'order_created' not in tx.columns:\n",
    "    oc = (tx.groupby(['shopUserId','orderId'], as_index=False)['created']\n",
    "            .min()\n",
    "            .rename(columns={'created':'order_created'}))\n",
    "    tx = tx.merge(oc, on=['shopUserId','orderId'], how='left')\n",
    "\n",
    "tx['order_created'] = pd.to_datetime(tx['order_created'], errors='coerce')  # <-- make datetime\n",
    "\n",
    "if 'year' not in tx.columns or 'week' not in tx.columns:\n",
    "    tx['year'] = tx['order_created'].dt.year\n",
    "    tx['week'] = tx['order_created'].dt.isocalendar().week.astype(int)  # week number only\n",
    "\n",
    "# POSITIVES: one row per (user, order, sku) with compact context\n",
    "pos = (tx.groupby(['shopUserId','orderId','sku','year','week','order_created',\n",
    "                   'hour','dayofweek','is_weekend','month','quarter',\n",
    "                   'user_past_orders','user_recency_log','user_avg_basket_value'],\n",
    "                  as_index=False)\n",
    "         .agg(quantity=('quantity','sum'),\n",
    "              price=('price','mean'),\n",
    "              line_value=('line_value','sum'),\n",
    "              unit_price=('unit_price','mean'),\n",
    "              basket_total_value_excl=('basket_total_value_excl','mean'),\n",
    "              basket_total_qty_excl=('basket_total_qty_excl','mean'),\n",
    "              basket_num_lines_excl=('basket_num_lines_excl','mean'),\n",
    "              basket_avg_unit_price_excl=('basket_avg_unit_price_excl','mean')))\n",
    "pos['label'] = 1\n",
    "\n",
    "# Weekly context per user (latest order in that week)\n",
    "pos['user_week_key'] = (pos['shopUserId'].astype(str) + '|' +\n",
    "                        pos['year'].astype(str) + '|' +\n",
    "                        pos['week'].astype(str))\n",
    "\n",
    "uw_context = (pos.sort_values(['shopUserId','year','week','order_created'])\n",
    "                .groupby(['shopUserId','year','week','user_week_key'], as_index=False)\n",
    "                .tail(1)[['shopUserId','year','week','user_week_key','order_created',\n",
    "                          'hour','dayofweek','is_weekend','month','quarter',\n",
    "                          'user_past_orders','user_recency_log','user_avg_basket_value']])\n"
   ]
  },
  {
   "cell_type": "code",
   "execution_count": null,
   "id": "fea71f4e",
   "metadata": {},
   "outputs": [],
   "source": [
    "import pandas as pd, numpy as np\n",
    "\n",
    "# Popular SKUs pool (simple candidate generator)\n",
    "TOP_K = 50  # try 50/100 if you want\n",
    "top_skus = (tx.groupby('sku')['orderId'].nunique()\n",
    "              .sort_values(ascending=False)\n",
    "              .head(TOP_K).index)\n",
    "\n",
    "# Cross-join (user-week) × (top_skus), drop positives, then sample\n",
    "user_weeks = pos[['shopUserId','year','week','user_week_key']].drop_duplicates()\n",
    "neg_pool = (user_weeks.assign(key=1)\n",
    "            .merge(pd.DataFrame({'sku': top_skus, 'key':1}), on='key', how='left')\n",
    "            .drop('key', axis=1))\n",
    "neg_pool = neg_pool.merge(pos[['user_week_key','sku']].drop_duplicates().assign(pos=1),\n",
    "                          on=['user_week_key','sku'], how='left')\n",
    "neg_pool = neg_pool[neg_pool['pos'].isna()].drop(columns='pos')\n",
    "\n",
    "# k negatives per positive (per user-week)\n",
    "k = 5\n",
    "n_pos = pos.groupby('user_week_key').size().rename('n_pos')\n",
    "neg_pool = neg_pool.merge(n_pos, on='user_week_key', how='left')\n",
    "rng = np.random.default_rng(42)\n",
    "neg_pool = (neg_pool.assign(rand=rng.random(len(neg_pool)))\n",
    "                   .sort_values(['user_week_key','rand'])\n",
    "                   .groupby('user_week_key', group_keys=False)\n",
    "                   .apply(lambda g: g.head(int(g['n_pos'].iloc[0] * k)))\n",
    "                   .drop(columns=['rand','n_pos']))\n",
    "\n",
    "# Attach weekly context; fill item/basket with neutral values\n",
    "negs = (neg_pool.merge(uw_context, on=['shopUserId','year','week','user_week_key'], how='left')\n",
    "               .assign(orderId=np.nan, quantity=0, price=0.0, line_value=0.0, unit_price=0.0,\n",
    "                       basket_total_value_excl=0.0, basket_total_qty_excl=0.0,\n",
    "                       basket_num_lines_excl=0.0, basket_avg_unit_price_excl=0.0, label=0))\n",
    "\n",
    "# Final UI training frame (keep keys for joins; drop before model.fit if desired)\n",
    "cols = ['shopUserId','sku','orderId','order_created','hour','dayofweek','is_weekend','month','quarter',\n",
    "        'user_past_orders','user_recency_log','user_avg_basket_value',\n",
    "        'quantity','price','line_value','unit_price',\n",
    "        'basket_total_value_excl','basket_total_qty_excl','basket_num_lines_excl','basket_avg_unit_price_excl',\n",
    "        'year','week','user_week_key','label']\n",
    "ui_train = (pd.concat([pos[cols], negs[cols]], ignore_index=True)\n",
    "              .sample(frac=1.0, random_state=42)\n",
    "              .reset_index(drop=True))\n",
    "\n",
    "print(ui_train.shape, ui_train['label'].value_counts())"
   ]
  },
  {
   "cell_type": "code",
   "execution_count": null,
   "id": "9039d3ba",
   "metadata": {},
   "outputs": [],
   "source": [
    "\n",
    "from IPython.display import display, HTML\n",
    "display(HTML('<div style=\"overflow-x:auto\">' + ui_train.head(3).to_html() + '</div>'))\n"
   ]
  },
  {
   "cell_type": "code",
   "execution_count": null,
   "id": "03d9f0ee",
   "metadata": {},
   "outputs": [],
   "source": [
    "ui_train.drop(columns=['orderId', \"order_created\"], inplace=True)"
   ]
  },
  {
   "cell_type": "code",
   "execution_count": null,
   "id": "5d677730",
   "metadata": {},
   "outputs": [],
   "source": [
    "import pandas as pd\n",
    "\n",
    "# Load & normalize keys\n",
    "articles = pd.read_csv(\"../data/processed/articles_clean.csv\", dtype=str)\n",
    "articles['sku'] = articles['sku'].str.strip()\n",
    "\n",
    "# Normalize categoryId (take primary before any comma)\n",
    "articles['categoryId_primary'] = articles['categoryId'].str.split(',').str[0].str.strip()\n",
    "\n",
    "# Select columns and dedupe to 1 row/sku\n",
    "use_cols = ['sku','brandId','categoryId_primary','colorId','audienceId','name','status']\n",
    "articles = articles[use_cols].drop_duplicates('sku', keep='last')\n",
    "\n",
    "# Merge into ui_train\n",
    "ui_train['sku'] = ui_train['sku'].astype(str).str.strip()\n",
    "ui_train = ui_train.merge(articles, on='sku', how='left', validate='m:1')\n",
    "\n",
    "# LightGBM: mark categoricals\n",
    "for c in ['brandId','categoryId_primary','colorId','audienceId']:\n",
    "    ui_train[c] = ui_train[c].astype('category')\n",
    "\n",
    "# Keep `status` only for filtering active items at inference\n",
    "active_skus = set(ui_train.loc[ui_train['status'].str.lower()=='active','sku'])\n"
   ]
  },
  {
   "cell_type": "code",
   "execution_count": null,
   "id": "9523d4e3",
   "metadata": {},
   "outputs": [],
   "source": [
    "\n",
    "from IPython.display import display, HTML\n",
    "display(HTML('<div style=\"overflow-x:auto\">' + ui_train.head(3).to_html() + '</div>'))\n"
   ]
  },
  {
   "cell_type": "code",
   "execution_count": null,
   "id": "de68ce50",
   "metadata": {},
   "outputs": [],
   "source": [
    "\n",
    "# Load + normalize keys\n",
    "cust = pd.read_csv(\"../data/processed/customers_clean.csv\", dtype=\"string\")\n",
    "cust = cust.rename(columns={\"Gender\":\"gender\",\"Age\":\"age\"})\n",
    "cust[\"shopUserId\"] = cust[\"shopUserId\"].str.strip()\n",
    "ui_train[\"shopUserId\"] = ui_train[\"shopUserId\"].astype(str).str.strip()\n",
    "\n",
    "# Keep only one row per customer (avoid row explosion)\n",
    "cust = cust[[\"shopUserId\",\"invoiceCountryId\",\"gender\",\"age\"]].drop_duplicates(\"shopUserId\", keep=\"last\")\n",
    "\n",
    "# Merge (m:1 expected)\n",
    "ui_train = ui_train.merge(cust, on=\"shopUserId\", how=\"left\", validate=\"m:1\")\n",
    "\n",
    "# LightGBM-friendly dtypes / light cleaning\n",
    "ui_train[\"invoiceCountryId\"] = ui_train[\"invoiceCountryId\"].astype(\"category\")\n",
    "ui_train[\"gender\"] = (ui_train[\"gender\"].str.strip().str.lower()\n",
    "                      .map({\"female\":\"female\",\"male\":\"male\"}).fillna(\"unknown\").astype(\"category\"))\n",
    "ui_train[\"age\"] = (pd.to_numeric(ui_train[\"age\"], errors=\"coerce\")\n",
    "                   .clip(lower=0, upper=120).astype(\"Int16\"))\n",
    "\n",
    "# Fewer age buckets for trees/DNN\n",
    "ui_train[\"age_bucket\"] = pd.cut(\n",
    "    ui_train[\"age\"], \n",
    "    bins=[0,25,45,65,120],\n",
    "    labels=[\"<25\",\"25-44\",\"45-64\",\"65+\"]\n",
    ").astype(\"category\")\n",
    "\n",
    "# Fill missing age and age_bucket with special tokens\n",
    "ui_train[\"age\"] = ui_train[\"age\"].astype(\"object\").fillna(\"__UNK_AGE__\")\n",
    "ui_train[\"age_bucket\"] = ui_train[\"age_bucket\"].cat.add_categories([\"__UNK_AGEBUCKET__\"]).fillna(\"__UNK_AGEBUCKET__\").astype(\"category\")\n"
   ]
  },
  {
   "cell_type": "code",
   "execution_count": null,
   "id": "6d54b322",
   "metadata": {},
   "outputs": [],
   "source": [
    "\n",
    "from IPython.display import display, HTML\n",
    "display(HTML('<div style=\"overflow-x:auto\">' + ui_train.head(3).to_html() + '</div>'))\n"
   ]
  },
  {
   "cell_type": "code",
   "execution_count": null,
   "id": "084bdb56",
   "metadata": {},
   "outputs": [],
   "source": [
    "# Save the processed training data for later use\n",
    "# Work around ArrowTypeError for 'age' column by ensuring all values are strings\n",
    "ui_train_fixed = ui_train.copy()\n",
    "if \"age\" in ui_train_fixed.columns:\n",
    "    ui_train_fixed[\"age\"] = ui_train_fixed[\"age\"].astype(str)\n",
    "ui_train_fixed.to_parquet(\"../data/processed/ui_train.parquet\", index=False)\n"
   ]
  }
 ],
 "metadata": {
  "kernelspec": {
   "display_name": "Python (itcm Docker)",
   "language": "python",
   "name": "itcm"
  },
  "language_info": {
   "codemirror_mode": {
    "name": "ipython",
    "version": 3
   },
   "file_extension": ".py",
   "mimetype": "text/x-python",
   "name": "python",
   "nbconvert_exporter": "python",
   "pygments_lexer": "ipython3",
   "version": "3.9.23"
  }
 },
 "nbformat": 4,
 "nbformat_minor": 5
}
