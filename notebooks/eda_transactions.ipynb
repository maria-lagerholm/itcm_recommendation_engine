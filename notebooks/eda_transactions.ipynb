{
 "cells": [
  {
   "cell_type": "markdown",
   "id": "a461ec61",
   "metadata": {},
   "source": [
    "# First run eda_customers!"
   ]
  },
  {
   "cell_type": "code",
   "execution_count": 43,
   "id": "c1eb670a",
   "metadata": {},
   "outputs": [],
   "source": [
    "# How many rows are there in tx?\n",
    "\n",
    "import pandas as pd\n",
    "tx = pd.read_parquet(\"../data/processed/transactions_canonical.parquet\")\n",
    "a = pd.read_parquet(\"../data/processed/articles_clean.parquet\", columns=[\"sku\", \"groupId\", 'category', 'brand'])\n",
    "tx = tx.drop(columns=[\"invoiceEmail\", \"orderLineId\"], errors=\"ignore\")\n",
    "\n"
   ]
  },
  {
   "cell_type": "code",
   "execution_count": 44,
   "id": "d0760c6f",
   "metadata": {},
   "outputs": [
    {
     "name": "stdout",
     "output_type": "stream",
     "text": [
      "302219\n"
     ]
    }
   ],
   "source": [
    "print(len(tx))"
   ]
  },
  {
   "cell_type": "code",
   "execution_count": 45,
   "id": "cf3f21d4",
   "metadata": {},
   "outputs": [],
   "source": [
    "# ensure sku column names match in both frames; rename if needed\n",
    "# tx = tx.rename(columns={'articleSku':'sku'})  # example if needed\n",
    "\n",
    "cols = [\"groupId\", \"sku\", \"category\", \"brand\"]\n",
    "a_dedup = a[cols].drop_duplicates(subset=[\"groupId\", \"sku\"])\n",
    "\n",
    "tx = tx.merge(\n",
    "    a_dedup,\n",
    "    on=[\"groupId\", \"sku\"],\n",
    "    how=\"left\",\n",
    "    validate=\"many_to_one\"  # raises if a still has duplicate (groupId, sku)\n",
    ")\n"
   ]
  },
  {
   "cell_type": "code",
   "execution_count": 46,
   "id": "3877f27a",
   "metadata": {},
   "outputs": [
    {
     "name": "stdout",
     "output_type": "stream",
     "text": [
      "302219\n"
     ]
    }
   ],
   "source": [
    "print(len(tx))"
   ]
  },
  {
   "cell_type": "code",
   "execution_count": 47,
   "id": "1f460cc2",
   "metadata": {},
   "outputs": [
    {
     "data": {
      "text/plain": [
       "orderId                object\n",
       "shopUserId             object\n",
       "created                object\n",
       "currencyId             object\n",
       "sku                    object\n",
       "groupId                object\n",
       "quantity               object\n",
       "price                  object\n",
       "name                   object\n",
       "type                   object\n",
       "invoiceCity    string[python]\n",
       "category       string[python]\n",
       "brand          string[python]\n",
       "dtype: object"
      ]
     },
     "execution_count": 47,
     "metadata": {},
     "output_type": "execute_result"
    }
   ],
   "source": [
    "tx.dtypes\n"
   ]
  },
  {
   "cell_type": "code",
   "execution_count": 48,
   "id": "a3802951",
   "metadata": {},
   "outputs": [
    {
     "data": {
      "text/plain": [
       "orderId        0.000000\n",
       "shopUserId     0.000000\n",
       "created        0.000000\n",
       "currencyId     0.000000\n",
       "sku            0.000000\n",
       "groupId        0.000000\n",
       "quantity       0.000000\n",
       "price          0.000000\n",
       "name           0.000000\n",
       "type           0.000000\n",
       "invoiceCity    0.000000\n",
       "category       0.028234\n",
       "brand          0.028234\n",
       "dtype: float64"
      ]
     },
     "execution_count": 48,
     "metadata": {},
     "output_type": "execute_result"
    }
   ],
   "source": [
    "tx.isna().mean()"
   ]
  },
  {
   "cell_type": "code",
   "execution_count": 49,
   "id": "382cfd61",
   "metadata": {},
   "outputs": [
    {
     "data": {
      "text/html": [
       "<div>\n",
       "<style scoped>\n",
       "    .dataframe tbody tr th:only-of-type {\n",
       "        vertical-align: middle;\n",
       "    }\n",
       "\n",
       "    .dataframe tbody tr th {\n",
       "        vertical-align: top;\n",
       "    }\n",
       "\n",
       "    .dataframe thead th {\n",
       "        text-align: right;\n",
       "    }\n",
       "</style>\n",
       "<table border=\"1\" class=\"dataframe\">\n",
       "  <thead>\n",
       "    <tr style=\"text-align: right;\">\n",
       "      <th></th>\n",
       "      <th>orderId</th>\n",
       "      <th>shopUserId</th>\n",
       "      <th>created</th>\n",
       "      <th>currencyId</th>\n",
       "      <th>sku</th>\n",
       "      <th>groupId</th>\n",
       "      <th>quantity</th>\n",
       "      <th>price</th>\n",
       "      <th>name</th>\n",
       "      <th>type</th>\n",
       "      <th>invoiceCity</th>\n",
       "      <th>category</th>\n",
       "      <th>brand</th>\n",
       "    </tr>\n",
       "  </thead>\n",
       "  <tbody>\n",
       "    <tr>\n",
       "      <th>167344</th>\n",
       "      <td>535813</td>\n",
       "      <td>594723</td>\n",
       "      <td>2025-01-15 08:41:23</td>\n",
       "      <td>103</td>\n",
       "      <td>970300</td>\n",
       "      <td>970300</td>\n",
       "      <td>1</td>\n",
       "      <td>23</td>\n",
       "      <td>Svarporto</td>\n",
       "      <td>letter</td>\n",
       "      <td>Lødingen</td>\n",
       "      <td>&lt;NA&gt;</td>\n",
       "      <td>&lt;NA&gt;</td>\n",
       "    </tr>\n",
       "    <tr>\n",
       "      <th>126729</th>\n",
       "      <td>610408</td>\n",
       "      <td>665379</td>\n",
       "      <td>2025-03-04 13:21:59</td>\n",
       "      <td>50</td>\n",
       "      <td>970300</td>\n",
       "      <td>970300</td>\n",
       "      <td>1</td>\n",
       "      <td>2.3</td>\n",
       "      <td>Vastauspostimerkki</td>\n",
       "      <td>letter</td>\n",
       "      <td>Lohja</td>\n",
       "      <td>&lt;NA&gt;</td>\n",
       "      <td>&lt;NA&gt;</td>\n",
       "    </tr>\n",
       "    <tr>\n",
       "      <th>133676</th>\n",
       "      <td>600377</td>\n",
       "      <td>226593</td>\n",
       "      <td>2025-02-25 16:32:43</td>\n",
       "      <td>134</td>\n",
       "      <td>970300</td>\n",
       "      <td>970300</td>\n",
       "      <td>1</td>\n",
       "      <td>18</td>\n",
       "      <td>Svarsporto</td>\n",
       "      <td>letter</td>\n",
       "      <td>Värmdö</td>\n",
       "      <td>&lt;NA&gt;</td>\n",
       "      <td>&lt;NA&gt;</td>\n",
       "    </tr>\n",
       "    <tr>\n",
       "      <th>217188</th>\n",
       "      <td>344499</td>\n",
       "      <td>420062</td>\n",
       "      <td>2024-10-09 13:27:03</td>\n",
       "      <td>134</td>\n",
       "      <td>970300</td>\n",
       "      <td>970300</td>\n",
       "      <td>1</td>\n",
       "      <td>18</td>\n",
       "      <td>Svarsporto</td>\n",
       "      <td>letter</td>\n",
       "      <td>Örnsköldsvik</td>\n",
       "      <td>&lt;NA&gt;</td>\n",
       "      <td>&lt;NA&gt;</td>\n",
       "    </tr>\n",
       "    <tr>\n",
       "      <th>153941</th>\n",
       "      <td>560095</td>\n",
       "      <td>837764</td>\n",
       "      <td>2025-01-29 08:59:12</td>\n",
       "      <td>103</td>\n",
       "      <td>970300</td>\n",
       "      <td>970300</td>\n",
       "      <td>1</td>\n",
       "      <td>23</td>\n",
       "      <td>Svarporto</td>\n",
       "      <td>letter</td>\n",
       "      <td>Trøgstad</td>\n",
       "      <td>&lt;NA&gt;</td>\n",
       "      <td>&lt;NA&gt;</td>\n",
       "    </tr>\n",
       "  </tbody>\n",
       "</table>\n",
       "</div>"
      ],
      "text/plain": [
       "       orderId shopUserId              created currencyId     sku groupId  \\\n",
       "167344  535813     594723  2025-01-15 08:41:23        103  970300  970300   \n",
       "126729  610408     665379  2025-03-04 13:21:59         50  970300  970300   \n",
       "133676  600377     226593  2025-02-25 16:32:43        134  970300  970300   \n",
       "217188  344499     420062  2024-10-09 13:27:03        134  970300  970300   \n",
       "153941  560095     837764  2025-01-29 08:59:12        103  970300  970300   \n",
       "\n",
       "       quantity price                name    type   invoiceCity category brand  \n",
       "167344        1    23           Svarporto  letter      Lødingen     <NA>  <NA>  \n",
       "126729        1   2.3  Vastauspostimerkki  letter         Lohja     <NA>  <NA>  \n",
       "133676        1    18          Svarsporto  letter        Värmdö     <NA>  <NA>  \n",
       "217188        1    18          Svarsporto  letter  Örnsköldsvik     <NA>  <NA>  \n",
       "153941        1    23           Svarporto  letter      Trøgstad     <NA>  <NA>  "
      ]
     },
     "execution_count": 49,
     "metadata": {},
     "output_type": "execute_result"
    }
   ],
   "source": [
    "# Sample rows where both category and brand are NA\n",
    "sample_na_cat_brand = tx[tx['category'].isna() & tx['brand'].isna()].sample(5, random_state=42)\n",
    "sample_na_cat_brand\n"
   ]
  },
  {
   "cell_type": "markdown",
   "id": "b3504556",
   "metadata": {},
   "source": [
    "## Remove known bugs"
   ]
  },
  {
   "cell_type": "code",
   "execution_count": 50,
   "id": "e58edaaf",
   "metadata": {},
   "outputs": [],
   "source": [
    "# Keep only rows where 'created' date is on or after 2024-06-01 to avoid migration bugs\n",
    "tx['created'] = pd.to_datetime(tx['created'], errors='coerce')\n",
    "tx = tx[tx['created'] >= pd.to_datetime('2024-06-01')]"
   ]
  },
  {
   "cell_type": "code",
   "execution_count": 51,
   "id": "670623b6",
   "metadata": {},
   "outputs": [
    {
     "name": "stdout",
     "output_type": "stream",
     "text": [
      "298491\n"
     ]
    }
   ],
   "source": [
    "print(len(tx))"
   ]
  },
  {
   "cell_type": "markdown",
   "id": "df749fd0",
   "metadata": {},
   "source": [
    "## Unify currenies to SEK for price bucketing"
   ]
  },
  {
   "cell_type": "code",
   "execution_count": 52,
   "id": "a6afce74",
   "metadata": {},
   "outputs": [],
   "source": [
    "import pandas as pd\n",
    "import requests\n",
    "\n",
    "currencyid_to_country = {\n",
    "    \"40\":  \"DK\",\n",
    "    \"134\": \"SE\",\n",
    "    \"103\": \"NO\",\n",
    "    \"50\":  \"FI\",\n",
    "}\n",
    "\n",
    "def fetch_sek_rates():\n",
    "    resp = requests.get(\n",
    "        \"https://api.frankfurter.app/latest\",\n",
    "        params={\"from\": \"EUR\", \"to\": \"SEK,DKK,NOK\"},\n",
    "        timeout=10,\n",
    "    )\n",
    "    resp.raise_for_status()\n",
    "    rates = resp.json()[\"rates\"]\n",
    "    sek_per_eur = rates[\"SEK\"]\n",
    "    dkk_per_eur = rates[\"DKK\"]\n",
    "    nok_per_eur = rates[\"NOK\"]\n",
    "    return {\n",
    "        \"DK\": sek_per_eur / dkk_per_eur,\n",
    "        \"NO\": sek_per_eur / nok_per_eur,\n",
    "        \"SE\": 1.0,\n",
    "        \"FI\": sek_per_eur,\n",
    "    }\n",
    "\n",
    "tx[\"currencyId\"] = tx[\"currencyId\"].astype(\"string\").str.strip()\n",
    "tx[\"currency_country\"] = tx[\"currencyId\"].map(currencyid_to_country)\n",
    "conversion_rates = fetch_sek_rates()\n",
    "tx[\"sek_rate\"] = tx[\"currency_country\"].map(conversion_rates)\n",
    "tx[\"price\"] = pd.to_numeric(tx[\"price\"], errors=\"coerce\")\n",
    "tx[\"price_sek\"] = (tx[\"price\"] * tx[\"sek_rate\"]).round(0).astype(\"Int64\")\n"
   ]
  },
  {
   "cell_type": "code",
   "execution_count": 53,
   "id": "f48de10b",
   "metadata": {},
   "outputs": [
    {
     "data": {
      "text/html": [
       "<div>\n",
       "<style scoped>\n",
       "    .dataframe tbody tr th:only-of-type {\n",
       "        vertical-align: middle;\n",
       "    }\n",
       "\n",
       "    .dataframe tbody tr th {\n",
       "        vertical-align: top;\n",
       "    }\n",
       "\n",
       "    .dataframe thead th {\n",
       "        text-align: right;\n",
       "    }\n",
       "</style>\n",
       "<table border=\"1\" class=\"dataframe\">\n",
       "  <thead>\n",
       "    <tr style=\"text-align: right;\">\n",
       "      <th></th>\n",
       "      <th>orderId</th>\n",
       "      <th>shopUserId</th>\n",
       "      <th>created</th>\n",
       "      <th>currencyId</th>\n",
       "      <th>sku</th>\n",
       "      <th>groupId</th>\n",
       "      <th>quantity</th>\n",
       "      <th>price</th>\n",
       "      <th>name</th>\n",
       "      <th>type</th>\n",
       "      <th>invoiceCity</th>\n",
       "      <th>category</th>\n",
       "      <th>brand</th>\n",
       "      <th>currency_country</th>\n",
       "      <th>sek_rate</th>\n",
       "      <th>price_sek</th>\n",
       "    </tr>\n",
       "  </thead>\n",
       "  <tbody>\n",
       "    <tr>\n",
       "      <th>0</th>\n",
       "      <td>849883</td>\n",
       "      <td>893240</td>\n",
       "      <td>2025-09-22 08:10:46</td>\n",
       "      <td>103</td>\n",
       "      <td>210780-4042</td>\n",
       "      <td>210780</td>\n",
       "      <td>1</td>\n",
       "      <td>298.0</td>\n",
       "      <td>Mønstret halvpolo</td>\n",
       "      <td>telephone</td>\n",
       "      <td>Nybergsund</td>\n",
       "      <td>Överdelar,Toppar</td>\n",
       "      <td>Åshild</td>\n",
       "      <td>NO</td>\n",
       "      <td>0.944200</td>\n",
       "      <td>281</td>\n",
       "    </tr>\n",
       "    <tr>\n",
       "      <th>1</th>\n",
       "      <td>849883</td>\n",
       "      <td>893240</td>\n",
       "      <td>2025-09-22 08:10:46</td>\n",
       "      <td>103</td>\n",
       "      <td>292706</td>\n",
       "      <td>292706</td>\n",
       "      <td>1</td>\n",
       "      <td>311.2</td>\n",
       "      <td>Penisring Bertil Belladot</td>\n",
       "      <td>telephone</td>\n",
       "      <td>Nybergsund</td>\n",
       "      <td>REA,Lust</td>\n",
       "      <td>Belladot</td>\n",
       "      <td>NO</td>\n",
       "      <td>0.944200</td>\n",
       "      <td>294</td>\n",
       "    </tr>\n",
       "    <tr>\n",
       "      <th>2</th>\n",
       "      <td>849883</td>\n",
       "      <td>893240</td>\n",
       "      <td>2025-09-22 08:10:46</td>\n",
       "      <td>103</td>\n",
       "      <td>292086</td>\n",
       "      <td>292086</td>\n",
       "      <td>1</td>\n",
       "      <td>379.0</td>\n",
       "      <td>Vibrator Ester rød Belladot</td>\n",
       "      <td>telephone</td>\n",
       "      <td>Nybergsund</td>\n",
       "      <td>Lust</td>\n",
       "      <td>Belladot</td>\n",
       "      <td>NO</td>\n",
       "      <td>0.944200</td>\n",
       "      <td>358</td>\n",
       "    </tr>\n",
       "    <tr>\n",
       "      <th>3</th>\n",
       "      <td>849880</td>\n",
       "      <td>603400</td>\n",
       "      <td>2025-09-22 08:08:42</td>\n",
       "      <td>103</td>\n",
       "      <td>210755-4042</td>\n",
       "      <td>210755</td>\n",
       "      <td>1</td>\n",
       "      <td>175.0</td>\n",
       "      <td>Stripete genser</td>\n",
       "      <td>telephone</td>\n",
       "      <td>Egersund</td>\n",
       "      <td>Överdelar,Tröjor</td>\n",
       "      <td>Åshild</td>\n",
       "      <td>NO</td>\n",
       "      <td>0.944200</td>\n",
       "      <td>165</td>\n",
       "    </tr>\n",
       "    <tr>\n",
       "      <th>4</th>\n",
       "      <td>849880</td>\n",
       "      <td>603400</td>\n",
       "      <td>2025-09-22 08:08:42</td>\n",
       "      <td>103</td>\n",
       "      <td>210733-4042</td>\n",
       "      <td>210733</td>\n",
       "      <td>1</td>\n",
       "      <td>249.0</td>\n",
       "      <td>Strikket jakke</td>\n",
       "      <td>telephone</td>\n",
       "      <td>Egersund</td>\n",
       "      <td>Koftor,Överdelar</td>\n",
       "      <td>Åshild</td>\n",
       "      <td>NO</td>\n",
       "      <td>0.944200</td>\n",
       "      <td>235</td>\n",
       "    </tr>\n",
       "    <tr>\n",
       "      <th>...</th>\n",
       "      <td>...</td>\n",
       "      <td>...</td>\n",
       "      <td>...</td>\n",
       "      <td>...</td>\n",
       "      <td>...</td>\n",
       "      <td>...</td>\n",
       "      <td>...</td>\n",
       "      <td>...</td>\n",
       "      <td>...</td>\n",
       "      <td>...</td>\n",
       "      <td>...</td>\n",
       "      <td>...</td>\n",
       "      <td>...</td>\n",
       "      <td>...</td>\n",
       "      <td>...</td>\n",
       "      <td>...</td>\n",
       "    </tr>\n",
       "    <tr>\n",
       "      <th>298486</th>\n",
       "      <td>166428</td>\n",
       "      <td>252853</td>\n",
       "      <td>2024-06-01 05:23:25</td>\n",
       "      <td>40</td>\n",
       "      <td>261752-0050</td>\n",
       "      <td>260345</td>\n",
       "      <td>1</td>\n",
       "      <td>299.0</td>\n",
       "      <td>Støttetrusse Jaquard&amp;Lace</td>\n",
       "      <td>web</td>\n",
       "      <td>Hornslet</td>\n",
       "      <td>Underkläder,Gördlar</td>\n",
       "      <td>Miss Mary</td>\n",
       "      <td>DK</td>\n",
       "      <td>1.480472</td>\n",
       "      <td>443</td>\n",
       "    </tr>\n",
       "    <tr>\n",
       "      <th>298487</th>\n",
       "      <td>166428</td>\n",
       "      <td>252853</td>\n",
       "      <td>2024-06-01 05:23:25</td>\n",
       "      <td>40</td>\n",
       "      <td>261733-D110</td>\n",
       "      <td>239301</td>\n",
       "      <td>1</td>\n",
       "      <td>599.0</td>\n",
       "      <td>BH uden bøjle Lovely Lace Support</td>\n",
       "      <td>web</td>\n",
       "      <td>Hornslet</td>\n",
       "      <td>Bh utan bygel,Bh,Underkläder</td>\n",
       "      <td>Miss Mary</td>\n",
       "      <td>DK</td>\n",
       "      <td>1.480472</td>\n",
       "      <td>887</td>\n",
       "    </tr>\n",
       "    <tr>\n",
       "      <th>298488</th>\n",
       "      <td>166426</td>\n",
       "      <td>252851</td>\n",
       "      <td>2024-06-01 05:08:51</td>\n",
       "      <td>50</td>\n",
       "      <td>240189-0038</td>\n",
       "      <td>240189</td>\n",
       "      <td>1</td>\n",
       "      <td>49.9</td>\n",
       "      <td>Kuviolliset housut</td>\n",
       "      <td>web</td>\n",
       "      <td>Lempäälä</td>\n",
       "      <td>Byxor,Nederdelar</td>\n",
       "      <td>Åshild</td>\n",
       "      <td>FI</td>\n",
       "      <td>11.049500</td>\n",
       "      <td>551</td>\n",
       "    </tr>\n",
       "    <tr>\n",
       "      <th>298489</th>\n",
       "      <td>166420</td>\n",
       "      <td>252844</td>\n",
       "      <td>2024-06-01 00:58:50</td>\n",
       "      <td>103</td>\n",
       "      <td>263855-4135</td>\n",
       "      <td>263855</td>\n",
       "      <td>1</td>\n",
       "      <td>469.0</td>\n",
       "      <td>Bh uten bøyle</td>\n",
       "      <td>web</td>\n",
       "      <td>Bodø</td>\n",
       "      <td>Bh utan bygel,Bh,Underkläder</td>\n",
       "      <td>Glamorise</td>\n",
       "      <td>NO</td>\n",
       "      <td>0.944200</td>\n",
       "      <td>443</td>\n",
       "    </tr>\n",
       "    <tr>\n",
       "      <th>298490</th>\n",
       "      <td>166411</td>\n",
       "      <td>252836</td>\n",
       "      <td>2024-06-01 00:31:39</td>\n",
       "      <td>103</td>\n",
       "      <td>345901-8090</td>\n",
       "      <td>345901</td>\n",
       "      <td>1</td>\n",
       "      <td>1229.0</td>\n",
       "      <td>Body  Clara</td>\n",
       "      <td>web</td>\n",
       "      <td>Hvasser</td>\n",
       "      <td>Underkläder,Bh utan bygel,Body</td>\n",
       "      <td>Anita</td>\n",
       "      <td>NO</td>\n",
       "      <td>0.944200</td>\n",
       "      <td>1160</td>\n",
       "    </tr>\n",
       "  </tbody>\n",
       "</table>\n",
       "<p>298491 rows × 16 columns</p>\n",
       "</div>"
      ],
      "text/plain": [
       "       orderId shopUserId             created currencyId          sku groupId  \\\n",
       "0       849883     893240 2025-09-22 08:10:46        103  210780-4042  210780   \n",
       "1       849883     893240 2025-09-22 08:10:46        103       292706  292706   \n",
       "2       849883     893240 2025-09-22 08:10:46        103       292086  292086   \n",
       "3       849880     603400 2025-09-22 08:08:42        103  210755-4042  210755   \n",
       "4       849880     603400 2025-09-22 08:08:42        103  210733-4042  210733   \n",
       "...        ...        ...                 ...        ...          ...     ...   \n",
       "298486  166428     252853 2024-06-01 05:23:25         40  261752-0050  260345   \n",
       "298487  166428     252853 2024-06-01 05:23:25         40  261733-D110  239301   \n",
       "298488  166426     252851 2024-06-01 05:08:51         50  240189-0038  240189   \n",
       "298489  166420     252844 2024-06-01 00:58:50        103  263855-4135  263855   \n",
       "298490  166411     252836 2024-06-01 00:31:39        103  345901-8090  345901   \n",
       "\n",
       "       quantity   price                               name       type  \\\n",
       "0             1   298.0                  Mønstret halvpolo  telephone   \n",
       "1             1   311.2          Penisring Bertil Belladot  telephone   \n",
       "2             1   379.0        Vibrator Ester rød Belladot  telephone   \n",
       "3             1   175.0                    Stripete genser  telephone   \n",
       "4             1   249.0                    Strikket jakke   telephone   \n",
       "...         ...     ...                                ...        ...   \n",
       "298486        1   299.0          Støttetrusse Jaquard&Lace        web   \n",
       "298487        1   599.0  BH uden bøjle Lovely Lace Support        web   \n",
       "298488        1    49.9                 Kuviolliset housut        web   \n",
       "298489        1   469.0                      Bh uten bøyle        web   \n",
       "298490        1  1229.0                        Body  Clara        web   \n",
       "\n",
       "       invoiceCity                        category      brand  \\\n",
       "0       Nybergsund                Överdelar,Toppar     Åshild   \n",
       "1       Nybergsund                        REA,Lust   Belladot   \n",
       "2       Nybergsund                            Lust   Belladot   \n",
       "3         Egersund                Överdelar,Tröjor     Åshild   \n",
       "4         Egersund                Koftor,Överdelar     Åshild   \n",
       "...            ...                             ...        ...   \n",
       "298486    Hornslet             Underkläder,Gördlar  Miss Mary   \n",
       "298487    Hornslet    Bh utan bygel,Bh,Underkläder  Miss Mary   \n",
       "298488    Lempäälä                Byxor,Nederdelar     Åshild   \n",
       "298489        Bodø    Bh utan bygel,Bh,Underkläder  Glamorise   \n",
       "298490     Hvasser  Underkläder,Bh utan bygel,Body      Anita   \n",
       "\n",
       "       currency_country   sek_rate  price_sek  \n",
       "0                    NO   0.944200        281  \n",
       "1                    NO   0.944200        294  \n",
       "2                    NO   0.944200        358  \n",
       "3                    NO   0.944200        165  \n",
       "4                    NO   0.944200        235  \n",
       "...                 ...        ...        ...  \n",
       "298486               DK   1.480472        443  \n",
       "298487               DK   1.480472        887  \n",
       "298488               FI  11.049500        551  \n",
       "298489               NO   0.944200        443  \n",
       "298490               NO   0.944200       1160  \n",
       "\n",
       "[298491 rows x 16 columns]"
      ]
     },
     "execution_count": 53,
     "metadata": {},
     "output_type": "execute_result"
    }
   ],
   "source": [
    "tx"
   ]
  },
  {
   "cell_type": "code",
   "execution_count": 54,
   "id": "94d61bfd",
   "metadata": {},
   "outputs": [
    {
     "data": {
      "text/html": [
       "<div>\n",
       "<style scoped>\n",
       "    .dataframe tbody tr th:only-of-type {\n",
       "        vertical-align: middle;\n",
       "    }\n",
       "\n",
       "    .dataframe tbody tr th {\n",
       "        vertical-align: top;\n",
       "    }\n",
       "\n",
       "    .dataframe thead th {\n",
       "        text-align: right;\n",
       "    }\n",
       "</style>\n",
       "<table border=\"1\" class=\"dataframe\">\n",
       "  <thead>\n",
       "    <tr style=\"text-align: right;\">\n",
       "      <th></th>\n",
       "      <th>orderId</th>\n",
       "      <th>shopUserId</th>\n",
       "      <th>created</th>\n",
       "      <th>currencyId</th>\n",
       "      <th>sku</th>\n",
       "      <th>groupId</th>\n",
       "      <th>quantity</th>\n",
       "      <th>price</th>\n",
       "      <th>name</th>\n",
       "      <th>type</th>\n",
       "      <th>invoiceCity</th>\n",
       "      <th>category</th>\n",
       "      <th>brand</th>\n",
       "      <th>currency_country</th>\n",
       "      <th>sek_rate</th>\n",
       "      <th>price_sek</th>\n",
       "    </tr>\n",
       "  </thead>\n",
       "  <tbody>\n",
       "    <tr>\n",
       "      <th>161521</th>\n",
       "      <td>545774</td>\n",
       "      <td>604121</td>\n",
       "      <td>2025-01-20 13:51:07</td>\n",
       "      <td>40</td>\n",
       "      <td>266825-C080</td>\n",
       "      <td>266825</td>\n",
       "      <td>1</td>\n",
       "      <td>449399.0</td>\n",
       "      <td>BH uden bøjle Treasure</td>\n",
       "      <td>telephone</td>\n",
       "      <td>Roskilde</td>\n",
       "      <td>Bh utan bygel,Bh,Underkläder</td>\n",
       "      <td>Swegmark</td>\n",
       "      <td>DK</td>\n",
       "      <td>1.480472</td>\n",
       "      <td>665322</td>\n",
       "    </tr>\n",
       "  </tbody>\n",
       "</table>\n",
       "</div>"
      ],
      "text/plain": [
       "       orderId shopUserId             created currencyId          sku groupId  \\\n",
       "161521  545774     604121 2025-01-20 13:51:07         40  266825-C080  266825   \n",
       "\n",
       "       quantity     price                    name       type invoiceCity  \\\n",
       "161521        1  449399.0  BH uden bøjle Treasure  telephone    Roskilde   \n",
       "\n",
       "                            category     brand currency_country  sek_rate  \\\n",
       "161521  Bh utan bygel,Bh,Underkläder  Swegmark               DK  1.480472   \n",
       "\n",
       "        price_sek  \n",
       "161521     665322  "
      ]
     },
     "execution_count": 54,
     "metadata": {},
     "output_type": "execute_result"
    }
   ],
   "source": [
    "# Output rows where the price value is 6 digits or more\n",
    "six_digit_price_rows = tx[tx['price'].astype(str).str.replace('.0$', '', regex=True).str.fullmatch(r'\\d{6,}')]\n",
    "six_digit_price_rows\n"
   ]
  },
  {
   "cell_type": "code",
   "execution_count": 55,
   "id": "4aaf40ef",
   "metadata": {},
   "outputs": [],
   "source": [
    "# Remove rows where the price value is 6 digits\n",
    "tx = tx[~tx['price'].astype(str).str.replace('.0$', '', regex=True).str.fullmatch(r'\\d{6}')]"
   ]
  },
  {
   "cell_type": "code",
   "execution_count": 56,
   "id": "6d8a7390",
   "metadata": {},
   "outputs": [
    {
     "name": "stdout",
     "output_type": "stream",
     "text": [
      "Price (SEK) statistics (1st to 99th percentile):\n",
      "  Count: 293,171\n",
      "  Mean: 285.74\n",
      "  Median: 235.00\n",
      "  Std: 193.83\n",
      "  Min (1st percentile): 18.00\n",
      "  Max (99th percentile): 1,103.00\n"
     ]
    },
    {
     "data": {
      "image/png": "[encoded data removed]",
      "text/plain": [
       "<Figure size 800x500 with 1 Axes>"
      ]
     },
     "metadata": {},
     "output_type": "display_data"
    }
   ],
   "source": [
    "import matplotlib.pyplot as plt\n",
    "\n",
    "# Show key statistics in numbers\n",
    "price_sek = tx[\"price_sek\"].dropna()\n",
    "q_low = price_sek.quantile(0.01)\n",
    "q_high = price_sek.quantile(0.99)\n",
    "price_sek_trimmed = price_sek[(price_sek >= q_low) & (price_sek <= q_high)]\n",
    "\n",
    "print(\"Price (SEK) statistics (1st to 99th percentile):\")\n",
    "print(f\"  Count: {price_sek_trimmed.count():,}\")\n",
    "print(f\"  Mean: {price_sek_trimmed.mean():,.2f}\")\n",
    "print(f\"  Median: {price_sek_trimmed.median():,.2f}\")\n",
    "print(f\"  Std: {price_sek_trimmed.std():,.2f}\")\n",
    "print(f\"  Min (1st percentile): {q_low:,.2f}\")\n",
    "print(f\"  Max (99th percentile): {q_high:,.2f}\")\n",
    "\n",
    "plt.figure(figsize=(8, 5))\n",
    "plt.hist(\n",
    "    price_sek_trimmed, \n",
    "    bins=50, \n",
    "    color=\"skyblue\", \n",
    "    edgecolor=\"black\"\n",
    ")\n",
    "plt.title(\"Distribution of Price (SEK) (1st to 99th percentile)\")\n",
    "plt.xlabel(\"price_sek\")\n",
    "plt.ylabel(\"Frequency\")\n",
    "plt.xlim(q_low, q_high)\n",
    "plt.grid(axis='y', alpha=0.75)\n",
    "plt.show()\n"
   ]
  },
  {
   "cell_type": "code",
   "execution_count": 57,
   "id": "0ee28f4c",
   "metadata": {},
   "outputs": [],
   "source": [
    "# Read the cleaned customers data from Parquet, do not change dtypes\n",
    "customers = pd.read_parquet(\"../data/processed/customers_clean.parquet\")\n",
    "\n",
    "# Merge the 'Age' and 'invoiceCity' columns from the customers dataframe into the transactions dataframe, matching on 'shopUserId'\n",
    "# This adds the 'Age' and 'invoiceCity' information for each transaction, using a left join to keep all transactions\n",
    "tx = tx.merge(customers[[\"shopUserId\", \"Age\", \"Gender\"]], on=\"shopUserId\", how=\"left\")"
   ]
  },
  {
   "cell_type": "code",
   "execution_count": 58,
   "id": "bee41923",
   "metadata": {},
   "outputs": [
    {
     "data": {
      "text/plain": [
       "orderId             0.000000\n",
       "shopUserId          0.000000\n",
       "created             0.000000\n",
       "currencyId          0.000000\n",
       "sku                 0.000000\n",
       "groupId             0.000000\n",
       "quantity            0.000000\n",
       "price               0.000003\n",
       "name                0.000000\n",
       "type                0.000000\n",
       "invoiceCity         0.000000\n",
       "category            0.028587\n",
       "brand               0.028587\n",
       "currency_country    0.000000\n",
       "sek_rate            0.000000\n",
       "price_sek           0.000003\n",
       "Age                 0.358565\n",
       "Gender              0.358565\n",
       "dtype: float64"
      ]
     },
     "execution_count": 58,
     "metadata": {},
     "output_type": "execute_result"
    }
   ],
   "source": [
    "tx.isna().mean()"
   ]
  },
  {
   "cell_type": "code",
   "execution_count": 59,
   "id": "54669c45",
   "metadata": {},
   "outputs": [
    {
     "name": "stdout",
     "output_type": "stream",
     "text": [
      "Unique values in 'type' column: ['telephone' 'web' 'letter' 'email' 'other']\n"
     ]
    }
   ],
   "source": [
    "print(\"Unique values in 'type' column:\", tx[\"type\"].unique())\n"
   ]
  },
  {
   "cell_type": "markdown",
   "id": "e8ca778f",
   "metadata": {},
   "source": [
    "# Line price"
   ]
  },
  {
   "cell_type": "code",
   "execution_count": 60,
   "id": "258142f6",
   "metadata": {},
   "outputs": [],
   "source": [
    "# Convert 'quantity' to numeric, round to nearest integer, and convert back to string (if needed)\n",
    "tx[\"quantity\"] = pd.to_numeric(tx[\"quantity\"], errors=\"coerce\").round().astype(\"Int64\").astype(str)\n"
   ]
  },
  {
   "cell_type": "code",
   "execution_count": 61,
   "id": "ba7f496e",
   "metadata": {},
   "outputs": [
    {
     "name": "stdout",
     "output_type": "stream",
     "text": [
      "Unique values of quantity: ['1' '3' '2' '5' '4' '9' '6' '7' '12' '8' '11' '10' '15' '16' '50' '176'\n",
      " '130' '19' '40' '20' '14' '229' '24' '18' '25' '999' '<NA>']\n"
     ]
    }
   ],
   "source": [
    "print(\"Unique values of quantity:\", tx[\"quantity\"].unique())\n"
   ]
  },
  {
   "cell_type": "code",
   "execution_count": 62,
   "id": "2192fdea",
   "metadata": {},
   "outputs": [],
   "source": [
    "# Calculate line_total_sek as price_sek * quantity, ensuring both are numeric, rounded to nearest integer (no decimals), and drop rows where result is NA or 0\n",
    "tx[\"price_sek\"] = pd.to_numeric(tx[\"price_sek\"], errors=\"coerce\")\n",
    "tx[\"quantity\"] = pd.to_numeric(tx[\"quantity\"], errors=\"coerce\")\n",
    "tx[\"line_total_sek\"] = (tx[\"price_sek\"] * tx[\"quantity\"]).round()\n",
    "# Ensure line_total_sek is numeric\n",
    "tx[\"line_total_sek\"] = pd.to_numeric(tx[\"line_total_sek\"], errors=\"coerce\")\n",
    "# Drop rows where line_total_sek is NA or 0\n",
    "tx = tx.dropna(subset=[\"line_total_sek\"])\n",
    "tx = tx[tx[\"line_total_sek\"] != 0]\n"
   ]
  },
  {
   "cell_type": "markdown",
   "id": "40c0af20",
   "metadata": {},
   "source": [
    "# Country remap COUNTRY_MAP_ALPHA = {\"SE\": \"Sweden\", \"DK\": \"Denmark\", \"FI\": \"Finland\", \"NO\": \"Norway\"}"
   ]
  },
  {
   "cell_type": "code",
   "execution_count": 63,
   "id": "1f558de3",
   "metadata": {},
   "outputs": [],
   "source": [
    "COUNTRY_MAP_ALPHA = {\"SE\": \"Sweden\", \"DK\": \"Denmark\", \"FI\": \"Finland\", \"NO\": \"Norway\"}\n",
    "tx[\"currency_country\"] = tx[\"currency_country\"].map(COUNTRY_MAP_ALPHA).fillna(tx[\"currency_country\"])\n"
   ]
  },
  {
   "cell_type": "code",
   "execution_count": 64,
   "id": "7e7958ed",
   "metadata": {},
   "outputs": [
    {
     "name": "stdout",
     "output_type": "stream",
     "text": [
      "Number of unique invoiceCity values: 4873\n",
      "Value counts for invoiceCity:\n",
      "invoiceCity\n",
      "Oslo         8368\n",
      "Helsinki     3521\n",
      "Stockholm    2571\n",
      "Göteborg     2256\n",
      "Uppsala      2017\n",
      "             ... \n",
      "Fegen           1\n",
      "Jordrup         1\n",
      "Hellebæk        1\n",
      "Osloos          1\n",
      "Oravala         1\n",
      "Name: count, Length: 4873, dtype: Int64\n"
     ]
    }
   ],
   "source": [
    "print(\"Number of unique invoiceCity values:\", tx[\"invoiceCity\"].nunique())\n",
    "print(\"Value counts for invoiceCity:\")\n",
    "print(tx[\"invoiceCity\"].value_counts(dropna=False))\n"
   ]
  },
  {
   "cell_type": "code",
   "execution_count": 65,
   "id": "017d4302",
   "metadata": {},
   "outputs": [
    {
     "name": "stdout",
     "output_type": "stream",
     "text": [
      "Only one case spelling of 'oslo' found in invoiceCity: Oslo\n"
     ]
    }
   ],
   "source": [
    "# Check if there are different case spellings of 'oslo' in invoiceCity (non-null)\n",
    "oslo_cities = tx[\"invoiceCity\"].dropna()\n",
    "oslo_variants = set(city for city in oslo_cities if isinstance(city, str) and city.lower() == \"oslo\")\n",
    "if len(oslo_variants) > 1:\n",
    "    print(\"Different case spellings of 'oslo' found in invoiceCity:\")\n",
    "    for city in sorted(oslo_variants):\n",
    "        print(city)\n",
    "elif len(oslo_variants) == 1:\n",
    "    print(\"Only one case spelling of 'oslo' found in invoiceCity:\", list(oslo_variants)[0])\n",
    "else:\n",
    "    print(\"No 'oslo' found in invoiceCity.\")\n"
   ]
  },
  {
   "cell_type": "code",
   "execution_count": 66,
   "id": "915f1134",
   "metadata": {},
   "outputs": [],
   "source": [
    "# Save cleaned transactions to Parquet without changing dtypes\n",
    "tx.to_parquet(\"../data/processed/transactions_clean.parquet\", index=False)"
   ]
  },
  {
   "cell_type": "code",
   "execution_count": 67,
   "id": "1fb1cb4f",
   "metadata": {},
   "outputs": [
    {
     "name": "stdout",
     "output_type": "stream",
     "text": [
      "orderId             0.000000\n",
      "shopUserId          0.000000\n",
      "created             0.000000\n",
      "currencyId          0.000000\n",
      "sku                 0.000000\n",
      "groupId             0.000000\n",
      "quantity            0.000000\n",
      "price               0.000000\n",
      "name                0.000000\n",
      "type                0.000000\n",
      "invoiceCity         0.000000\n",
      "category            0.028607\n",
      "brand               0.028607\n",
      "currency_country    0.000000\n",
      "sek_rate            0.000000\n",
      "price_sek           0.000000\n",
      "Age                 0.358928\n",
      "Gender              0.358928\n",
      "line_total_sek      0.000000\n",
      "dtype: float64\n"
     ]
    }
   ],
   "source": [
    "# Output the proportion of NA (missing) values for each column in tx\n",
    "print(tx.isna().mean())\n"
   ]
  },
  {
   "cell_type": "code",
   "execution_count": null,
   "id": "c81cf238",
   "metadata": {},
   "outputs": [],
   "source": []
  },
  {
   "cell_type": "code",
   "execution_count": null,
   "metadata": {},
   "outputs": [],
   "source": []
  },
  {
   "cell_type": "code",
   "execution_count": null,
   "metadata": {},
   "outputs": [],
   "source": []
  },
  {
   "cell_type": "markdown",
   "id": "8af864bd",
   "metadata": {},
   "source": [
    "# Orders"
   ]
  },
  {
   "cell_type": "code",
   "execution_count": 25,
   "id": "7e17430a",
   "metadata": {},
   "outputs": [
    {
     "data": {
      "text/plain": [
       "0"
      ]
     },
     "execution_count": 25,
     "metadata": {},
     "output_type": "execute_result"
    }
   ],
   "source": [
    "import pandas as pd, gc\n",
    "\n",
    "# --- customers: collapse duplicates, map ---\n",
    "cust = pd.read_parquet(\"../data/processed/customers_clean.parquet\",\n",
    "                       columns=[\"shopUserId\",\"invoiceCity\",\"Gender\"])\n",
    "cust = cust.groupby(\"shopUserId\", as_index=False).first()  # ensure unique key\n",
    "tx[\"shopUserId\"] = tx[\"shopUserId\"].astype(cust[\"shopUserId\"].dtype)\n",
    "m_city = dict(zip(cust[\"shopUserId\"], cust[\"invoiceCity\"]))\n",
    "m_gen  = dict(zip(cust[\"shopUserId\"], cust[\"Gender\"]))\n",
    "tx[\"invoiceCity\"] = tx[\"shopUserId\"].map(m_city)\n",
    "tx[\"Gender\"] = tx[\"shopUserId\"].map(m_gen)\n",
    "del cust, m_city, m_gen; gc.collect()\n",
    "\n",
    "# --- articles: collapse duplicates, map ---\n",
    "arts = pd.read_parquet(\"../data/processed/articles_clean.parquet\",\n",
    "                       columns=[\"groupId\",\"category\",\"brand\"])\n",
    "arts = arts.groupby(\"groupId\", as_index=False).first()     # ensure unique key\n",
    "tx[\"groupId\"] = tx[\"groupId\"].astype(arts[\"groupId\"].dtype)\n",
    "\n",
    "if \"category\" in arts.columns:\n",
    "    m_cat = dict(zip(arts[\"groupId\"], arts[\"category\"]))\n",
    "    tx[\"category\"] = tx[\"groupId\"].map(m_cat)\n",
    "\n",
    "if \"brand\" in arts.columns:\n",
    "    m_br = dict(zip(arts[\"groupId\"], arts[\"brand\"]))\n",
    "    tx[\"brand\"] = tx[\"groupId\"].map(m_br)\n",
    "\n",
    "del arts; gc.collect()\n"
   ]
  },
  {
   "cell_type": "code",
   "execution_count": null,
   "id": "669905cc",
   "metadata": {},
   "outputs": [],
   "source": []
  },
  {
   "cell_type": "code",
   "execution_count": null,
   "id": "b10d7a66",
   "metadata": {},
   "outputs": [],
   "source": []
  },
  {
   "cell_type": "code",
   "execution_count": null,
   "id": "e6094b01",
   "metadata": {},
   "outputs": [],
   "source": []
  },
  {
   "cell_type": "code",
   "execution_count": null,
   "id": "5e370831",
   "metadata": {},
   "outputs": [],
   "source": []
  },
  {
   "cell_type": "code",
   "execution_count": null,
   "id": "0ff2c381",
   "metadata": {},
   "outputs": [],
   "source": []
  },
  {
   "cell_type": "code",
   "execution_count": null,
   "metadata": {},
   "outputs": [],
   "source": []
  },
  {
   "cell_type": "code",
   "execution_count": 26,
   "id": "97d7f745",
   "metadata": {},
   "outputs": [],
   "source": [
    "import pandas as pd\n",
    "from decimal import Decimal, ROUND_HALF_UP\n",
    "\n",
    "tx = tx.copy()\n",
    "\n",
    "# --- 1) Tidy dtypes (concise) ---\n",
    "str_cols = [\"orderId\", \"shopUserId\", \"currencyId\", \"sku\", \"name\", \"groupId\"]\n",
    "tx[str_cols] = tx[str_cols].apply(lambda s: s.astype(\"string[python]\").str.strip())\n",
    "\n",
    "tx[\"created\"]  = pd.to_datetime(tx[\"created\"], errors=\"coerce\")\n",
    "tx[\"quantity\"] = pd.to_numeric(tx[\"quantity\"], errors=\"coerce\").fillna(1).clip(lower=1).round().astype(\"Int64\")\n",
    "tx[\"price\"]    = pd.to_numeric(tx[\"price\"], errors=\"coerce\").astype(\"Float64\")\n",
    "tx[\"sek_rate\"] = pd.to_numeric(tx.get(\"sek_rate\"), errors=\"coerce\")  # float64\n",
    "\n",
    "# Optional: price in SEK (two decimals). If you want integers, round later.\n",
    "tx[\"price_sek\"] = (tx[\"price\"] * tx[\"sek_rate\"]).round(2)\n",
    "\n",
    "# Line total in SEK rounded to nearest krona (integer)\n",
    "tx[\"_line_total\"] = (tx[\"price_sek\"] * tx[\"quantity\"]).round().astype(\"Int64\")\n",
    "\n",
    "# --- 2) One row per orderId ---\n",
    "orders = (\n",
    "    tx.sort_values([\"orderId\", \"created\"])\n",
    "      .groupby(\"orderId\", as_index=False)\n",
    "      .agg(\n",
    "          shopUserId    = (\"shopUserId\", \"first\"),\n",
    "          order_created = (\"created\", \"min\"),\n",
    "          total_qty     = (\"quantity\", \"sum\"),\n",
    "          basket_value  = (\"_line_total\", \"sum\"),\n",
    "          currencyId    = (\"currencyId\", \"first\")\n",
    "      )\n",
    ")\n",
    "\n",
    "# Ensure ints and compute avg unit price (integer)\n",
    "orders[\"total_qty\"]    = orders[\"total_qty\"].astype(int)\n",
    "orders[\"basket_value\"] = orders[\"basket_value\"].astype(int)\n",
    "orders[\"avg_unit_price\"] = (orders[\"basket_value\"] / orders[\"total_qty\"]).round().astype(int)\n",
    "\n",
    "# --- 3) Lists per order (unique, sorted) ---\n",
    "sku_list = (\n",
    "    tx.groupby(\"orderId\")[\"sku\"]\n",
    "      .apply(lambda s: sorted(pd.Series(s, dtype=\"string[python]\").dropna().unique().tolist()))\n",
    "      .rename(\"sku_list\")\n",
    ")\n",
    "groupid_list = (\n",
    "    tx.groupby(\"orderId\")[\"groupId\"]\n",
    "      .apply(lambda s: sorted(pd.Series(s, dtype=\"string[python]\").dropna().unique().tolist()))\n",
    "      .rename(\"groupid_list\")\n",
    ")\n",
    "\n",
    "orders = orders.merge(sku_list, on=\"orderId\", how=\"left\") \\\n",
    "               .merge(groupid_list, on=\"orderId\", how=\"left\")\n"
   ]
  },
  {
   "cell_type": "code",
   "execution_count": 27,
   "id": "26442e66",
   "metadata": {},
   "outputs": [
    {
     "data": {
      "text/plain": [
       "105901"
      ]
     },
     "execution_count": 27,
     "metadata": {},
     "output_type": "execute_result"
    }
   ],
   "source": [
    "# Number of orders\n",
    "len(orders)\n"
   ]
  },
  {
   "cell_type": "code",
   "execution_count": 28,
   "id": "00b02c12",
   "metadata": {},
   "outputs": [
    {
     "data": {
      "text/plain": [
       "orderId           string[python]\n",
       "shopUserId        string[python]\n",
       "order_created     datetime64[ns]\n",
       "total_qty                  int64\n",
       "basket_value               int64\n",
       "currencyId        string[python]\n",
       "avg_unit_price             int64\n",
       "sku_list                  object\n",
       "groupid_list              object\n",
       "dtype: object"
      ]
     },
     "execution_count": 28,
     "metadata": {},
     "output_type": "execute_result"
    }
   ],
   "source": [
    "orders.dtypes"
   ]
  },
  {
   "cell_type": "code",
   "execution_count": 29,
   "id": "bc836ce4",
   "metadata": {},
   "outputs": [
    {
     "data": {
      "text/plain": [
       "60159"
      ]
     },
     "execution_count": 29,
     "metadata": {},
     "output_type": "execute_result"
    }
   ],
   "source": [
    "# Number of unique users\n",
    "tx[\"shopUserId\"].nunique()"
   ]
  },
  {
   "cell_type": "code",
   "execution_count": 30,
   "id": "cfc2110a",
   "metadata": {},
   "outputs": [
    {
     "name": "stdout",
     "output_type": "stream",
     "text": [
      "Users: 60159 | Sum of bins: 60159\n"
     ]
    },
    {
     "data": {
      "image/png": "[encoded data removed]",
      "text/plain": [
       "<Figure size 700x500 with 1 Axes>"
      ]
     },
     "metadata": {},
     "output_type": "display_data"
    }
   ],
   "source": [
    "# total orders per user (one value per user)\n",
    "n_orders_per_user = orders.groupby('shopUserId').size()\n",
    "\n",
    "# bins: [1,2), [2,3), ..., [19,20), [20, inf)  -> label '20+' includes 20, 21, ...\n",
    "bins   = list(range(1, 20)) + [20, float('inf')]\n",
    "labels = [str(i) for i in range(1, 20)] + ['20+']\n",
    "\n",
    "cats = pd.cut(n_orders_per_user, bins=bins, right=False, labels=labels, ordered=True)\n",
    "\n",
    "# counts in the exact label order (no string sorting issues)\n",
    "counts = cats.value_counts().reindex(labels, fill_value=0)\n",
    "\n",
    "# sanity checks\n",
    "assert counts.sum() == n_orders_per_user.size, \"Counts should sum to #users\"\n",
    "print(\"Users:\", n_orders_per_user.size, \"| Sum of bins:\", int(counts.sum()))\n",
    "\n",
    "# plot\n",
    "import matplotlib.pyplot as plt\n",
    "plt.figure(figsize=(7,5))\n",
    "bars = plt.bar(labels, counts.values)\n",
    "plt.yscale('log')  # optional; remember zeros won't show on log scale\n",
    "plt.title('Users by Total Orders')\n",
    "plt.xlabel('Total Orders per User')\n",
    "plt.ylabel('Number of Users (Log scale)')\n",
    "\n",
    "# annotate bars with more readable numbers (with thousands separator and horizontal orientation)\n",
    "for i, v in enumerate(counts.values):\n",
    "    if v > 0:\n",
    "        plt.text(\n",
    "            i, v, f'{int(v):,}', \n",
    "            ha='center', va='bottom', \n",
    "            rotation=0, fontsize=9, \n",
    "            fontweight='bold', color='navy',\n",
    "            bbox=dict(facecolor='white', edgecolor='none', alpha=0.7, boxstyle='round,pad=0.2')\n",
    "        )\n",
    "\n",
    "plt.tight_layout()\n",
    "plt.show()\n"
   ]
  },
  {
   "cell_type": "markdown",
   "id": "f3c75cfc",
   "metadata": {},
   "source": [
    "“time to come back” (in days) between a user’s consecutive orders, buckets those gaps, and plots the distribution."
   ]
  },
  {
   "cell_type": "code",
   "execution_count": 31,
   "id": "df824e5e",
   "metadata": {},
   "outputs": [
    {
     "data": {
      "image/png": "[encoded data removed]",
      "text/plain": [
       "<Figure size 900x500 with 1 Axes>"
      ]
     },
     "metadata": {},
     "output_type": "display_data"
    },
    {
     "name": "stdout",
     "output_type": "stream",
     "text": [
      "{'returning_users_denominator': 23623, 'rates_by_bucket_%': {'≤1w': 7.7, '2–5w': 20.3, '6–9w': 11.5, '10–13w': 9.4, '14–17w': 8.3, '18–21w': 7.0, '22–25w': 8.1, '26–29w': 6.3, '30–33w': 5.4, '34–37w': 3.9, '38–41w': 3.1, '42–45w': 2.4, '46–49w': 2.3, '50–52w': 1.4, '52w+': 2.6}, 'counts_by_bucket': {'≤1w': 1821, '2–5w': 4805, '6–9w': 2726, '10–13w': 2223, '14–17w': 1972, '18–21w': 1664, '22–25w': 1913, '26–29w': 1498, '30–33w': 1287, '34–37w': 932, '38–41w': 721, '42–45w': 576, '46–49w': 537, '50–52w': 336, '52w+': 612}}\n"
     ]
    }
   ],
   "source": [
    "# --- First return ONLY: weekly bins (≤1w, then 4-week bins) ---\n",
    "\n",
    "import numpy as np\n",
    "import pandas as pd\n",
    "import matplotlib.pyplot as plt\n",
    "import math\n",
    "\n",
    "time_col = 'order_created'  # change if needed\n",
    "\n",
    "# Prep & sort\n",
    "orders[time_col] = pd.to_datetime(orders[time_col], errors='coerce', utc=True)\n",
    "df = orders.dropna(subset=[time_col]).sort_values(['shopUserId', time_col]).copy()\n",
    "\n",
    "# First return gaps (1st -> 2nd order), in WEEKS\n",
    "df['next_time'] = df.groupby('shopUserId')[time_col].shift(-1)\n",
    "df['gap_days']  = (df['next_time'] - df[time_col]).dt.total_seconds() / 86400.0\n",
    "df['order_idx'] = df.groupby('shopUserId').cumcount()\n",
    "first_ret = df.loc[df['order_idx'] == 0, ['shopUserId', 'gap_days']].dropna().copy()\n",
    "first_ret = first_ret[first_ret['gap_days'] >= 0]\n",
    "first_ret['gap_weeks'] = first_ret['gap_days'] / 7.0\n",
    "\n",
    "# Bin edges in WEEKS: (0–1], (1–5], (5–9], ... up to 52, then inf\n",
    "edges_w = [0, 1]\n",
    "cur = 1\n",
    "while cur < 52:\n",
    "    cur += 4\n",
    "    edges_w.append(min(cur, 52))\n",
    "edges_w = sorted(set(edges_w))\n",
    "if edges_w[-1] < 52:\n",
    "    edges_w.append(52)\n",
    "edges_w.append(np.inf)\n",
    "\n",
    "# Labels aligned to right-closed intervals\n",
    "labels = []\n",
    "for a, b in zip(edges_w[:-1], edges_w[1:]):\n",
    "    if np.isinf(b):\n",
    "        labels.append('52w+')\n",
    "    elif a == 0:\n",
    "        labels.append('≤1w')\n",
    "    else:\n",
    "        labels.append(f'{int(a)+1}–{int(b)}w')\n",
    "\n",
    "# Bucket (right=True → (a,b], include_lowest=True → [0,b] for first bin)\n",
    "first_ret['bucket'] = pd.cut(\n",
    "    first_ret['gap_weeks'],\n",
    "    bins=edges_w, right=True,\n",
    "    include_lowest=True,\n",
    "    labels=labels, ordered=True\n",
    ")\n",
    "\n",
    "# Rates among returners (denominator = returning users only)\n",
    "counts = first_ret['bucket'].value_counts().reindex(labels, fill_value=0)\n",
    "total  = int(counts.sum())\n",
    "rates  = (counts / total * 100).round(1) if total > 0 else counts.astype(float)\n",
    "\n",
    "# Plot: horizontal bars (compact)\n",
    "fig, ax = plt.subplots(figsize=(9,5))\n",
    "ypos = np.arange(len(labels))\n",
    "bars = ax.barh(labels, rates.values)\n",
    "\n",
    "# Minimal, readable annotations (percent only)\n",
    "for rect, pct in zip(bars, rates.values):\n",
    "    ax.text(rect.get_width() + 0.5, rect.get_y() + rect.get_height()/2,\n",
    "            f\"{pct:.1f}%\", va='center', ha='left', fontsize=9)\n",
    "\n",
    "# Tidy aesthetics\n",
    "ax.set_xlim(0, max(10, math.ceil((rates.max() if total>0 else 0) / 5.0) * 5 + 5))\n",
    "ax.set_xlabel('Share of returning users (%)')\n",
    "ax.set_ylabel('Weeks between 1st and 2nd order')\n",
    "ax.set_title('First return timing')\n",
    "ax.grid(axis='x', alpha=0.2)\n",
    "for spine in ['top','right']:\n",
    "    ax.spines[spine].set_visible(False)\n",
    "plt.tight_layout()\n",
    "plt.show()\n",
    "\n",
    "print({\n",
    "    \"returning_users_denominator\": total,\n",
    "    \"rates_by_bucket_%\": rates.to_dict(),\n",
    "    \"counts_by_bucket\": counts.to_dict()\n",
    "})\n"
   ]
  },
  {
   "cell_type": "code",
   "execution_count": null,
   "id": "ccc49b10",
   "metadata": {},
   "outputs": [],
   "source": []
  },
  {
   "cell_type": "code",
   "execution_count": null,
   "id": "84a483bf",
   "metadata": {},
   "outputs": [],
   "source": []
  },
  {
   "cell_type": "code",
   "execution_count": null,
   "id": "c3a624bf",
   "metadata": {},
   "outputs": [],
   "source": []
  },
  {
   "cell_type": "code",
   "execution_count": null,
   "id": "8252cf7f",
   "metadata": {},
   "outputs": [],
   "source": []
  },
  {
   "cell_type": "code",
   "execution_count": null,
   "id": "aca61b93",
   "metadata": {},
   "outputs": [],
   "source": []
  },
  {
   "cell_type": "code",
   "execution_count": null,
   "id": "79334a0e",
   "metadata": {},
   "outputs": [],
   "source": []
  },
  {
   "cell_type": "code",
   "execution_count": null,
   "id": "dcbb7e10",
   "metadata": {},
   "outputs": [],
   "source": []
  },
  {
   "cell_type": "code",
   "execution_count": null,
   "id": "28841c2f",
   "metadata": {},
   "outputs": [],
   "source": []
  },
  {
   "cell_type": "code",
   "execution_count": null,
   "id": "ffdee096",
   "metadata": {},
   "outputs": [],
   "source": []
  },
  {
   "cell_type": "code",
   "execution_count": null,
   "id": "8f7d586e",
   "metadata": {},
   "outputs": [],
   "source": []
  },
  {
   "cell_type": "code",
   "execution_count": null,
   "id": "f9969a5d",
   "metadata": {},
   "outputs": [],
   "source": []
  },
  {
   "cell_type": "code",
   "execution_count": null,
   "id": "79ab1f2d",
   "metadata": {},
   "outputs": [],
   "source": []
  },
  {
   "cell_type": "code",
   "execution_count": null,
   "id": "27bf586b",
   "metadata": {},
   "outputs": [],
   "source": []
  },
  {
   "cell_type": "code",
   "execution_count": null,
   "id": "e9e6f776",
   "metadata": {},
   "outputs": [],
   "source": []
  },
  {
   "cell_type": "code",
   "execution_count": null,
   "id": "573cc82f",
   "metadata": {},
   "outputs": [],
   "source": []
  },
  {
   "cell_type": "code",
   "execution_count": null,
   "metadata": {},
   "outputs": [],
   "source": []
  }
 ],
 "metadata": {
  "kernelspec": {
   "display_name": "Python 3.10 (container)",
   "language": "python",
   "name": "py310-vscode"
  },
  "language_info": {
   "codemirror_mode": {
    "name": "ipython",
    "version": 3
   },
   "file_extension": ".py",
   "mimetype": "text/x-python",
   "name": "python",
   "nbconvert_exporter": "python",
   "pygments_lexer": "ipython3",
   "version": "3.10.18"
  }
 },
 "nbformat": 4,
 "nbformat_minor": 5
}
