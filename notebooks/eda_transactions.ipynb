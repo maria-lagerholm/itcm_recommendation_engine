{
 "cells": [
  {
   "cell_type": "code",
   "execution_count": 7,
   "id": "c1eb670a",
   "metadata": {},
   "outputs": [
    {
     "data": {
      "text/plain": [
       "290345"
      ]
     },
     "execution_count": 7,
     "metadata": {},
     "output_type": "execute_result"
    }
   ],
   "source": [
    "# How many rows are there in tx?\n",
    "\n",
    "import pandas as pd\n",
    "tx = pd.read_csv(\"../data/processed/transactions_canonical.csv\")\n",
    "\n",
    "len(tx)"
   ]
  },
  {
   "cell_type": "code",
   "execution_count": 8,
   "id": "4b52c593",
   "metadata": {},
   "outputs": [
    {
     "data": {
      "text/plain": [
       "64932"
      ]
     },
     "execution_count": 8,
     "metadata": {},
     "output_type": "execute_result"
    }
   ],
   "source": [
    "# Number of unique users\n",
    "tx[\"shopUserId\"].nunique()\n"
   ]
  },
  {
   "cell_type": "code",
   "execution_count": null,
   "id": "4160d9ec",
   "metadata": {},
   "outputs": [
    {
     "ename": "KeyError",
     "evalue": "'groupId'",
     "output_type": "error",
     "traceback": [
      "\u001b[0;31m---------------------------------------------------------------------------\u001b[0m",
      "\u001b[0;31mKeyError\u001b[0m                                  Traceback (most recent call last)",
      "File \u001b[0;32m/opt/conda/lib/python3.10/site-packages/pandas/core/indexes/base.py:3812\u001b[0m, in \u001b[0;36mIndex.get_loc\u001b[0;34m(self, key)\u001b[0m\n\u001b[1;32m   3811\u001b[0m \u001b[38;5;28;01mtry\u001b[39;00m:\n\u001b[0;32m-> 3812\u001b[0m     \u001b[38;5;28;01mreturn\u001b[39;00m \u001b[38;5;28;43mself\u001b[39;49m\u001b[38;5;241;43m.\u001b[39;49m\u001b[43m_engine\u001b[49m\u001b[38;5;241;43m.\u001b[39;49m\u001b[43mget_loc\u001b[49m\u001b[43m(\u001b[49m\u001b[43mcasted_key\u001b[49m\u001b[43m)\u001b[49m\n\u001b[1;32m   3813\u001b[0m \u001b[38;5;28;01mexcept\u001b[39;00m \u001b[38;5;167;01mKeyError\u001b[39;00m \u001b[38;5;28;01mas\u001b[39;00m err:\n",
      "File \u001b[0;32mpandas/_libs/index.pyx:167\u001b[0m, in \u001b[0;36mpandas._libs.index.IndexEngine.get_loc\u001b[0;34m()\u001b[0m\n",
      "File \u001b[0;32mpandas/_libs/index.pyx:196\u001b[0m, in \u001b[0;36mpandas._libs.index.IndexEngine.get_loc\u001b[0;34m()\u001b[0m\n",
      "File \u001b[0;32mpandas/_libs/hashtable_class_helper.pxi:7088\u001b[0m, in \u001b[0;36mpandas._libs.hashtable.PyObjectHashTable.get_item\u001b[0;34m()\u001b[0m\n",
      "File \u001b[0;32mpandas/_libs/hashtable_class_helper.pxi:7096\u001b[0m, in \u001b[0;36mpandas._libs.hashtable.PyObjectHashTable.get_item\u001b[0;34m()\u001b[0m\n",
      "\u001b[0;31mKeyError\u001b[0m: 'groupId'",
      "\nThe above exception was the direct cause of the following exception:\n",
      "\u001b[0;31mKeyError\u001b[0m                                  Traceback (most recent call last)",
      "Cell \u001b[0;32mIn[6], line 10\u001b[0m\n\u001b[1;32m      8\u001b[0m tx_sku \u001b[38;5;241m=\u001b[39m pd\u001b[38;5;241m.\u001b[39mIndex(tx[\u001b[38;5;124m\"\u001b[39m\u001b[38;5;124msku\u001b[39m\u001b[38;5;124m\"\u001b[39m]\u001b[38;5;241m.\u001b[39mdropna()\u001b[38;5;241m.\u001b[39munique())\n\u001b[1;32m      9\u001b[0m a_sku \u001b[38;5;241m=\u001b[39m pd\u001b[38;5;241m.\u001b[39mIndex(a[\u001b[38;5;124m\"\u001b[39m\u001b[38;5;124msku\u001b[39m\u001b[38;5;124m\"\u001b[39m]\u001b[38;5;241m.\u001b[39mdropna()\u001b[38;5;241m.\u001b[39munique())\n\u001b[0;32m---> 10\u001b[0m tx_groupid \u001b[38;5;241m=\u001b[39m pd\u001b[38;5;241m.\u001b[39mIndex(\u001b[43mtx\u001b[49m\u001b[43m[\u001b[49m\u001b[38;5;124;43m\"\u001b[39;49m\u001b[38;5;124;43mgroupId\u001b[39;49m\u001b[38;5;124;43m\"\u001b[39;49m\u001b[43m]\u001b[49m\u001b[38;5;241m.\u001b[39mdropna()\u001b[38;5;241m.\u001b[39munique())\n\u001b[1;32m     11\u001b[0m a_groupid \u001b[38;5;241m=\u001b[39m pd\u001b[38;5;241m.\u001b[39mIndex(a[\u001b[38;5;124m\"\u001b[39m\u001b[38;5;124mgroupId\u001b[39m\u001b[38;5;124m\"\u001b[39m]\u001b[38;5;241m.\u001b[39mdropna()\u001b[38;5;241m.\u001b[39munique())\n\u001b[1;32m     13\u001b[0m \u001b[38;5;66;03m# Calculate percentages\u001b[39;00m\n",
      "File \u001b[0;32m/opt/conda/lib/python3.10/site-packages/pandas/core/frame.py:4107\u001b[0m, in \u001b[0;36mDataFrame.__getitem__\u001b[0;34m(self, key)\u001b[0m\n\u001b[1;32m   4105\u001b[0m \u001b[38;5;28;01mif\u001b[39;00m \u001b[38;5;28mself\u001b[39m\u001b[38;5;241m.\u001b[39mcolumns\u001b[38;5;241m.\u001b[39mnlevels \u001b[38;5;241m>\u001b[39m \u001b[38;5;241m1\u001b[39m:\n\u001b[1;32m   4106\u001b[0m     \u001b[38;5;28;01mreturn\u001b[39;00m \u001b[38;5;28mself\u001b[39m\u001b[38;5;241m.\u001b[39m_getitem_multilevel(key)\n\u001b[0;32m-> 4107\u001b[0m indexer \u001b[38;5;241m=\u001b[39m \u001b[38;5;28;43mself\u001b[39;49m\u001b[38;5;241;43m.\u001b[39;49m\u001b[43mcolumns\u001b[49m\u001b[38;5;241;43m.\u001b[39;49m\u001b[43mget_loc\u001b[49m\u001b[43m(\u001b[49m\u001b[43mkey\u001b[49m\u001b[43m)\u001b[49m\n\u001b[1;32m   4108\u001b[0m \u001b[38;5;28;01mif\u001b[39;00m is_integer(indexer):\n\u001b[1;32m   4109\u001b[0m     indexer \u001b[38;5;241m=\u001b[39m [indexer]\n",
      "File \u001b[0;32m/opt/conda/lib/python3.10/site-packages/pandas/core/indexes/base.py:3819\u001b[0m, in \u001b[0;36mIndex.get_loc\u001b[0;34m(self, key)\u001b[0m\n\u001b[1;32m   3814\u001b[0m     \u001b[38;5;28;01mif\u001b[39;00m \u001b[38;5;28misinstance\u001b[39m(casted_key, \u001b[38;5;28mslice\u001b[39m) \u001b[38;5;129;01mor\u001b[39;00m (\n\u001b[1;32m   3815\u001b[0m         \u001b[38;5;28misinstance\u001b[39m(casted_key, abc\u001b[38;5;241m.\u001b[39mIterable)\n\u001b[1;32m   3816\u001b[0m         \u001b[38;5;129;01mand\u001b[39;00m \u001b[38;5;28many\u001b[39m(\u001b[38;5;28misinstance\u001b[39m(x, \u001b[38;5;28mslice\u001b[39m) \u001b[38;5;28;01mfor\u001b[39;00m x \u001b[38;5;129;01min\u001b[39;00m casted_key)\n\u001b[1;32m   3817\u001b[0m     ):\n\u001b[1;32m   3818\u001b[0m         \u001b[38;5;28;01mraise\u001b[39;00m InvalidIndexError(key)\n\u001b[0;32m-> 3819\u001b[0m     \u001b[38;5;28;01mraise\u001b[39;00m \u001b[38;5;167;01mKeyError\u001b[39;00m(key) \u001b[38;5;28;01mfrom\u001b[39;00m\u001b[38;5;250m \u001b[39m\u001b[38;5;21;01merr\u001b[39;00m\n\u001b[1;32m   3820\u001b[0m \u001b[38;5;28;01mexcept\u001b[39;00m \u001b[38;5;167;01mTypeError\u001b[39;00m:\n\u001b[1;32m   3821\u001b[0m     \u001b[38;5;66;03m# If we have a listlike key, _check_indexing_error will raise\u001b[39;00m\n\u001b[1;32m   3822\u001b[0m     \u001b[38;5;66;03m#  InvalidIndexError. Otherwise we fall through and re-raise\u001b[39;00m\n\u001b[1;32m   3823\u001b[0m     \u001b[38;5;66;03m#  the TypeError.\u001b[39;00m\n\u001b[1;32m   3824\u001b[0m     \u001b[38;5;28mself\u001b[39m\u001b[38;5;241m.\u001b[39m_check_indexing_error(key)\n",
      "\u001b[0;31mKeyError\u001b[0m: 'groupId'"
     ]
    }
   ],
   "source": [
    "# Bring in the 'status' and 'groupId' columns from articles_clean and merge them into tx\n",
    "a = pd.read_csv(\"../data/processed/articles_clean.csv\", dtype=\"string\", usecols=[\"sku\", \"status\", \"groupId\"])\n",
    "tx[\"sku\"], a[\"sku\"] = tx[\"sku\"].str.strip(), a[\"sku\"].str.strip()\n",
    "# Merge status and groupId from articles into tx based on sku\n",
    "tx = tx.merge(a[[\"sku\", \"status\", \"groupId\"]], on=\"sku\", how=\"left\")\n",
    "\n",
    "# Calculate unique skus and groupIds in tx and articles\n",
    "tx_sku = pd.Index(tx[\"sku\"].dropna().unique())\n",
    "a_sku = pd.Index(a[\"sku\"].dropna().unique())\n",
    "tx_groupid = pd.Index(tx[\"groupId\"].dropna().unique())\n",
    "a_groupid = pd.Index(a[\"groupId\"].dropna().unique())\n",
    "\n",
    "# Calculate percentages\n",
    "sku_pct = 100 * len(tx_sku.intersection(a_sku)) / len(a_sku) if len(a_sku) > 0 else float('nan')\n",
    "groupid_pct = 100 * len(tx_groupid.intersection(a_groupid)) / len(a_groupid) if len(a_groupid) > 0 else float('nan')\n",
    "\n",
    "print(f\"Unique SKUs in tx: {len(tx_sku):,} | in articles: {len(a_sku):,}\")\n",
    "print(f\"SKUs in tx as % of articles: {sku_pct:.2f}%\")\n",
    "print(f\"Unique groupIds in tx: {len(tx_groupid):,} | in articles: {len(a_groupid):,}\")\n",
    "print(f\"groupIds in tx as % of articles: {groupid_pct:.2f}%\")"
   ]
  },
  {
   "cell_type": "code",
   "execution_count": null,
   "id": "3311845e",
   "metadata": {},
   "outputs": [],
   "source": []
  },
  {
   "cell_type": "code",
   "execution_count": 12,
   "id": "54616fa9",
   "metadata": {},
   "outputs": [],
   "source": [
    "# Remove rows from tx where sku is not found in articles\n",
    "tx = tx[tx[\"sku\"].isin(a_sku)]"
   ]
  },
  {
   "cell_type": "code",
   "execution_count": 13,
   "id": "5477d8a2",
   "metadata": {},
   "outputs": [
    {
     "data": {
      "text/html": [
       "<div>\n",
       "<style scoped>\n",
       "    .dataframe tbody tr th:only-of-type {\n",
       "        vertical-align: middle;\n",
       "    }\n",
       "\n",
       "    .dataframe tbody tr th {\n",
       "        vertical-align: top;\n",
       "    }\n",
       "\n",
       "    .dataframe thead th {\n",
       "        text-align: right;\n",
       "    }\n",
       "</style>\n",
       "<table border=\"1\" class=\"dataframe\">\n",
       "  <thead>\n",
       "    <tr style=\"text-align: right;\">\n",
       "      <th></th>\n",
       "      <th>orderId</th>\n",
       "      <th>shopUserId</th>\n",
       "      <th>created</th>\n",
       "      <th>currencyId</th>\n",
       "      <th>orderLineId</th>\n",
       "      <th>sku</th>\n",
       "      <th>quantity</th>\n",
       "      <th>price</th>\n",
       "      <th>name</th>\n",
       "      <th>status</th>\n",
       "      <th>groupId</th>\n",
       "    </tr>\n",
       "  </thead>\n",
       "  <tbody>\n",
       "    <tr>\n",
       "      <th>259660</th>\n",
       "      <td>158790</td>\n",
       "      <td>78135</td>\n",
       "      <td>2024-05-22 12:38:29</td>\n",
       "      <td>50</td>\n",
       "      <td>454306.0</td>\n",
       "      <td>291294</td>\n",
       "      <td>1.0</td>\n",
       "      <td>11.3</td>\n",
       "      <td>Vasaravarpaan oikaisija 4/pak</td>\n",
       "      <td>active</td>\n",
       "      <td>291294</td>\n",
       "    </tr>\n",
       "    <tr>\n",
       "      <th>259659</th>\n",
       "      <td>158791</td>\n",
       "      <td>78136</td>\n",
       "      <td>2024-05-22 12:44:01</td>\n",
       "      <td>40</td>\n",
       "      <td>454308.0</td>\n",
       "      <td>542092</td>\n",
       "      <td>1.0</td>\n",
       "      <td>89.0</td>\n",
       "      <td>Tvättlappar enfärgade av frotté 5-pack</td>\n",
       "      <td>active</td>\n",
       "      <td>542087</td>\n",
       "    </tr>\n",
       "    <tr>\n",
       "      <th>259657</th>\n",
       "      <td>158800</td>\n",
       "      <td>78145</td>\n",
       "      <td>2024-05-22 12:54:51</td>\n",
       "      <td>40</td>\n",
       "      <td>454358.0</td>\n",
       "      <td>250209-0039</td>\n",
       "      <td>1.0</td>\n",
       "      <td>259.0</td>\n",
       "      <td>Hälsotoffel</td>\n",
       "      <td>inactive</td>\n",
       "      <td>250209</td>\n",
       "    </tr>\n",
       "    <tr>\n",
       "      <th>259658</th>\n",
       "      <td>158800</td>\n",
       "      <td>78145</td>\n",
       "      <td>2024-05-22 12:54:51</td>\n",
       "      <td>40</td>\n",
       "      <td>454359.0</td>\n",
       "      <td>261518</td>\n",
       "      <td>1.0</td>\n",
       "      <td>49.0</td>\n",
       "      <td>Bh-förlängare 3-pack</td>\n",
       "      <td>active</td>\n",
       "      <td>261518</td>\n",
       "    </tr>\n",
       "    <tr>\n",
       "      <th>259655</th>\n",
       "      <td>158805</td>\n",
       "      <td>78150</td>\n",
       "      <td>2024-05-22 12:59:31</td>\n",
       "      <td>134</td>\n",
       "      <td>454377.0</td>\n",
       "      <td>542252</td>\n",
       "      <td>1.0</td>\n",
       "      <td>179.0</td>\n",
       "      <td>Köksset 4-delar återvunnet material</td>\n",
       "      <td>inactive</td>\n",
       "      <td>542251</td>\n",
       "    </tr>\n",
       "  </tbody>\n",
       "</table>\n",
       "</div>"
      ],
      "text/plain": [
       "        orderId  shopUserId              created  currencyId  orderLineId  \\\n",
       "259660   158790       78135  2024-05-22 12:38:29          50     454306.0   \n",
       "259659   158791       78136  2024-05-22 12:44:01          40     454308.0   \n",
       "259657   158800       78145  2024-05-22 12:54:51          40     454358.0   \n",
       "259658   158800       78145  2024-05-22 12:54:51          40     454359.0   \n",
       "259655   158805       78150  2024-05-22 12:59:31         134     454377.0   \n",
       "\n",
       "                sku  quantity  price                                    name  \\\n",
       "259660       291294       1.0   11.3           Vasaravarpaan oikaisija 4/pak   \n",
       "259659       542092       1.0   89.0  Tvättlappar enfärgade av frotté 5-pack   \n",
       "259657  250209-0039       1.0  259.0                             Hälsotoffel   \n",
       "259658       261518       1.0   49.0                    Bh-förlängare 3-pack   \n",
       "259655       542252       1.0  179.0     Köksset 4-delar återvunnet material   \n",
       "\n",
       "          status groupId  \n",
       "259660    active  291294  \n",
       "259659    active  542087  \n",
       "259657  inactive  250209  \n",
       "259658    active  261518  \n",
       "259655  inactive  542251  "
      ]
     },
     "execution_count": 13,
     "metadata": {},
     "output_type": "execute_result"
    }
   ],
   "source": [
    "tx.sort_values(\"orderId\", key=lambda x: x.astype(int)).head()"
   ]
  },
  {
   "cell_type": "code",
   "execution_count": 14,
   "id": "c5351039",
   "metadata": {},
   "outputs": [
    {
     "data": {
      "text/plain": [
       "orderId        0.0\n",
       "shopUserId     0.0\n",
       "created        0.0\n",
       "currencyId     0.0\n",
       "orderLineId    0.0\n",
       "sku            0.0\n",
       "quantity       0.0\n",
       "price          0.0\n",
       "name           0.0\n",
       "status         0.0\n",
       "groupId        0.0\n",
       "dtype: float64"
      ]
     },
     "execution_count": 14,
     "metadata": {},
     "output_type": "execute_result"
    }
   ],
   "source": [
    "# What proportion of null values are there in tx?\n",
    "tx.isnull().mean()"
   ]
  },
  {
   "cell_type": "markdown",
   "id": "b3504556",
   "metadata": {},
   "source": [
    "## Remove known bugs"
   ]
  },
  {
   "cell_type": "code",
   "execution_count": 15,
   "id": "01485391",
   "metadata": {},
   "outputs": [],
   "source": [
    "\n",
    "# Remove rows where 'created' date is 2024-05-26, 2024-05-27, 2024-05-28, or 2024-05-29 (bugs)\n",
    "tx['created'] = pd.to_datetime(tx['created'], errors='coerce')\n",
    "dates_to_remove = pd.to_datetime(['2024-05-21', '2024-05-26', '2024-05-27', '2024-05-28', '2024-05-29'])\n",
    "tx = tx[~tx['created'].dt.normalize().isin(dates_to_remove)]\n"
   ]
  },
  {
   "cell_type": "code",
   "execution_count": 16,
   "id": "670623b6",
   "metadata": {},
   "outputs": [
    {
     "name": "stdout",
     "output_type": "stream",
     "text": [
      "250042\n"
     ]
    }
   ],
   "source": [
    "print(len(tx))"
   ]
  },
  {
   "cell_type": "markdown",
   "id": "df749fd0",
   "metadata": {},
   "source": [
    "## Unify currenies to SEK for price bucketing"
   ]
  },
  {
   "cell_type": "code",
   "execution_count": 17,
   "id": "a6afce74",
   "metadata": {},
   "outputs": [],
   "source": [
    "# Source: ECB euro foreign exchange reference rates (2025-08-18)\n",
    "# https://www.ecb.europa.eu/stats/eurofxref/ (rates are indicative; updated ~16:00 CET on banking days)\n",
    "\n",
    "# Map currencyId to country code: 40=DK, 134=SE, 103=NO, 50=FI\n",
    "currencyid_to_country = {\n",
    "    40: \"DK\",\n",
    "    134: \"SE\",\n",
    "    103: \"NO\",\n",
    "    50: \"FI\"\n",
    "}\n",
    "\n",
    "conversion_rates = {\n",
    "    \"DK\": 1.494795,  # Danish krone -> SEK\n",
    "    \"NO\": 0.938825,  # Norwegian krone -> SEK\n",
    "    \"SE\": 1.0,       # Swedish krona -> SEK\n",
    "    \"FI\": 11.1570    # Finland (EUR) -> SEK\n",
    "}\n",
    "\n",
    "# Map currencyId to country code\n",
    "tx[\"currency_country\"] = tx[\"currencyId\"].map(currencyid_to_country)\n",
    "\n",
    "# Map to each row\n",
    "tx[\"sek_rate\"] = tx[\"currency_country\"].map(conversion_rates)\n",
    "\n",
    "# Safety: flag any unmapped currencyIds\n",
    "missing = tx[\"sek_rate\"].isna()\n",
    "if missing.any():\n",
    "    print(\"Warning: missing SEK rate for currencyIds:\", tx.loc[missing, \"currencyId\"].unique())\n",
    "\n",
    "# Ensure price is numeric, then compute\n",
    "tx[\"price\"] = pd.to_numeric(tx[\"price\"], errors=\"coerce\")\n",
    "tx[\"price_sek\"] = tx[\"price\"] * tx[\"sek_rate\"]"
   ]
  },
  {
   "cell_type": "code",
   "execution_count": 18,
   "id": "5660f058",
   "metadata": {},
   "outputs": [
    {
     "data": {
      "text/plain": [
       "118963    671759.378205\n",
       "200879      7098.781455\n",
       "106847      5556.186000\n",
       "65755       5515.793550\n",
       "220976      5515.793550\n",
       "32302       5515.793550\n",
       "39090       5515.793550\n",
       "225427      5515.793550\n",
       "26878       5515.793550\n",
       "131092      5515.793550\n",
       "Name: price_sek, dtype: float64"
      ]
     },
     "execution_count": 18,
     "metadata": {},
     "output_type": "execute_result"
    }
   ],
   "source": [
    "tx['price_sek'].sort_values(ascending=False).head(10)"
   ]
  },
  {
   "cell_type": "code",
   "execution_count": 19,
   "id": "4aaf40ef",
   "metadata": {},
   "outputs": [],
   "source": [
    "# Remove rows where the price value is 6 digits\n",
    "tx = tx[~tx['price'].astype(str).str.replace('.0$', '', regex=True).str.fullmatch(r'\\d{6}')]"
   ]
  },
  {
   "cell_type": "code",
   "execution_count": 21,
   "id": "6d8a7390",
   "metadata": {},
   "outputs": [
    {
     "name": "stdout",
     "output_type": "stream",
     "text": [
      "Price (SEK) statistics:\n",
      "  Count: 250,041\n",
      "  Mean: 309.06\n",
      "  Median: 244.34\n",
      "  Std: 247.15\n",
      "  Min: 0.00\n",
      "  Max: 7,098.78\n"
     ]
    },
    {
     "data": {
      "image/png": "[encoded data removed]",
      "text/plain": [
       "<Figure size 800x500 with 1 Axes>"
      ]
     },
     "metadata": {},
     "output_type": "display_data"
    }
   ],
   "source": [
    "import matplotlib.pyplot as plt\n",
    "\n",
    "# Show key statistics in numbers\n",
    "price_sek = tx[\"price_sek\"].dropna()\n",
    "print(\"Price (SEK) statistics:\")\n",
    "print(f\"  Count: {price_sek.count():,}\")\n",
    "print(f\"  Mean: {price_sek.mean():,.2f}\")\n",
    "print(f\"  Median: {price_sek.median():,.2f}\")\n",
    "print(f\"  Std: {price_sek.std():,.2f}\")\n",
    "print(f\"  Min: {price_sek.min():,.2f}\")\n",
    "print(f\"  Max: {price_sek.max():,.2f}\")\n",
    "\n",
    "plt.figure(figsize=(8, 5))\n",
    "plt.hist(\n",
    "    price_sek, \n",
    "    bins=50, \n",
    "    color=\"skyblue\", \n",
    "    edgecolor=\"black\"\n",
    ")\n",
    "plt.title(\"Distribution of Price (SEK)\")\n",
    "plt.xlabel(\"price_sek\")\n",
    "plt.ylabel(\"Frequency\")\n",
    "plt.xlim(price_sek.min(), price_sek.max())\n",
    "plt.grid(axis='y', alpha=0.75)\n",
    "plt.show()\n"
   ]
  },
  {
   "cell_type": "code",
   "execution_count": 24,
   "id": "0ee28f4c",
   "metadata": {},
   "outputs": [],
   "source": [
    "# Merge age info from customers into transactions\n",
    "customers = pd.read_csv(\"../data/processed/customers_clean.csv\", dtype={\"shopUserId\": str})\n",
    "tx['shopUserId'] = tx['shopUserId'].astype(str)\n",
    "tx = tx.merge(customers[['shopUserId', 'Age']], on='shopUserId', how='left')"
   ]
  },
  {
   "cell_type": "code",
   "execution_count": 25,
   "id": "bee41923",
   "metadata": {},
   "outputs": [
    {
     "data": {
      "text/plain": [
       "orderId             0.000000\n",
       "shopUserId          0.000000\n",
       "created             0.000000\n",
       "currencyId          0.000000\n",
       "orderLineId         0.000000\n",
       "sku                 0.000000\n",
       "quantity            0.000000\n",
       "price               0.000000\n",
       "name                0.000000\n",
       "status              0.000000\n",
       "groupId             0.000000\n",
       "currency_country    0.000000\n",
       "sek_rate            0.000000\n",
       "price_sek           0.000000\n",
       "Age                 0.503653\n",
       "dtype: float64"
      ]
     },
     "execution_count": 25,
     "metadata": {},
     "output_type": "execute_result"
    }
   ],
   "source": [
    "tx.isna().mean()"
   ]
  },
  {
   "cell_type": "code",
   "execution_count": 32,
   "id": "915f1134",
   "metadata": {},
   "outputs": [],
   "source": [
    "# Save cleaned transactions to CSV\n",
    "tx.to_csv(\"../data/processed/transactions_clean.csv\", index=False)"
   ]
  },
  {
   "cell_type": "code",
   "execution_count": 33,
   "id": "62410c2e",
   "metadata": {},
   "outputs": [],
   "source": [
    "# Remove rows where Age is less than 20 or more than 100\n",
    "tx = tx[~((tx['Age'] < 20) | (tx['Age'] > 100))]\n"
   ]
  },
  {
   "cell_type": "code",
   "execution_count": 34,
   "id": "d766c99c",
   "metadata": {},
   "outputs": [
    {
     "name": "stdout",
     "output_type": "stream",
     "text": [
      "Age column statistics:\n",
      "  Count: 124,051\n",
      "  Mean: 74.26\n",
      "  Median: 76.00\n",
      "  Std: 11.62\n",
      "  Min: 20.00\n",
      "  Max: 100.00\n"
     ]
    }
   ],
   "source": [
    "print(\"Age column statistics:\")\n",
    "print(f\"  Count: {tx['Age'].count():,}\")\n",
    "print(f\"  Mean: {tx['Age'].mean():.2f}\")\n",
    "print(f\"  Median: {tx['Age'].median():.2f}\")\n",
    "print(f\"  Std: {tx['Age'].std():.2f}\")\n",
    "print(f\"  Min: {tx['Age'].min():.2f}\")\n",
    "print(f\"  Max: {tx['Age'].max():.2f}\")"
   ]
  },
  {
   "cell_type": "code",
   "execution_count": null,
   "id": "ba7f496e",
   "metadata": {},
   "outputs": [],
   "source": []
  },
  {
   "cell_type": "code",
   "execution_count": null,
   "id": "3dfc8330",
   "metadata": {},
   "outputs": [],
   "source": []
  },
  {
   "cell_type": "code",
   "execution_count": null,
   "id": "287441ab",
   "metadata": {},
   "outputs": [],
   "source": []
  },
  {
   "cell_type": "code",
   "execution_count": null,
   "id": "8af864bd",
   "metadata": {},
   "outputs": [],
   "source": []
  },
  {
   "cell_type": "code",
   "execution_count": null,
   "id": "b3c8bdba",
   "metadata": {},
   "outputs": [],
   "source": []
  },
  {
   "cell_type": "code",
   "execution_count": 43,
   "id": "97d7f745",
   "metadata": {},
   "outputs": [
    {
     "name": "stdout",
     "output_type": "stream",
     "text": [
      " orderId shopUserId       order_created  total_qty  basket_value  currencyId  avg_unit_price                                sku_list             groupid_list\n",
      "  158790      78135 2024-05-22 12:38:29          1            11          50              11                                [291294]                 [291294]\n",
      "  158791      78136 2024-05-22 12:44:01          1            89          40              89                                [542092]                 [542087]\n",
      "  158800      78145 2024-05-22 12:54:51          2           308          40             154                   [250209-0039, 261518]         [250209, 261518]\n",
      "  158805      78150 2024-05-22 12:59:31          3          1075         134             358           [200226, 250116-0042, 542252] [200226, 250116, 542251]\n",
      "  158808      78150 2024-05-22 13:07:10          1           418         134             418                           [270482-4446]                 [270482]\n",
      "  158817      78162 2024-05-22 13:23:46          1           149         103             149                           [210643-3638]                 [210644]\n",
      "  158818      78162 2024-05-22 13:24:47          1           119         103             119                           [270529-1111]                 [270529]\n",
      "  158824      78162 2024-05-22 13:27:19          1           119         103             119                           [270530-1111]                 [270529]\n",
      "  158840      78180 2024-05-22 13:41:43          1            98          40              98                           [200102-9008]                 [200102]\n",
      "  158841      78181 2024-05-22 13:42:39          3          1476         103             492 [240176-0046, 265823-E115, 265843-4115] [240176, 265823, 265843]\n"
     ]
    }
   ],
   "source": [
    "# aggregate rows based on orderId (object dtypes OK, in-place edits)\n",
    "\n",
    "import pandas as pd\n",
    "import numpy as np\n",
    "\n",
    "# --- Parse numerics & time from object ---\n",
    "tx.loc[:, 'created']  = pd.to_datetime(tx['created'], errors='coerce')\n",
    "tx.loc[:, 'quantity'] = pd.to_numeric(tx['quantity'], errors='coerce').fillna(1).clip(lower=1).round().astype('Int64')\n",
    "tx.loc[:, 'price_sek']    = pd.to_numeric(tx['price'], errors='coerce').round().astype('Int64')\n",
    "\n",
    "# Line total (no decimals)\n",
    "tx.loc[:, '_line_total'] = (tx['price'] * tx['quantity']).round().astype('Int64')\n",
    "\n",
    "# --- One row per orderId ---\n",
    "orders = (\n",
    "    tx.sort_values(['orderId','created'])\n",
    "      .groupby('orderId', as_index=False)\n",
    "      .agg(\n",
    "          shopUserId    = ('shopUserId','first'),\n",
    "          order_created = ('created','min'),\n",
    "          total_qty     = ('quantity','sum'),\n",
    "          basket_value  = ('_line_total','sum'),\n",
    "          currencyId    = ('currencyId','first')\n",
    "      )\n",
    ")\n",
    "\n",
    "# Ensure basket_value and total_qty are integers (no decimals)\n",
    "orders['total_qty'] = orders['total_qty'].astype(int)\n",
    "orders['basket_value'] = orders['basket_value'].astype(int)\n",
    "orders['avg_unit_price'] = (orders['basket_value'] / orders['total_qty']).round().astype(int)\n",
    "\n",
    "# SKUs per order (unique, sorted) — stays object list\n",
    "sku_list = (\n",
    "    tx.groupby('orderId')['sku']\n",
    "      .apply(lambda s: sorted(pd.Series(s, dtype='string').dropna().unique().tolist()))\n",
    "      .rename('sku_list')\n",
    ")\n",
    "\n",
    "# Group IDs per order (unique, sorted) — stays object list\n",
    "groupid_list = (\n",
    "    tx.groupby('orderId')['groupId']\n",
    "      .apply(lambda s: sorted(pd.Series(s, dtype='string').dropna().unique().tolist()))\n",
    "      .rename('groupid_list')\n",
    ")\n",
    "\n",
    "orders = orders.merge(sku_list, on='orderId', how='left')\n",
    "orders = orders.merge(groupid_list, on='orderId', how='left')\n",
    "\n",
    "print(orders.head(10).to_string(index=False))\n"
   ]
  },
  {
   "cell_type": "code",
   "execution_count": 36,
   "id": "cfc2110a",
   "metadata": {},
   "outputs": [
    {
     "data": {
      "image/png": "[encoded data removed]",
      "text/plain": [
       "<Figure size 700x500 with 1 Axes>"
      ]
     },
     "metadata": {},
     "output_type": "display_data"
    }
   ],
   "source": [
    "# Plot 1: Past orders \n",
    "import matplotlib.pyplot as plt\n",
    "import seaborn as sns\n",
    "import numpy as np\n",
    "import pandas as pd\n",
    "\n",
    "o = orders.sort_values(['shopUserId','order_created','orderId'])\n",
    "past = o.groupby('shopUserId').cumcount().astype('Int32')           # 0,1,2,...\n",
    "past_cap = past.clip(upper=20)\n",
    "\n",
    "bins   = list(range(0, 21)) + [np.inf]\n",
    "labels = [str(i) for i in range(0, 20)] + ['20+']\n",
    "past_cat = pd.cut(past_cap, bins=bins, right=False, labels=labels, include_lowest=True)\n",
    "\n",
    "plt.figure(figsize=(7,5))\n",
    "ax = sns.countplot(x=past_cat, color='skyblue')\n",
    "ax.set_yscale('log')\n",
    "ax.set_title('User Past Orders (capped at 20+, log-y)')\n",
    "ax.set_xlabel('Number of Past Orders'); ax.set_ylabel('Count')\n",
    "\n",
    "for p in ax.patches:\n",
    "    h = int(p.get_height())\n",
    "    if h > 0:\n",
    "        ax.annotate(f'{h:,}', (p.get_x()+p.get_width()/2., h),\n",
    "                    ha='center', va='bottom', fontsize=8, rotation=90)\n",
    "\n",
    "plt.tight_layout(); plt.show()\n"
   ]
  },
  {
   "cell_type": "code",
   "execution_count": 37,
   "id": "c8c47511",
   "metadata": {},
   "outputs": [
    {
     "name": "stdout",
     "output_type": "stream",
     "text": [
      "One-time customers:      62,793 (85.4%)\n",
      "Repeat customers:        10,749 (14.6%)\n",
      "More than 2 orders:      4,127 (5.6%)\n"
     ]
    }
   ],
   "source": [
    "# Customers who ordered once vs. more than once, and more than twice\n",
    "order_counts = orders.groupby('shopUserId')['orderId'].nunique()\n",
    "\n",
    "one_time_customers   = int((order_counts == 1).sum())\n",
    "repeat_customers     = int((order_counts > 1).sum())\n",
    "more_than_two_customers = int((order_counts > 2).sum())\n",
    "total_customers      = int(order_counts.size)\n",
    "\n",
    "print(f\"One-time customers:      {one_time_customers:,} ({one_time_customers/total_customers*100:.1f}%)\")\n",
    "print(f\"Repeat customers:        {repeat_customers:,} ({repeat_customers/total_customers*100:.1f}%)\")\n",
    "print(f\"More than 2 orders:      {more_than_two_customers:,} ({more_than_two_customers/total_customers*100:.1f}%)\")\n"
   ]
  },
  {
   "cell_type": "code",
   "execution_count": null,
   "id": "617773ec",
   "metadata": {},
   "outputs": [
    {
     "ename": "NameError",
     "evalue": "name 'order_agg' is not defined",
     "output_type": "error",
     "traceback": [
      "\u001b[0;31m---------------------------------------------------------------------------\u001b[0m",
      "\u001b[0;31mNameError\u001b[0m                                 Traceback (most recent call last)",
      "Cell \u001b[0;32mIn[52], line 9\u001b[0m\n\u001b[1;32m      5\u001b[0m \u001b[38;5;28;01mimport\u001b[39;00m\u001b[38;5;250m \u001b[39m\u001b[38;5;21;01mmatplotlib\u001b[39;00m\u001b[38;5;21;01m.\u001b[39;00m\u001b[38;5;21;01mpyplot\u001b[39;00m\u001b[38;5;250m \u001b[39m\u001b[38;5;28;01mas\u001b[39;00m\u001b[38;5;250m \u001b[39m\u001b[38;5;21;01mplt\u001b[39;00m\n\u001b[1;32m      7\u001b[0m \u001b[38;5;66;03m# 1) Inter-purchase time per user (any item)\u001b[39;00m\n\u001b[1;32m      8\u001b[0m user_orders \u001b[38;5;241m=\u001b[39m (\n\u001b[0;32m----> 9\u001b[0m     \u001b[43morder_agg\u001b[49m[[\u001b[38;5;124m\"\u001b[39m\u001b[38;5;124mshopUserId\u001b[39m\u001b[38;5;124m\"\u001b[39m, \u001b[38;5;124m\"\u001b[39m\u001b[38;5;124morderId\u001b[39m\u001b[38;5;124m\"\u001b[39m, \u001b[38;5;124m\"\u001b[39m\u001b[38;5;124morder_created\u001b[39m\u001b[38;5;124m\"\u001b[39m]]\n\u001b[1;32m     10\u001b[0m     \u001b[38;5;241m.\u001b[39mdropna(subset\u001b[38;5;241m=\u001b[39m[\u001b[38;5;124m\"\u001b[39m\u001b[38;5;124morder_created\u001b[39m\u001b[38;5;124m\"\u001b[39m])\n\u001b[1;32m     11\u001b[0m     \u001b[38;5;241m.\u001b[39msort_values([\u001b[38;5;124m\"\u001b[39m\u001b[38;5;124mshopUserId\u001b[39m\u001b[38;5;124m\"\u001b[39m, \u001b[38;5;124m\"\u001b[39m\u001b[38;5;124morder_created\u001b[39m\u001b[38;5;124m\"\u001b[39m])\n\u001b[1;32m     12\u001b[0m )\n\u001b[1;32m     13\u001b[0m user_orders[\u001b[38;5;124m\"\u001b[39m\u001b[38;5;124minterpurchase_days\u001b[39m\u001b[38;5;124m\"\u001b[39m] \u001b[38;5;241m=\u001b[39m (\n\u001b[1;32m     14\u001b[0m     user_orders\u001b[38;5;241m.\u001b[39mgroupby(\u001b[38;5;124m\"\u001b[39m\u001b[38;5;124mshopUserId\u001b[39m\u001b[38;5;124m\"\u001b[39m)[\u001b[38;5;124m\"\u001b[39m\u001b[38;5;124morder_created\u001b[39m\u001b[38;5;124m\"\u001b[39m]\u001b[38;5;241m.\u001b[39mdiff()\u001b[38;5;241m.\u001b[39mdt\u001b[38;5;241m.\u001b[39mtotal_seconds() \u001b[38;5;241m/\u001b[39m (\u001b[38;5;241m24\u001b[39m\u001b[38;5;241m*\u001b[39m\u001b[38;5;241m3600\u001b[39m)\n\u001b[1;32m     15\u001b[0m )\n\u001b[1;32m     16\u001b[0m ipt_df \u001b[38;5;241m=\u001b[39m user_orders\u001b[38;5;241m.\u001b[39mdropna(subset\u001b[38;5;241m=\u001b[39m[\u001b[38;5;124m\"\u001b[39m\u001b[38;5;124minterpurchase_days\u001b[39m\u001b[38;5;124m\"\u001b[39m])\u001b[38;5;241m.\u001b[39mcopy()\n",
      "\u001b[0;31mNameError\u001b[0m: name 'order_agg' is not defined"
     ]
    }
   ],
   "source": [
    "# Aggregate order lines to order-level summary with groupid_list per order\n",
    "\n",
    "# First, ensure order_created is datetime\n",
    "orders['order_created'] = pd.to_datetime(orders['order_created'], errors='coerce')\n",
    "\n",
    "# Helper to extract groupId prefix (before dash) as in your example\n",
    "def groupid_prefix(x):\n",
    "    # Handles both int and str, e.g. 250209-0039 -> 250209, 542092 -> 542092\n",
    "    return [str(i).split('-')[0] for i in x]\n",
    "\n",
    "# Group by orderId, shopUserId, order_created, currencyId\n",
    "order_agg = (\n",
    "    orders\n",
    "    .sort_values(['orderId', 'orderLineId' if 'orderLineId' in orders.columns else 'sku'])  # stable order for lists\n",
    "    .groupby(['orderId', 'shopUserId', 'order_created', 'currencyId'], as_index=False)\n",
    "    .agg(\n",
    "        total_qty=('quantity', 'sum'),\n",
    "        basket_value=('price', 'sum'),\n",
    "        sku_list=('sku', lambda x: list(x)),\n",
    "        groupid_list=('sku', lambda x: groupid_prefix(x)),\n",
    "        avg_unit_price=('price', lambda x: np.round(x.sum() / x.count(), 2))\n",
    "    )\n",
    ")\n",
    "\n",
    "# Reorder columns for clarity\n",
    "order_agg = order_agg[[\n",
    "    'orderId', 'shopUserId', 'order_created', 'total_qty', 'basket_value', 'currencyId',\n",
    "    'avg_unit_price', 'sku_list', 'groupid_list'\n",
    "]]\n",
    "\n",
    "# Show a sample\n",
    "print(order_agg.head(10).to_string(index=False))\n"
   ]
  },
  {
   "cell_type": "code",
   "execution_count": 42,
   "id": "11c332b7",
   "metadata": {},
   "outputs": [
    {
     "name": "stdout",
     "output_type": "stream",
     "text": [
      "Number of rebuys with valid time delta: 6615\n",
      "Rebuy time (days) statistics:\n",
      "count    6615.000000\n",
      "mean       29.014609\n",
      "std        67.606202\n",
      "min         0.000000\n",
      "10%         0.000000\n",
      "25%         0.000000\n",
      "50%         0.000000\n",
      "75%        13.481667\n",
      "90%       116.604544\n",
      "99%       310.067378\n",
      "max       413.186331\n",
      "Name: rebuy_timedelta, dtype: float64\n"
     ]
    },
    {
     "data": {
      "image/png": "[encoded data removed]",
      "text/plain": [
       "<Figure size 800x500 with 1 Axes>"
      ]
     },
     "metadata": {},
     "output_type": "display_data"
    }
   ],
   "source": [
    "# Distribution of time between rebuys\n",
    "\n",
    "# We'll use tx_sorted from above, which is sorted by user and time, and has is_rebuy and prev_groupId columns\n",
    "\n",
    "# Only consider rows where a rebuy occurred (i.e., is_rebuy == True and prev_groupId is not null)\n",
    "rebuy_rows = tx_sorted[rebuy_mask & tx_sorted['is_rebuy']].copy()\n",
    "\n",
    "# Compute time difference between current and previous order\n",
    "rebuy_rows['created'] = pd.to_datetime(rebuy_rows['created'], errors='coerce')\n",
    "rebuy_rows['prev_created'] = rebuy_rows.groupby('shopUserId')['created'].shift(1)\n",
    "rebuy_rows['rebuy_timedelta'] = rebuy_rows['created'] - rebuy_rows['prev_created']\n",
    "\n",
    "# Drop any rows with missing time deltas (should be rare)\n",
    "rebuy_time_deltas = rebuy_rows['rebuy_timedelta'].dropna()\n",
    "\n",
    "# Convert to days for easier interpretation\n",
    "rebuy_time_days = rebuy_time_deltas.dt.total_seconds() / (24*3600)\n",
    "\n",
    "print(f\"Number of rebuys with valid time delta: {rebuy_time_days.shape[0]}\")\n",
    "\n",
    "# Show basic statistics\n",
    "print(\"Rebuy time (days) statistics:\")\n",
    "print(rebuy_time_days.describe(percentiles=[.1, .25, .5, .75, .9, .99]))\n",
    "\n",
    "# Plot the distribution (clip at 180 days for visualization)\n",
    "import matplotlib.pyplot as plt\n",
    "\n",
    "plt.figure(figsize=(8,5))\n",
    "plt.hist(rebuy_time_days.clip(upper=180), bins=50, color='skyblue', edgecolor='k')\n",
    "plt.title(\"Distribution of Time Between Rebuys (clipped at 180 days)\")\n",
    "plt.xlabel(\"Days between rebuys\")\n",
    "plt.ylabel(\"Count\")\n",
    "plt.tight_layout()\n",
    "plt.show()\n"
   ]
  },
  {
   "cell_type": "code",
   "execution_count": 18,
   "id": "8e28a81e",
   "metadata": {},
   "outputs": [
    {
     "name": "stdout",
     "output_type": "stream",
     "text": [
      "Users with multiple orders on the same day: 753\n",
      "shopUserId _order_date  n_orders                                         orderIds                                                        times                        basket_values  same_total_price\n",
      "    183783  2024-09-02         6 [284522, 284542, 284545, 284552, 284557, 284563] [12:32:27, 12:40:17, 12:41:25, 12:42:53, 12:44:51, 12:46:16]       [279, 298, 398, 458, 498, 498]             False\n",
      "    654825  2025-05-21         6 [709594, 709601, 709604, 709654, 709670, 709682] [11:26:01, 11:26:48, 11:27:53, 11:30:05, 11:35:14, 11:40:26] [1274, 1274, 1274, 1274, 1274, 1274]              True\n",
      "    703767  2025-04-16         5         [665013, 665017, 665025, 665029, 665045]           [17:33:15, 17:38:46, 17:43:46, 17:48:28, 18:01:02]            [139, 149, 278, 298, 298]             False\n",
      "    262090  2024-06-24         4                 [192175, 192347, 192367, 192415]                     [09:38:27, 11:55:01, 12:06:48, 12:41:22]                 [254, 254, 254, 254]              True\n",
      "    289725  2024-08-30         4                 [279909, 280192, 280761, 280932]                     [03:49:44, 08:37:18, 14:43:30, 17:54:03]             [1107, 1107, 1107, 1107]              True\n",
      "    638761  2025-02-13         4                 [582552, 582682, 582960, 583240]                     [10:42:02, 11:57:28, 14:39:42, 18:59:09]                 [349, 469, 498, 818]             False\n",
      "    355898  2025-04-23         4                 [671361, 671363, 671367, 671431]                     [10:52:11, 10:52:56, 10:55:12, 11:32:20]                 [875, 875, 875, 875]              True\n",
      "    104278  2025-07-18         4                 [767273, 767274, 767279, 767292]                     [10:23:33, 10:26:25, 10:29:09, 10:39:57]                 [298, 349, 398, 947]             False\n",
      "     78162  2024-05-22         3                         [158817, 158818, 158824]                               [13:23:46, 13:24:47, 13:27:19]                      [119, 119, 149]             False\n",
      "     78162  2024-05-24         3                         [159788, 159795, 159796]                               [10:34:39, 10:37:02, 10:38:58]                        [29, 98, 198]             False\n"
     ]
    }
   ],
   "source": [
    "# Same-user, same-day orders (calendar day) and check if those orders have the same total price\n",
    "\n",
    "import pandas as pd\n",
    "\n",
    "# ensure datetime\n",
    "orders['order_created'] = pd.to_datetime(orders['order_created'], errors='coerce')\n",
    "\n",
    "# calendar day\n",
    "orders['_order_date'] = orders['order_created'].dt.floor('D')\n",
    "\n",
    "# aggregate per (user, day)\n",
    "same_day = (orders\n",
    "    .groupby(['shopUserId','_order_date'], as_index=False)\n",
    "    .agg(\n",
    "        n_orders=('orderId','nunique'),\n",
    "        orderIds=('orderId', lambda s: sorted(s.tolist())),\n",
    "        times=('order_created', lambda s: sorted(s.dt.strftime('%H:%M:%S').tolist())),\n",
    "        basket_values=('basket_value', lambda s: sorted(s.tolist()))\n",
    "    )\n",
    ")\n",
    "\n",
    "# keep only days with 2+ orders\n",
    "same_day_multi = same_day.query('n_orders > 1').sort_values(['n_orders', '_order_date', 'shopUserId'], ascending=[False, True, True])\n",
    "\n",
    "# Check if all basket_values are the same for each group\n",
    "def all_equal(lst):\n",
    "    return len(set(lst)) == 1 if len(lst) > 1 else True\n",
    "\n",
    "same_day_multi['same_total_price'] = same_day_multi['basket_values'].apply(all_equal)\n",
    "\n",
    "print(f\"Users with multiple orders on the same day: {same_day_multi.shape[0]}\")\n",
    "print(same_day_multi[['shopUserId', '_order_date', 'n_orders', 'orderIds', 'times', 'basket_values', 'same_total_price']].head(10).to_string(index=False))\n"
   ]
  },
  {
   "cell_type": "code",
   "execution_count": null,
   "id": "7587fe9d",
   "metadata": {},
   "outputs": [],
   "source": []
  },
  {
   "cell_type": "code",
   "execution_count": null,
   "id": "79334a0e",
   "metadata": {},
   "outputs": [],
   "source": []
  },
  {
   "cell_type": "code",
   "execution_count": null,
   "id": "dcbb7e10",
   "metadata": {},
   "outputs": [],
   "source": []
  },
  {
   "cell_type": "code",
   "execution_count": null,
   "id": "28841c2f",
   "metadata": {},
   "outputs": [],
   "source": []
  },
  {
   "cell_type": "code",
   "execution_count": null,
   "id": "ffdee096",
   "metadata": {},
   "outputs": [],
   "source": []
  },
  {
   "cell_type": "code",
   "execution_count": null,
   "id": "8f7d586e",
   "metadata": {},
   "outputs": [],
   "source": []
  },
  {
   "cell_type": "code",
   "execution_count": null,
   "id": "f9969a5d",
   "metadata": {},
   "outputs": [],
   "source": []
  },
  {
   "cell_type": "code",
   "execution_count": null,
   "id": "79ab1f2d",
   "metadata": {},
   "outputs": [],
   "source": []
  },
  {
   "cell_type": "code",
   "execution_count": null,
   "id": "27bf586b",
   "metadata": {},
   "outputs": [],
   "source": []
  },
  {
   "cell_type": "code",
   "execution_count": null,
   "id": "e9e6f776",
   "metadata": {},
   "outputs": [],
   "source": []
  },
  {
   "cell_type": "code",
   "execution_count": null,
   "id": "573cc82f",
   "metadata": {},
   "outputs": [],
   "source": []
  },
  {
   "cell_type": "code",
   "execution_count": null,
   "metadata": {},
   "outputs": [],
   "source": []
  }
 ],
 "metadata": {
  "kernelspec": {
   "display_name": "base",
   "language": "python",
   "name": "python3"
  },
  "language_info": {
   "codemirror_mode": {
    "name": "ipython",
    "version": 3
   },
   "file_extension": ".py",
   "mimetype": "text/x-python",
   "name": "python",
   "nbconvert_exporter": "python",
   "pygments_lexer": "ipython3",
   "version": "3.10.14"
  }
 },
 "nbformat": 4,
 "nbformat_minor": 5
}
