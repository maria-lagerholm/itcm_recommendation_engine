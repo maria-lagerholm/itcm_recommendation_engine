{
 "cells": [
  {
   "cell_type": "markdown",
   "id": "a461ec61",
   "metadata": {},
   "source": [
    "# First run eda_customers!"
   ]
  },
  {
   "cell_type": "code",
   "execution_count": 106,
   "id": "c1eb670a",
   "metadata": {},
   "outputs": [],
   "source": [
    "# How many rows are there in tx?\n",
    "\n",
    "import pandas as pd\n",
    "tx = pd.read_parquet(\"../data/processed/transactions_canonical.parquet\")\n",
    "a = pd.read_parquet(\"../data/processed/articles_clean.parquet\", columns=[\"sku\", \"groupId\", 'category', 'brand'])\n",
    "tx = tx.drop(columns=[\"invoiceEmail\", \"orderLineId\"], errors=\"ignore\")\n",
    "\n"
   ]
  },
  {
   "cell_type": "code",
   "execution_count": 107,
   "id": "d0760c6f",
   "metadata": {},
   "outputs": [
    {
     "name": "stdout",
     "output_type": "stream",
     "text": [
      "302219\n"
     ]
    }
   ],
   "source": [
    "print(len(tx))"
   ]
  },
  {
   "cell_type": "code",
   "execution_count": 108,
   "id": "cf3f21d4",
   "metadata": {},
   "outputs": [],
   "source": [
    "# ensure sku column names match in both frames; rename if needed\n",
    "# tx = tx.rename(columns={'articleSku':'sku'})  # example if needed\n",
    "\n",
    "cols = [\"groupId\", \"sku\", \"category\", \"brand\"]\n",
    "a_dedup = a[cols].drop_duplicates(subset=[\"groupId\", \"sku\"])\n",
    "\n",
    "tx = tx.merge(\n",
    "    a_dedup,\n",
    "    on=[\"groupId\", \"sku\"],\n",
    "    how=\"left\",\n",
    "    validate=\"many_to_one\"  # raises if a still has duplicate (groupId, sku)\n",
    ")\n"
   ]
  },
  {
   "cell_type": "code",
   "execution_count": 109,
   "id": "3877f27a",
   "metadata": {},
   "outputs": [
    {
     "name": "stdout",
     "output_type": "stream",
     "text": [
      "302219\n"
     ]
    }
   ],
   "source": [
    "print(len(tx))"
   ]
  },
  {
   "cell_type": "code",
   "execution_count": 110,
   "id": "1f460cc2",
   "metadata": {},
   "outputs": [
    {
     "data": {
      "text/plain": [
       "orderId                object\n",
       "shopUserId             object\n",
       "created                object\n",
       "currencyId             object\n",
       "sku                    object\n",
       "groupId                object\n",
       "quantity               object\n",
       "price                  object\n",
       "name                   object\n",
       "type                   object\n",
       "invoiceCity    string[python]\n",
       "category       string[python]\n",
       "brand          string[python]\n",
       "dtype: object"
      ]
     },
     "execution_count": 110,
     "metadata": {},
     "output_type": "execute_result"
    }
   ],
   "source": [
    "tx.dtypes\n"
   ]
  },
  {
   "cell_type": "code",
   "execution_count": 111,
   "id": "a3802951",
   "metadata": {},
   "outputs": [
    {
     "data": {
      "text/plain": [
       "orderId        0.000000\n",
       "shopUserId     0.000000\n",
       "created        0.000000\n",
       "currencyId     0.000000\n",
       "sku            0.000000\n",
       "groupId        0.000000\n",
       "quantity       0.000000\n",
       "price          0.000000\n",
       "name           0.000000\n",
       "type           0.000000\n",
       "invoiceCity    0.000000\n",
       "category       0.028234\n",
       "brand          0.028234\n",
       "dtype: float64"
      ]
     },
     "execution_count": 111,
     "metadata": {},
     "output_type": "execute_result"
    }
   ],
   "source": [
    "tx.isna().mean()"
   ]
  },
  {
   "cell_type": "code",
   "execution_count": 112,
   "id": "4df2c58d",
   "metadata": {},
   "outputs": [],
   "source": [
    "# Output rows where the price value is 6 digits or more\n",
    "six_digit_price_rows = tx[tx['price'].astype(str).str.replace('.0$', '', regex=True).str.fullmatch(r'\\d{6,}')]\n",
    "six_digit_price_rows\n",
    "\n",
    "# For rows where price is exactly 6 digits, set price to the last 3 digits (e.g., 449399.0 -> 399.0)\n",
    "mask_six_digit = tx['price'].astype(str).str.replace('.0$', '', regex=True).str.fullmatch(r'\\d{6}')\n",
    "# Fix prices in-place for those rows\n",
    "def fix_six_digit_price(val):\n",
    "    s = str(val).strip().replace('.0', '')\n",
    "    if len(s) == 6 and s.isdigit():\n",
    "        return float(s[-3:])\n",
    "    return val\n",
    "\n",
    "tx.loc[mask_six_digit, 'price'] = tx.loc[mask_six_digit, 'price'].apply(fix_six_digit_price)\n"
   ]
  },
  {
   "cell_type": "markdown",
   "id": "1e742921",
   "metadata": {},
   "source": [
    "# Drop rows where both category and brand are NA as those are internal tx related to delivery"
   ]
  },
  {
   "cell_type": "code",
   "execution_count": 113,
   "id": "382cfd61",
   "metadata": {},
   "outputs": [],
   "source": [
    "\n",
    "tx = tx[~(tx['category'].isna() & tx['brand'].isna())]\n"
   ]
  },
  {
   "cell_type": "code",
   "execution_count": 114,
   "id": "b9db7b70",
   "metadata": {},
   "outputs": [
    {
     "name": "stdout",
     "output_type": "stream",
     "text": [
      "293686\n"
     ]
    }
   ],
   "source": [
    "print(len(tx))"
   ]
  },
  {
   "cell_type": "markdown",
   "id": "b3504556",
   "metadata": {},
   "source": [
    "## Remove known bugs"
   ]
  },
  {
   "cell_type": "code",
   "execution_count": 115,
   "id": "e58edaaf",
   "metadata": {},
   "outputs": [],
   "source": [
    "# Keep only rows where 'created' date is on or after 2024-06-01 to avoid migration bugs\n",
    "tx['created'] = pd.to_datetime(tx['created'], errors='coerce')\n",
    "tx = tx[tx['created'] >= pd.to_datetime('2024-06-01')]"
   ]
  },
  {
   "cell_type": "code",
   "execution_count": 116,
   "id": "670623b6",
   "metadata": {},
   "outputs": [
    {
     "name": "stdout",
     "output_type": "stream",
     "text": [
      "289958\n"
     ]
    }
   ],
   "source": [
    "print(len(tx))"
   ]
  },
  {
   "cell_type": "code",
   "execution_count": 117,
   "id": "c7e305aa",
   "metadata": {},
   "outputs": [
    {
     "data": {
      "text/html": [
       "<div>\n",
       "<style scoped>\n",
       "    .dataframe tbody tr th:only-of-type {\n",
       "        vertical-align: middle;\n",
       "    }\n",
       "\n",
       "    .dataframe tbody tr th {\n",
       "        vertical-align: top;\n",
       "    }\n",
       "\n",
       "    .dataframe thead th {\n",
       "        text-align: right;\n",
       "    }\n",
       "</style>\n",
       "<table border=\"1\" class=\"dataframe\">\n",
       "  <thead>\n",
       "    <tr style=\"text-align: right;\">\n",
       "      <th></th>\n",
       "      <th>orderId</th>\n",
       "      <th>shopUserId</th>\n",
       "      <th>created</th>\n",
       "      <th>currencyId</th>\n",
       "      <th>sku</th>\n",
       "      <th>groupId</th>\n",
       "      <th>quantity</th>\n",
       "      <th>price</th>\n",
       "      <th>name</th>\n",
       "      <th>type</th>\n",
       "      <th>invoiceCity</th>\n",
       "      <th>category</th>\n",
       "      <th>brand</th>\n",
       "    </tr>\n",
       "  </thead>\n",
       "  <tbody>\n",
       "    <tr>\n",
       "      <th>0</th>\n",
       "      <td>849883</td>\n",
       "      <td>893240</td>\n",
       "      <td>2025-09-22 08:10:46</td>\n",
       "      <td>103</td>\n",
       "      <td>210780-4042</td>\n",
       "      <td>210780</td>\n",
       "      <td>1</td>\n",
       "      <td>298</td>\n",
       "      <td>Mønstret halvpolo</td>\n",
       "      <td>telephone</td>\n",
       "      <td>Nybergsund</td>\n",
       "      <td>Överdelar,Toppar</td>\n",
       "      <td>Åshild</td>\n",
       "    </tr>\n",
       "    <tr>\n",
       "      <th>1</th>\n",
       "      <td>849883</td>\n",
       "      <td>893240</td>\n",
       "      <td>2025-09-22 08:10:46</td>\n",
       "      <td>103</td>\n",
       "      <td>292706</td>\n",
       "      <td>292706</td>\n",
       "      <td>1</td>\n",
       "      <td>311.2</td>\n",
       "      <td>Penisring Bertil Belladot</td>\n",
       "      <td>telephone</td>\n",
       "      <td>Nybergsund</td>\n",
       "      <td>REA,Lust</td>\n",
       "      <td>Belladot</td>\n",
       "    </tr>\n",
       "    <tr>\n",
       "      <th>2</th>\n",
       "      <td>849883</td>\n",
       "      <td>893240</td>\n",
       "      <td>2025-09-22 08:10:46</td>\n",
       "      <td>103</td>\n",
       "      <td>292086</td>\n",
       "      <td>292086</td>\n",
       "      <td>1</td>\n",
       "      <td>379</td>\n",
       "      <td>Vibrator Ester rød Belladot</td>\n",
       "      <td>telephone</td>\n",
       "      <td>Nybergsund</td>\n",
       "      <td>Lust</td>\n",
       "      <td>Belladot</td>\n",
       "    </tr>\n",
       "    <tr>\n",
       "      <th>3</th>\n",
       "      <td>849880</td>\n",
       "      <td>603400</td>\n",
       "      <td>2025-09-22 08:08:42</td>\n",
       "      <td>103</td>\n",
       "      <td>210755-4042</td>\n",
       "      <td>210755</td>\n",
       "      <td>1</td>\n",
       "      <td>175</td>\n",
       "      <td>Stripete genser</td>\n",
       "      <td>telephone</td>\n",
       "      <td>Egersund</td>\n",
       "      <td>Överdelar,Tröjor</td>\n",
       "      <td>Åshild</td>\n",
       "    </tr>\n",
       "    <tr>\n",
       "      <th>4</th>\n",
       "      <td>849880</td>\n",
       "      <td>603400</td>\n",
       "      <td>2025-09-22 08:08:42</td>\n",
       "      <td>103</td>\n",
       "      <td>210733-4042</td>\n",
       "      <td>210733</td>\n",
       "      <td>1</td>\n",
       "      <td>249</td>\n",
       "      <td>Strikket jakke</td>\n",
       "      <td>telephone</td>\n",
       "      <td>Egersund</td>\n",
       "      <td>Koftor,Överdelar</td>\n",
       "      <td>Åshild</td>\n",
       "    </tr>\n",
       "  </tbody>\n",
       "</table>\n",
       "</div>"
      ],
      "text/plain": [
       "  orderId shopUserId             created currencyId          sku groupId  \\\n",
       "0  849883     893240 2025-09-22 08:10:46        103  210780-4042  210780   \n",
       "1  849883     893240 2025-09-22 08:10:46        103       292706  292706   \n",
       "2  849883     893240 2025-09-22 08:10:46        103       292086  292086   \n",
       "3  849880     603400 2025-09-22 08:08:42        103  210755-4042  210755   \n",
       "4  849880     603400 2025-09-22 08:08:42        103  210733-4042  210733   \n",
       "\n",
       "  quantity  price                         name       type invoiceCity  \\\n",
       "0        1    298            Mønstret halvpolo  telephone  Nybergsund   \n",
       "1        1  311.2    Penisring Bertil Belladot  telephone  Nybergsund   \n",
       "2        1    379  Vibrator Ester rød Belladot  telephone  Nybergsund   \n",
       "3        1    175              Stripete genser  telephone    Egersund   \n",
       "4        1    249              Strikket jakke   telephone    Egersund   \n",
       "\n",
       "           category     brand  \n",
       "0  Överdelar,Toppar    Åshild  \n",
       "1          REA,Lust  Belladot  \n",
       "2              Lust  Belladot  \n",
       "3  Överdelar,Tröjor    Åshild  \n",
       "4  Koftor,Överdelar    Åshild  "
      ]
     },
     "execution_count": 117,
     "metadata": {},
     "output_type": "execute_result"
    }
   ],
   "source": [
    "tx.head()"
   ]
  },
  {
   "cell_type": "markdown",
   "id": "df749fd0",
   "metadata": {},
   "source": [
    "## Unify currenies to SEK for price bucketing"
   ]
  },
  {
   "cell_type": "code",
   "execution_count": 118,
   "id": "a6afce74",
   "metadata": {},
   "outputs": [],
   "source": [
    "import pandas as pd\n",
    "import requests\n",
    "\n",
    "currencyid_to_country = {\n",
    "    \"40\":  \"DK\",\n",
    "    \"134\": \"SE\",\n",
    "    \"103\": \"NO\",\n",
    "    \"50\":  \"FI\",\n",
    "}\n",
    "\n",
    "def fetch_sek_rates():\n",
    "    resp = requests.get(\n",
    "        \"https://api.frankfurter.app/latest\",\n",
    "        params={\"from\": \"EUR\", \"to\": \"SEK,DKK,NOK\"},\n",
    "        timeout=10,\n",
    "    )\n",
    "    resp.raise_for_status()\n",
    "    rates = resp.json()[\"rates\"]\n",
    "    sek_per_eur = rates[\"SEK\"]\n",
    "    dkk_per_eur = rates[\"DKK\"]\n",
    "    nok_per_eur = rates[\"NOK\"]\n",
    "    return {\n",
    "        \"DK\": sek_per_eur / dkk_per_eur,\n",
    "        \"NO\": sek_per_eur / nok_per_eur,\n",
    "        \"SE\": 1.0,\n",
    "        \"FI\": sek_per_eur,\n",
    "    }\n",
    "\n",
    "tx[\"currencyId\"] = tx[\"currencyId\"].astype(\"string\").str.strip()\n",
    "tx[\"currency_country\"] = tx[\"currencyId\"].map(currencyid_to_country)\n",
    "conversion_rates = fetch_sek_rates()\n",
    "tx[\"sek_rate\"] = tx[\"currency_country\"].map(conversion_rates)\n",
    "tx[\"price\"] = pd.to_numeric(tx[\"price\"], errors=\"coerce\")\n",
    "tx[\"price_sek\"] = (tx[\"price\"] * tx[\"sek_rate\"]).round(0).astype(\"Int64\")\n"
   ]
  },
  {
   "cell_type": "code",
   "execution_count": 119,
   "id": "f48de10b",
   "metadata": {},
   "outputs": [
    {
     "data": {
      "text/html": [
       "<div>\n",
       "<style scoped>\n",
       "    .dataframe tbody tr th:only-of-type {\n",
       "        vertical-align: middle;\n",
       "    }\n",
       "\n",
       "    .dataframe tbody tr th {\n",
       "        vertical-align: top;\n",
       "    }\n",
       "\n",
       "    .dataframe thead th {\n",
       "        text-align: right;\n",
       "    }\n",
       "</style>\n",
       "<table border=\"1\" class=\"dataframe\">\n",
       "  <thead>\n",
       "    <tr style=\"text-align: right;\">\n",
       "      <th></th>\n",
       "      <th>orderId</th>\n",
       "      <th>shopUserId</th>\n",
       "      <th>created</th>\n",
       "      <th>currencyId</th>\n",
       "      <th>sku</th>\n",
       "      <th>groupId</th>\n",
       "      <th>quantity</th>\n",
       "      <th>price</th>\n",
       "      <th>name</th>\n",
       "      <th>type</th>\n",
       "      <th>invoiceCity</th>\n",
       "      <th>category</th>\n",
       "      <th>brand</th>\n",
       "      <th>currency_country</th>\n",
       "      <th>sek_rate</th>\n",
       "      <th>price_sek</th>\n",
       "    </tr>\n",
       "  </thead>\n",
       "  <tbody>\n",
       "    <tr>\n",
       "      <th>0</th>\n",
       "      <td>849883</td>\n",
       "      <td>893240</td>\n",
       "      <td>2025-09-22 08:10:46</td>\n",
       "      <td>103</td>\n",
       "      <td>210780-4042</td>\n",
       "      <td>210780</td>\n",
       "      <td>1</td>\n",
       "      <td>298.0</td>\n",
       "      <td>Mønstret halvpolo</td>\n",
       "      <td>telephone</td>\n",
       "      <td>Nybergsund</td>\n",
       "      <td>Överdelar,Toppar</td>\n",
       "      <td>Åshild</td>\n",
       "      <td>NO</td>\n",
       "      <td>0.942488</td>\n",
       "      <td>281</td>\n",
       "    </tr>\n",
       "    <tr>\n",
       "      <th>1</th>\n",
       "      <td>849883</td>\n",
       "      <td>893240</td>\n",
       "      <td>2025-09-22 08:10:46</td>\n",
       "      <td>103</td>\n",
       "      <td>292706</td>\n",
       "      <td>292706</td>\n",
       "      <td>1</td>\n",
       "      <td>311.2</td>\n",
       "      <td>Penisring Bertil Belladot</td>\n",
       "      <td>telephone</td>\n",
       "      <td>Nybergsund</td>\n",
       "      <td>REA,Lust</td>\n",
       "      <td>Belladot</td>\n",
       "      <td>NO</td>\n",
       "      <td>0.942488</td>\n",
       "      <td>293</td>\n",
       "    </tr>\n",
       "    <tr>\n",
       "      <th>2</th>\n",
       "      <td>849883</td>\n",
       "      <td>893240</td>\n",
       "      <td>2025-09-22 08:10:46</td>\n",
       "      <td>103</td>\n",
       "      <td>292086</td>\n",
       "      <td>292086</td>\n",
       "      <td>1</td>\n",
       "      <td>379.0</td>\n",
       "      <td>Vibrator Ester rød Belladot</td>\n",
       "      <td>telephone</td>\n",
       "      <td>Nybergsund</td>\n",
       "      <td>Lust</td>\n",
       "      <td>Belladot</td>\n",
       "      <td>NO</td>\n",
       "      <td>0.942488</td>\n",
       "      <td>357</td>\n",
       "    </tr>\n",
       "    <tr>\n",
       "      <th>3</th>\n",
       "      <td>849880</td>\n",
       "      <td>603400</td>\n",
       "      <td>2025-09-22 08:08:42</td>\n",
       "      <td>103</td>\n",
       "      <td>210755-4042</td>\n",
       "      <td>210755</td>\n",
       "      <td>1</td>\n",
       "      <td>175.0</td>\n",
       "      <td>Stripete genser</td>\n",
       "      <td>telephone</td>\n",
       "      <td>Egersund</td>\n",
       "      <td>Överdelar,Tröjor</td>\n",
       "      <td>Åshild</td>\n",
       "      <td>NO</td>\n",
       "      <td>0.942488</td>\n",
       "      <td>165</td>\n",
       "    </tr>\n",
       "    <tr>\n",
       "      <th>4</th>\n",
       "      <td>849880</td>\n",
       "      <td>603400</td>\n",
       "      <td>2025-09-22 08:08:42</td>\n",
       "      <td>103</td>\n",
       "      <td>210733-4042</td>\n",
       "      <td>210733</td>\n",
       "      <td>1</td>\n",
       "      <td>249.0</td>\n",
       "      <td>Strikket jakke</td>\n",
       "      <td>telephone</td>\n",
       "      <td>Egersund</td>\n",
       "      <td>Koftor,Överdelar</td>\n",
       "      <td>Åshild</td>\n",
       "      <td>NO</td>\n",
       "      <td>0.942488</td>\n",
       "      <td>235</td>\n",
       "    </tr>\n",
       "    <tr>\n",
       "      <th>...</th>\n",
       "      <td>...</td>\n",
       "      <td>...</td>\n",
       "      <td>...</td>\n",
       "      <td>...</td>\n",
       "      <td>...</td>\n",
       "      <td>...</td>\n",
       "      <td>...</td>\n",
       "      <td>...</td>\n",
       "      <td>...</td>\n",
       "      <td>...</td>\n",
       "      <td>...</td>\n",
       "      <td>...</td>\n",
       "      <td>...</td>\n",
       "      <td>...</td>\n",
       "      <td>...</td>\n",
       "      <td>...</td>\n",
       "    </tr>\n",
       "    <tr>\n",
       "      <th>298486</th>\n",
       "      <td>166428</td>\n",
       "      <td>252853</td>\n",
       "      <td>2024-06-01 05:23:25</td>\n",
       "      <td>40</td>\n",
       "      <td>261752-0050</td>\n",
       "      <td>260345</td>\n",
       "      <td>1</td>\n",
       "      <td>299.0</td>\n",
       "      <td>Støttetrusse Jaquard&amp;Lace</td>\n",
       "      <td>web</td>\n",
       "      <td>Hornslet</td>\n",
       "      <td>Underkläder,Gördlar</td>\n",
       "      <td>Miss Mary</td>\n",
       "      <td>DK</td>\n",
       "      <td>1.478737</td>\n",
       "      <td>442</td>\n",
       "    </tr>\n",
       "    <tr>\n",
       "      <th>298487</th>\n",
       "      <td>166428</td>\n",
       "      <td>252853</td>\n",
       "      <td>2024-06-01 05:23:25</td>\n",
       "      <td>40</td>\n",
       "      <td>261733-D110</td>\n",
       "      <td>239301</td>\n",
       "      <td>1</td>\n",
       "      <td>599.0</td>\n",
       "      <td>BH uden bøjle Lovely Lace Support</td>\n",
       "      <td>web</td>\n",
       "      <td>Hornslet</td>\n",
       "      <td>Bh utan bygel,Bh,Underkläder</td>\n",
       "      <td>Miss Mary</td>\n",
       "      <td>DK</td>\n",
       "      <td>1.478737</td>\n",
       "      <td>886</td>\n",
       "    </tr>\n",
       "    <tr>\n",
       "      <th>298488</th>\n",
       "      <td>166426</td>\n",
       "      <td>252851</td>\n",
       "      <td>2024-06-01 05:08:51</td>\n",
       "      <td>50</td>\n",
       "      <td>240189-0038</td>\n",
       "      <td>240189</td>\n",
       "      <td>1</td>\n",
       "      <td>49.9</td>\n",
       "      <td>Kuviolliset housut</td>\n",
       "      <td>web</td>\n",
       "      <td>Lempäälä</td>\n",
       "      <td>Byxor,Nederdelar</td>\n",
       "      <td>Åshild</td>\n",
       "      <td>FI</td>\n",
       "      <td>11.037000</td>\n",
       "      <td>551</td>\n",
       "    </tr>\n",
       "    <tr>\n",
       "      <th>298489</th>\n",
       "      <td>166420</td>\n",
       "      <td>252844</td>\n",
       "      <td>2024-06-01 00:58:50</td>\n",
       "      <td>103</td>\n",
       "      <td>263855-4135</td>\n",
       "      <td>263855</td>\n",
       "      <td>1</td>\n",
       "      <td>469.0</td>\n",
       "      <td>Bh uten bøyle</td>\n",
       "      <td>web</td>\n",
       "      <td>Bodø</td>\n",
       "      <td>Bh utan bygel,Bh,Underkläder</td>\n",
       "      <td>Glamorise</td>\n",
       "      <td>NO</td>\n",
       "      <td>0.942488</td>\n",
       "      <td>442</td>\n",
       "    </tr>\n",
       "    <tr>\n",
       "      <th>298490</th>\n",
       "      <td>166411</td>\n",
       "      <td>252836</td>\n",
       "      <td>2024-06-01 00:31:39</td>\n",
       "      <td>103</td>\n",
       "      <td>345901-8090</td>\n",
       "      <td>345901</td>\n",
       "      <td>1</td>\n",
       "      <td>1229.0</td>\n",
       "      <td>Body  Clara</td>\n",
       "      <td>web</td>\n",
       "      <td>Hvasser</td>\n",
       "      <td>Underkläder,Bh utan bygel,Body</td>\n",
       "      <td>Anita</td>\n",
       "      <td>NO</td>\n",
       "      <td>0.942488</td>\n",
       "      <td>1158</td>\n",
       "    </tr>\n",
       "  </tbody>\n",
       "</table>\n",
       "<p>289958 rows × 16 columns</p>\n",
       "</div>"
      ],
      "text/plain": [
       "       orderId shopUserId             created currencyId          sku groupId  \\\n",
       "0       849883     893240 2025-09-22 08:10:46        103  210780-4042  210780   \n",
       "1       849883     893240 2025-09-22 08:10:46        103       292706  292706   \n",
       "2       849883     893240 2025-09-22 08:10:46        103       292086  292086   \n",
       "3       849880     603400 2025-09-22 08:08:42        103  210755-4042  210755   \n",
       "4       849880     603400 2025-09-22 08:08:42        103  210733-4042  210733   \n",
       "...        ...        ...                 ...        ...          ...     ...   \n",
       "298486  166428     252853 2024-06-01 05:23:25         40  261752-0050  260345   \n",
       "298487  166428     252853 2024-06-01 05:23:25         40  261733-D110  239301   \n",
       "298488  166426     252851 2024-06-01 05:08:51         50  240189-0038  240189   \n",
       "298489  166420     252844 2024-06-01 00:58:50        103  263855-4135  263855   \n",
       "298490  166411     252836 2024-06-01 00:31:39        103  345901-8090  345901   \n",
       "\n",
       "       quantity   price                               name       type  \\\n",
       "0             1   298.0                  Mønstret halvpolo  telephone   \n",
       "1             1   311.2          Penisring Bertil Belladot  telephone   \n",
       "2             1   379.0        Vibrator Ester rød Belladot  telephone   \n",
       "3             1   175.0                    Stripete genser  telephone   \n",
       "4             1   249.0                    Strikket jakke   telephone   \n",
       "...         ...     ...                                ...        ...   \n",
       "298486        1   299.0          Støttetrusse Jaquard&Lace        web   \n",
       "298487        1   599.0  BH uden bøjle Lovely Lace Support        web   \n",
       "298488        1    49.9                 Kuviolliset housut        web   \n",
       "298489        1   469.0                      Bh uten bøyle        web   \n",
       "298490        1  1229.0                        Body  Clara        web   \n",
       "\n",
       "       invoiceCity                        category      brand  \\\n",
       "0       Nybergsund                Överdelar,Toppar     Åshild   \n",
       "1       Nybergsund                        REA,Lust   Belladot   \n",
       "2       Nybergsund                            Lust   Belladot   \n",
       "3         Egersund                Överdelar,Tröjor     Åshild   \n",
       "4         Egersund                Koftor,Överdelar     Åshild   \n",
       "...            ...                             ...        ...   \n",
       "298486    Hornslet             Underkläder,Gördlar  Miss Mary   \n",
       "298487    Hornslet    Bh utan bygel,Bh,Underkläder  Miss Mary   \n",
       "298488    Lempäälä                Byxor,Nederdelar     Åshild   \n",
       "298489        Bodø    Bh utan bygel,Bh,Underkläder  Glamorise   \n",
       "298490     Hvasser  Underkläder,Bh utan bygel,Body      Anita   \n",
       "\n",
       "       currency_country   sek_rate  price_sek  \n",
       "0                    NO   0.942488        281  \n",
       "1                    NO   0.942488        293  \n",
       "2                    NO   0.942488        357  \n",
       "3                    NO   0.942488        165  \n",
       "4                    NO   0.942488        235  \n",
       "...                 ...        ...        ...  \n",
       "298486               DK   1.478737        442  \n",
       "298487               DK   1.478737        886  \n",
       "298488               FI  11.037000        551  \n",
       "298489               NO   0.942488        442  \n",
       "298490               NO   0.942488       1158  \n",
       "\n",
       "[289958 rows x 16 columns]"
      ]
     },
     "execution_count": 119,
     "metadata": {},
     "output_type": "execute_result"
    }
   ],
   "source": [
    "tx"
   ]
  },
  {
   "cell_type": "code",
   "execution_count": 120,
   "id": "6d8a7390",
   "metadata": {},
   "outputs": [
    {
     "name": "stdout",
     "output_type": "stream",
     "text": [
      "Price (SEK) statistics (1st to 99th percentile):\n",
      "  Count: 284,756\n",
      "  Mean: 293.52\n",
      "  Median: 239.00\n",
      "  Std: 191.38\n",
      "  Min (1st percentile): 18.00\n",
      "  Max (99th percentile): 1,108.00\n"
     ]
    },
    {
     "data": {
      "image/png": "[encoded data removed]",
      "text/plain": [
       "<Figure size 800x500 with 1 Axes>"
      ]
     },
     "metadata": {},
     "output_type": "display_data"
    }
   ],
   "source": [
    "import matplotlib.pyplot as plt\n",
    "\n",
    "# Show key statistics in numbers\n",
    "price_sek = tx[\"price_sek\"].dropna()\n",
    "q_low = price_sek.quantile(0.01)\n",
    "q_high = price_sek.quantile(0.99)\n",
    "price_sek_trimmed = price_sek[(price_sek >= q_low) & (price_sek <= q_high)]\n",
    "\n",
    "print(\"Price (SEK) statistics (1st to 99th percentile):\")\n",
    "print(f\"  Count: {price_sek_trimmed.count():,}\")\n",
    "print(f\"  Mean: {price_sek_trimmed.mean():,.2f}\")\n",
    "print(f\"  Median: {price_sek_trimmed.median():,.2f}\")\n",
    "print(f\"  Std: {price_sek_trimmed.std():,.2f}\")\n",
    "print(f\"  Min (1st percentile): {q_low:,.2f}\")\n",
    "print(f\"  Max (99th percentile): {q_high:,.2f}\")\n",
    "\n",
    "plt.figure(figsize=(8, 5))\n",
    "plt.hist(\n",
    "    price_sek_trimmed, \n",
    "    bins=50, \n",
    "    color=\"skyblue\", \n",
    "    edgecolor=\"black\"\n",
    ")\n",
    "plt.title(\"Distribution of Price (SEK) (1st to 99th percentile)\")\n",
    "plt.xlabel(\"price_sek\")\n",
    "plt.ylabel(\"Frequency\")\n",
    "plt.xlim(q_low, q_high)\n",
    "plt.grid(axis='y', alpha=0.75)\n",
    "plt.show()\n"
   ]
  },
  {
   "cell_type": "code",
   "execution_count": 121,
   "id": "0ee28f4c",
   "metadata": {},
   "outputs": [],
   "source": [
    "# Read the cleaned customers data from Parquet, do not change dtypes\n",
    "customers = pd.read_parquet(\"../data/processed/customers_clean.parquet\")\n",
    "\n",
    "# Merge the 'Age' and 'invoiceCity' columns from the customers dataframe into the transactions dataframe, matching on 'shopUserId'\n",
    "# This adds the 'Age' and 'invoiceCity' information for each transaction, using a left join to keep all transactions\n",
    "tx = tx.merge(customers[[\"shopUserId\", \"Age\", \"Gender\"]], on=\"shopUserId\", how=\"left\")"
   ]
  },
  {
   "cell_type": "code",
   "execution_count": 122,
   "id": "bd6df341",
   "metadata": {},
   "outputs": [],
   "source": [
    "# Keep customers where age is between 10 and 105, or where age is NaN\n",
    "tx = tx[\n",
    "    (tx['Age'].isna()) |\n",
    "    ((tx['Age'] <= 105) & (tx['Age'] >= 10))\n",
    "]"
   ]
  },
  {
   "cell_type": "code",
   "execution_count": 123,
   "id": "bee41923",
   "metadata": {},
   "outputs": [
    {
     "data": {
      "text/plain": [
       "orderId             0.000000\n",
       "shopUserId          0.000000\n",
       "created             0.000000\n",
       "currencyId          0.000000\n",
       "sku                 0.000000\n",
       "groupId             0.000000\n",
       "quantity            0.000000\n",
       "price               0.000000\n",
       "name                0.000000\n",
       "type                0.000000\n",
       "invoiceCity         0.000000\n",
       "category            0.000000\n",
       "brand               0.000000\n",
       "currency_country    0.000000\n",
       "sek_rate            0.000000\n",
       "price_sek           0.000000\n",
       "Age                 0.363101\n",
       "Gender              0.363101\n",
       "dtype: float64"
      ]
     },
     "execution_count": 123,
     "metadata": {},
     "output_type": "execute_result"
    }
   ],
   "source": [
    "tx.isna().mean()"
   ]
  },
  {
   "cell_type": "code",
   "execution_count": 124,
   "id": "54669c45",
   "metadata": {},
   "outputs": [
    {
     "name": "stdout",
     "output_type": "stream",
     "text": [
      "Unique values in 'type' column: ['telephone' 'web' 'letter' 'email' 'other']\n"
     ]
    }
   ],
   "source": [
    "print(\"Unique values in 'type' column:\", tx[\"type\"].unique())\n"
   ]
  },
  {
   "cell_type": "markdown",
   "id": "e8ca778f",
   "metadata": {},
   "source": [
    "# Line price"
   ]
  },
  {
   "cell_type": "code",
   "execution_count": 125,
   "id": "258142f6",
   "metadata": {},
   "outputs": [],
   "source": [
    "# Convert 'quantity' to numeric, round to nearest integer, and convert back to string (if needed)\n",
    "tx[\"quantity\"] = pd.to_numeric(tx[\"quantity\"], errors=\"coerce\").round().astype(\"Int64\").astype(str)\n"
   ]
  },
  {
   "cell_type": "code",
   "execution_count": 126,
   "id": "ba7f496e",
   "metadata": {},
   "outputs": [
    {
     "name": "stdout",
     "output_type": "stream",
     "text": [
      "Unique values of quantity: ['1' '3' '2' '5' '4' '9' '6' '7' '12' '8' '11' '10' '15' '16' '50' '176'\n",
      " '130' '19' '40' '20' '14' '229' '24' '18' '25' '999']\n"
     ]
    }
   ],
   "source": [
    "print(\"Unique values of quantity:\", tx[\"quantity\"].unique())\n"
   ]
  },
  {
   "cell_type": "code",
   "execution_count": 127,
   "id": "2192fdea",
   "metadata": {},
   "outputs": [],
   "source": [
    "# Calculate line_total_sek as price_sek * quantity, ensuring both are numeric, rounded to nearest integer (no decimals), and drop rows where result is NA or 0\n",
    "tx[\"price_sek\"] = pd.to_numeric(tx[\"price_sek\"], errors=\"coerce\")\n",
    "tx[\"quantity\"] = pd.to_numeric(tx[\"quantity\"], errors=\"coerce\")\n",
    "tx[\"line_total_sek\"] = (tx[\"price_sek\"] * tx[\"quantity\"]).round()\n",
    "# Ensure line_total_sek is numeric\n",
    "tx[\"line_total_sek\"] = pd.to_numeric(tx[\"line_total_sek\"], errors=\"coerce\")\n",
    "# Drop rows where line_total_sek is NA or 0\n",
    "tx = tx.dropna(subset=[\"line_total_sek\"])\n",
    "tx = tx[tx[\"line_total_sek\"] != 0]\n"
   ]
  },
  {
   "cell_type": "markdown",
   "id": "40c0af20",
   "metadata": {},
   "source": [
    "# Country remap COUNTRY_MAP_ALPHA = {\"SE\": \"Sweden\", \"DK\": \"Denmark\", \"FI\": \"Finland\", \"NO\": \"Norway\"}"
   ]
  },
  {
   "cell_type": "code",
   "execution_count": 128,
   "id": "1f558de3",
   "metadata": {},
   "outputs": [],
   "source": [
    "COUNTRY_MAP_ALPHA = {\"SE\": \"Sweden\", \"DK\": \"Denmark\", \"FI\": \"Finland\", \"NO\": \"Norway\"}\n",
    "tx[\"country\"] = tx[\"currency_country\"].map(COUNTRY_MAP_ALPHA).fillna(tx[\"currency_country\"])\n",
    "tx = tx.drop(columns=[\"currency_country\"])\n"
   ]
  },
  {
   "cell_type": "code",
   "execution_count": 129,
   "id": "67af064b",
   "metadata": {},
   "outputs": [
    {
     "name": "stdout",
     "output_type": "stream",
     "text": [
      "Number of unique shopUserId: 60156\n"
     ]
    }
   ],
   "source": [
    "print(\"Number of unique shopUserId:\", tx['shopUserId'].nunique())\n"
   ]
  },
  {
   "cell_type": "code",
   "execution_count": 130,
   "id": "915f1134",
   "metadata": {},
   "outputs": [],
   "source": [
    "# Save cleaned transactions to Parquet without changing dtypes\n",
    "tx.to_parquet(\"../data/processed/transactions_clean.parquet\", index=False)"
   ]
  },
  {
   "cell_type": "code",
   "execution_count": null,
   "id": "1fb1cb4f",
   "metadata": {},
   "outputs": [
    {
     "name": "stdout",
     "output_type": "stream",
     "text": [
      "orderId           0.000000\n",
      "shopUserId        0.000000\n",
      "created           0.000000\n",
      "currencyId        0.000000\n",
      "sku               0.000000\n",
      "groupId           0.000000\n",
      "quantity          0.000000\n",
      "price             0.000000\n",
      "name              0.000000\n",
      "type              0.000000\n",
      "invoiceCity       0.000000\n",
      "category          0.000000\n",
      "brand             0.000000\n",
      "sek_rate          0.000000\n",
      "price_sek         0.000000\n",
      "Age               0.363604\n",
      "Gender            0.363604\n",
      "line_total_sek    0.000000\n",
      "country           0.000000\n",
      "dtype: float64\n"
     ]
    },
    {
     "ename": "",
     "evalue": "",
     "output_type": "error",
     "traceback": [
      "\u001b[1;31mThe Kernel crashed while executing code in the current cell or a previous cell. \n",
      "\u001b[1;31mPlease review the code in the cell(s) to identify a possible cause of the failure. \n",
      "\u001b[1;31mClick <a href='https://aka.ms/vscodeJupyterKernelCrash'>here</a> for more info. \n",
      "\u001b[1;31mView Jupyter <a href='command:jupyter.viewOutput'>log</a> for further details."
     ]
    }
   ],
   "source": [
    "# Output the proportion of NA (missing) values for each column in tx\n",
    "print(tx.isna().mean())\n"
   ]
  }
 ],
 "metadata": {
  "kernelspec": {
   "display_name": "Python 3.10 (container)",
   "language": "python",
   "name": "py310-vscode"
  },
  "language_info": {
   "codemirror_mode": {
    "name": "ipython",
    "version": 3
   },
   "file_extension": ".py",
   "mimetype": "text/x-python",
   "name": "python",
   "nbconvert_exporter": "python",
   "pygments_lexer": "ipython3",
   "version": "3.10.18"
  }
 },
 "nbformat": 4,
 "nbformat_minor": 5
}
