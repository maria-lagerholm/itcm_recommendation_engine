{
 "cells": [
  {
   "cell_type": "markdown",
   "id": "a461ec61",
   "metadata": {},
   "source": [
    "# First run eda_customers!"
   ]
  },
  {
   "cell_type": "code",
   "execution_count": 1,
   "id": "c1eb670a",
   "metadata": {},
   "outputs": [],
   "source": [
    "# How many rows are there in tx?\n",
    "\n",
    "import pandas as pd\n",
    "tx = pd.read_csv(\"../data/processed/transactions_canonical.csv\", dtype=\"string\")\n",
    "tx = tx.drop(columns=[\"invoiceEmail\", \"orderLineId\"], errors=\"ignore\")"
   ]
  },
  {
   "cell_type": "code",
   "execution_count": 2,
   "id": "3877f27a",
   "metadata": {},
   "outputs": [
    {
     "name": "stdout",
     "output_type": "stream",
     "text": [
      "299164\n"
     ]
    }
   ],
   "source": [
    "print(len(tx))"
   ]
  },
  {
   "cell_type": "code",
   "execution_count": 3,
   "id": "1f460cc2",
   "metadata": {},
   "outputs": [
    {
     "data": {
      "text/plain": [
       "orderId       string[python]\n",
       "shopUserId    string[python]\n",
       "created       string[python]\n",
       "currencyId    string[python]\n",
       "sku           string[python]\n",
       "groupId       string[python]\n",
       "quantity      string[python]\n",
       "price         string[python]\n",
       "name          string[python]\n",
       "type          string[python]\n",
       "dtype: object"
      ]
     },
     "execution_count": 3,
     "metadata": {},
     "output_type": "execute_result"
    }
   ],
   "source": [
    "tx.dtypes\n"
   ]
  },
  {
   "cell_type": "code",
   "execution_count": 4,
   "id": "4160d9ec",
   "metadata": {},
   "outputs": [
    {
     "name": "stdout",
     "output_type": "stream",
     "text": [
      "Unique SKUs in tx: 18,182 | in articles: 33,008\n",
      "SKUs in tx as % of articles: 41.57%\n",
      "Unique groupIds in tx: 1,410 | in articles: 1,742\n",
      "groupIds in tx as % of articles: 80.94%\n"
     ]
    }
   ],
   "source": [
    "# Load articles\n",
    "a = pd.read_csv(\"../data/processed/articles_clean.csv\", dtype=\"string\",\n",
    "                usecols=[\"sku\", \"groupId\"])\n",
    "a = a.copy()\n",
    "a[\"sku\"] = a[\"sku\"].str.strip()\n",
    "tx_sku_stripped = tx[\"sku\"].str.strip()\n",
    "\n",
    "# Drop existing groupId column so merge adds exactly one copy\n",
    "tx_no_groupid = tx.drop(columns=[\"groupId\"], errors=\"ignore\")\n",
    "\n",
    "# Merge: now 'groupId' (single copy) comes from articles\n",
    "tx_merged = tx_no_groupid.copy()\n",
    "tx_merged[\"sku\"] = tx_sku_stripped\n",
    "tx_merged = tx_merged.merge(a, on=\"sku\", how=\"left\")\n",
    "\n",
    "# Calculate unique skus and groupIds in tx and articles\n",
    "tx_sku = pd.Index(tx_merged[\"sku\"].dropna().unique())\n",
    "a_sku = pd.Index(a[\"sku\"].dropna().unique())\n",
    "tx_groupid = pd.Index(tx_merged[\"groupId\"].dropna().unique())\n",
    "a_groupid = pd.Index(a[\"groupId\"].dropna().unique())\n",
    "\n",
    "# Calculate percentages\n",
    "sku_pct = 100 * len(tx_sku.intersection(a_sku)) / len(a_sku) if len(a_sku) > 0 else float('nan')\n",
    "groupid_pct = 100 * len(tx_groupid.intersection(a_groupid)) / len(a_groupid) if len(a_groupid) > 0 else float('nan')\n",
    "\n",
    "print(f\"Unique SKUs in tx: {len(tx_sku):,} | in articles: {len(a_sku):,}\")\n",
    "print(f\"SKUs in tx as % of articles: {sku_pct:.2f}%\")\n",
    "print(f\"Unique groupIds in tx: {len(tx_groupid):,} | in articles: {len(a_groupid):,}\")\n",
    "print(f\"groupIds in tx as % of articles: {groupid_pct:.2f}%\")"
   ]
  },
  {
   "cell_type": "code",
   "execution_count": 5,
   "id": "c3227374",
   "metadata": {},
   "outputs": [
    {
     "name": "stdout",
     "output_type": "stream",
     "text": [
      "['970100', '589084', '588970', '578745', '5620SF', '550178', '519292', '520077', '520075', '508031', '515273', '515071', '544405', '544397', '544396', '544395', '544393', '544388', '544387', '544379', '544803', '536213', '536212', '536211', '538028', '538061', '538057', '538054', '538053', '538049', '538037', '538036', '538035', '538034', '538026', '538022', '535069', '535631', '535693', '535117', '538492', '538259', '539118', '539116', '527713', '527747', '528033', '528032', '527002', '525011', '525206', '525188', '525205', '290138', '290284', '490079', '360140', '340578', '340569', '341174', '341171', '330907', '340997', '330906', '330901', '330419', '330412', '330253', '320356', '320355', '310426', '310612', '310609', '310606', '430028', '430222', '430027', '430013', '420357', '430494', '420312', '432035', '460072', '432063', '432060', '432059', '432046', '432044', '432040', '432037', '450005', '414100', '415040', '410315', '410314', '410055', '300499', '300233', '300105', '300594', '305043', '310368', '295121', '295147', '400590', '400579', '400272', '400328', '400327', '400326', '400297', '400296', '260008', '260040', '170005', '095302', '200189', '250115', '250067', '210551', '240118', '240147', '240092', '240050', '261718', '261445', '261387', '261389', '261383', '261373', '261464', '261457', '261064', '261105', '261098', '261102', '261109', '261092', '261080', '261133', '261368', '261301', '261308', '261306', '261231', '261177', '261564', '261531', '270564', '270522', '270523', '265587', '270487', '270291', '270295', '270248', '270220', '270232', '270213', '270197', '270119', '270131', '270095', '270004', '260936', '263418', '260953', '260938', '260662', '260641', '260546', '260650', '260647', '260287', '260181', '260136', '260284', '260211', '260531', '260845', '260848', '260847', '260425', '260804', '260719', '260727', '260677', 'MP62', '293565', '290734', '290700', '204818', '585059', '550152', '550160', '436725', '261371', '585062', '579003', '590837', '261193', '12025']\n",
      "Sanity check overlap: 0\n"
     ]
    }
   ],
   "source": [
    "import pandas as pd\n",
    "\n",
    "a_all = pd.read_csv(\n",
    "    \"../data/processed/articles_clean.csv\",\n",
    "    dtype={\"sku\": \"string\", \"groupId\": \"string\"},          # <-- don't set dtype for publishedDate\n",
    "    usecols=[\"sku\", \"groupId\", \"publishedDate\"]\n",
    ")\n",
    "\n",
    "# --- Parse dates robustly ---\n",
    "a_all[\"publishedDate\"] = pd.to_datetime(a_all[\"publishedDate\"], errors=\"coerce\", utc=True)\n",
    "\n",
    "# UTC cutoff (pick your desired tz; keeping everything in UTC is simplest)\n",
    "cutoff = pd.Timestamp(\"2024-06-01\", tz=\"UTC\")\n",
    "\n",
    "# --- Normalize ids (strip; add .str.lower() if your IDs are case-insensitive) ---\n",
    "for df, col in [(a_all, \"sku\"), (a_all, \"groupId\"), (tx, \"sku\"), (tx, \"groupId\")]:\n",
    "    if col in df:\n",
    "        df[col] = df[col].str.strip()\n",
    "\n",
    "# --- Ensure tx has groupId from articles via SKU (skip if tx already has correct groupId) ---\n",
    "if \"groupId\" in tx.columns:\n",
    "    tx = tx.drop(columns=[\"groupId\"])\n",
    "\n",
    "tx = tx.merge(\n",
    "    a_all[[\"sku\", \"groupId\"]].dropna().drop_duplicates(),\n",
    "    on=\"sku\",\n",
    "    how=\"left\"\n",
    ")\n",
    "\n",
    "# --- Build sets and anti-join ---\n",
    "before_ids = (\n",
    "    a_all.loc[a_all[\"publishedDate\"] < cutoff, [\"groupId\"]]\n",
    "         .dropna()\n",
    "         .drop_duplicates()\n",
    ")\n",
    "\n",
    "tx_ids = tx[[\"groupId\"]].dropna().drop_duplicates()\n",
    "\n",
    "never_bought = (\n",
    "    before_ids.merge(tx_ids, on=\"groupId\", how=\"left\", indicator=True)\n",
    "              .loc[lambda d: d[\"_merge\"] == \"left_only\", \"groupId\"]\n",
    "              .tolist()\n",
    ")\n",
    "\n",
    "print(never_bought)\n",
    "\n",
    "# --- Optional: quick sanity check ---\n",
    "print(\"Sanity check overlap:\", pd.Series(never_bought).isin(tx_ids[\"groupId\"]).sum())\n"
   ]
  },
  {
   "cell_type": "code",
   "execution_count": 6,
   "id": "c5351039",
   "metadata": {},
   "outputs": [
    {
     "data": {
      "text/plain": [
       "orderId       string[python]\n",
       "shopUserId    string[python]\n",
       "created       string[python]\n",
       "currencyId    string[python]\n",
       "sku           string[python]\n",
       "quantity      string[python]\n",
       "price         string[python]\n",
       "name          string[python]\n",
       "type          string[python]\n",
       "groupId       string[python]\n",
       "dtype: object"
      ]
     },
     "execution_count": 6,
     "metadata": {},
     "output_type": "execute_result"
    }
   ],
   "source": [
    "tx.dtypes"
   ]
  },
  {
   "cell_type": "code",
   "execution_count": 7,
   "id": "a3802951",
   "metadata": {},
   "outputs": [
    {
     "data": {
      "text/plain": [
       "orderId       0.000000\n",
       "shopUserId    0.000000\n",
       "created       0.000000\n",
       "currencyId    0.000000\n",
       "sku           0.000003\n",
       "quantity      0.000003\n",
       "price         0.000003\n",
       "name          0.000003\n",
       "type          0.000000\n",
       "groupId       0.280889\n",
       "dtype: float64"
      ]
     },
     "execution_count": 7,
     "metadata": {},
     "output_type": "execute_result"
    }
   ],
   "source": [
    "tx.isna().mean()"
   ]
  },
  {
   "cell_type": "markdown",
   "id": "b3504556",
   "metadata": {},
   "source": [
    "## Remove known bugs"
   ]
  },
  {
   "cell_type": "code",
   "execution_count": 8,
   "id": "e58edaaf",
   "metadata": {},
   "outputs": [],
   "source": [
    "# Keep only rows where 'created' date is on or after 2024-06-01 to avoid migration bugs\n",
    "tx['created'] = pd.to_datetime(tx['created'], errors='coerce')\n",
    "tx = tx[tx['created'] >= pd.to_datetime('2024-06-01')]"
   ]
  },
  {
   "cell_type": "code",
   "execution_count": 9,
   "id": "670623b6",
   "metadata": {},
   "outputs": [
    {
     "name": "stdout",
     "output_type": "stream",
     "text": [
      "295436\n"
     ]
    }
   ],
   "source": [
    "print(len(tx))"
   ]
  },
  {
   "cell_type": "markdown",
   "id": "df749fd0",
   "metadata": {},
   "source": [
    "## Unify currenies to SEK for price bucketing"
   ]
  },
  {
   "cell_type": "code",
   "execution_count": 10,
   "id": "a6afce74",
   "metadata": {},
   "outputs": [],
   "source": [
    "import pandas as pd\n",
    "\n",
    "# Hardcoded mapping (use strings to match your dtypes)\n",
    "currencyid_to_country = {\n",
    "    \"40\":  \"DK\",  # Danish krone\n",
    "    \"134\": \"SE\",  # Swedish krona\n",
    "    \"103\": \"NO\",  # Norwegian krone\n",
    "    \"50\":  \"FI\",  # Finland (EUR)\n",
    "}\n",
    "\n",
    "# FX to SEK (verify/update as needed)\n",
    "conversion_rates = {\n",
    "    \"DK\": 1.494795,  # DKK -> SEK\n",
    "    \"NO\": 0.938825,  # NOK -> SEK\n",
    "    \"SE\": 1.0,       # SEK -> SEK\n",
    "    \"FI\": 11.1570,   # EUR -> SEK\n",
    "}\n",
    "\n",
    "# Normalize currencyId to strings and strip\n",
    "tx[\"currencyId\"] = tx[\"currencyId\"].astype(\"string\").str.strip()\n",
    "\n",
    "# Map currencyId -> country code\n",
    "tx[\"currency_country\"] = tx[\"currencyId\"].map(currencyid_to_country)\n",
    "\n",
    "# Map country -> SEK rate\n",
    "tx[\"sek_rate\"] = tx[\"currency_country\"].map(conversion_rates)\n",
    "\n",
    "# Make sure price is numeric\n",
    "tx[\"price\"] = pd.to_numeric(tx[\"price\"], errors=\"coerce\")\n",
    "\n",
    "# Compute price in SEK, round, and convert to integer (no .0)\n",
    "tx[\"price_sek\"] = (tx[\"price\"] * tx[\"sek_rate\"]).round(0).astype(\"Int64\")"
   ]
  },
  {
   "cell_type": "code",
   "execution_count": 11,
   "id": "f48de10b",
   "metadata": {},
   "outputs": [
    {
     "data": {
      "text/html": [
       "<div>\n",
       "<style scoped>\n",
       "    .dataframe tbody tr th:only-of-type {\n",
       "        vertical-align: middle;\n",
       "    }\n",
       "\n",
       "    .dataframe tbody tr th {\n",
       "        vertical-align: top;\n",
       "    }\n",
       "\n",
       "    .dataframe thead th {\n",
       "        text-align: right;\n",
       "    }\n",
       "</style>\n",
       "<table border=\"1\" class=\"dataframe\">\n",
       "  <thead>\n",
       "    <tr style=\"text-align: right;\">\n",
       "      <th></th>\n",
       "      <th>orderId</th>\n",
       "      <th>shopUserId</th>\n",
       "      <th>created</th>\n",
       "      <th>currencyId</th>\n",
       "      <th>sku</th>\n",
       "      <th>quantity</th>\n",
       "      <th>price</th>\n",
       "      <th>name</th>\n",
       "      <th>type</th>\n",
       "      <th>groupId</th>\n",
       "      <th>currency_country</th>\n",
       "      <th>sek_rate</th>\n",
       "      <th>price_sek</th>\n",
       "    </tr>\n",
       "  </thead>\n",
       "  <tbody>\n",
       "    <tr>\n",
       "      <th>0</th>\n",
       "      <td>843561</td>\n",
       "      <td>887224</td>\n",
       "      <td>2025-09-17 14:42:48</td>\n",
       "      <td>134</td>\n",
       "      <td>240144-0040</td>\n",
       "      <td>1</td>\n",
       "      <td>498.0</td>\n",
       "      <td>Byxa</td>\n",
       "      <td>telephone</td>\n",
       "      <td>240144</td>\n",
       "      <td>SE</td>\n",
       "      <td>1.000000</td>\n",
       "      <td>498</td>\n",
       "    </tr>\n",
       "    <tr>\n",
       "      <th>1</th>\n",
       "      <td>843561</td>\n",
       "      <td>887224</td>\n",
       "      <td>2025-09-17 14:42:48</td>\n",
       "      <td>134</td>\n",
       "      <td>240144-0042</td>\n",
       "      <td>1</td>\n",
       "      <td>498.0</td>\n",
       "      <td>Byxa</td>\n",
       "      <td>telephone</td>\n",
       "      <td>240144</td>\n",
       "      <td>SE</td>\n",
       "      <td>1.000000</td>\n",
       "      <td>498</td>\n",
       "    </tr>\n",
       "    <tr>\n",
       "      <th>2</th>\n",
       "      <td>843561</td>\n",
       "      <td>887224</td>\n",
       "      <td>2025-09-17 14:42:48</td>\n",
       "      <td>134</td>\n",
       "      <td>260949-0006</td>\n",
       "      <td>1</td>\n",
       "      <td>208.0</td>\n",
       "      <td>Spetslinne 2-pack</td>\n",
       "      <td>telephone</td>\n",
       "      <td>260949</td>\n",
       "      <td>SE</td>\n",
       "      <td>1.000000</td>\n",
       "      <td>208</td>\n",
       "    </tr>\n",
       "    <tr>\n",
       "      <th>3</th>\n",
       "      <td>843560</td>\n",
       "      <td>887223</td>\n",
       "      <td>2025-09-17 14:39:41</td>\n",
       "      <td>103</td>\n",
       "      <td>261919-4345</td>\n",
       "      <td>2</td>\n",
       "      <td>79.0</td>\n",
       "      <td>Sokk med sklisikring og løs vrangbrod</td>\n",
       "      <td>telephone</td>\n",
       "      <td>261916</td>\n",
       "      <td>NO</td>\n",
       "      <td>0.938825</td>\n",
       "      <td>74</td>\n",
       "    </tr>\n",
       "    <tr>\n",
       "      <th>4</th>\n",
       "      <td>843560</td>\n",
       "      <td>887223</td>\n",
       "      <td>2025-09-17 14:39:41</td>\n",
       "      <td>103</td>\n",
       "      <td>240198-0046</td>\n",
       "      <td>1</td>\n",
       "      <td>249.0</td>\n",
       "      <td>Jeans med strikkmidje</td>\n",
       "      <td>telephone</td>\n",
       "      <td>240184</td>\n",
       "      <td>NO</td>\n",
       "      <td>0.938825</td>\n",
       "      <td>234</td>\n",
       "    </tr>\n",
       "    <tr>\n",
       "      <th>...</th>\n",
       "      <td>...</td>\n",
       "      <td>...</td>\n",
       "      <td>...</td>\n",
       "      <td>...</td>\n",
       "      <td>...</td>\n",
       "      <td>...</td>\n",
       "      <td>...</td>\n",
       "      <td>...</td>\n",
       "      <td>...</td>\n",
       "      <td>...</td>\n",
       "      <td>...</td>\n",
       "      <td>...</td>\n",
       "      <td>...</td>\n",
       "    </tr>\n",
       "    <tr>\n",
       "      <th>295431</th>\n",
       "      <td>166428</td>\n",
       "      <td>252853</td>\n",
       "      <td>2024-06-01 05:23:25</td>\n",
       "      <td>40</td>\n",
       "      <td>261752-0050</td>\n",
       "      <td>1</td>\n",
       "      <td>299.0</td>\n",
       "      <td>Støttetrusse Jaquard&amp;Lace</td>\n",
       "      <td>web</td>\n",
       "      <td>260345</td>\n",
       "      <td>DK</td>\n",
       "      <td>1.494795</td>\n",
       "      <td>447</td>\n",
       "    </tr>\n",
       "    <tr>\n",
       "      <th>295432</th>\n",
       "      <td>166428</td>\n",
       "      <td>252853</td>\n",
       "      <td>2024-06-01 05:23:25</td>\n",
       "      <td>40</td>\n",
       "      <td>261733-D110</td>\n",
       "      <td>1</td>\n",
       "      <td>599.0</td>\n",
       "      <td>BH uden bøjle Lovely Lace Support</td>\n",
       "      <td>web</td>\n",
       "      <td>239301</td>\n",
       "      <td>DK</td>\n",
       "      <td>1.494795</td>\n",
       "      <td>895</td>\n",
       "    </tr>\n",
       "    <tr>\n",
       "      <th>295433</th>\n",
       "      <td>166426</td>\n",
       "      <td>252851</td>\n",
       "      <td>2024-06-01 05:08:51</td>\n",
       "      <td>50</td>\n",
       "      <td>240189-0038</td>\n",
       "      <td>1</td>\n",
       "      <td>49.9</td>\n",
       "      <td>Kuviolliset housut</td>\n",
       "      <td>web</td>\n",
       "      <td>&lt;NA&gt;</td>\n",
       "      <td>FI</td>\n",
       "      <td>11.157000</td>\n",
       "      <td>557</td>\n",
       "    </tr>\n",
       "    <tr>\n",
       "      <th>295434</th>\n",
       "      <td>166420</td>\n",
       "      <td>252844</td>\n",
       "      <td>2024-06-01 00:58:50</td>\n",
       "      <td>103</td>\n",
       "      <td>263855-4135</td>\n",
       "      <td>1</td>\n",
       "      <td>469.0</td>\n",
       "      <td>Bh uten bøyle</td>\n",
       "      <td>web</td>\n",
       "      <td>263855</td>\n",
       "      <td>NO</td>\n",
       "      <td>0.938825</td>\n",
       "      <td>440</td>\n",
       "    </tr>\n",
       "    <tr>\n",
       "      <th>295435</th>\n",
       "      <td>166411</td>\n",
       "      <td>252836</td>\n",
       "      <td>2024-06-01 00:31:39</td>\n",
       "      <td>103</td>\n",
       "      <td>345901-8090</td>\n",
       "      <td>1</td>\n",
       "      <td>1229.0</td>\n",
       "      <td>Body  Clara</td>\n",
       "      <td>web</td>\n",
       "      <td>345901</td>\n",
       "      <td>NO</td>\n",
       "      <td>0.938825</td>\n",
       "      <td>1154</td>\n",
       "    </tr>\n",
       "  </tbody>\n",
       "</table>\n",
       "<p>295436 rows × 13 columns</p>\n",
       "</div>"
      ],
      "text/plain": [
       "       orderId shopUserId             created currencyId          sku  \\\n",
       "0       843561     887224 2025-09-17 14:42:48        134  240144-0040   \n",
       "1       843561     887224 2025-09-17 14:42:48        134  240144-0042   \n",
       "2       843561     887224 2025-09-17 14:42:48        134  260949-0006   \n",
       "3       843560     887223 2025-09-17 14:39:41        103  261919-4345   \n",
       "4       843560     887223 2025-09-17 14:39:41        103  240198-0046   \n",
       "...        ...        ...                 ...        ...          ...   \n",
       "295431  166428     252853 2024-06-01 05:23:25         40  261752-0050   \n",
       "295432  166428     252853 2024-06-01 05:23:25         40  261733-D110   \n",
       "295433  166426     252851 2024-06-01 05:08:51         50  240189-0038   \n",
       "295434  166420     252844 2024-06-01 00:58:50        103  263855-4135   \n",
       "295435  166411     252836 2024-06-01 00:31:39        103  345901-8090   \n",
       "\n",
       "       quantity   price                                   name       type  \\\n",
       "0             1   498.0                                   Byxa  telephone   \n",
       "1             1   498.0                                   Byxa  telephone   \n",
       "2             1   208.0                      Spetslinne 2-pack  telephone   \n",
       "3             2    79.0  Sokk med sklisikring og løs vrangbrod  telephone   \n",
       "4             1   249.0                  Jeans med strikkmidje  telephone   \n",
       "...         ...     ...                                    ...        ...   \n",
       "295431        1   299.0              Støttetrusse Jaquard&Lace        web   \n",
       "295432        1   599.0      BH uden bøjle Lovely Lace Support        web   \n",
       "295433        1    49.9                     Kuviolliset housut        web   \n",
       "295434        1   469.0                          Bh uten bøyle        web   \n",
       "295435        1  1229.0                            Body  Clara        web   \n",
       "\n",
       "       groupId currency_country   sek_rate  price_sek  \n",
       "0       240144               SE   1.000000        498  \n",
       "1       240144               SE   1.000000        498  \n",
       "2       260949               SE   1.000000        208  \n",
       "3       261916               NO   0.938825         74  \n",
       "4       240184               NO   0.938825        234  \n",
       "...        ...              ...        ...        ...  \n",
       "295431  260345               DK   1.494795        447  \n",
       "295432  239301               DK   1.494795        895  \n",
       "295433    <NA>               FI  11.157000        557  \n",
       "295434  263855               NO   0.938825        440  \n",
       "295435  345901               NO   0.938825       1154  \n",
       "\n",
       "[295436 rows x 13 columns]"
      ]
     },
     "execution_count": 11,
     "metadata": {},
     "output_type": "execute_result"
    }
   ],
   "source": [
    "tx"
   ]
  },
  {
   "cell_type": "code",
   "execution_count": 12,
   "id": "94d61bfd",
   "metadata": {},
   "outputs": [
    {
     "data": {
      "text/html": [
       "<div>\n",
       "<style scoped>\n",
       "    .dataframe tbody tr th:only-of-type {\n",
       "        vertical-align: middle;\n",
       "    }\n",
       "\n",
       "    .dataframe tbody tr th {\n",
       "        vertical-align: top;\n",
       "    }\n",
       "\n",
       "    .dataframe thead th {\n",
       "        text-align: right;\n",
       "    }\n",
       "</style>\n",
       "<table border=\"1\" class=\"dataframe\">\n",
       "  <thead>\n",
       "    <tr style=\"text-align: right;\">\n",
       "      <th></th>\n",
       "      <th>orderId</th>\n",
       "      <th>shopUserId</th>\n",
       "      <th>created</th>\n",
       "      <th>currencyId</th>\n",
       "      <th>sku</th>\n",
       "      <th>quantity</th>\n",
       "      <th>price</th>\n",
       "      <th>name</th>\n",
       "      <th>type</th>\n",
       "      <th>groupId</th>\n",
       "      <th>currency_country</th>\n",
       "      <th>sek_rate</th>\n",
       "      <th>price_sek</th>\n",
       "    </tr>\n",
       "  </thead>\n",
       "  <tbody>\n",
       "    <tr>\n",
       "      <th>158466</th>\n",
       "      <td>545774</td>\n",
       "      <td>604121</td>\n",
       "      <td>2025-01-20 13:51:07</td>\n",
       "      <td>40</td>\n",
       "      <td>266825-C080</td>\n",
       "      <td>1</td>\n",
       "      <td>449399.0</td>\n",
       "      <td>BH uden bøjle Treasure</td>\n",
       "      <td>telephone</td>\n",
       "      <td>266825</td>\n",
       "      <td>DK</td>\n",
       "      <td>1.494795</td>\n",
       "      <td>671759</td>\n",
       "    </tr>\n",
       "  </tbody>\n",
       "</table>\n",
       "</div>"
      ],
      "text/plain": [
       "       orderId shopUserId             created currencyId          sku  \\\n",
       "158466  545774     604121 2025-01-20 13:51:07         40  266825-C080   \n",
       "\n",
       "       quantity     price                    name       type groupId  \\\n",
       "158466        1  449399.0  BH uden bøjle Treasure  telephone  266825   \n",
       "\n",
       "       currency_country  sek_rate  price_sek  \n",
       "158466               DK  1.494795     671759  "
      ]
     },
     "execution_count": 12,
     "metadata": {},
     "output_type": "execute_result"
    }
   ],
   "source": [
    "# Output rows where the price value is 6 digits or more\n",
    "six_digit_price_rows = tx[tx['price'].astype(str).str.replace('.0$', '', regex=True).str.fullmatch(r'\\d{6,}')]\n",
    "six_digit_price_rows\n"
   ]
  },
  {
   "cell_type": "code",
   "execution_count": 13,
   "id": "4aaf40ef",
   "metadata": {},
   "outputs": [],
   "source": [
    "# Remove rows where the price value is 6 digits\n",
    "tx = tx[~tx['price'].astype(str).str.replace('.0$', '', regex=True).str.fullmatch(r'\\d{6}')]"
   ]
  },
  {
   "cell_type": "code",
   "execution_count": 14,
   "id": "6d8a7390",
   "metadata": {},
   "outputs": [
    {
     "name": "stdout",
     "output_type": "stream",
     "text": [
      "Price (SEK) statistics (1st to 99th percentile):\n",
      "  Count: 290,135\n",
      "  Mean: 286.24\n",
      "  Median: 234.00\n",
      "  Std: 194.26\n",
      "  Min (1st percentile): 18.00\n",
      "  Max (99th percentile): 1,108.00\n"
     ]
    },
    {
     "data": {
      "image/png": "[encoded data removed]",
      "text/plain": [
       "<Figure size 800x500 with 1 Axes>"
      ]
     },
     "metadata": {},
     "output_type": "display_data"
    }
   ],
   "source": [
    "import matplotlib.pyplot as plt\n",
    "\n",
    "# Show key statistics in numbers\n",
    "price_sek = tx[\"price_sek\"].dropna()\n",
    "q_low = price_sek.quantile(0.01)\n",
    "q_high = price_sek.quantile(0.99)\n",
    "price_sek_trimmed = price_sek[(price_sek >= q_low) & (price_sek <= q_high)]\n",
    "\n",
    "print(\"Price (SEK) statistics (1st to 99th percentile):\")\n",
    "print(f\"  Count: {price_sek_trimmed.count():,}\")\n",
    "print(f\"  Mean: {price_sek_trimmed.mean():,.2f}\")\n",
    "print(f\"  Median: {price_sek_trimmed.median():,.2f}\")\n",
    "print(f\"  Std: {price_sek_trimmed.std():,.2f}\")\n",
    "print(f\"  Min (1st percentile): {q_low:,.2f}\")\n",
    "print(f\"  Max (99th percentile): {q_high:,.2f}\")\n",
    "\n",
    "plt.figure(figsize=(8, 5))\n",
    "plt.hist(\n",
    "    price_sek_trimmed, \n",
    "    bins=50, \n",
    "    color=\"skyblue\", \n",
    "    edgecolor=\"black\"\n",
    ")\n",
    "plt.title(\"Distribution of Price (SEK) (1st to 99th percentile)\")\n",
    "plt.xlabel(\"price_sek\")\n",
    "plt.ylabel(\"Frequency\")\n",
    "plt.xlim(q_low, q_high)\n",
    "plt.grid(axis='y', alpha=0.75)\n",
    "plt.show()\n"
   ]
  },
  {
   "cell_type": "code",
   "execution_count": 15,
   "id": "0ee28f4c",
   "metadata": {},
   "outputs": [],
   "source": [
    "# Read the cleaned customers data from CSV, ensuring 'shopUserId' is loaded as a string\n",
    "customers = pd.read_csv(\"../data/processed/customers_clean.csv\", dtype={\"shopUserId\": str})\n",
    "\n",
    "# Merge the 'Age' column from the customers dataframe into the transactions dataframe, matching on 'shopUserId'\n",
    "# This adds the 'Age' information for each transaction, using a left join to keep all transactions\n",
    "tx = tx.merge(customers[[\"shopUserId\", \"Age\"]], on=\"shopUserId\", how=\"left\")"
   ]
  },
  {
   "cell_type": "code",
   "execution_count": 16,
   "id": "bee41923",
   "metadata": {},
   "outputs": [
    {
     "data": {
      "text/plain": [
       "orderId             0.000000\n",
       "shopUserId          0.000000\n",
       "created             0.000000\n",
       "currencyId          0.000000\n",
       "sku                 0.000003\n",
       "quantity            0.000003\n",
       "price               0.000003\n",
       "name                0.000003\n",
       "type                0.000000\n",
       "groupId             0.279270\n",
       "currency_country    0.000000\n",
       "sek_rate            0.000000\n",
       "price_sek           0.000003\n",
       "Age                 0.365048\n",
       "dtype: float64"
      ]
     },
     "execution_count": 16,
     "metadata": {},
     "output_type": "execute_result"
    }
   ],
   "source": [
    "tx.isna().mean()"
   ]
  },
  {
   "cell_type": "markdown",
   "id": "e8ca778f",
   "metadata": {},
   "source": [
    "# Line price"
   ]
  },
  {
   "cell_type": "code",
   "execution_count": 17,
   "id": "258142f6",
   "metadata": {},
   "outputs": [],
   "source": [
    "# Convert 'quantity' to numeric, round to nearest integer, and convert back to string (if needed)\n",
    "tx[\"quantity\"] = pd.to_numeric(tx[\"quantity\"], errors=\"coerce\").round().astype(\"Int64\").astype(str)\n"
   ]
  },
  {
   "cell_type": "code",
   "execution_count": 18,
   "id": "ba7f496e",
   "metadata": {},
   "outputs": [
    {
     "name": "stdout",
     "output_type": "stream",
     "text": [
      "Unique values of quantity: ['1' '2' '3' '4' '12' '5' '6' '8' '7' '11' '10' '9' '15' '16' '50' '176'\n",
      " '130' '19' '40' '20' '14' '229' '24' '18' '25' '999' '<NA>']\n"
     ]
    }
   ],
   "source": [
    "print(\"Unique values of quantity:\", tx[\"quantity\"].unique())\n"
   ]
  },
  {
   "cell_type": "code",
   "execution_count": 19,
   "id": "2192fdea",
   "metadata": {},
   "outputs": [],
   "source": [
    "# Calculate line_total_sek as price_sek * quantity, ensuring both are numeric, rounded to nearest integer (no decimals), and drop rows where result is NA or 0\n",
    "tx[\"price_sek\"] = pd.to_numeric(tx[\"price_sek\"], errors=\"coerce\")\n",
    "tx[\"quantity\"] = pd.to_numeric(tx[\"quantity\"], errors=\"coerce\")\n",
    "tx[\"line_total_sek\"] = (tx[\"price_sek\"] * tx[\"quantity\"]).round()\n",
    "# Ensure line_total_sek is numeric\n",
    "tx[\"line_total_sek\"] = pd.to_numeric(tx[\"line_total_sek\"], errors=\"coerce\")\n",
    "# Drop rows where line_total_sek is NA or 0\n",
    "tx = tx.dropna(subset=[\"line_total_sek\"])\n",
    "tx = tx[tx[\"line_total_sek\"] != 0]\n"
   ]
  },
  {
   "cell_type": "markdown",
   "id": "40c0af20",
   "metadata": {},
   "source": [
    "# Country remap COUNTRY_MAP_ALPHA = {\"SE\": \"Sweden\", \"DK\": \"Denmark\", \"FI\": \"Finland\", \"NO\": \"Norway\"}"
   ]
  },
  {
   "cell_type": "code",
   "execution_count": 20,
   "id": "1f558de3",
   "metadata": {},
   "outputs": [],
   "source": [
    "COUNTRY_MAP_ALPHA = {\"SE\": \"Sweden\", \"DK\": \"Denmark\", \"FI\": \"Finland\", \"NO\": \"Norway\"}\n",
    "tx[\"currency_country\"] = tx[\"currency_country\"].map(COUNTRY_MAP_ALPHA).fillna(tx[\"currency_country\"])\n"
   ]
  },
  {
   "cell_type": "code",
   "execution_count": 21,
   "id": "915f1134",
   "metadata": {},
   "outputs": [],
   "source": [
    "# Save cleaned transactions to CSV with all columns as string\n",
    "tx.astype(str).to_csv(\"../data/processed/transactions_clean.csv\", index=False)"
   ]
  },
  {
   "cell_type": "markdown",
   "id": "8af864bd",
   "metadata": {},
   "source": [
    "# Orders"
   ]
  },
  {
   "cell_type": "code",
   "execution_count": 49,
   "id": "7e17430a",
   "metadata": {},
   "outputs": [
    {
     "ename": "",
     "evalue": "",
     "output_type": "error",
     "traceback": [
      "\u001b[1;31mThe Kernel crashed while executing code in the current cell or a previous cell. \n",
      "\u001b[1;31mPlease review the code in the cell(s) to identify a possible cause of the failure. \n",
      "\u001b[1;31mClick <a href='https://aka.ms/vscodeJupyterKernelCrash'>here</a> for more info. \n",
      "\u001b[1;31mView Jupyter <a href='command:jupyter.viewOutput'>log</a> for further details."
     ]
    }
   ],
   "source": [
    "import pandas as pd\n",
    "\n",
    "# Merge invoiceCity and Gender from customers\n",
    "customers = pd.read_csv(\"../data/processed/customers_clean.csv\", dtype=str)\n",
    "tx[\"shopUserId\"] = tx[\"shopUserId\"].astype(str)\n",
    "customers[\"shopUserId\"] = customers[\"shopUserId\"].astype(str)\n",
    "tx = tx.merge(customers[[\"shopUserId\", \"invoiceCity\", \"Gender\"]], on=\"shopUserId\", how=\"left\")\n",
    "\n",
    "# Merge category and brand from articles\n",
    "articles = pd.read_csv(\"../data/processed/articles_clean.csv\", dtype=str)\n",
    "tx[\"groupId\"] = tx[\"groupId\"].astype(str)\n",
    "cols = [\"groupId\"] + [col for col in [\"category\", \"brand\"] if col in articles.columns]\n",
    "tx = tx.merge(articles[cols], on=\"groupId\", how=\"left\")"
   ]
  },
  {
   "cell_type": "code",
   "execution_count": null,
   "id": "b3c8bdba",
   "metadata": {},
   "outputs": [
    {
     "data": {
      "text/plain": [
       "orderId             string[python]\n",
       "shopUserId                  object\n",
       "created             datetime64[ns]\n",
       "currencyId          string[python]\n",
       "sku                 string[python]\n",
       "quantity                   float64\n",
       "price                      Float64\n",
       "name                string[python]\n",
       "type                string[python]\n",
       "groupId                     object\n",
       "currency_country            object\n",
       "sek_rate                   float64\n",
       "price_sek                    Int64\n",
       "Age                        float64\n",
       "line_total_sek             Float64\n",
       "invoiceCity                 object\n",
       "Gender                      object\n",
       "category                    object\n",
       "brand                       object\n",
       "dtype: object"
      ]
     },
     "execution_count": 24,
     "metadata": {},
     "output_type": "execute_result"
    }
   ],
   "source": [
    "tx.dtypes"
   ]
  },
  {
   "cell_type": "code",
   "execution_count": 25,
   "id": "854b9980",
   "metadata": {},
   "outputs": [
    {
     "data": {
      "text/plain": [
       "orderId             0.000000\n",
       "shopUserId          0.000000\n",
       "created             0.000000\n",
       "currencyId          0.000000\n",
       "sku                 0.000000\n",
       "quantity            0.000000\n",
       "price               0.000000\n",
       "name                0.000000\n",
       "type                0.000000\n",
       "groupId             0.000000\n",
       "currency_country    0.000000\n",
       "sek_rate            0.000000\n",
       "price_sek           0.000000\n",
       "Age                 0.416345\n",
       "line_total_sek      0.000000\n",
       "invoiceCity         0.057504\n",
       "Gender              0.416345\n",
       "category            0.008267\n",
       "brand               0.008267\n",
       "dtype: float64"
      ]
     },
     "execution_count": 25,
     "metadata": {},
     "output_type": "execute_result"
    }
   ],
   "source": [
    "tx.isna().mean()"
   ]
  },
  {
   "cell_type": "code",
   "execution_count": 26,
   "id": "2ff89367",
   "metadata": {},
   "outputs": [],
   "source": [
    "import json, re\n",
    "import numpy as np\n",
    "import pandas as pd\n",
    "\n",
    "# --- tiny helpers ---\n",
    "def normalize_city(x):\n",
    "    s = \"Unknown\" if x is None or (isinstance(x, float) and pd.isna(x)) else str(x)\n",
    "    s = re.sub(r\"\\s+\", \" \", s).strip()\n",
    "    s = re.sub(r\"^(?:[A-Z]{1,3}[-\\s])?\\d{3,6}\\s*\", \"\", s, flags=re.IGNORECASE)  # drop leading ZIP\n",
    "    s = re.sub(r\"(?:,\\s*)?(Denmark|Danmark|Sweden|Sverige|Norway|Norge|Finland|Suomi)\\s*$\", \"\", s, flags=re.IGNORECASE).strip()\n",
    "    return s if s else \"Unknown\"\n",
    "\n",
    "def status_from_orders(n):\n",
    "    return \"new\" if n <= 1 else (\"returning\" if n <= 3 else \"loyal\")\n",
    "\n",
    "def mode_or_first(s: pd.Series):\n",
    "    m = s.mode()\n",
    "    if not m.empty: \n",
    "        return m.iat[0]\n",
    "    s = s.dropna()\n",
    "    return s.iat[0] if not s.empty else None\n",
    "\n",
    "# --- build a compact working frame from tx (only needed cols) ---\n",
    "country = (\n",
    "    tx[\"currency_country\"].astype(\"string[python]\").str.strip()\n",
    "      .replace({\"\": pd.NA}).fillna(\"Unknown\")\n",
    ")\n",
    "city = tx[\"invoiceCity\"].map(normalize_city) if \"invoiceCity\" in tx.columns else pd.Series([\"Unknown\"]*len(tx))\n",
    "shop = tx[\"shopUserId\"].astype(\"string[python]\").str.strip().replace({\"\": pd.NA})\n",
    "order_id = tx[\"orderId\"].astype(\"string[python]\").str.strip()\n",
    "\n",
    "created = tx[\"created\"]\n",
    "if not np.issubdtype(created.dtype, np.datetime64):\n",
    "    created = pd.to_datetime(created, errors=\"coerce\")\n",
    "\n",
    "rev = pd.to_numeric(tx[\"line_total_sek\"], errors=\"coerce\").fillna(0)\n",
    "typ = tx[\"type\"] if \"type\" in tx.columns else pd.Series([None]*len(tx))\n",
    "\n",
    "df = pd.DataFrame(\n",
    "    {\"country\": country, \"city\": city, \"shopUserId\": shop, \"orderId\": order_id,\n",
    "     \"rev\": rev, \"created\": created, \"type\": typ}\n",
    ")\n",
    "\n",
    "# --- country & city ---\n",
    "agg_country = (\n",
    "    df.groupby(\"country\", dropna=False, sort=False)\n",
    "      .agg(total_revenue_sek=(\"rev\",\"sum\"), customers_count=(\"shopUserId\",\"nunique\"))\n",
    ")\n",
    "agg_country[\"total_revenue_sek\"] = np.rint(agg_country[\"total_revenue_sek\"]).astype(\"int64\")\n",
    "agg_country[\"customers_count\"] = agg_country[\"customers_count\"].astype(\"int64\")\n",
    "\n",
    "agg_city = (\n",
    "    df.groupby([\"country\",\"city\"], dropna=False, sort=False)\n",
    "      .agg(total_revenue_sek=(\"rev\",\"sum\"), customers_count=(\"shopUserId\",\"nunique\"))\n",
    ")\n",
    "agg_city[\"total_revenue_sek\"] = np.rint(agg_city[\"total_revenue_sek\"]).astype(\"int64\")\n",
    "agg_city[\"customers_count\"] = agg_city[\"customers_count\"].astype(\"int64\")\n",
    "\n",
    "# --- per-customer summary ---\n",
    "df_cust = df[df[\"shopUserId\"].notna()].copy()\n",
    "agg_customer = (\n",
    "    df_cust.groupby([\"country\",\"city\",\"shopUserId\"], dropna=False, sort=False)\n",
    "      .agg(\n",
    "          total_spent_sek=(\"rev\",\"sum\"),\n",
    "          total_orders=(\"orderId\",\"nunique\"),\n",
    "          first_order=(\"created\",\"min\"),\n",
    "          last_order=(\"created\",\"max\"),\n",
    "      )\n",
    ")\n",
    "agg_customer[\"total_spent_sek\"] = np.rint(agg_customer[\"total_spent_sek\"]).astype(\"int64\")\n",
    "\n",
    "# --- per-order (SMALL block only) ---\n",
    "agg_order = (\n",
    "    df_cust.groupby([\"country\",\"city\",\"shopUserId\",\"orderId\"], dropna=False, sort=False)\n",
    "      .agg(\n",
    "          order_total_sek=(\"rev\",\"sum\"),\n",
    "          n_items=(\"orderId\",\"size\"),\n",
    "          created=(\"created\",\"min\"),\n",
    "          order_type=(\"type\", mode_or_first),\n",
    "      )\n",
    ")\n",
    "agg_order[\"order_total_sek\"] = np.rint(agg_order[\"order_total_sek\"]).astype(\"int64\")\n",
    "\n",
    "# pack orders per customer for quick attach in Cell 2 (keeps memory small)\n",
    "orders_by_customer = {}\n",
    "for (ctry, cty, uid, oid), row in agg_order.iterrows():\n",
    "    key = (ctry, cty, uid)\n",
    "    orders_by_customer.setdefault(key, {})[str(oid)] = {\n",
    "        \"created\": row[\"created\"].isoformat(sep=\" \") if pd.notna(row[\"created\"]) else None,\n",
    "        \"order_total_sek\": int(row[\"order_total_sek\"]),\n",
    "        \"n_items\": int(row[\"n_items\"]),\n",
    "        \"order_type\": row[\"order_type\"] if (row[\"order_type\"] is not np.nan) else None,\n",
    "    }\n"
   ]
  },
  {
   "cell_type": "code",
   "execution_count": 27,
   "id": "cd9a3cd7",
   "metadata": {},
   "outputs": [
    {
     "name": "stdout",
     "output_type": "stream",
     "text": [
      "Saved: ../data/processed/orders.json\n"
     ]
    }
   ],
   "source": [
    "# Build nested dict using only the aggregated frames from Cell 1\n",
    "result = {}\n",
    "\n",
    "# Countries\n",
    "for ctry, row in agg_country.iterrows():\n",
    "    result[ctry] = {\n",
    "        \"total_revenue_sek\": int(row[\"total_revenue_sek\"]),\n",
    "        \"customers_count\": int(row[\"customers_count\"]),\n",
    "        \"cities\": {}\n",
    "    }\n",
    "\n",
    "# Cities\n",
    "for (ctry, cty), row in agg_city.iterrows():\n",
    "    result[ctry][\"cities\"][cty] = {\n",
    "        \"total_revenue_sek\": int(row[\"total_revenue_sek\"]),\n",
    "        \"customers_count\": int(row[\"customers_count\"]),\n",
    "        \"customers\": {}\n",
    "    }\n",
    "\n",
    "# Customers + Orders\n",
    "for (ctry, cty, uid), row in agg_customer.iterrows():\n",
    "    status = status_from_orders(int(row[\"total_orders\"]))\n",
    "    first_iso = row[\"first_order\"].isoformat(sep=\" \") if pd.notna(row[\"first_order\"]) else None\n",
    "    last_iso  = row[\"last_order\"].isoformat(sep=\" \")  if pd.notna(row[\"last_order\"])  else None\n",
    "\n",
    "    result[ctry][\"cities\"][cty][\"customers\"][str(uid)] = {\n",
    "        \"summary\": {\n",
    "            \"total_orders\": int(row[\"total_orders\"]),\n",
    "            \"total_spent_sek\": int(row[\"total_spent_sek\"]),\n",
    "            \"first_order\": first_iso,\n",
    "            \"last_order\": last_iso,\n",
    "            \"status\": status,\n",
    "        },\n",
    "        \"orders\": orders_by_customer.get((ctry, cty, uid), {})  # attach packed orders\n",
    "    }\n",
    "\n",
    "# Save\n",
    "out_path = \"../data/processed/orders.json\"\n",
    "with open(out_path, \"w\", encoding=\"utf-8\") as f:\n",
    "    json.dump(result, f, ensure_ascii=False, indent=2)\n",
    "\n",
    "print(\"Saved:\", out_path)\n"
   ]
  },
  {
   "cell_type": "code",
   "execution_count": null,
   "id": "669905cc",
   "metadata": {},
   "outputs": [],
   "source": []
  },
  {
   "cell_type": "code",
   "execution_count": null,
   "id": "b10d7a66",
   "metadata": {},
   "outputs": [],
   "source": []
  },
  {
   "cell_type": "code",
   "execution_count": null,
   "id": "e6094b01",
   "metadata": {},
   "outputs": [],
   "source": []
  },
  {
   "cell_type": "code",
   "execution_count": null,
   "id": "5e370831",
   "metadata": {},
   "outputs": [],
   "source": []
  },
  {
   "cell_type": "code",
   "execution_count": null,
   "id": "0ff2c381",
   "metadata": {},
   "outputs": [],
   "source": []
  },
  {
   "cell_type": "code",
   "execution_count": null,
   "metadata": {},
   "outputs": [],
   "source": []
  },
  {
   "cell_type": "code",
   "execution_count": 23,
   "id": "97d7f745",
   "metadata": {},
   "outputs": [],
   "source": [
    "import pandas as pd\n",
    "from decimal import Decimal, ROUND_HALF_UP\n",
    "\n",
    "tx = tx.copy()\n",
    "\n",
    "# --- 1) Tidy dtypes (concise) ---\n",
    "str_cols = [\"orderId\", \"shopUserId\", \"currencyId\", \"sku\", \"name\", \"groupId\"]\n",
    "tx[str_cols] = tx[str_cols].apply(lambda s: s.astype(\"string[python]\").str.strip())\n",
    "\n",
    "tx[\"created\"]  = pd.to_datetime(tx[\"created\"], errors=\"coerce\")\n",
    "tx[\"quantity\"] = pd.to_numeric(tx[\"quantity\"], errors=\"coerce\").fillna(1).clip(lower=1).round().astype(\"Int64\")\n",
    "tx[\"price\"]    = pd.to_numeric(tx[\"price\"], errors=\"coerce\").astype(\"Float64\")\n",
    "tx[\"sek_rate\"] = pd.to_numeric(tx.get(\"sek_rate\"), errors=\"coerce\")  # float64\n",
    "\n",
    "# Optional: price in SEK (two decimals). If you want integers, round later.\n",
    "tx[\"price_sek\"] = (tx[\"price\"] * tx[\"sek_rate\"]).round(2)\n",
    "\n",
    "# Line total in SEK rounded to nearest krona (integer)\n",
    "tx[\"_line_total\"] = (tx[\"price_sek\"] * tx[\"quantity\"]).round().astype(\"Int64\")\n",
    "\n",
    "# --- 2) One row per orderId ---\n",
    "orders = (\n",
    "    tx.sort_values([\"orderId\", \"created\"])\n",
    "      .groupby(\"orderId\", as_index=False)\n",
    "      .agg(\n",
    "          shopUserId    = (\"shopUserId\", \"first\"),\n",
    "          order_created = (\"created\", \"min\"),\n",
    "          total_qty     = (\"quantity\", \"sum\"),\n",
    "          basket_value  = (\"_line_total\", \"sum\"),\n",
    "          currencyId    = (\"currencyId\", \"first\")\n",
    "      )\n",
    ")\n",
    "\n",
    "# Ensure ints and compute avg unit price (integer)\n",
    "orders[\"total_qty\"]    = orders[\"total_qty\"].astype(int)\n",
    "orders[\"basket_value\"] = orders[\"basket_value\"].astype(int)\n",
    "orders[\"avg_unit_price\"] = (orders[\"basket_value\"] / orders[\"total_qty\"]).round().astype(int)\n",
    "\n",
    "# --- 3) Lists per order (unique, sorted) ---\n",
    "sku_list = (\n",
    "    tx.groupby(\"orderId\")[\"sku\"]\n",
    "      .apply(lambda s: sorted(pd.Series(s, dtype=\"string[python]\").dropna().unique().tolist()))\n",
    "      .rename(\"sku_list\")\n",
    ")\n",
    "groupid_list = (\n",
    "    tx.groupby(\"orderId\")[\"groupId\"]\n",
    "      .apply(lambda s: sorted(pd.Series(s, dtype=\"string[python]\").dropna().unique().tolist()))\n",
    "      .rename(\"groupid_list\")\n",
    ")\n",
    "\n",
    "orders = orders.merge(sku_list, on=\"orderId\", how=\"left\") \\\n",
    "               .merge(groupid_list, on=\"orderId\", how=\"left\")\n"
   ]
  },
  {
   "cell_type": "code",
   "execution_count": 24,
   "id": "26442e66",
   "metadata": {},
   "outputs": [
    {
     "data": {
      "text/plain": [
       "104858"
      ]
     },
     "execution_count": 24,
     "metadata": {},
     "output_type": "execute_result"
    }
   ],
   "source": [
    "# Number of orders\n",
    "len(orders)\n"
   ]
  },
  {
   "cell_type": "code",
   "execution_count": 25,
   "id": "00b02c12",
   "metadata": {},
   "outputs": [
    {
     "data": {
      "text/plain": [
       "orderId           string[python]\n",
       "shopUserId        string[python]\n",
       "order_created     datetime64[ns]\n",
       "total_qty                  int64\n",
       "basket_value               int64\n",
       "currencyId        string[python]\n",
       "avg_unit_price             int64\n",
       "sku_list                  object\n",
       "groupid_list              object\n",
       "dtype: object"
      ]
     },
     "execution_count": 25,
     "metadata": {},
     "output_type": "execute_result"
    }
   ],
   "source": [
    "orders.dtypes"
   ]
  },
  {
   "cell_type": "code",
   "execution_count": 26,
   "id": "bc836ce4",
   "metadata": {},
   "outputs": [
    {
     "data": {
      "text/plain": [
       "60322"
      ]
     },
     "execution_count": 26,
     "metadata": {},
     "output_type": "execute_result"
    }
   ],
   "source": [
    "# Number of unique users\n",
    "tx[\"shopUserId\"].nunique()"
   ]
  },
  {
   "cell_type": "code",
   "execution_count": 27,
   "id": "cfc2110a",
   "metadata": {},
   "outputs": [
    {
     "name": "stdout",
     "output_type": "stream",
     "text": [
      "Users: 60322 | Sum of bins: 60322\n"
     ]
    },
    {
     "data": {
      "image/png": "[encoded data removed]",
      "text/plain": [
       "<Figure size 700x500 with 1 Axes>"
      ]
     },
     "metadata": {},
     "output_type": "display_data"
    }
   ],
   "source": [
    "# total orders per user (one value per user)\n",
    "n_orders_per_user = orders.groupby('shopUserId').size()\n",
    "\n",
    "# bins: [1,2), [2,3), ..., [19,20), [20, inf)  -> label '20+' includes 20, 21, ...\n",
    "bins   = list(range(1, 20)) + [20, float('inf')]\n",
    "labels = [str(i) for i in range(1, 20)] + ['20+']\n",
    "\n",
    "cats = pd.cut(n_orders_per_user, bins=bins, right=False, labels=labels, ordered=True)\n",
    "\n",
    "# counts in the exact label order (no string sorting issues)\n",
    "counts = cats.value_counts().reindex(labels, fill_value=0)\n",
    "\n",
    "# sanity checks\n",
    "assert counts.sum() == n_orders_per_user.size, \"Counts should sum to #users\"\n",
    "print(\"Users:\", n_orders_per_user.size, \"| Sum of bins:\", int(counts.sum()))\n",
    "\n",
    "# plot\n",
    "import matplotlib.pyplot as plt\n",
    "plt.figure(figsize=(7,5))\n",
    "bars = plt.bar(labels, counts.values)\n",
    "plt.yscale('log')  # optional; remember zeros won't show on log scale\n",
    "plt.title('Users by Total Orders')\n",
    "plt.xlabel('Total Orders per User')\n",
    "plt.ylabel('Number of Users (Log scale)')\n",
    "\n",
    "# annotate bars with more readable numbers (with thousands separator and horizontal orientation)\n",
    "for i, v in enumerate(counts.values):\n",
    "    if v > 0:\n",
    "        plt.text(\n",
    "            i, v, f'{int(v):,}', \n",
    "            ha='center', va='bottom', \n",
    "            rotation=0, fontsize=9, \n",
    "            fontweight='bold', color='navy',\n",
    "            bbox=dict(facecolor='white', edgecolor='none', alpha=0.7, boxstyle='round,pad=0.2')\n",
    "        )\n",
    "\n",
    "plt.tight_layout()\n",
    "plt.show()\n"
   ]
  },
  {
   "cell_type": "markdown",
   "id": "f3c75cfc",
   "metadata": {},
   "source": [
    "“time to come back” (in days) between a user’s consecutive orders, buckets those gaps, and plots the distribution."
   ]
  },
  {
   "cell_type": "code",
   "execution_count": 28,
   "id": "df824e5e",
   "metadata": {},
   "outputs": [
    {
     "data": {
      "image/png": "[encoded data removed]",
      "text/plain": [
       "<Figure size 900x500 with 1 Axes>"
      ]
     },
     "metadata": {},
     "output_type": "display_data"
    },
    {
     "name": "stdout",
     "output_type": "stream",
     "text": [
      "{'returning_users_denominator': 23163, 'rates_by_bucket_%': {'≤1w': 7.8, '2–5w': 20.6, '6–9w': 11.7, '10–13w': 9.5, '14–17w': 8.4, '18–21w': 7.1, '22–25w': 8.1, '26–29w': 6.3, '30–33w': 5.4, '34–37w': 3.8, '38–41w': 3.1, '42–45w': 2.3, '46–49w': 2.1, '50–52w': 1.4, '52w+': 2.3}, 'counts_by_bucket': {'≤1w': 1803, '2–5w': 4760, '6–9w': 2710, '10–13w': 2212, '14–17w': 1955, '18–21w': 1641, '22–25w': 1880, '26–29w': 1467, '30–33w': 1248, '34–37w': 881, '38–41w': 717, '42–45w': 537, '46–49w': 497, '50–52w': 323, '52w+': 532}}\n"
     ]
    }
   ],
   "source": [
    "# --- First return ONLY: weekly bins (≤1w, then 4-week bins) ---\n",
    "\n",
    "import numpy as np\n",
    "import pandas as pd\n",
    "import matplotlib.pyplot as plt\n",
    "import math\n",
    "\n",
    "time_col = 'order_created'  # change if needed\n",
    "\n",
    "# Prep & sort\n",
    "orders[time_col] = pd.to_datetime(orders[time_col], errors='coerce', utc=True)\n",
    "df = orders.dropna(subset=[time_col]).sort_values(['shopUserId', time_col]).copy()\n",
    "\n",
    "# First return gaps (1st -> 2nd order), in WEEKS\n",
    "df['next_time'] = df.groupby('shopUserId')[time_col].shift(-1)\n",
    "df['gap_days']  = (df['next_time'] - df[time_col]).dt.total_seconds() / 86400.0\n",
    "df['order_idx'] = df.groupby('shopUserId').cumcount()\n",
    "first_ret = df.loc[df['order_idx'] == 0, ['shopUserId', 'gap_days']].dropna().copy()\n",
    "first_ret = first_ret[first_ret['gap_days'] >= 0]\n",
    "first_ret['gap_weeks'] = first_ret['gap_days'] / 7.0\n",
    "\n",
    "# Bin edges in WEEKS: (0–1], (1–5], (5–9], ... up to 52, then inf\n",
    "edges_w = [0, 1]\n",
    "cur = 1\n",
    "while cur < 52:\n",
    "    cur += 4\n",
    "    edges_w.append(min(cur, 52))\n",
    "edges_w = sorted(set(edges_w))\n",
    "if edges_w[-1] < 52:\n",
    "    edges_w.append(52)\n",
    "edges_w.append(np.inf)\n",
    "\n",
    "# Labels aligned to right-closed intervals\n",
    "labels = []\n",
    "for a, b in zip(edges_w[:-1], edges_w[1:]):\n",
    "    if np.isinf(b):\n",
    "        labels.append('52w+')\n",
    "    elif a == 0:\n",
    "        labels.append('≤1w')\n",
    "    else:\n",
    "        labels.append(f'{int(a)+1}–{int(b)}w')\n",
    "\n",
    "# Bucket (right=True → (a,b], include_lowest=True → [0,b] for first bin)\n",
    "first_ret['bucket'] = pd.cut(\n",
    "    first_ret['gap_weeks'],\n",
    "    bins=edges_w, right=True,\n",
    "    include_lowest=True,\n",
    "    labels=labels, ordered=True\n",
    ")\n",
    "\n",
    "# Rates among returners (denominator = returning users only)\n",
    "counts = first_ret['bucket'].value_counts().reindex(labels, fill_value=0)\n",
    "total  = int(counts.sum())\n",
    "rates  = (counts / total * 100).round(1) if total > 0 else counts.astype(float)\n",
    "\n",
    "# Plot: horizontal bars (compact)\n",
    "fig, ax = plt.subplots(figsize=(9,5))\n",
    "ypos = np.arange(len(labels))\n",
    "bars = ax.barh(labels, rates.values)\n",
    "\n",
    "# Minimal, readable annotations (percent only)\n",
    "for rect, pct in zip(bars, rates.values):\n",
    "    ax.text(rect.get_width() + 0.5, rect.get_y() + rect.get_height()/2,\n",
    "            f\"{pct:.1f}%\", va='center', ha='left', fontsize=9)\n",
    "\n",
    "# Tidy aesthetics\n",
    "ax.set_xlim(0, max(10, math.ceil((rates.max() if total>0 else 0) / 5.0) * 5 + 5))\n",
    "ax.set_xlabel('Share of returning users (%)')\n",
    "ax.set_ylabel('Weeks between 1st and 2nd order')\n",
    "ax.set_title('First return timing')\n",
    "ax.grid(axis='x', alpha=0.2)\n",
    "for spine in ['top','right']:\n",
    "    ax.spines[spine].set_visible(False)\n",
    "plt.tight_layout()\n",
    "plt.show()\n",
    "\n",
    "print({\n",
    "    \"returning_users_denominator\": total,\n",
    "    \"rates_by_bucket_%\": rates.to_dict(),\n",
    "    \"counts_by_bucket\": counts.to_dict()\n",
    "})\n"
   ]
  },
  {
   "cell_type": "code",
   "execution_count": null,
   "id": "ccc49b10",
   "metadata": {},
   "outputs": [],
   "source": []
  },
  {
   "cell_type": "code",
   "execution_count": null,
   "id": "84a483bf",
   "metadata": {},
   "outputs": [],
   "source": []
  },
  {
   "cell_type": "code",
   "execution_count": null,
   "id": "c3a624bf",
   "metadata": {},
   "outputs": [],
   "source": []
  },
  {
   "cell_type": "code",
   "execution_count": null,
   "id": "8252cf7f",
   "metadata": {},
   "outputs": [],
   "source": []
  },
  {
   "cell_type": "code",
   "execution_count": null,
   "id": "aca61b93",
   "metadata": {},
   "outputs": [],
   "source": []
  },
  {
   "cell_type": "code",
   "execution_count": null,
   "id": "79334a0e",
   "metadata": {},
   "outputs": [],
   "source": []
  },
  {
   "cell_type": "code",
   "execution_count": null,
   "id": "dcbb7e10",
   "metadata": {},
   "outputs": [],
   "source": []
  },
  {
   "cell_type": "code",
   "execution_count": null,
   "id": "28841c2f",
   "metadata": {},
   "outputs": [],
   "source": []
  },
  {
   "cell_type": "code",
   "execution_count": null,
   "id": "ffdee096",
   "metadata": {},
   "outputs": [],
   "source": []
  },
  {
   "cell_type": "code",
   "execution_count": null,
   "id": "8f7d586e",
   "metadata": {},
   "outputs": [],
   "source": []
  },
  {
   "cell_type": "code",
   "execution_count": null,
   "id": "f9969a5d",
   "metadata": {},
   "outputs": [],
   "source": []
  },
  {
   "cell_type": "code",
   "execution_count": null,
   "id": "79ab1f2d",
   "metadata": {},
   "outputs": [],
   "source": []
  },
  {
   "cell_type": "code",
   "execution_count": null,
   "id": "27bf586b",
   "metadata": {},
   "outputs": [],
   "source": []
  },
  {
   "cell_type": "code",
   "execution_count": null,
   "id": "e9e6f776",
   "metadata": {},
   "outputs": [],
   "source": []
  },
  {
   "cell_type": "code",
   "execution_count": null,
   "id": "573cc82f",
   "metadata": {},
   "outputs": [],
   "source": []
  },
  {
   "cell_type": "code",
   "execution_count": null,
   "metadata": {},
   "outputs": [],
   "source": []
  }
 ],
 "metadata": {
  "kernelspec": {
   "display_name": "Python 3.10 (container)",
   "language": "python",
   "name": "py310-vscode"
  },
  "language_info": {
   "codemirror_mode": {
    "name": "ipython",
    "version": 3
   },
   "file_extension": ".py",
   "mimetype": "text/x-python",
   "name": "python",
   "nbconvert_exporter": "python",
   "pygments_lexer": "ipython3",
   "version": "3.10.18"
  }
 },
 "nbformat": 4,
 "nbformat_minor": 5
}
